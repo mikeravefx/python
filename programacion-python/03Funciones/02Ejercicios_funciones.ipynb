{
 "cells": [
  {
   "cell_type": "markdown",
   "metadata": {},
   "source": [
    "# Ejercicio 1\n",
    "\n",
    "Crea una función en Python que calcule e imprima el volumen y el área del cono.\n",
    "\n",
    "Modifícala para que sean dos funciones, una que devuelva el volumen y otra el área del cono.\n",
    "\n",
    "**AVANZADO** Modifícala para que sea una función que devuelve dos valores."
   ]
  },
  {
   "cell_type": "code",
   "execution_count": 5,
   "metadata": {},
   "outputs": [
    {
     "name": "stdout",
     "output_type": "stream",
     "text": [
      "El area para el Cono de altura 20.0 y radio 10.0 su volumen es: 4188.790204786391 y el area 2661.6000076440623\n"
     ]
    }
   ],
   "source": [
    "import math\n",
    "\n",
    "def calcular_cono(radio, altura):\n",
    "    volumen = (1/3) * math.pi * radio**2 * altura\n",
    "    area = math.pi * radio * (radio + math.sqrt(altura**2 + radio**2))\n",
    "    print(f\"El area para el Cono de altura {radio} y radio {altura} su volumen es: {volumen} y el area {area}\")\n",
    "radio1= float(input(f\"Introduzca el radio\"))\n",
    "altura1= float(input(f\"Introduzca el Altura del Cono\"))\n",
    "\n",
    "calcular_cono(radio1,altura1)\n"
   ]
  },
  {
   "cell_type": "markdown",
   "metadata": {},
   "source": [
    "# Ejercicio 2\n",
    "\n",
    "Crea una función en Python que indique si un año es o no bisiesto. Devolverá `True` cuando\n",
    "lo es y `False` en caso contrario. Crea un programa principal que solicite el año al usuario y\n",
    "haga uso de la función."
   ]
  },
  {
   "cell_type": "code",
   "execution_count": 3,
   "metadata": {},
   "outputs": [
    {
     "name": "stdout",
     "output_type": "stream",
     "text": [
      "El año 2025 no es bisiesto.\n"
     ]
    }
   ],
   "source": [
    "def es_bisiesto(anio):\n",
    "    if (anio % 4 == 0 and anio % 100 != 0) or anio % 400 == 0:\n",
    "     \n",
    "        return True\n",
    "    else:\n",
    "\n",
    "        return False\n",
    "      \n",
    "def main():\n",
    "    anio = int(input(\"Introduce un año: \"))\n",
    "    if es_bisiesto(anio):\n",
    "       print(f\"El año {anio} es bisiesto.\")    #  f-strings \"f antes de lo que vas y añs variables van entre {}\"\n",
    "    else:\n",
    "        print(f\"El año {anio} no es bisiesto.\")\n",
    "\n",
    "# Ejecución del programa principal\n",
    "if __name__ == \"__main__\":\n",
    "    main()"
   ]
  },
  {
   "cell_type": "markdown",
   "metadata": {},
   "source": [
    "# Ejercicio 3\n",
    "\n",
    "Utiliza la función anterior para crear un script que pida al usuario mediante un formulario un\n",
    "año mínimo y uno máximo y devuelva los años bisiestos que se encuentren entre ambos.\n",
    "\n",
    "**AVANZADO**: Crea con esto otra función, que haga uso de la del Ejercicio 2, a la que se le pasen los años de inicio y fin. En el caso de que no se le pase ningún año de fin tomará 2023 como valor por defecto.\n"
   ]
  },
  {
   "cell_type": "code",
   "execution_count": 6,
   "metadata": {},
   "outputs": [
    {
     "name": "stdout",
     "output_type": "stream",
     "text": [
      "Años bisiestos entre 1990 y 2024: [1992, 1996, 2000, 2004, 2008, 2012, 2016, 2020, 2024]\n"
     ]
    }
   ],
   "source": [
    "def es_bisiesto(anio):\n",
    "    return (anio % 4 == 0 and anio % 100 != 0) or anio % 400 == 0\n",
    "\n",
    "def anios_bisiestos(min_anio, max_anio):\n",
    "    bisiestos = []\n",
    "    for anio in range(min_anio, max_anio + 1):\n",
    "        if es_bisiesto(anio):\n",
    "            bisiestos.append(anio)\n",
    "    return bisiestos\n",
    "\n",
    "def main():\n",
    "    min_anio = int(input(\"Introduce el año mínimo: \"))\n",
    "    max_anio = int(input(\"Introduce el año máximo: \"))\n",
    "    bisiestos = anios_bisiestos(min_anio, max_anio)\n",
    "    print(f\"Años bisiestos entre {min_anio} y {max_anio}: {bisiestos}\")\n",
    "\n",
    "if __name__ == \"__main__\":\n",
    "    main()"
   ]
  },
  {
   "cell_type": "code",
   "execution_count": 8,
   "metadata": {},
   "outputs": [
    {
     "name": "stdout",
     "output_type": "stream",
     "text": [
      "Años bisiestos entre 1990 y 2023: [1992, 1996, 2000, 2004, 2008, 2012, 2016, 2020]\n"
     ]
    }
   ],
   "source": [
    "def es_bisiesto(anio):\n",
    "    return (anio % 4 == 0 and anio % 100 != 0) or anio % 400 == 0\n",
    "\n",
    "def anios_bisiestos(min_anio, max_anio=2023):\n",
    "    bisiestos = []\n",
    "    for anio in range(min_anio, max_anio + 1):\n",
    "        if es_bisiesto(anio):\n",
    "            bisiestos.append(anio)\n",
    "    return bisiestos\n",
    "\n",
    "def main():\n",
    "    min_anio = int(input(\"Introduce el año mínimo: \"))\n",
    "    max_anio = input(\"Introduce el año máximo (presiona Enter para usar 2023): \")\n",
    "    if max_anio == \"\":\n",
    "        max_anio = 2023\n",
    "    else:\n",
    "        max_anio = int(max_anio)\n",
    "    bisiestos = anios_bisiestos(min_anio, max_anio)\n",
    "    print(f\"Años bisiestos entre {min_anio} y {max_anio}: {bisiestos}\")\n",
    "\n",
    "if __name__ == \"__main__\":\n",
    "    main()\n",
    "\n",
    "# Explicación\n",
    "# Función es_bisiesto: Determina si un año es bisiesto.\n",
    "# Función anios_bisiestos: Genera una lista de años bisiestos entre dos años dados.\n",
    "# Programa principal: Solicita al usuario los años mínimo y máximo, y muestra los años bisiestos entre ellos. \n",
    "# En la versión avanzada, si no se proporciona un año máximo, se usa 2023 por defecto."
   ]
  },
  {
   "cell_type": "markdown",
   "metadata": {},
   "source": [
    "# Ejercicio 4\n",
    "\n",
    "Crea una función en Python que determine si un número es, o no, primo. La función\n",
    "devolverá `True` cuando el número sea primo y `False`, en caso contrario.\n"
   ]
  },
  {
   "cell_type": "code",
   "execution_count": null,
   "metadata": {},
   "outputs": [],
   "source": [
    "def es_primo(numero):\n",
    "    if numero <= 1:\n",
    "        return False\n",
    "    for i in range(2, int(numero**0.5) + 1):\n",
    "        if numero % i == 0:\n",
    "            return False\n",
    "    return True\n",
    "\n",
    "# Ejemplo de uso\n",
    "numero = int(input(\"Introduce un número: \"))\n",
    "if es_primo(numero):\n",
    "    print(f\"{numero} es un número primo.\")\n",
    "else:\n",
    "    print(f\"{numero} no es un número primo.\")"
   ]
  },
  {
   "cell_type": "markdown",
   "metadata": {},
   "source": [
    "# Ejercicio 5\n",
    "\n",
    "Utiliza la función anterior para crear un script que pida al usuario mediante un formulario un\n",
    "número y devuelva los números primos menores que ese número."
   ]
  },
  {
   "cell_type": "code",
   "execution_count": 13,
   "metadata": {},
   "outputs": [
    {
     "name": "stdout",
     "output_type": "stream",
     "text": [
      "El número 7 es primo.\n"
     ]
    }
   ],
   "source": [
    "def es_primo(numero):\n",
    "    if numero <= 1:\n",
    "        return False\n",
    "    for i in range(2, int(numero**0.5) + 1):\n",
    "        if numero % i == 0:\n",
    "            return False\n",
    "    return True\n",
    "\n",
    "numero_primo =print\n",
    "\n",
    "# Solicitamos al usuario que ingrese un número\n",
    "numero = int(input(\"Introduce un número: \"))\n",
    "\n",
    "# Verificamos si el número es primo y mostramos el resultado\n",
    "if es_primo(numero):\n",
    "    print(f\"El número {numero} es primo.\")\n",
    "else:\n",
    "    print(f\"El número {numero} no es primo.\")"
   ]
  },
  {
   "cell_type": "markdown",
   "metadata": {},
   "source": [
    "# Ejercicio 6\n",
    "\n",
    "Crea una función en Python que reciba un número y genere una pirámide como la siguiente\n",
    "(esta sería la generada cuando se recibe el número 5):\n",
    "```python\n",
    "    1\n",
    "   212\n",
    "  32123\n",
    " 4321234\n",
    "543212345\n",
    "```\n",
    "Paso 1\n",
    "```python\n",
    "1\n",
    "21\n",
    "321\n",
    "4321\n",
    "54321\n",
    "```\n",
    "Paso 2\n",
    "```python\n",
    "    1\n",
    "   21\n",
    "  321\n",
    " 4321\n",
    "54321\n",
    "```\n",
    "Paso 3\n",
    "```python\n",
    "    1\n",
    "   212\n",
    "  32123\n",
    " 4321234\n",
    "543212345\n",
    "```"
   ]
  },
  {
   "cell_type": "code",
   "execution_count": 1,
   "metadata": {},
   "outputs": [
    {
     "name": "stdout",
     "output_type": "stream",
     "text": [
      "1\n",
      "21\n",
      "321\n",
      "4321\n",
      "54321\n",
      "654321\n",
      "7654321\n",
      "87654321\n",
      "987654321\n",
      "10987654321\n",
      "         1\n",
      "        21\n",
      "       321\n",
      "      4321\n",
      "     54321\n",
      "    654321\n",
      "   7654321\n",
      "  87654321\n",
      " 987654321\n",
      "10987654321\n",
      "         1\n",
      "        212\n",
      "       32123\n",
      "      4321234\n",
      "     543212345\n",
      "    65432123456\n",
      "   7654321234567\n",
      "  876543212345678\n",
      " 98765432123456789\n",
      "109876543212345678910\n"
     ]
    }
   ],
   "source": [
    "def generar_secuencia(n):\n",
    "    for i in range(1, n + 1):\n",
    "        for j in range(i, 0, -1):\n",
    "            print(j, end=\"\")\n",
    "        print()\n",
    "def generar_piramide(n):\n",
    "    for i in range(1, n + 1):\n",
    "        print(\" \" * (n - i), end=\"\")\n",
    "        for j in range(i, 0, -1):\n",
    "            print(j, end=\"\")\n",
    "        print()\n",
    "\n",
    "def generar_piramide_completa(n):\n",
    "    for i in range(1, n + 1):\n",
    "        print(\" \" * (n - i), end=\"\")\n",
    "        for j in range(i, 0, -1):\n",
    "            print(j, end=\"\")\n",
    "        for j in range(2, i + 1):\n",
    "            print(j, end=\"\")\n",
    "        print()\n",
    "\n",
    "numero= int(input(f\"Introduzca un numero n\"))\n",
    "generar_secuencia(numero)\n",
    "generar_piramide(numero)\n",
    "generar_piramide_completa(numero)\n",
    "\n",
    "\n"
   ]
  }
 ],
 "metadata": {
  "kernelspec": {
   "display_name": "Python 3",
   "language": "python",
   "name": "python3"
  },
  "language_info": {
   "codemirror_mode": {
    "name": "ipython",
    "version": 3
   },
   "file_extension": ".py",
   "mimetype": "text/x-python",
   "name": "python",
   "nbconvert_exporter": "python",
   "pygments_lexer": "ipython3",
   "version": "3.12.6"
  },
  "orig_nbformat": 4
 },
 "nbformat": 4,
 "nbformat_minor": 2
}
