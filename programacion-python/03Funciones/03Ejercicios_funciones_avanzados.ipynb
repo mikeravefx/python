{
 "cells": [
  {
   "cell_type": "markdown",
   "metadata": {},
   "source": [
    "# Ejercicio 1\n",
    "\n",
    "Dos números `a` y `b` se dice que son amigos si la suma de los divisores de `a` (salvo él mismo) coincide con `b` y viceversa. Crea un programa que tenga como entrada dos números enteros mayores que 0 y que indique mediante un mensaje sin son amigos o no. Puedes probar con los números 220 y 284, o 1184 y 1210, que sí son amigos.\n",
    "\n",
    "Utiliza 2 funciones: una para determinar si los números son amigos y otra para devolver la suma de los divisores de un número.\n"
   ]
  },
  {
   "cell_type": "code",
   "execution_count": 2,
   "metadata": {},
   "outputs": [
    {
     "name": "stdout",
     "output_type": "stream",
     "text": [
      "220 y 284 son números amigos.\n"
     ]
    }
   ],
   "source": [
    "def suma_divisores(n):\n",
    "    suma = 0\n",
    "    for i in range(1, n):\n",
    "        if n % i == 0:\n",
    "            suma += i\n",
    "    return suma\n",
    "\n",
    "def son_amigos(a, b):\n",
    "    return suma_divisores(a) == b and suma_divisores(b) == a\n",
    "def main():\n",
    "    a = int(input(\"Introduce el primer número: \"))\n",
    "    b = int(input(\"Introduce el segundo número: \"))\n",
    "    if son_amigos(a, b):\n",
    "        print(f\"{a} y {b} son números amigos.\")\n",
    "    else:\n",
    "        print(f\"{a} y {b} no son números amigos.\")\n",
    "\n",
    "# Ejecución del programa principal\n",
    "if __name__ == \"__main__\":\n",
    "    main()"
   ]
  },
  {
   "cell_type": "markdown",
   "metadata": {},
   "source": [
    "\n",
    "# Ejercicio 2\n",
    "\n",
    "Crea un programa que pida dos números enteros por teclado y muestre por pantalla el siguiente menú:\n",
    "```python\n",
    "MENÚ\n",
    "    1. Sumar\n",
    "    2. Restar\n",
    "    3. Multiplicar\n",
    "    4. Dividir\n",
    "    5. Salir\n",
    "Elija una opción:\n",
    "```\n",
    "El usuario elegirá el número de la opción que corresponda con la operación matemática elegida, se mostrará el resultado y se volverá a mostrar de nuevo el menú. El programa se ejecutará hasta que el usuarios elija la opción 5 (Salir). Si el usuario introduce una opción no contemplada en el menú, le mostrará un mensaje y de nuevo el menú para que seleccione una opción correcta.\n",
    "\n",
    "Crea una funciones para el menú y cada una de las operaciones a realizar en él."
   ]
  },
  {
   "cell_type": "code",
   "execution_count": 1,
   "metadata": {},
   "outputs": [
    {
     "name": "stdout",
     "output_type": "stream",
     "text": [
      "Que calculo quieres realizar entre 3 y 4 ?\n",
      "\n",
      "Resultado 0.75\n"
     ]
    }
   ],
   "source": [
    "def sumar(): #Definimos la función sumar\n",
    "    x = a + b\n",
    "    print ((\"Resultado\"), (x))\n",
    "def restar():#Definimos la función restar\n",
    "    x = a - b\n",
    "    print ((\"Resultado\"), (x))\n",
    "def multiplicar():#Definimos la función multiplicar\n",
    "    x = a * b\n",
    "    print ((\"Resultado\"), (x))\n",
    "def dividir():#Definimos la función dividir\n",
    "    x = a / b\n",
    "    print ((\"Resultado\"), (x))\n",
    "##########################################-2-###################################################\n",
    "while True: #Creamos un bucle\n",
    "    try: #Intentamos obtener los datos de entrada\n",
    "        a = int(input(\"Ingresa el primer numero: \\n\")) #Solicitamos el 1er numero al usuario\n",
    "        b = int(input(\"Ingresa el segundo numero: \\n\"))#Solicitamos el 2do numero al usuario\n",
    "        print ((\"Que calculo quieres realizar entre\"), (a), (\"y\"), (b), (\"?\\n\")) #Preguntamos el calc\n",
    "        op = str(input(\"\"\" #Ofrecemos las opciones de calculo las cuales van a llamar a las funciones\n",
    "        1- Sumar\n",
    "        2- Restar\n",
    "        3- Multiplicar\n",
    "        4- Dividir \\n\"\"\"))\n",
    "    except: #En caso de error:\n",
    "        print (\"Error\")\n",
    "        op = '?'\n",
    "##########################################-3-##################################################\n",
    "    if op == '1':#Si el usuario elige opción 1 llamamos a sumar\n",
    "        sumar()\n",
    "        break\n",
    "    elif op == '2':#Si el usuario elige opción 1 llamamos a restar\n",
    "        restar()\n",
    "        break\n",
    "    elif op == '3':#Si el usuario elige opción 1 llamamos a multiplicar\n",
    "        multiplicar()\n",
    "        break\n",
    "    elif op == '4':#Si el usuario elige opción 1 llamamos a dividir\n",
    "        dividir()\n",
    "        break\n",
    "    else:\n",
    "        print (\"\"\"Has ingresado un numero de opcion erroneo\"\"\") #En caso que el numero no\n",
    "                                                                            #se encuentre\n"
   ]
  }
 ],
 "metadata": {
  "kernelspec": {
   "display_name": "Python 3",
   "language": "python",
   "name": "python3"
  },
  "language_info": {
   "codemirror_mode": {
    "name": "ipython",
    "version": 3
   },
   "file_extension": ".py",
   "mimetype": "text/x-python",
   "name": "python",
   "nbconvert_exporter": "python",
   "pygments_lexer": "ipython3",
   "version": "3.12.6"
  },
  "orig_nbformat": 4
 },
 "nbformat": 4,
 "nbformat_minor": 2
}
