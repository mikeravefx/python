{
 "cells": [
  {
   "cell_type": "markdown",
   "metadata": {},
   "source": [
    "# Apertura de archivos\n",
    "\n",
    "Para abrir un archivo en Python se utiliza la función `open` que recibe como parámetro el nombre del archivo a abrir y el modo en que se va a abrir. El modo puede ser:\n",
    "\n",
    "* `r`: lectura\n",
    "* `w`: escritura (si el archivo no existe, se crea; si existe, se sobreescribe)\n",
    "* `a`: agregar\n",
    "* `r+`: lectura y escritura\n",
    "\n",
    "Si no se especifica el modo, por defecto se abre en modo lectura."
   ]
  },
  {
   "cell_type": "code",
   "execution_count": 2,
   "metadata": {},
   "outputs": [
    {
     "name": "stdout",
     "output_type": "stream",
     "text": [
      "1º, MP0484, Bases de datos, 187, 7\n",
      "1º, MP0487, Contornos de desenvolvemento, 107, 4\n",
      "1º, MP0617, Formación e orientación laboral, 107, 4\n",
      "1º, MP0373, Linguaxes de marcas e sistemas de xestión de información, 133, 5\n",
      "1º, MP0485, Programación, 240, 9\n",
      "1º, MP0483, Sistemas informáticos, 186, 7\n",
      "2º, MP0615, Deseño de interfaces web, 157, 9\n",
      "2º, MP0612, Desenvolvemento web en contorno cliente, 157, 9\n",
      "2º, MP0613, Desenvolvemento web en contorno servidor, 175, 10\n",
      "2º, MP0614, Despregamento de aplicacións web, 88, 5\n",
      "2º, MP0618, Empresa e iniciativa emprendedora, 53, 3\n",
      "2º, MP0619, Formación en centros de traballo, 384\t\n",
      "2º, MP0616, Proxecto de desenvolvemento de aplicacións web, 26\t\n"
     ]
    }
   ],
   "source": [
    "fichero = open(\"fichero.txt\", \"r\", encoding=\"utf-8\")\n",
    "contenido = fichero.read()\n",
    "print(contenido)"
   ]
  },
  {
   "cell_type": "markdown",
   "metadata": {},
   "source": [
    "# Cierre de archivos\n",
    "\n",
    "Para cerrar un archivo se utiliza la función `close` que recibe como parámetro el nombre del archivo a cerrar.\n",
    "\n",
    "También es posible utilizar un archivo dentro de un bloque `with`. Al finalizar el bloque, el archivo se cierra automáticamente."
   ]
  },
  {
   "cell_type": "code",
   "execution_count": null,
   "metadata": {},
   "outputs": [],
   "source": [
    "fichero = open(\"fichero.txt\", \"r\", encoding=\"utf-8\")\n",
    "print(fichero.read())\n",
    "fichero.close()\n",
    "\n",
    "with open(\"fichero.txt\", \"r\", encoding=\"utf-8\") as fichero:\n",
    "    print(fichero.read())"
   ]
  },
  {
   "cell_type": "markdown",
   "metadata": {},
   "source": [
    "# Métodos de lectura\n",
    "\n",
    "* `fichero.read()`: lee todo el archivo y lo devuelve como un string\n",
    "* `fichero.readline()`: lee una línea del archivo\n",
    "* `fichero.readlines()`: lee todas las líneas del archivo y las devuelve como una lista\n",
    "* `for linea in fichero`: lee el archivo línea por línea\n",
    "* `fichero.readlines(n)`: lee n líneas del archivo y las devuelve como una lista\n",
    "* `fichero.readline(n)`: lee n caracteres del archivo y los devuelve como un string  "
   ]
  },
  {
   "cell_type": "code",
   "execution_count": 3,
   "metadata": {},
   "outputs": [
    {
     "name": "stdout",
     "output_type": "stream",
     "text": [
      "['1º', 'MP0484', 'Bases de datos', '187', '7']\n",
      "['1º', 'MP0487', 'Contornos de desenvolvemento', '107', '4']\n",
      "['1º', 'MP0617', 'Formación e orientación laboral', '107', '4']\n",
      "['1º', 'MP0373', 'Linguaxes de marcas e sistemas de xestión de información', '133', '5']\n",
      "['1º', 'MP0485', 'Programación', '240', '9']\n",
      "['1º', 'MP0483', 'Sistemas informáticos', '186', '7']\n",
      "['2º', 'MP0615', 'Deseño de interfaces web', '157', '9']\n",
      "['2º', 'MP0612', 'Desenvolvemento web en contorno cliente', '157', '9']\n",
      "['2º', 'MP0613', 'Desenvolvemento web en contorno servidor', '175', '10']\n",
      "['2º', 'MP0614', 'Despregamento de aplicacións web', '88', '5']\n",
      "['2º', 'MP0618', 'Empresa e iniciativa emprendedora', '53', '3']\n",
      "['2º', 'MP0619', 'Formación en centros de traballo', '384']\n",
      "['2º', 'MP0616', 'Proxecto de desenvolvemento de aplicacións web', '26']\n"
     ]
    }
   ],
   "source": [
    "fichero = open(\"fichero.txt\", \"r\", encoding=\"utf-8\")\n",
    "for linea in fichero:\n",
    "    linea = linea.strip()\n",
    "    lista = linea.split(\", \")\n",
    "    print(lista)"
   ]
  },
  {
   "cell_type": "markdown",
   "metadata": {},
   "source": [
    "## Métodos de escritura\n",
    "\n",
    "* `fichero.write(cadena)`: escribe la cadena en el archivo\n",
    "* `fichero.writelines(lista)`: escribe la lista en el archivo"
   ]
  },
  {
   "cell_type": "code",
   "execution_count": null,
   "metadata": {},
   "outputs": [],
   "source": [
    "fichero_salida = open(\"fichero_salida.txt\", \"w\", encoding=\"utf-8\")\n",
    "fichero_salida.write(\"Hola\")\n",
    "fichero.close()"
   ]
  },
  {
   "cell_type": "markdown",
   "metadata": {},
   "source": [
    "# Tratamiento de excepciones\n",
    "\n",
    "Para tratar las excepciones que se pueden producir al abrir o cerrar un archivo, se utiliza un bloque `try-except`.\n",
    "\n",
    "- Si abrimos un archivo que no existe, se producirá una excepción de tipo `FileNotFoundError`. \n",
    "- Si intentamos leer, escribir o cerrar un archivo que ya está cerrado, se producirá una excepción de tipo `ValueError`.\n",
    "- Si intentamos abrir un archivo que ya está abierto, se producirá una excepción de tipo `OSError`.\n",
    "- Si intentamos escribir en un archivo que está abierto en modo lectura, o leer un archivo que se ha abierto en modo escritura, se producirá una excepción de tipo `UnsupportedOperation`.\n",
    "\n",
    "\n",
    "\n"
   ]
  },
  {
   "cell_type": "code",
   "execution_count": 12,
   "metadata": {},
   "outputs": [
    {
     "ename": "FileNotFoundError",
     "evalue": "[Errno 2] No such file or directory: 'archivo.txt'",
     "output_type": "error",
     "traceback": [
      "\u001b[1;31m---------------------------------------------------------------------------\u001b[0m",
      "\u001b[1;31mFileNotFoundError\u001b[0m                         Traceback (most recent call last)",
      "Cell \u001b[1;32mIn[12], line 1\u001b[0m\n\u001b[1;32m----> 1\u001b[0m fichero \u001b[38;5;241m=\u001b[39m \u001b[38;5;28;43mopen\u001b[39;49m\u001b[43m(\u001b[49m\u001b[38;5;124;43m\"\u001b[39;49m\u001b[38;5;124;43marchivo.txt\u001b[39;49m\u001b[38;5;124;43m\"\u001b[39;49m\u001b[43m,\u001b[49m\u001b[43m \u001b[49m\u001b[38;5;124;43m\"\u001b[39;49m\u001b[38;5;124;43mr\u001b[39;49m\u001b[38;5;124;43m\"\u001b[39;49m\u001b[43m)\u001b[49m\n",
      "File \u001b[1;32m~\\AppData\\Roaming\\Python\\Python311\\site-packages\\IPython\\core\\interactiveshell.py:286\u001b[0m, in \u001b[0;36m_modified_open\u001b[1;34m(file, *args, **kwargs)\u001b[0m\n\u001b[0;32m    279\u001b[0m \u001b[38;5;28;01mif\u001b[39;00m file \u001b[38;5;129;01min\u001b[39;00m {\u001b[38;5;241m0\u001b[39m, \u001b[38;5;241m1\u001b[39m, \u001b[38;5;241m2\u001b[39m}:\n\u001b[0;32m    280\u001b[0m     \u001b[38;5;28;01mraise\u001b[39;00m \u001b[38;5;167;01mValueError\u001b[39;00m(\n\u001b[0;32m    281\u001b[0m         \u001b[38;5;124mf\u001b[39m\u001b[38;5;124m\"\u001b[39m\u001b[38;5;124mIPython won\u001b[39m\u001b[38;5;124m'\u001b[39m\u001b[38;5;124mt let you open fd=\u001b[39m\u001b[38;5;132;01m{\u001b[39;00mfile\u001b[38;5;132;01m}\u001b[39;00m\u001b[38;5;124m by default \u001b[39m\u001b[38;5;124m\"\u001b[39m\n\u001b[0;32m    282\u001b[0m         \u001b[38;5;124m\"\u001b[39m\u001b[38;5;124mas it is likely to crash IPython. If you know what you are doing, \u001b[39m\u001b[38;5;124m\"\u001b[39m\n\u001b[0;32m    283\u001b[0m         \u001b[38;5;124m\"\u001b[39m\u001b[38;5;124myou can use builtins\u001b[39m\u001b[38;5;124m'\u001b[39m\u001b[38;5;124m open.\u001b[39m\u001b[38;5;124m\"\u001b[39m\n\u001b[0;32m    284\u001b[0m     )\n\u001b[1;32m--> 286\u001b[0m \u001b[38;5;28;01mreturn\u001b[39;00m \u001b[43mio_open\u001b[49m\u001b[43m(\u001b[49m\u001b[43mfile\u001b[49m\u001b[43m,\u001b[49m\u001b[43m \u001b[49m\u001b[38;5;241;43m*\u001b[39;49m\u001b[43margs\u001b[49m\u001b[43m,\u001b[49m\u001b[43m \u001b[49m\u001b[38;5;241;43m*\u001b[39;49m\u001b[38;5;241;43m*\u001b[39;49m\u001b[43mkwargs\u001b[49m\u001b[43m)\u001b[49m\n",
      "\u001b[1;31mFileNotFoundError\u001b[0m: [Errno 2] No such file or directory: 'archivo.txt'"
     ]
    }
   ],
   "source": [
    "fichero = open(\"archivo.txt\", \"r\")"
   ]
  },
  {
   "cell_type": "code",
   "execution_count": 11,
   "metadata": {},
   "outputs": [
    {
     "name": "stdout",
     "output_type": "stream",
     "text": [
      "Error al abrir el archivo\n"
     ]
    }
   ],
   "source": [
    "try:\n",
    "    fichero = open(\"archivo.txt\", \"r\")\n",
    "    # Operaciones con el fichero\n",
    "except FileNotFoundError:\n",
    "    print(\"Error al abrir el archivo\")\n",
    "finally:\n",
    "    fichero.close()"
   ]
  }
 ],
 "metadata": {
  "kernelspec": {
   "display_name": "Python 3",
   "language": "python",
   "name": "python3"
  },
  "language_info": {
   "codemirror_mode": {
    "name": "ipython",
    "version": 3
   },
   "file_extension": ".py",
   "mimetype": "text/x-python",
   "name": "python",
   "nbconvert_exporter": "python",
   "pygments_lexer": "ipython3",
   "version": "3.11.5"
  }
 },
 "nbformat": 4,
 "nbformat_minor": 2
}
