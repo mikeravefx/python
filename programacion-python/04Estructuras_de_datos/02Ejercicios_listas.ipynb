{
 "cells": [
  {
   "cell_type": "markdown",
   "metadata": {},
   "source": [
    "# Ejercicios\n",
    "\n",
    "## Ejercicio 1\n",
    "\n",
    "Crea una función que pida al usuario 5 números y los guarde en una lista y devuelva esa lista.\n",
    "\n",
    "A continuación, muéstrala en orden inverso a como se introdujeron.\n"
   ]
  },
  {
   "cell_type": "code",
   "execution_count": 16,
   "metadata": {},
   "outputs": [
    {
     "name": "stdout",
     "output_type": "stream",
     "text": [
      "Lista en orden inverso: [0, 1, 2, 3, 4]\n"
     ]
    }
   ],
   "source": [
    "def pedir_numeros():\n",
    "    numeros = []\n",
    "    for _ in range(5):\n",
    "        numero = int(input(\"Introduce un número: \"))\n",
    "        numeros.append(numero)\n",
    "    return numeros\n",
    "\n",
    "def mostrar_inverso(lista):\n",
    "    lista_inversa = lista[::-1]\n",
    "    print(\"Lista en orden inverso:\", lista_inversa)\n",
    "\n",
    "# Ejecución del programa\n",
    "numeros = pedir_numeros()\n",
    "mostrar_inverso(numeros)"
   ]
  },
  {
   "cell_type": "code",
   "execution_count": 7,
   "metadata": {},
   "outputs": [
    {
     "name": "stdout",
     "output_type": "stream",
     "text": [
      "[1, 2, 3, 4, 5, 6, 7, 8, 9, 10]\n"
     ]
    }
   ],
   "source": [
    "# Crear un programa que pregunte al usuario \n",
    "# Las notas 10 alumnos y los guarde en una lista\n",
    "lista=[]\n",
    "for i in range(10):\n",
    "    lista.append(int(input(\"Introduce las 10 notas de un alumno\")))\n",
    "\n",
    "print(lista)\n",
    "\n"
   ]
  },
  {
   "cell_type": "markdown",
   "metadata": {},
   "source": [
    "\n",
    "## Ejercicio 2\n",
    "\n",
    "Usando la función del ejercicio anterior, úsala y después busca el mayor de los números introducidos.\n"
   ]
  },
  {
   "cell_type": "code",
   "execution_count": 17,
   "metadata": {},
   "outputs": [
    {
     "name": "stdout",
     "output_type": "stream",
     "text": [
      "Lista de números: [1, 2, 3, 4, 5]\n",
      "El mayor número es: 5\n"
     ]
    }
   ],
   "source": [
    "n = int(input(\"¿Cuántos números quieres introducir? \"))\n",
    "def pedir_numeros():\n",
    "    numeros = []\n",
    "    for _ in range(n):\n",
    "        numero = int(input(\"Introduce un número: \"))\n",
    "        numeros.append(numero)\n",
    "    return numeros\n",
    "\n",
    "def encontrar_mayor(lista):\n",
    "    mayor = max(lista)\n",
    "    return mayor\n",
    "\n",
    "# Ejecución del programa\n",
    "numeros = pedir_numeros()\n",
    "print(\"Lista de números:\", numeros)\n",
    "mayor_numero = encontrar_mayor(numeros)\n",
    "print(\"El mayor número es:\", mayor_numero)"
   ]
  },
  {
   "cell_type": "markdown",
   "metadata": {},
   "source": [
    "\n",
    "## Ejercicio 3\n",
    "\n",
    "A partir de una lista, escribe un programa que cree una lista nueva con los elementos de la primera lista que sean impares.\n"
   ]
  },
  {
   "cell_type": "markdown",
   "metadata": {},
   "source": []
  },
  {
   "cell_type": "code",
   "execution_count": null,
   "metadata": {},
   "outputs": [],
   "source": []
  },
  {
   "cell_type": "code",
   "execution_count": null,
   "metadata": {},
   "outputs": [
    {
     "name": "stdout",
     "output_type": "stream",
     "text": [
      "Lista de números: [1, 2, 3, 4, 5]\n",
      "Lista de números impares: [1, 3, 5]\n",
      "Lista de números impares en orden ascendente: [1, 3, 5]\n",
      "Lista de números impares en orden descendente: [5, 3, 1]\n",
      "El mayor número impar es: 5\n",
      "El menor número impar es: 1\n"
     ]
    }
   ],
   "source": [
    "def pedir_numeros(n):\n",
    "    numeros = []\n",
    "    for _ in range(n):\n",
    "        numero = int(input(\"Introduce un número: \"))\n",
    "        numeros.append(numero)\n",
    "    return numeros\n",
    "\n",
    "def filtrar_impares(lista):\n",
    "    impares = [numero for numero in lista if numero % 2 != 0]\n",
    "    return impares\n",
    "\n",
    "def ordenar_lista(lista, ascendente=True):\n",
    "    return sorted(lista, reverse=not ascendente)\n",
    "\n",
    "def encontrar_mayor(lista):\n",
    "    return max(lista)\n",
    "\n",
    "def encontrar_menor(lista):\n",
    "    return min(lista)\n",
    "\n",
    "# Ejecución del programa\n",
    "n = int(input(\"¿Cuántos números quieres introducir? \"))\n",
    "numeros = pedir_numeros(n)\n",
    "print(\"Lista de números:\", numeros)\n",
    "\n",
    "impares = filtrar_impares(numeros)\n",
    "print(\"Lista de números impares:\", impares)\n",
    "\n",
    "impares_ascendente = ordenar_lista(impares, ascendente=True)\n",
    "print(\"Lista de números impares en orden ascendente:\", impares_ascendente)\n",
    "\n",
    "impares_descendente = ordenar_lista(impares, ascendente=False)\n",
    "print(\"Lista de números impares en orden descendente:\", impares_descendente)\n",
    "\n",
    "if impares:\n",
    "    mayor_impar = encontrar_mayor(impares)\n",
    "    menor_impar = encontrar_menor(impares)\n",
    "    print(\"El mayor número impar es:\", mayor_impar)\n",
    "    print(\"El menor número impar es:\", menor_impar)\n",
    "else:\n",
    "    print(\"No se introdujeron números impares.\")"
   ]
  },
  {
   "cell_type": "markdown",
   "metadata": {},
   "source": [
    "## Ejercicio 4\n",
    "\n",
    "Escribe una función que reciba una lista de enteros y devuelva otra lista con los dobles de sus elementos.\n"
   ]
  },
  {
   "cell_type": "code",
   "execution_count": 1,
   "metadata": {},
   "outputs": [
    {
     "name": "stdout",
     "output_type": "stream",
     "text": [
      "Lista original: [1, 2, 3, 4, 5]\n",
      "Lista con los dobles de los elementos: [2, 4, 6, 8, 10]\n"
     ]
    }
   ],
   "source": [
    "def doblar_elementos(lista):\n",
    "    return [elemento * 2 for elemento in lista]\n",
    "\n",
    "# Ejemplo de uso\n",
    "n = int(input(\"¿Cuántos números quieres introducir? \"))\n",
    "numeros = []\n",
    "for _ in range(n):\n",
    "    numero = int(input(\"Introduce un número: \"))\n",
    "    numeros.append(numero)\n",
    "\n",
    "lista_doblada = doblar_elementos(numeros)\n",
    "print(\"Lista original:\", numeros)\n",
    "print(\"Lista con los dobles de los elementos:\", lista_doblada)"
   ]
  },
  {
   "cell_type": "markdown",
   "metadata": {},
   "source": [
    "## Ejercicio 5\n",
    "\n",
    "Usa la función del ejercicio 1 para crear una lista. A continuación, reemplaza todos los números negativos de esa lista por 0."
   ]
  },
  {
   "cell_type": "code",
   "execution_count": 2,
   "metadata": {},
   "outputs": [
    {
     "name": "stdout",
     "output_type": "stream",
     "text": [
      "Lista original: [-1, -2, -3, -1, -1]\n",
      "Lista con números negativos reemplazados por 0: [0, 0, 0, 0, 0]\n"
     ]
    }
   ],
   "source": [
    "def pedir_numeros(n):\n",
    "    numeros = []\n",
    "    for _ in range(n):\n",
    "        numero = int(input(\"Introduce un número: \"))\n",
    "        numeros.append(numero)\n",
    "    return numeros\n",
    "\n",
    "def reemplazar_negativos(lista):\n",
    "    return [max(0, numero) for numero in lista]\n",
    "\n",
    "# Ejecución del programa\n",
    "n = int(input(\"¿Cuántos números quieres introducir? \"))\n",
    "numeros = pedir_numeros(n)\n",
    "print(\"Lista original:\", numeros)\n",
    "\n",
    "numeros_sin_negativos = reemplazar_negativos(numeros)\n",
    "print(\"Lista con números negativos reemplazados por 0:\", numeros_sin_negativos)"
   ]
  },
  {
   "cell_type": "code",
   "execution_count": null,
   "metadata": {},
   "outputs": [],
   "source": []
  },
  {
   "cell_type": "code",
   "execution_count": 2,
   "metadata": {},
   "outputs": [
    {
     "name": "stdout",
     "output_type": "stream",
     "text": [
      "['mariposa', 'elefante', 'montaña']\n"
     ]
    }
   ],
   "source": [
    "# Lista original de palabras\n",
    "palabras = [\"sol\", \"mariposa\", \"cielo\", \"elefante\", \"luz\", \"montaña\"]\n",
    "\n",
    "# Crear una nueva lista con palabras de más de 5 letras\n",
    "palabras_largas = [palabra for palabra in palabras if len(palabra) > 5]\n",
    "\n",
    "# Mostrar la nueva lista\n",
    "print(palabras_largas)"
   ]
  },
  {
   "cell_type": "markdown",
   "metadata": {},
   "source": [
    "\n",
    "## Ejercicio 7\n",
    "\n",
    "A partir de una lista, escribe un programa que cree una lista nueva eliminando aquellos que están repetidos."
   ]
  },
  {
   "cell_type": "markdown",
   "metadata": {},
   "source": [
    "## Ejercicio 8\n",
    "\n",
    "Escribe una función que reciba dos listas y devuelva una tercera con los elementos comunes a ambas."
   ]
  },
  {
   "cell_type": "markdown",
   "metadata": {},
   "source": [
    "## Ejercicio 9\n",
    "\n",
    "Utilizando una lista, escribe una función a la que se le pase el número del mes y devuelva su nombre.\n",
    "\n",
    "Crea un programa principal para probarla.\n"
   ]
  },
  {
   "cell_type": "markdown",
   "metadata": {},
   "source": [
    "\n",
    "## Ejercicio 10\n",
    "\n",
    "Busca el algoritmo para calcular la letra del DNI y crea una función que use listas para devolver la letra del mismo."
   ]
  },
  {
   "cell_type": "markdown",
   "metadata": {},
   "source": [
    "# Listas anidadas\n",
    "\n"
   ]
  },
  {
   "cell_type": "markdown",
   "metadata": {},
   "source": [
    "## Ejercicio 11\n",
    "\n",
    "Crea una lista bidimensional con las notas de lxs alumnxs de una clase en los diferentes módulos. Cada fila será un alumnx y cada columna, las notas de un módulo.\n",
    "\n",
    "Calcula la media de notas de un módulo.\n",
    "\n",
    "Crea una nueva lista con las medias de cada uno de los módulos."
   ]
  },
  {
   "cell_type": "markdown",
   "metadata": {},
   "source": [
    "## Ejercicio 12\n",
    "\n",
    "Crea una lista bidimensional que contenga los agrupamientos del alumnado de una clase para un determinado proyecto. La lista contendrá otras listas con los componentes de cada grupo.\n",
    "\n",
    "Muestra la lista por pantalla, con los componentes de cada grupo en una misma línea. Haz que no aparezcan los []. Por ejemplo:\n",
    "\n",
    "```python\n",
    "Luis, Juan\n",
    "María, Elba, Mario\n",
    "Carola\n",
    "Pablo, Manuel, Raquel, Uxía\n",
    "```"
   ]
  },
  {
   "cell_type": "markdown",
   "metadata": {},
   "source": [
    "## Ejercicio 13\n",
    "\n",
    "Utiliza una lista bidimensional para almacenar las temperaturas máximas de cada día de cada mes. Cada mes será una fila y las temperaturas estarán en columnas.\n",
    "\n",
    "Muestra las medias de cada mes."
   ]
  },
  {
   "cell_type": "markdown",
   "metadata": {},
   "source": [
    "# Comprensión de listas (AVANZADO)\n"
   ]
  },
  {
   "cell_type": "markdown",
   "metadata": {},
   "source": [
    "\n",
    "## Ejercicio 14\n",
    "\n",
    "Crea una lista con las 10 primeras potencias de 3."
   ]
  },
  {
   "cell_type": "code",
   "execution_count": 4,
   "metadata": {},
   "outputs": [
    {
     "name": "stdout",
     "output_type": "stream",
     "text": [
      "[1, 3, 9, 27, 81, 243, 729, 2187, 6561, 19683]\n"
     ]
    }
   ],
   "source": [
    "# Crear una lista con las 10 primeras potencias de 3\n",
    "potencias_de_3 = [3**i for i in range(10)]\n",
    "\n",
    "# Imprimir la lista\n",
    "print(potencias_de_3)"
   ]
  },
  {
   "cell_type": "markdown",
   "metadata": {},
   "source": [
    "## Ejercicio 15\n",
    "\n",
    "Crea una lista con los 100 primeros múltiplos de 7."
   ]
  },
  {
   "cell_type": "code",
   "execution_count": 5,
   "metadata": {},
   "outputs": [
    {
     "name": "stdout",
     "output_type": "stream",
     "text": [
      "[7, 14, 21, 28, 35, 42, 49, 56, 63, 70, 77, 84, 91, 98, 105, 112, 119, 126, 133, 140, 147, 154, 161, 168, 175, 182, 189, 196, 203, 210, 217, 224, 231, 238, 245, 252, 259, 266, 273, 280, 287, 294, 301, 308, 315, 322, 329, 336, 343, 350, 357, 364, 371, 378, 385, 392, 399, 406, 413, 420, 427, 434, 441, 448, 455, 462, 469, 476, 483, 490, 497, 504, 511, 518, 525, 532, 539, 546, 553, 560, 567, 574, 581, 588, 595, 602, 609, 616, 623, 630, 637, 644, 651, 658, 665, 672, 679, 686, 693, 700]\n"
     ]
    }
   ],
   "source": [
    "# Crear una lista con los 100 primeros múltiplos de 7\n",
    "multiplos_de_7 = [7 * i for i in range(1, 101)]\n",
    "\n",
    "# Imprimir la lista\n",
    "print(multiplos_de_7)"
   ]
  },
  {
   "cell_type": "markdown",
   "metadata": {},
   "source": [
    "## Ejercicio 16\n",
    "\n",
    "Utilizando comprensión de listas, vuelve a resolver el ejercicio 3."
   ]
  },
  {
   "cell_type": "markdown",
   "metadata": {},
   "source": [
    "## Ejercicio 17\n",
    "\n",
    "Utilizando comprensión de listas, vuelve a resolver el ejercicio 4."
   ]
  },
  {
   "cell_type": "markdown",
   "metadata": {},
   "source": [
    "## Ejercicio 18\n",
    "\n",
    "Utilizando comprensión de listas, vuelve a resolver el ejercicio 6."
   ]
  },
  {
   "cell_type": "markdown",
   "metadata": {},
   "source": [
    "## Ejercicio 19\n",
    "\n",
    "Crea una lista con los números que sean múltiplos de 3 o de 5 hasta el 100."
   ]
  },
  {
   "cell_type": "markdown",
   "metadata": {},
   "source": [
    "## Ejercicio 20\n",
    "\n",
    "Crea una lista con los divisores de un número que se pasa por teclado."
   ]
  },
  {
   "cell_type": "markdown",
   "metadata": {},
   "source": [
    "## Ejercicio 21\n",
    "\n",
    "Crea una lista con los años que son bisiestos a partir de una lista de años.\n",
    "\n",
    "Por ejemplo, a partir de [1995, 2004, 2003, 1900, 2008] debe devolver [2004, 2008].\n",
    "\n",
    "Debes utilizar la función `es_bisiesto(anho)` creada en el tema anterior y comprensión de listas."
   ]
  },
  {
   "cell_type": "markdown",
   "metadata": {},
   "source": [
    "# Ejercicios sencillos listas bidimensionales\n",
    "\n",
    "## Ejercicio 22\n",
    "\n",
    "Crea una lista bidimensional de 6 filas y 7 columnas con valores aleatorios entre 0 y 9.\n",
    "\n",
    "Muéstrala por pantalla.\n",
    "\n",
    "Recórrela y almacena en una variable cuántos números pares hay en ella y almacena en otra cuántos impares.\n",
    "\n",
    "Muestra los resultados por pantalla.\n",
    "\n",
    "Vuelve a recorrerla para crear una lista unidimensional nueva con los números pares que aparecen en ella y otra con los impares."
   ]
  },
  {
   "cell_type": "markdown",
   "metadata": {},
   "source": [
    "## Ejercicio 23\n",
    "\n",
    "Crea una lista bidimensional 3x3 que sirva para jugar al tres en raya, almacenará 3 posibles cadenas, una cadena vacía para indicar que no se ha puesto una ficha en esa posición, una 'o' para indicar que ha jugado el jugador 1 y una 'x' para el jugador 2.\n",
    "\n",
    "Crea una función que la recorra y que busque si se ha producido 3 en raya para el jugador 1 en alguna de las filas.\n",
    "\n",
    "Crea una función que la recorra y que busque si se ha producido 3 en raya para el jugador 1 en alguna de las columnas.\n",
    "\n",
    "**AVANZADO**: Crea una función que la recorra y que busque si se ha producido 3 en raya para el jugador 1 en alguna de las diagonales.\n",
    "\n",
    "**AVANZADO**: Crea una función que la recorra y que busque si se ha producido 3 en raya para algún jugador.\n",
    "\n",
    "**AVANZADO**: Completa el ejercicio para que dos jugadores puedan jugar al 3 en raya.\n"
   ]
  },
  {
   "cell_type": "code",
   "execution_count": null,
   "metadata": {},
   "outputs": [
    {
     "name": "stdout",
     "output_type": "stream",
     "text": [
      "[1, 2, 3, 4, 5, 6, 7, 8, 9, 10]\n"
     ]
    }
   ],
   "source": [
    "def pedir_numeros(n):\n",
    "    numeros = []\n",
    "    for _ in range(n):\n",
    "        numero = int(input(\"Introduce un número: \"))\n",
    "        numeros.append(numero)\n",
    "    return numeros\n",
    "\n",
    "def reemplazar_negativos(lista):\n",
    "    return [max(0, numero) for numero in lista]\n",
    "\n",
    "\n",
    "\n"
   ]
  }
 ],
 "metadata": {
  "kernelspec": {
   "display_name": "Python 3",
   "language": "python",
   "name": "python3"
  },
  "language_info": {
   "codemirror_mode": {
    "name": "ipython",
    "version": 3
   },
   "file_extension": ".py",
   "mimetype": "text/x-python",
   "name": "python",
   "nbconvert_exporter": "python",
   "pygments_lexer": "ipython3",
   "version": "3.12.6"
  }
 },
 "nbformat": 4,
 "nbformat_minor": 2
}
