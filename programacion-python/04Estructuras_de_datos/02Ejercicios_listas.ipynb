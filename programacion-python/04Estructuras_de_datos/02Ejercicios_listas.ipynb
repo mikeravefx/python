{
 "cells": [
  {
   "cell_type": "markdown",
   "metadata": {},
   "source": [
    "# Ejercicios\n",
    "\n",
    "## Ejercicio 1\n",
    "\n",
    "Crea una función que pida al usuario 5 números y los guarde en una lista y devuelva esa lista.\n",
    "\n",
    "A continuación, muéstrala en orden inverso a como se introdujeron.\n"
   ]
  },
  {
   "cell_type": "code",
   "execution_count": 16,
   "metadata": {},
   "outputs": [
    {
     "name": "stdout",
     "output_type": "stream",
     "text": [
      "Lista en orden inverso: [0, 1, 2, 3, 4]\n"
     ]
    }
   ],
   "source": [
    "def pedir_numeros():\n",
    "    numeros = []\n",
    "    for _ in range(5):\n",
    "        numero = int(input(\"Introduce un número: \"))\n",
    "        numeros.append(numero)\n",
    "    return numeros\n",
    "\n",
    "def mostrar_inverso(lista):\n",
    "    lista_inversa = lista[::-1]\n",
    "    print(\"Lista en orden inverso:\", lista_inversa)\n",
    "\n",
    "# Ejecución del programa\n",
    "numeros = pedir_numeros()\n",
    "mostrar_inverso(numeros)"
   ]
  },
  {
   "cell_type": "code",
   "execution_count": 7,
   "metadata": {},
   "outputs": [
    {
     "name": "stdout",
     "output_type": "stream",
     "text": [
      "[1, 2, 3, 4, 5, 6, 7, 8, 9, 10]\n"
     ]
    }
   ],
   "source": [
    "# Crear un programa que pregunte al usuario \n",
    "# Las notas 10 alumnos y los guarde en una lista\n",
    "lista=[]\n",
    "for i in range(10):\n",
    "    lista.append(int(input(\"Introduce las 10 notas de un alumno\")))\n",
    "\n",
    "print(lista)\n",
    "\n"
   ]
  },
  {
   "cell_type": "markdown",
   "metadata": {},
   "source": [
    "\n",
    "## Ejercicio 2\n",
    "\n",
    "Usando la función del ejercicio anterior, úsala y después busca el mayor de los números introducidos.\n"
   ]
  },
  {
   "cell_type": "code",
   "execution_count": 2,
   "metadata": {},
   "outputs": [
    {
     "name": "stdout",
     "output_type": "stream",
     "text": [
      "Lista de números: [1, 1, 1, 1, 1]\n",
      "El mayor número es: 1\n"
     ]
    }
   ],
   "source": [
    "n = int(input(\"¿Cuántos números quieres introducir? \"))\n",
    "def pedir_numeros():\n",
    "    numeros = []\n",
    "    for _ in range(n):\n",
    "        numero = int(input(\"Introduce un número: \"))\n",
    "        numeros.append(numero)\n",
    "    return numeros\n",
    "\n",
    "def encontrar_mayor(lista):\n",
    "    mayor = max(lista)\n",
    "    return mayor\n",
    "\n",
    "# Ejecución del programa\n",
    "numeros = pedir_numeros()\n",
    "print(\"Lista de números:\", numeros)\n",
    "mayor_numero = encontrar_mayor(numeros)\n",
    "print(\"El mayor número es:\", mayor_numero)"
   ]
  },
  {
   "cell_type": "markdown",
   "metadata": {},
   "source": [
    "\n",
    "## Ejercicio 3\n",
    "\n",
    "A partir de una lista, escribe un programa que cree una lista nueva con los elementos de la primera lista que sean impares.\n"
   ]
  },
  {
   "cell_type": "markdown",
   "metadata": {},
   "source": []
  },
  {
   "cell_type": "code",
   "execution_count": null,
   "metadata": {},
   "outputs": [],
   "source": []
  },
  {
   "cell_type": "code",
   "execution_count": null,
   "metadata": {},
   "outputs": [
    {
     "name": "stdout",
     "output_type": "stream",
     "text": [
      "Lista de números: [1, 2, 3, 4, 5]\n",
      "Lista de números impares: [1, 3, 5]\n",
      "Lista de números impares en orden ascendente: [1, 3, 5]\n",
      "Lista de números impares en orden descendente: [5, 3, 1]\n",
      "El mayor número impar es: 5\n",
      "El menor número impar es: 1\n"
     ]
    }
   ],
   "source": [
    "def pedir_numeros(n):\n",
    "    numeros = []\n",
    "    for _ in range(n):\n",
    "        numero = int(input(\"Introduce un número: \"))\n",
    "        numeros.append(numero)\n",
    "    return numeros\n",
    "\n",
    "def filtrar_impares(lista):\n",
    "    impares = [numero for numero in lista if numero % 2 != 0]\n",
    "    return impares\n",
    "\n",
    "def ordenar_lista(lista, ascendente=True):\n",
    "    return sorted(lista, reverse=not ascendente)\n",
    "\n",
    "def encontrar_mayor(lista):\n",
    "    return max(lista)\n",
    "\n",
    "def encontrar_menor(lista):\n",
    "    return min(lista)\n",
    "\n",
    "# Ejecución del programa\n",
    "n = int(input(\"¿Cuántos números quieres introducir? \"))\n",
    "numeros = pedir_numeros(n)\n",
    "print(\"Lista de números:\", numeros)\n",
    "\n",
    "impares = filtrar_impares(numeros)\n",
    "print(\"Lista de números impares:\", impares)\n",
    "\n",
    "impares_ascendente = ordenar_lista(impares, ascendente=True)\n",
    "print(\"Lista de números impares en orden ascendente:\", impares_ascendente)\n",
    "\n",
    "impares_descendente = ordenar_lista(impares, ascendente=False)\n",
    "print(\"Lista de números impares en orden descendente:\", impares_descendente)\n",
    "\n",
    "if impares:\n",
    "    mayor_impar = encontrar_mayor(impares)\n",
    "    menor_impar = encontrar_menor(impares)\n",
    "    print(\"El mayor número impar es:\", mayor_impar)\n",
    "    print(\"El menor número impar es:\", menor_impar)\n",
    "else:\n",
    "    print(\"No se introdujeron números impares.\")"
   ]
  },
  {
   "cell_type": "markdown",
   "metadata": {},
   "source": [
    "## Ejercicio 4\n",
    "\n",
    "Escribe una función que reciba una lista de enteros y devuelva otra lista con los dobles de sus elementos.\n"
   ]
  },
  {
   "cell_type": "code",
   "execution_count": 1,
   "metadata": {},
   "outputs": [
    {
     "name": "stdout",
     "output_type": "stream",
     "text": [
      "Lista original: [1, 2, 3, 4, 5]\n",
      "Lista con los dobles de los elementos: [2, 4, 6, 8, 10]\n"
     ]
    }
   ],
   "source": [
    "def doblar_elementos(lista):\n",
    "    return [elemento * 2 for elemento in lista]\n",
    "\n",
    "# Ejemplo de uso\n",
    "n = int(input(\"¿Cuántos números quieres introducir? \"))\n",
    "numeros = []\n",
    "for _ in range(n):\n",
    "    numero = int(input(\"Introduce un número: \"))\n",
    "    numeros.append(numero)\n",
    "\n",
    "lista_doblada = doblar_elementos(numeros)\n",
    "print(\"Lista original:\", numeros)\n",
    "print(\"Lista con los dobles de los elementos:\", lista_doblada)"
   ]
  },
  {
   "cell_type": "markdown",
   "metadata": {},
   "source": [
    "## Ejercicio 5\n",
    "\n",
    "Usa la función del ejercicio 1 para crear una lista. A continuación, reemplaza todos los números negativos de esa lista por 0."
   ]
  },
  {
   "cell_type": "code",
   "execution_count": 2,
   "metadata": {},
   "outputs": [
    {
     "name": "stdout",
     "output_type": "stream",
     "text": [
      "Lista original: [-1, -2, -3, -1, -1]\n",
      "Lista con números negativos reemplazados por 0: [0, 0, 0, 0, 0]\n"
     ]
    }
   ],
   "source": [
    "def pedir_numeros(n):\n",
    "    numeros = []\n",
    "    for _ in range(n):\n",
    "        numero = int(input(\"Introduce un número: \"))\n",
    "        numeros.append(numero)\n",
    "    return numeros\n",
    "\n",
    "def reemplazar_negativos(lista):\n",
    "    return [max(0, numero) for numero in lista]\n",
    "\n",
    "# Ejecución del programa\n",
    "n = int(input(\"¿Cuántos números quieres introducir? \"))\n",
    "numeros = pedir_numeros(n)\n",
    "print(\"Lista original:\", numeros)\n",
    "\n",
    "numeros_sin_negativos = reemplazar_negativos(numeros)\n",
    "print(\"Lista con números negativos reemplazados por 0:\", numeros_sin_negativos)"
   ]
  },
  {
   "cell_type": "code",
   "execution_count": null,
   "metadata": {},
   "outputs": [],
   "source": []
  },
  {
   "cell_type": "code",
   "execution_count": 2,
   "metadata": {},
   "outputs": [
    {
     "name": "stdout",
     "output_type": "stream",
     "text": [
      "['mariposa', 'elefante', 'montaña']\n"
     ]
    }
   ],
   "source": [
    "# Lista original de palabras\n",
    "palabras = [\"sol\", \"mariposa\", \"cielo\", \"elefante\", \"luz\", \"montaña\"]\n",
    "\n",
    "# Crear una nueva lista con palabras de más de 5 letras\n",
    "palabras_largas = [palabra for palabra in palabras if len(palabra) > 5]\n",
    "\n",
    "# Mostrar la nueva lista\n",
    "print(palabras_largas)"
   ]
  },
  {
   "cell_type": "markdown",
   "metadata": {},
   "source": [
    "\n",
    "## Ejercicio 7\n",
    "\n",
    "A partir de una lista, escribe un programa que cree una lista nueva eliminando aquellos que están repetidos."
   ]
  },
  {
   "cell_type": "code",
   "execution_count": null,
   "metadata": {},
   "outputs": [],
   "source": []
  },
  {
   "cell_type": "markdown",
   "metadata": {},
   "source": [
    "## Ejercicio 8\n",
    "\n",
    "Escribe una función que reciba dos listas y devuelva una tercera con los elementos comunes a ambas."
   ]
  },
  {
   "cell_type": "markdown",
   "metadata": {},
   "source": [
    "## Ejercicio 9\n",
    "\n",
    "Utilizando una lista, escribe una función a la que se le pase el número del mes y devuelva su nombre.\n",
    "\n",
    "Crea un programa principal para probarla.\n"
   ]
  },
  {
   "cell_type": "markdown",
   "metadata": {},
   "source": [
    "\n",
    "## Ejercicio 10\n",
    "\n",
    "Busca el algoritmo para calcular la letra del DNI y crea una función que use listas para devolver la letra del mismo."
   ]
  },
  {
   "cell_type": "code",
   "execution_count": 6,
   "metadata": {},
   "outputs": [
    {
     "name": "stdout",
     "output_type": "stream",
     "text": [
      "La letra correspondiente al DNI 12345678 es: Z\n"
     ]
    }
   ],
   "source": [
    "def calcular_letra_dni(numero_dni):\n",
    "    # Lista de letras correspondientes a los residuos\n",
    "    letras = [\"T\", \"R\", \"W\", \"A\", \"G\", \"M\", \"Y\", \"F\", \"P\", \"D\", \n",
    "              \"X\", \"B\", \"N\", \"J\", \"Z\", \"S\", \"Q\", \"V\", \"H\", \"L\", \n",
    "              \"C\", \"K\", \"E\"]\n",
    "    \n",
    "    # Realizar el cálculo del residuo y obtener la letra\n",
    "    residuo = numero_dni % 23\n",
    "    letra = letras[residuo]\n",
    "    \n",
    "    return letra\n",
    "\n",
    "# Ejemplo de uso\n",
    "numero_dni = 12345678  # Número del DNI (sin letra)\n",
    "letra = calcular_letra_dni(numero_dni)\n",
    "print(f\"La letra correspondiente al DNI {numero_dni} es: {letra}\")\n"
   ]
  },
  {
   "cell_type": "markdown",
   "metadata": {},
   "source": [
    "# Listas anidadas\n",
    "\n"
   ]
  },
  {
   "cell_type": "markdown",
   "metadata": {},
   "source": [
    "## Ejercicio 11\n",
    "\n",
    "Crea una lista bidimensional con las notas de lxs alumnxs de una clase en los diferentes módulos. Cada fila será un alumnx y cada columna, las notas de un módulo.\n",
    "\n",
    "Calcula la media de notas de un módulo.\n",
    "\n",
    "Crea una nueva lista con las medias de cada uno de los módulos."
   ]
  },
  {
   "cell_type": "code",
   "execution_count": null,
   "metadata": {},
   "outputs": [
    {
     "name": "stdout",
     "output_type": "stream",
     "text": [
      "Medias de los módulos: [7.5, 7.0, 8.25]\n",
      "[[8, 7, 9], [6, 7, 8], [9, 8, 7], [7, 6, 9]]\n"
     ]
    }
   ],
   "source": [
    "# Paso 1: Crear la lista bidimensional con las notas de los estudiantes\n",
    "notas = [\n",
    "    [8, 7, 9, 10, 4, 5],  # Notas del primer estudiante\n",
    "    [6, 7, 8, 4, 5, 6],  # Notas del segundo estudiante\n",
    "    [6, 7, 8, 4, 5, 6],  # Notas del tercer estudiante\n",
    "    [6, 7, 8, 4, 5, 6],  # Notas del cuarto estudiante\n",
    "]\n",
    "\n",
    "# Paso 2: Calcular la media de las notas de cada módulo\n",
    "def calcular_media_columna(notas, columna):\n",
    "    suma = 0\n",
    "    for fila in notas:\n",
    "        suma += fila[columna]\n",
    "    return suma / len(notas)\n",
    "\n",
    "# Paso 3: Crear una lista con las medias de cada módulo\n",
    "medias = []\n",
    "for i in range(len(notas[0])):  # Iteramos sobre cada módulo (cada columna)\n",
    "    media = calcular_media_columna(notas, i)\n",
    "    medias.append(media)\n",
    "\n",
    "# Mostrar las medias de cada módulo\n",
    "print(\"Medias de los módulos:\", medias)\n",
    "print(notas)\n"
   ]
  },
  {
   "cell_type": "code",
   "execution_count": 1,
   "metadata": {},
   "outputs": [
    {
     "name": "stdout",
     "output_type": "stream",
     "text": [
      "Temperaturas de Enero: [5, 6, 7, 5, 4, 5, 6, 6, 7, 6, 5, 6, 5, 4, 5, 6, 6, 7, 8, 7, 6, 5, 6, 5, 4, 3, 4, 5, 6, 7, 8]\n",
      "Temperaturas de Febrero: [6, 7, 8, 7, 6, 7, 6, 6, 7, 6, 7, 6, 7, 7, 6, 7, 8, 7, 6, 5, 6, 6, 5, 6, 7, 6, 6, 5]\n",
      "Temperaturas de Marzo: [10, 11, 12, 13, 12, 11, 10, 11, 12, 13, 14, 15, 14, 13, 12, 11, 10, 11, 12, 13, 14, 15, 14, 13, 12, 11, 10, 9, 8, 7, 6]\n",
      "Temperaturas de Abril: [15, 16, 15, 14, 15, 16, 17, 16, 15, 14, 13, 14, 15, 16, 17, 18, 17, 16, 15, 14, 13, 14, 15, 16, 17, 16, 15, 14, 13, 14]\n",
      "Temperaturas de Mayo: [20, 21, 22, 23, 24, 23, 22, 21, 20, 21, 22, 23, 24, 25, 24, 23, 22, 21, 20, 21, 22, 23, 24, 25, 26, 25, 24, 23, 22, 21, 20]\n",
      "Temperaturas de Junio: [25, 26, 27, 28, 27, 26, 25, 24, 25, 26, 27, 28, 29, 28, 27, 26, 25, 24, 23, 24, 25, 26, 27, 28, 29, 30, 29, 28, 27, 26]\n",
      "Temperaturas de Julio: [30, 31, 30, 29, 30, 31, 32, 31, 30, 29, 30, 31, 32, 31, 30, 29, 30, 31, 32, 33, 32, 31, 30, 29, 28, 29, 30, 31, 32, 33, 32]\n",
      "Temperaturas de Agosto: [29, 30, 31, 30, 29, 28, 29, 30, 31, 32, 31, 30, 29, 30, 31, 32, 33, 32, 31, 30, 29, 28, 29, 30, 31, 32, 31, 30, 29, 28, 29]\n",
      "Temperaturas de Septiembre: [25, 24, 23, 24, 25, 26, 27, 26, 25, 24, 23, 24, 25, 26, 27, 28, 27, 26, 25, 24, 23, 24, 25, 26, 27, 26, 25, 24, 23, 24]\n",
      "Temperaturas de Octubre: [15, 16, 17, 18, 17, 16, 15, 14, 13, 14, 15, 16, 17, 18, 19, 18, 17, 16, 15, 14, 13, 12, 13, 14, 15, 16, 17, 18, 19, 18, 17]\n",
      "Temperaturas de Noviembre: [8, 9, 10, 9, 8, 7, 6, 7, 8, 9, 10, 9, 8, 7, 6, 5, 6, 7, 8, 9, 10, 9, 8, 7, 6, 5, 6, 7, 8, 9]\n",
      "Temperaturas de Diciembre: [5, 6, 7, 6, 5, 4, 5, 6, 7, 6, 5, 4, 3, 4, 5, 6, 7, 6, 5, 4, 3, 4, 5, 6, 7, 6, 5, 4, 3, 4, 5]\n",
      "\n",
      "Promedios mensuales de temperatura:\n",
      "Enero: 5.65 °C\n",
      "Febrero: 6.39 °C\n",
      "Marzo: 11.58 °C\n",
      "Abril: 15.17 °C\n",
      "Mayo: 22.48 °C\n",
      "Junio: 26.50 °C\n",
      "Julio: 30.61 °C\n",
      "Agosto: 30.13 °C\n",
      "Septiembre: 25.03 °C\n",
      "Octubre: 15.87 °C\n",
      "Noviembre: 7.70 °C\n",
      "Diciembre: 5.10 °C\n"
     ]
    }
   ],
   "source": [
    "# Función para calcular el promedio de temperaturas de cada mes\n",
    "def calcular_promedio_temperaturas(tabla_temperaturas):\n",
    "    # Crear un diccionario vacío donde almacenaremos los promedios\n",
    "    promedios = {}\n",
    "    \n",
    "    # Recorrer cada mes en la tabla_temperaturas\n",
    "    for mes, temperaturas in tabla_temperaturas.items():\n",
    "        # Sumar todas las temperaturas de ese mes\n",
    "        suma_temperaturas = 0\n",
    "        for temperatura in temperaturas:\n",
    "            suma_temperaturas += temperatura\n",
    "        \n",
    "        # Calcular el promedio dividiendo la suma de las temperaturas entre la cantidad de días\n",
    "        promedio = suma_temperaturas / len(temperaturas)\n",
    "        \n",
    "        # Almacenar el promedio en el diccionario promedios\n",
    "        promedios[mes] = promedio\n",
    "    \n",
    "    return promedios\n",
    "\n",
    "# Función para recorrer y mostrar las temperaturas de cada mes\n",
    "def mostrar_temperaturas(tabla_temperaturas):\n",
    "    # Recorrer la tabla_temperaturas para mostrar las temperaturas mes a mes\n",
    "    for mes, temperaturas in tabla_temperaturas.items():\n",
    "        print(f\"Temperaturas de {mes}: {temperaturas}\")\n",
    "\n",
    "# Tabla de temperaturas predefinidas (como en el ejemplo anterior)\n",
    "tabla_temperaturas = {\n",
    "    'Enero': [5, 6, 7, 5, 4, 5, 6, 6, 7, 6, 5, 6, 5, 4, 5, 6, 6, 7, 8, 7, 6, 5, 6, 5, 4, 3, 4, 5, 6, 7, 8],\n",
    "    'Febrero': [6, 7, 8, 7, 6, 7, 6, 6, 7, 6, 7, 6, 7, 7, 6, 7, 8, 7, 6, 5, 6, 6, 5, 6, 7, 6, 6, 5],\n",
    "    'Marzo': [10, 11, 12, 13, 12, 11, 10, 11, 12, 13, 14, 15, 14, 13, 12, 11, 10, 11, 12, 13, 14, 15, 14, 13, 12, 11, 10, 9, 8, 7, 6],\n",
    "    'Abril': [15, 16, 15, 14, 15, 16, 17, 16, 15, 14, 13, 14, 15, 16, 17, 18, 17, 16, 15, 14, 13, 14, 15, 16, 17, 16, 15, 14, 13, 14],\n",
    "    'Mayo': [20, 21, 22, 23, 24, 23, 22, 21, 20, 21, 22, 23, 24, 25, 24, 23, 22, 21, 20, 21, 22, 23, 24, 25, 26, 25, 24, 23, 22, 21, 20],\n",
    "    'Junio': [25, 26, 27, 28, 27, 26, 25, 24, 25, 26, 27, 28, 29, 28, 27, 26, 25, 24, 23, 24, 25, 26, 27, 28, 29, 30, 29, 28, 27, 26],\n",
    "    'Julio': [30, 31, 30, 29, 30, 31, 32, 31, 30, 29, 30, 31, 32, 31, 30, 29, 30, 31, 32, 33, 32, 31, 30, 29, 28, 29, 30, 31, 32, 33, 32],\n",
    "    'Agosto': [29, 30, 31, 30, 29, 28, 29, 30, 31, 32, 31, 30, 29, 30, 31, 32, 33, 32, 31, 30, 29, 28, 29, 30, 31, 32, 31, 30, 29, 28, 29],\n",
    "    'Septiembre': [25, 24, 23, 24, 25, 26, 27, 26, 25, 24, 23, 24, 25, 26, 27, 28, 27, 26, 25, 24, 23, 24, 25, 26, 27, 26, 25, 24, 23, 24],\n",
    "    'Octubre': [15, 16, 17, 18, 17, 16, 15, 14, 13, 14, 15, 16, 17, 18, 19, 18, 17, 16, 15, 14, 13, 12, 13, 14, 15, 16, 17, 18, 19, 18, 17],\n",
    "    'Noviembre': [8, 9, 10, 9, 8, 7, 6, 7, 8, 9, 10, 9, 8, 7, 6, 5, 6, 7, 8, 9, 10, 9, 8, 7, 6, 5, 6, 7, 8, 9],\n",
    "    'Diciembre': [5, 6, 7, 6, 5, 4, 5, 6, 7, 6, 5, 4, 3, 4, 5, 6, 7, 6, 5, 4, 3, 4, 5, 6, 7, 6, 5, 4, 3, 4, 5]\n",
    "}\n",
    "\n",
    "# Llamar a las funciones\n",
    "mostrar_temperaturas(tabla_temperaturas)  # Muestra las temperaturas de cada mes\n",
    "promedios = calcular_promedio_temperaturas(tabla_temperaturas)  # Calcula los promedios\n",
    "\n",
    "# Mostrar los promedios\n",
    "print(\"\\nPromedios mensuales de temperatura:\")\n",
    "for mes, promedio in promedios.items():\n",
    "    print(f\"{mes}: {promedio:.2f} °C\")\n"
   ]
  },
  {
   "cell_type": "markdown",
   "metadata": {},
   "source": [
    "## Ejercicio 12\n",
    "\n",
    "Crea una lista bidimensional que contenga los agrupamientos del alumnado de una clase para un determinado proyecto. La lista contendrá otras listas con los componentes de cada grupo.\n",
    "\n",
    "Muestra la lista por pantalla, con los componentes de cada grupo en una misma línea. Haz que no aparezcan los []. Por ejemplo:\n",
    "\n",
    "```python\n",
    "Luis, Juan\n",
    "María, Elba, Mario\n",
    "Carola\n",
    "Pablo, Manuel, Raquel, Uxía\n",
    "```"
   ]
  },
  {
   "cell_type": "code",
   "execution_count": 17,
   "metadata": {},
   "outputs": [
    {
     "name": "stdout",
     "output_type": "stream",
     "text": [
      "Luis, Juan\n",
      "María, Elba, Mario\n",
      "Carola\n",
      "Pablo, Manuel, Raquel, Uxía\n"
     ]
    }
   ],
   "source": [
    "# Lista bidimensional con los grupos de estudiantes\n",
    "grupos = [\n",
    "    [\"Luis\", \"Juan\"],\n",
    "    [\"María\", \"Elba\", \"Mario\"],\n",
    "    [\"Carola\"],\n",
    "    [\"Pablo\", \"Manuel\", \"Raquel\", \"Uxía\"]\n",
    "]\n",
    "\n",
    "# Mostrar los componentes de cada grupo en una línea sin corchetes\n",
    "for grupo in grupos:\n",
    "    print(\", \".join(grupo))\n",
    "\n",
    "\n",
    "    # for grupo in grupos:\n",
    "    # for alumno in grupo:\n",
    "        # print(alumno, end=\", \")\n",
    "   \n",
    "    # print()"
   ]
  },
  {
   "cell_type": "code",
   "execution_count": null,
   "metadata": {},
   "outputs": [],
   "source": []
  },
  {
   "cell_type": "markdown",
   "metadata": {},
   "source": [
    "## Ejercicio 13\n",
    "\n",
    "Utiliza una lista bidimensional para almacenar las temperaturas máximas de cada día de cada mes. Cada mes será una fila y las temperaturas estarán en columnas.\n",
    "\n",
    "Muestra las medias de cada mes."
   ]
  },
  {
   "cell_type": "code",
   "execution_count": null,
   "metadata": {},
   "outputs": [
    {
     "name": "stdout",
     "output_type": "stream",
     "text": [
      "Media de temperaturas para el mes 1: 30.58°C\n",
      "Media de temperaturas para el mes 2: 29.83°C\n",
      "Media de temperaturas para el mes 3: 34.25°C\n",
      "Media de temperaturas para el mes 4: 37.25°C\n",
      "Media de temperaturas para el mes 5: 30.50°C\n"
     ]
    }
   ],
   "source": [
    "# Paso 1: Crear la lista bidimensional con las temperaturas máximas de cada día de cada mes\n",
    "temperaturas = [\n",
    "    [30, 32, 31, 29, 28, 30, 31, 30, 33, 32, 31, 30],  # Enero\n",
    "    [28, 29, 30, 31, 32, 31, 30, 29, 28, 29, 30, 31],  # Febrero\n",
    "    [35, 36, 37, 35, 34, 33, 32, 31, 33, 34, 35, 36],  # Marzo\n",
    "    [40, 42, 41, 40, 39, 38, 37, 36, 35, 34, 33, 32],  # Abril\n",
    "    [25, 26, 27, 28, 29, 30, 31, 32, 33, 34, 35, 36],  # Mayo\n",
    "    # (continúa para otros meses...)\n",
    "]\n",
    "\n",
    "# Paso 2: Función para calcular la media de una lista de temperaturas\n",
    "def calcular_media(temperaturas):\n",
    "    return sum(temperaturas) / len(temperaturas)\n",
    "\n",
    "# Paso 3: Calcular y mostrar la media de cada mes\n",
    "for i, mes in enumerate(temperaturas, 1):\n",
    "    media_mes = calcular_media(mes)\n",
    "    print(f\"Media de temperaturas para el mes {i}: {media_mes:.2f}°C\")\n",
    "\n",
    "\n"
   ]
  },
  {
   "cell_type": "code",
   "execution_count": null,
   "metadata": {},
   "outputs": [],
   "source": []
  },
  {
   "cell_type": "markdown",
   "metadata": {},
   "source": [
    "# Comprensión de listas (AVANZADO)\n"
   ]
  },
  {
   "cell_type": "markdown",
   "metadata": {},
   "source": [
    "\n",
    "## Ejercicio 14\n",
    "\n",
    "Crea una lista con las 10 primeras potencias de 3."
   ]
  },
  {
   "cell_type": "code",
   "execution_count": 4,
   "metadata": {},
   "outputs": [
    {
     "name": "stdout",
     "output_type": "stream",
     "text": [
      "[1, 3, 9, 27, 81, 243, 729, 2187, 6561, 19683]\n"
     ]
    }
   ],
   "source": [
    "# Crear una lista con las 10 primeras potencias de 3\n",
    "potencias_de_3 = [3**i for i in range(10)]\n",
    "\n",
    "# Imprimir la lista\n",
    "print(potencias_de_3)"
   ]
  },
  {
   "cell_type": "markdown",
   "metadata": {},
   "source": [
    "## Ejercicio 15\n",
    "\n",
    "Crea una lista con los 100 primeros múltiplos de 7."
   ]
  },
  {
   "cell_type": "code",
   "execution_count": 5,
   "metadata": {},
   "outputs": [
    {
     "name": "stdout",
     "output_type": "stream",
     "text": [
      "[7, 14, 21, 28, 35, 42, 49, 56, 63, 70, 77, 84, 91, 98, 105, 112, 119, 126, 133, 140, 147, 154, 161, 168, 175, 182, 189, 196, 203, 210, 217, 224, 231, 238, 245, 252, 259, 266, 273, 280, 287, 294, 301, 308, 315, 322, 329, 336, 343, 350, 357, 364, 371, 378, 385, 392, 399, 406, 413, 420, 427, 434, 441, 448, 455, 462, 469, 476, 483, 490, 497, 504, 511, 518, 525, 532, 539, 546, 553, 560, 567, 574, 581, 588, 595, 602, 609, 616, 623, 630, 637, 644, 651, 658, 665, 672, 679, 686, 693, 700]\n"
     ]
    }
   ],
   "source": [
    "# Crear una lista con los 100 primeros múltiplos de 7\n",
    "multiplos_de_7 = [7 * i for i in range(1, 101)]\n",
    "\n",
    "# Imprimir la lista\n",
    "print(multiplos_de_7)"
   ]
  },
  {
   "cell_type": "markdown",
   "metadata": {},
   "source": [
    "## Ejercicio 16\n",
    "\n",
    "Utilizando comprensión de listas, vuelve a resolver el ejercicio 3."
   ]
  },
  {
   "cell_type": "markdown",
   "metadata": {},
   "source": [
    "## Ejercicio 17\n",
    "\n",
    "Utilizando comprensión de listas, vuelve a resolver el ejercicio 4."
   ]
  },
  {
   "cell_type": "markdown",
   "metadata": {},
   "source": [
    "## Ejercicio 18\n",
    "\n",
    "Utilizando comprensión de listas, vuelve a resolver el ejercicio 6."
   ]
  },
  {
   "cell_type": "markdown",
   "metadata": {},
   "source": [
    "## Ejercicio 19\n",
    "\n",
    "Crea una lista con los números que sean múltiplos de 3 o de 5 hasta el 100."
   ]
  },
  {
   "cell_type": "markdown",
   "metadata": {},
   "source": [
    "## Ejercicio 20\n",
    "\n",
    "Crea una lista con los divisores de un número que se pasa por teclado."
   ]
  },
  {
   "cell_type": "markdown",
   "metadata": {},
   "source": [
    "## Ejercicio 21\n",
    "\n",
    "Crea una lista con los años que son bisiestos a partir de una lista de años.\n",
    "\n",
    "Por ejemplo, a partir de [1995, 2004, 2003, 1900, 2008] debe devolver [2004, 2008].\n",
    "\n",
    "Debes utilizar la función `es_bisiesto(anho)` creada en el tema anterior y comprensión de listas."
   ]
  },
  {
   "cell_type": "code",
   "execution_count": 20,
   "metadata": {},
   "outputs": [
    {
     "name": "stdout",
     "output_type": "stream",
     "text": [
      "[2004, 2008]\n"
     ]
    }
   ],
   "source": [
    "# Paso 1: Crear la función que verifica si un año es bisiesto\n",
    "def es_bisiesto(anho):\n",
    "    # Un año es bisiesto si es divisible entre 4\n",
    "    # Pero si es divisible entre 100, debe ser divisible también entre 400\n",
    "    if (anho % 4 == 0 and anho % 100 != 0) or (anho % 400 == 0):\n",
    "        return True\n",
    "    else:\n",
    "        return False\n",
    "\n",
    "# Paso 2: Crear una lista de años\n",
    "años = [1995, 2004, 2003, 1900, 2008]\n",
    "\n",
    "# Paso 3: Usar comprensión de listas para obtener los años bisiestos\n",
    "años_bisiestos = [anho for anho in años if es_bisiesto(anho)]\n",
    "\n",
    "# Paso 4: Mostrar los años bisiestos\n",
    "print(años_bisiestos)\n"
   ]
  },
  {
   "cell_type": "markdown",
   "metadata": {},
   "source": [
    "# Ejercicios sencillos listas bidimensionales\n",
    "\n",
    "## Ejercicio 22\n",
    "\n",
    "Crea una lista bidimensional de 6 filas y 7 columnas con valores aleatorios entre 0 y 9.\n",
    "\n",
    "Muéstrala por pantalla.\n",
    "\n",
    "Recórrela y almacena en una variable cuántos números pares hay en ella y almacena en otra cuántos impares.\n",
    "\n",
    "Muestra los resultados por pantalla.\n",
    "\n",
    "Vuelve a recorrerla para crear una lista unidimensional nueva con los números pares que aparecen en ella y otra con los impares."
   ]
  },
  {
   "cell_type": "code",
   "execution_count": 6,
   "metadata": {},
   "outputs": [
    {
     "name": "stdout",
     "output_type": "stream",
     "text": [
      "Lista bidimensional:\n",
      "[0, 8, 5, 7, 3, 8, 7]\n",
      "[1, 0, 8, 4, 1, 5, 2]\n",
      "[4, 4, 2, 0, 6, 1, 7]\n",
      "[5, 4, 7, 0, 8, 1, 0]\n",
      "[9, 6, 6, 8, 1, 3, 0]\n",
      "[6, 4, 2, 7, 7, 2, 4]\n",
      "\n",
      "Cantidad de números pares: 25\n",
      "Cantidad de números impares: 17\n",
      "\n",
      "Lista de números pares: [0, 8, 8, 0, 8, 4, 2, 4, 4, 2, 0, 6, 4, 0, 8, 0, 6, 6, 8, 0, 6, 4, 2, 2, 4]\n",
      "Lista de números impares: [5, 7, 3, 7, 1, 1, 5, 1, 7, 5, 7, 1, 9, 1, 3, 7, 7]\n"
     ]
    }
   ],
   "source": [
    "import random\n",
    "\n",
    "# Paso 1: Crear la lista bidimensional con valores aleatorios entre 0 y 9\n",
    "filas = 6\n",
    "columnas = 7\n",
    "lista_bidimensional = [[random.randint(0, 9) for i in range(columnas)] for j in range(filas)]\n",
    "\n",
    "# Mostrar la lista bidimensional\n",
    "print(\"Lista bidimensional:\")\n",
    "for fila in lista_bidimensional:\n",
    "    print(fila)\n",
    "\n",
    "# Paso 2: Contar cuántos números pares e impares hay\n",
    "contador_pares = 0\n",
    "contador_impares = 0\n",
    "\n",
    "# Paso 3: Recorrer la lista bidimensional para contar pares e impares\n",
    "for fila in lista_bidimensional:\n",
    "    for num in fila:\n",
    "        if num % 2 == 0:\n",
    "            contador_pares += 1\n",
    "        else:\n",
    "            contador_impares += 1\n",
    "\n",
    "# Mostrar los resultados\n",
    "print(f\"\\nCantidad de números pares: {contador_pares}\")\n",
    "print(f\"Cantidad de números impares: {contador_impares}\")\n",
    "\n",
    "# Paso 4: Crear dos listas unidimensionales con los números pares e impares\n",
    "lista_pares = []\n",
    "lista_impares = []\n",
    "\n",
    "for fila in lista_bidimensional:\n",
    "    for num in fila:\n",
    "        if num % 2 == 0:\n",
    "            lista_pares.append(num)\n",
    "        else:\n",
    "            lista_impares.append(num)\n",
    "\n",
    "# Mostrar las listas unidimensionales con los números pares e impares\n",
    "print(\"\\nLista de números pares:\", lista_pares)\n",
    "print(\"Lista de números impares:\", lista_impares)\n"
   ]
  },
  {
   "cell_type": "markdown",
   "metadata": {},
   "source": [
    "## Ejercicio 23\n",
    "\n",
    "Crea una lista bidimensional 3x3 que sirva para jugar al tres en raya, almacenará 3 posibles cadenas, una cadena vacía para indicar que no se ha puesto una ficha en esa posición, una 'o' para indicar que ha jugado el jugador 1 y una 'x' para el jugador 2.\n",
    "\n",
    "Crea una función que la recorra y que busque si se ha producido 3 en raya para el jugador 1 en alguna de las filas.\n",
    "\n",
    "Crea una función que la recorra y que busque si se ha producido 3 en raya para el jugador 1 en alguna de las columnas.\n",
    "\n",
    "**AVANZADO**: Crea una función que la recorra y que busque si se ha producido 3 en raya para el jugador 1 en alguna de las diagonales.\n",
    "\n",
    "**AVANZADO**: Crea una función que la recorra y que busque si se ha producido 3 en raya para algún jugador.\n",
    "\n",
    "**AVANZADO**: Completa el ejercicio para que dos jugadores puedan jugar al 3 en raya.\n"
   ]
  },
  {
   "cell_type": "code",
   "execution_count": 1,
   "metadata": {},
   "outputs": [
    {
     "name": "stdout",
     "output_type": "stream",
     "text": [
      "  |   |  \n",
      "-----\n",
      "  |   |  \n",
      "-----\n",
      "  |   |  \n",
      "-----\n",
      "Turno del jugador o\n",
      "  |   |  \n",
      "-----\n",
      "  |   |  \n",
      "-----\n",
      "  | o |  \n",
      "-----\n",
      "Turno del jugador x\n",
      "¡Esa casilla ya está ocupada! Elige otra.\n",
      "  |   |  \n",
      "-----\n",
      "  |   |  \n",
      "-----\n",
      "  | o |  \n",
      "-----\n",
      "Turno del jugador x\n",
      "¡Esa casilla ya está ocupada! Elige otra.\n",
      "  |   |  \n",
      "-----\n",
      "  |   |  \n",
      "-----\n",
      "  | o |  \n",
      "-----\n",
      "Turno del jugador x\n",
      "¡Esa casilla ya está ocupada! Elige otra.\n",
      "  |   |  \n",
      "-----\n",
      "  |   |  \n",
      "-----\n",
      "  | o |  \n",
      "-----\n",
      "Turno del jugador x\n",
      "¡Esa casilla ya está ocupada! Elige otra.\n",
      "  |   |  \n",
      "-----\n",
      "  |   |  \n",
      "-----\n",
      "  | o |  \n",
      "-----\n",
      "Turno del jugador x\n",
      "¡Esa casilla ya está ocupada! Elige otra.\n",
      "  |   |  \n",
      "-----\n",
      "  |   |  \n",
      "-----\n",
      "  | o |  \n",
      "-----\n",
      "Turno del jugador x\n",
      "¡Esa casilla ya está ocupada! Elige otra.\n",
      "  |   |  \n",
      "-----\n",
      "  |   |  \n",
      "-----\n",
      "  | o |  \n",
      "-----\n",
      "Turno del jugador x\n",
      "¡Esa casilla ya está ocupada! Elige otra.\n",
      "  |   |  \n",
      "-----\n",
      "  |   |  \n",
      "-----\n",
      "  | o |  \n",
      "-----\n",
      "Turno del jugador x\n",
      "¡Esa casilla ya está ocupada! Elige otra.\n",
      "  |   |  \n",
      "-----\n",
      "  |   |  \n",
      "-----\n",
      "  | o |  \n",
      "-----\n",
      "Turno del jugador x\n",
      "  |   |  \n",
      "-----\n",
      "  |   |  \n",
      "-----\n",
      "  | o | x\n",
      "-----\n",
      "Turno del jugador o\n",
      "¡Esa casilla ya está ocupada! Elige otra.\n",
      "  |   |  \n",
      "-----\n",
      "  |   |  \n",
      "-----\n",
      "  | o | x\n",
      "-----\n",
      "Turno del jugador o\n",
      "  |   |  \n",
      "-----\n",
      "  |   |  \n",
      "-----\n",
      "o | o | x\n",
      "-----\n",
      "Turno del jugador x\n",
      "x |   |  \n",
      "-----\n",
      "  |   |  \n",
      "-----\n",
      "o | o | x\n",
      "-----\n",
      "Turno del jugador o\n",
      "¡Esa casilla ya está ocupada! Elige otra.\n",
      "x |   |  \n",
      "-----\n",
      "  |   |  \n",
      "-----\n",
      "o | o | x\n",
      "-----\n",
      "Turno del jugador o\n",
      "¡Esa casilla ya está ocupada! Elige otra.\n",
      "x |   |  \n",
      "-----\n",
      "  |   |  \n",
      "-----\n",
      "o | o | x\n",
      "-----\n",
      "Turno del jugador o\n",
      "¡Esa casilla ya está ocupada! Elige otra.\n",
      "x |   |  \n",
      "-----\n",
      "  |   |  \n",
      "-----\n",
      "o | o | x\n",
      "-----\n",
      "Turno del jugador o\n",
      "¡Esa casilla ya está ocupada! Elige otra.\n",
      "x |   |  \n",
      "-----\n",
      "  |   |  \n",
      "-----\n",
      "o | o | x\n",
      "-----\n",
      "Turno del jugador o\n",
      "¡Esa casilla ya está ocupada! Elige otra.\n",
      "x |   |  \n",
      "-----\n",
      "  |   |  \n",
      "-----\n",
      "o | o | x\n",
      "-----\n",
      "Turno del jugador o\n",
      "¡Esa casilla ya está ocupada! Elige otra.\n",
      "x |   |  \n",
      "-----\n",
      "  |   |  \n",
      "-----\n",
      "o | o | x\n",
      "-----\n",
      "Turno del jugador o\n",
      "¡Esa casilla ya está ocupada! Elige otra.\n",
      "x |   |  \n",
      "-----\n",
      "  |   |  \n",
      "-----\n",
      "o | o | x\n",
      "-----\n",
      "Turno del jugador o\n",
      "¡Esa casilla ya está ocupada! Elige otra.\n",
      "x |   |  \n",
      "-----\n",
      "  |   |  \n",
      "-----\n",
      "o | o | x\n",
      "-----\n",
      "Turno del jugador o\n",
      "¡Esa casilla ya está ocupada! Elige otra.\n",
      "x |   |  \n",
      "-----\n",
      "  |   |  \n",
      "-----\n",
      "o | o | x\n",
      "-----\n",
      "Turno del jugador o\n",
      "x |   | o\n",
      "-----\n",
      "  |   |  \n",
      "-----\n",
      "o | o | x\n",
      "-----\n",
      "Turno del jugador x\n",
      "x |   | o\n",
      "-----\n",
      "  | x |  \n",
      "-----\n",
      "o | o | x\n",
      "-----\n",
      "¡El jugador x ha ganado!\n"
     ]
    }
   ],
   "source": [
    "# Paso 1: Crear la lista bidimensional 3x3\n",
    "def crear_tablero():\n",
    "    # El tablero es una lista bidimensional 3x3, inicialmente vacía\n",
    "    return [[\"\", \"\", \"\"], [\"\", \"\", \"\"], [\"\", \"\", \"\"]]\n",
    "\n",
    "# Paso 2: Función para mostrar el tablero\n",
    "def mostrar_tablero(tablero):\n",
    "    for fila in tablero:\n",
    "        print(\" | \".join(fila if fila != \"\" else \" \" for fila in fila))\n",
    "        print(\"-\" * 5)\n",
    "\n",
    "# Paso 3: Función para verificar si hay 3 en raya en las filas\n",
    "def verificar_filas(tablero, jugador):\n",
    "    for fila in tablero:\n",
    "        if fila.count(jugador) == 3:\n",
    "            return True\n",
    "    return False\n",
    "\n",
    "# Paso 4: Función para verificar si hay 3 en raya en las columnas\n",
    "def verificar_columnas(tablero, jugador):\n",
    "    for col in range(3):\n",
    "        if tablero[0][col] == tablero[1][col] == tablero[2][col] == jugador:\n",
    "            return True\n",
    "    return False\n",
    "\n",
    "# Paso 5: Función para verificar las diagonales\n",
    "def verificar_diagonales(tablero, jugador):\n",
    "    # Diagonal de arriba a abajo\n",
    "    if tablero[0][0] == tablero[1][1] == tablero[2][2] == jugador:\n",
    "        return True\n",
    "    # Diagonal de abajo a arriba\n",
    "    if tablero[0][2] == tablero[1][1] == tablero[2][0] == jugador:\n",
    "        return True\n",
    "    return False\n",
    "\n",
    "# Paso 6: Función para verificar si algún jugador ha ganado\n",
    "def verificar_ganador(tablero, jugador):\n",
    "    return verificar_filas(tablero, jugador) or verificar_columnas(tablero, jugador) or verificar_diagonales(tablero, jugador)\n",
    "\n",
    "# Paso 7: Función para jugar al tres en raya\n",
    "def jugar_tres_en_raya():\n",
    "    tablero = crear_tablero()  # Creamos el tablero\n",
    "    jugadores = ['o', 'x']    # Jugador 1 (o) y Jugador 2 (x)\n",
    "    turno = 0                 # 0 para jugador 1, 1 para jugador 2\n",
    "    \n",
    "    while True:\n",
    "        mostrar_tablero(tablero)  # Mostrar el tablero\n",
    "        jugador_actual = jugadores[turno]\n",
    "        print(f\"Turno del jugador {jugador_actual}\")\n",
    "        \n",
    "        # Pedir al jugador que elija una posición\n",
    "        fila = int(input(\"Elige la fila (0-2): \"))\n",
    "        columna = int(input(\"Elige la columna (0-2): \"))\n",
    "        \n",
    "        # Comprobar si la casilla está vacía\n",
    "        if tablero[fila][columna] == \"\":\n",
    "            tablero[fila][columna] = jugador_actual\n",
    "        else:\n",
    "            print(\"¡Esa casilla ya está ocupada! Elige otra.\")\n",
    "            continue\n",
    "        \n",
    "        # Comprobar si el jugador ha ganado\n",
    "        if verificar_ganador(tablero, jugador_actual):\n",
    "            mostrar_tablero(tablero)\n",
    "            print(f\"¡El jugador {jugador_actual} ha ganado!\")\n",
    "            break\n",
    "        \n",
    "        # Cambiar turno al siguiente jugador\n",
    "        turno = 1 - turno\n",
    "        \n",
    "        # Comprobar si el tablero está lleno y es un empate\n",
    "        if all(tablero[fila][columna] != \"\" for fila in range(3) for columna in range(3)):\n",
    "            mostrar_tablero(tablero)\n",
    "            print(\"¡Es un empate!\")\n",
    "            break\n",
    "\n",
    "# Ejecutar el juego\n",
    "jugar_tres_en_raya()\n"
   ]
  },
  {
   "cell_type": "code",
   "execution_count": 1,
   "metadata": {},
   "outputs": [
    {
     "name": "stdout",
     "output_type": "stream",
     "text": [
      "[1, 3] [1, 3]\n"
     ]
    }
   ],
   "source": [
    "nums = [1, 2, 3]\n",
    "vals = nums\n",
    "del vals[1:2]\n",
    "print(nums, vals)"
   ]
  },
  {
   "cell_type": "code",
   "execution_count": 2,
   "metadata": {},
   "outputs": [
    {
     "name": "stdout",
     "output_type": "stream",
     "text": [
      "True\n"
     ]
    }
   ],
   "source": [
    "z = 10\n",
    "y = 0\n",
    "x = y < z and z > y or y > z and z < y\n",
    "print(x)\n"
   ]
  },
  {
   "cell_type": "code",
   "execution_count": 4,
   "metadata": {},
   "outputs": [
    {
     "name": "stdout",
     "output_type": "stream",
     "text": [
      "[0, 10, 20, 30, 40]\n"
     ]
    }
   ],
   "source": [
    "l = [10 * x for x in range(5)]\n",
    "\n",
    "# 0,1,2,3\n",
    "print(l)"
   ]
  },
  {
   "cell_type": "code",
   "execution_count": 5,
   "metadata": {},
   "outputs": [
    {
     "name": "stdout",
     "output_type": "stream",
     "text": [
      "1\n",
      "22\n",
      "333\n",
      "4444\n"
     ]
    }
   ],
   "source": [
    "for i in range(1, 5):\n",
    " for j in range(i):\n",
    "    print(i, end='')\n",
    " print()"
   ]
  }
 ],
 "metadata": {
  "kernelspec": {
   "display_name": "Python 3",
   "language": "python",
   "name": "python3"
  },
  "language_info": {
   "codemirror_mode": {
    "name": "ipython",
    "version": 3
   },
   "file_extension": ".py",
   "mimetype": "text/x-python",
   "name": "python",
   "nbconvert_exporter": "python",
   "pygments_lexer": "ipython3",
   "version": "3.12.6"
  }
 },
 "nbformat": 4,
 "nbformat_minor": 2
}
