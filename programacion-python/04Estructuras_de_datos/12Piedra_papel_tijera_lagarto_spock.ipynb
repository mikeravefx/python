{
 "cells": [
  {
   "cell_type": "markdown",
   "metadata": {},
   "source": [
    "# Ejercicio 1\n",
    "\n",
    "Crea un programa en Python que sirva para realizar una jugada de la versión de Big Bang Theory de Piedra, Papel, Tijera. Es decir, Piedra, Papel, Tijera, Lagarto o Spock.\n",
    "\n",
    "El programa debe pedir al usuario que introduzca su jugada, calcular aleatoriamente la jugada del ordenador y mostrar por pantalla si ha ganado o no.\n",
    "\n",
    "Debes utilizar una estructura de datos de tipo diccionario, que tenga como claves las posibles jugadas y como valores las jugadas que vencen a la clave almacenadas en un conjunto.\n",
    "\n",
    "Las reglas son muy sencillas, según Sheldon. *Las tijeras cortan el papel, el papel envuelve la piedra, la piedra aplasta al lagarto, el lagarto envenena a Spock, Spock aplasta las tijeras, las tijeras decapitan al lagarto, el lagarto devora el papel, el papel desaprueba a Spock, Spock desintegra la piedra y, como siempre, la piedra aplasta las tijeras*."
   ]
  },
  {
   "cell_type": "code",
   "execution_count": 1,
   "metadata": {},
   "outputs": [
    {
     "name": "stdout",
     "output_type": "stream",
     "text": [
      "{'lagarto': {'piedra', 'tijeras'}}\n"
     ]
    }
   ],
   "source": [
    "jugadas = {}\n",
    "jugadas[\"lagarto\"] = {\"piedra\", \"tijeras\"} # Las tijeras y la piedra ganan al lagarto\n",
    "print(jugadas)"
   ]
  },
  {
   "cell_type": "code",
   "execution_count": 3,
   "metadata": {},
   "outputs": [
    {
     "name": "stdout",
     "output_type": "stream",
     "text": [
      "El ordenador eligió: papel\n",
      "Perdiste\n"
     ]
    }
   ],
   "source": [
    "import random\n",
    "\n",
    "# Diccionario con las reglas del juego\n",
    "reglas = {\n",
    "    \"piedra\": {\"tijeras\", \"lagarto\"},\n",
    "    \"papel\": {\"piedra\", \"spock\"},\n",
    "    \"tijeras\": {\"papel\", \"lagarto\"},\n",
    "    \"lagarto\": {\"spock\", \"papel\"},\n",
    "    \"spock\": {\"tijeras\", \"piedra\"}\n",
    "}\n",
    "\n",
    "# Función para determinar el ganador\n",
    "def determinar_ganador(jugada_usuario, jugada_ordenador):\n",
    "    if jugada_usuario == jugada_ordenador:\n",
    "        return \"Empate\"\n",
    "    elif jugada_ordenador in reglas[jugada_usuario]:\n",
    "        return \"¡Ganaste!\"\n",
    "    else:\n",
    "        return \"Perdiste\"\n",
    "\n",
    "# Función principal del juego\n",
    "def jugar():\n",
    "    opciones = list(reglas.keys())\n",
    "    jugada_usuario = input(f\"Elige tu jugada ({', '.join(opciones)}): \").lower()\n",
    "    \n",
    "    if jugada_usuario not in opciones:\n",
    "        print(\"Jugada no válida. Inténtalo de nuevo.\")\n",
    "        return\n",
    "    \n",
    "    jugada_ordenador = random.choice(opciones)\n",
    "    print(f\"El ordenador eligió: {jugada_ordenador}\")\n",
    "    \n",
    "    resultado = determinar_ganador(jugada_usuario, jugada_ordenador)\n",
    "    print(resultado)\n",
    "\n",
    "# Ejecutar el juego\n",
    "jugar()"
   ]
  }
 ],
 "metadata": {
  "kernelspec": {
   "display_name": "Python 3",
   "language": "python",
   "name": "python3"
  },
  "language_info": {
   "codemirror_mode": {
    "name": "ipython",
    "version": 3
   },
   "file_extension": ".py",
   "mimetype": "text/x-python",
   "name": "python",
   "nbconvert_exporter": "python",
   "pygments_lexer": "ipython3",
   "version": "3.12.6"
  }
 },
 "nbformat": 4,
 "nbformat_minor": 2
}
