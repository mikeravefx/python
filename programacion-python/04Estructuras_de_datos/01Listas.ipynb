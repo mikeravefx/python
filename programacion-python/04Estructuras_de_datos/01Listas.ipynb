{
 "cells": [
  {
   "cell_type": "markdown",
   "metadata": {},
   "source": [
    "# Listas\n",
    "\n",
    "Las listas son necesarias para almacenar datos de forma ordenada. Se pueden crear listas de cualquier tipo de dato, incluso listas de listas.\n",
    "\n",
    "## Creación de listas\n",
    "\n",
    "Para crear una lista se utilizan los corchetes `[]` y se separan los elementos con comas `,`. Los elementos pueden ser de cualquier tipo de dato.\n"
   ]
  },
  {
   "cell_type": "code",
   "execution_count": 1,
   "metadata": {},
   "outputs": [],
   "source": [
    "matriz = [1, 2, 3, 4, 5]\n",
    "lista2 = ['a', 'b', 'c']\n",
    "lista3 = [1, 'a', 2, 'b', 3, 'c', True]"
   ]
  },
  {
   "cell_type": "markdown",
   "metadata": {},
   "source": [
    "Las listas se pueden imprimir."
   ]
  },
  {
   "cell_type": "code",
   "execution_count": 2,
   "metadata": {},
   "outputs": [
    {
     "name": "stdout",
     "output_type": "stream",
     "text": [
      "[1, 2, 3, 4, 5]\n"
     ]
    }
   ],
   "source": [
    "print(matriz)"
   ]
  },
  {
   "cell_type": "markdown",
   "metadata": {},
   "source": [
    "\n",
    "## Acceso a los elementos de una lista\n",
    "\n",
    "Para acceder a los elementos de una lista se utiliza el índice del elemento. El índice es un número entero que indica la posición del elemento en la lista. El primer elemento de la lista tiene índice 0, el segundo índice 1, y así sucesivamente (hasta su longitud -1). \n",
    "\n",
    "Para acceder al elemento se utiliza el nombre de la lista y, entre corchetes, el índice del elemento.\n"
   ]
  },
  {
   "cell_type": "code",
   "execution_count": 1,
   "metadata": {},
   "outputs": [
    {
     "data": {
      "text/plain": [
       "1"
      ]
     },
     "execution_count": 1,
     "metadata": {},
     "output_type": "execute_result"
    }
   ],
   "source": [
    "\n",
    "matriz = [1, 2, 3, 4, 5]\n",
    "matriz[0] # Acceso al primer elemento\n"
   ]
  },
  {
   "cell_type": "code",
   "execution_count": 5,
   "metadata": {},
   "outputs": [
    {
     "data": {
      "text/plain": [
       "2"
      ]
     },
     "execution_count": 5,
     "metadata": {},
     "output_type": "execute_result"
    }
   ],
   "source": [
    "matriz[1] # Acceso al segundo elemento\n"
   ]
  },
  {
   "cell_type": "code",
   "execution_count": 6,
   "metadata": {},
   "outputs": [
    {
     "data": {
      "text/plain": [
       "3"
      ]
     },
     "execution_count": 6,
     "metadata": {},
     "output_type": "execute_result"
    }
   ],
   "source": [
    "matriz[2] # Acceso al tercer elemento\n"
   ]
  },
  {
   "cell_type": "code",
   "execution_count": null,
   "metadata": {},
   "outputs": [],
   "source": [
    "matriz[3] # Acceso al cuarto elemento\n"
   ]
  },
  {
   "cell_type": "code",
   "execution_count": null,
   "metadata": {},
   "outputs": [],
   "source": [
    "matriz[4] # Acceso al quinto elemento\n"
   ]
  },
  {
   "cell_type": "markdown",
   "metadata": {},
   "source": [
    "No se puede acceder a un elemento que no existe."
   ]
  },
  {
   "cell_type": "code",
   "execution_count": 1,
   "metadata": {},
   "outputs": [
    {
     "ename": "NameError",
     "evalue": "name 'matriz' is not defined",
     "output_type": "error",
     "traceback": [
      "\u001b[1;31m---------------------------------------------------------------------------\u001b[0m",
      "\u001b[1;31mNameError\u001b[0m                                 Traceback (most recent call last)",
      "Cell \u001b[1;32mIn[1], line 1\u001b[0m\n\u001b[1;32m----> 1\u001b[0m \u001b[38;5;28mprint\u001b[39m(\u001b[43mmatriz\u001b[49m[\u001b[38;5;241m5\u001b[39m])\n",
      "\u001b[1;31mNameError\u001b[0m: name 'matriz' is not defined"
     ]
    }
   ],
   "source": [
    "print(matriz[5])"
   ]
  },
  {
   "cell_type": "markdown",
   "metadata": {},
   "source": [
    "\n",
    "## Acceso a los elementos de una lista con índices negativos\n",
    "\n",
    "También se puede acceder a los elementos de una lista utilizando índices negativos. El último elemento de la lista tiene índice -1, el penúltimo -2, y así sucesivamente.\n"
   ]
  },
  {
   "cell_type": "code",
   "execution_count": 8,
   "metadata": {},
   "outputs": [
    {
     "data": {
      "text/plain": [
       "5"
      ]
     },
     "execution_count": 8,
     "metadata": {},
     "output_type": "execute_result"
    }
   ],
   "source": [
    "\n",
    "matriz = [1, 2, 3, 4, 5]\n",
    "matriz[-1] # Acceso al último elemento\n"
   ]
  },
  {
   "cell_type": "code",
   "execution_count": 9,
   "metadata": {},
   "outputs": [
    {
     "data": {
      "text/plain": [
       "4"
      ]
     },
     "execution_count": 9,
     "metadata": {},
     "output_type": "execute_result"
    }
   ],
   "source": [
    "matriz[-2] # Acceso al penúltimo elemento"
   ]
  },
  {
   "cell_type": "markdown",
   "metadata": {},
   "source": [
    "\n",
    "## Acceso a los elementos de una lista con rangos (rebanadas, *slices*)\n",
    "\n",
    "También se puede acceder a los elementos de una lista utilizando rangos. Para acceder a los elementos se utiliza el nombre de la lista y entre corchetes el rango de los elementos. \n",
    "\n",
    "El rango se indica con dos índices separados por dos puntos `:`. \n",
    "\n",
    "`lista[inicio:fin]`\n",
    "\n",
    "Para confirmar:\n",
    "\n",
    "- `inicio` es el índice del primer elemento incluido en la rebanada.\n",
    "- `fin` es el índice del primer elemento no incluido en la rebanada.\n"
   ]
  },
  {
   "cell_type": "code",
   "execution_count": 31,
   "metadata": {},
   "outputs": [
    {
     "data": {
      "text/plain": [
       "[1, 2]"
      ]
     },
     "execution_count": 31,
     "metadata": {},
     "output_type": "execute_result"
    }
   ],
   "source": [
    "\n",
    "matriz = [1, 2, 3, 4, 5]\n",
    "matriz[0:2] # Acceso al primer y segundo elemento\n"
   ]
  },
  {
   "cell_type": "code",
   "execution_count": 7,
   "metadata": {},
   "outputs": [
    {
     "data": {
      "text/plain": [
       "[2, 3]"
      ]
     },
     "execution_count": 7,
     "metadata": {},
     "output_type": "execute_result"
    }
   ],
   "source": [
    "matriz[1:3] # Acceso al segundo y tercer elemento\n"
   ]
  },
  {
   "cell_type": "code",
   "execution_count": 8,
   "metadata": {},
   "outputs": [
    {
     "data": {
      "text/plain": [
       "[3, 4]"
      ]
     },
     "execution_count": 8,
     "metadata": {},
     "output_type": "execute_result"
    }
   ],
   "source": [
    "matriz[2:4] # Acceso al tercer y cuarto elemento\n"
   ]
  },
  {
   "cell_type": "code",
   "execution_count": 9,
   "metadata": {},
   "outputs": [
    {
     "data": {
      "text/plain": [
       "[4, 5]"
      ]
     },
     "execution_count": 9,
     "metadata": {},
     "output_type": "execute_result"
    }
   ],
   "source": [
    "matriz[3:5] # Acceso al cuarto y quinto elemento"
   ]
  },
  {
   "cell_type": "markdown",
   "metadata": {},
   "source": [
    "Si omites el inicio, empieza en 0. Si omites el final, toma hasta el final de la lista."
   ]
  },
  {
   "cell_type": "code",
   "execution_count": 33,
   "metadata": {},
   "outputs": [
    {
     "data": {
      "text/plain": [
       "[1, 2, 3, 4, 5]"
      ]
     },
     "execution_count": 33,
     "metadata": {},
     "output_type": "execute_result"
    }
   ],
   "source": [
    "matriz[:] # Toda la lista"
   ]
  },
  {
   "cell_type": "code",
   "execution_count": 35,
   "metadata": {},
   "outputs": [
    {
     "data": {
      "text/plain": [
       "[1, 2, 3, 4]"
      ]
     },
     "execution_count": 35,
     "metadata": {},
     "output_type": "execute_result"
    }
   ],
   "source": [
    "matriz[:-1] # Todos los elementos menos el último"
   ]
  },
  {
   "cell_type": "code",
   "execution_count": 36,
   "metadata": {},
   "outputs": [
    {
     "data": {
      "text/plain": [
       "[3, 4, 5]"
      ]
     },
     "execution_count": 36,
     "metadata": {},
     "output_type": "execute_result"
    }
   ],
   "source": [
    "matriz[2:] # Todos los elementos desde el tercero"
   ]
  },
  {
   "cell_type": "markdown",
   "metadata": {},
   "source": [
    "\n",
    "## Acceso a los elementos de una lista con rangos y saltos\n",
    "\n",
    "También se puede acceder a los elementos de una lista utilizando rangos y saltos. Para acceder a los elementos se utiliza el nombre de la lista y entre corchetes el rango de los elementos. El rango se indica con dos índices separados por dos puntos `:`. El primer índice indica el primer elemento del rango y el segundo índice indica el último elemento del rango. El primer elemento del rango se incluye y el último elemento del rango no se incluye. El salto indica cada cuantos elementos se accede a un elemento de la lista. El salto se indica con dos índices separados por dos puntos `:` después del segundo índice del rango.\n"
   ]
  },
  {
   "cell_type": "code",
   "execution_count": 2,
   "metadata": {},
   "outputs": [
    {
     "data": {
      "text/plain": [
       "[1, 3, 5]"
      ]
     },
     "execution_count": 2,
     "metadata": {},
     "output_type": "execute_result"
    }
   ],
   "source": [
    "\n",
    "matriz = [1, 2, 3, 4, 5]\n",
    "matriz[0:5:2] # Acceso al primer, tercer y quinto elemento\n"
   ]
  },
  {
   "cell_type": "code",
   "execution_count": 11,
   "metadata": {},
   "outputs": [
    {
     "data": {
      "text/plain": [
       "[2, 4]"
      ]
     },
     "execution_count": 11,
     "metadata": {},
     "output_type": "execute_result"
    }
   ],
   "source": [
    "matriz[1:5:2] # Acceso al segundo y cuarto elemento"
   ]
  },
  {
   "cell_type": "markdown",
   "metadata": {},
   "source": [
    "Cuando el salto es negativo, `inicio` debe ser mayor que `final`."
   ]
  },
  {
   "cell_type": "code",
   "execution_count": 3,
   "metadata": {},
   "outputs": [
    {
     "data": {
      "text/plain": [
       "[]"
      ]
     },
     "execution_count": 3,
     "metadata": {},
     "output_type": "execute_result"
    }
   ],
   "source": [
    "matriz[1:4:-1] # Da la vuelta a la lista"
   ]
  },
  {
   "cell_type": "code",
   "execution_count": 4,
   "metadata": {},
   "outputs": [
    {
     "data": {
      "text/plain": [
       "[5, 4, 3]"
      ]
     },
     "execution_count": 4,
     "metadata": {},
     "output_type": "execute_result"
    }
   ],
   "source": [
    "matriz[4:1:-1] # Da la vuelta a parte de la lista que se indica"
   ]
  },
  {
   "cell_type": "markdown",
   "metadata": {},
   "source": [
    "## Longitud de la lista\n",
    "\n",
    "La función que se utiliza para conocer la longitud de una lista es `len()`."
   ]
  },
  {
   "cell_type": "code",
   "execution_count": 12,
   "metadata": {},
   "outputs": [
    {
     "name": "stdout",
     "output_type": "stream",
     "text": [
      "6\n"
     ]
    }
   ],
   "source": [
    "matriz = [1, 2, 3, 4, 5, 10]\n",
    "print(len(matriz))"
   ]
  },
  {
   "cell_type": "markdown",
   "metadata": {},
   "source": [
    "## Eliminación de elementos\n",
    "\n",
    "Para eliminar un elemento de una lista se utiliza la instrucción `del`:"
   ]
  },
  {
   "cell_type": "code",
   "execution_count": 12,
   "metadata": {},
   "outputs": [
    {
     "name": "stdout",
     "output_type": "stream",
     "text": [
      "[2, 3, 4, 5]\n"
     ]
    }
   ],
   "source": [
    "\n",
    "matriz = [1, 2, 3, 4, 5]\n",
    "del matriz[0] # Eliminación del primer elemento\n",
    "print(matriz)"
   ]
  },
  {
   "cell_type": "markdown",
   "metadata": {},
   "source": [
    "También se puede utilizar para eliminar rangos o listas completas:"
   ]
  },
  {
   "cell_type": "code",
   "execution_count": 37,
   "metadata": {},
   "outputs": [
    {
     "name": "stdout",
     "output_type": "stream",
     "text": [
      "[1, 4, 5]\n"
     ]
    }
   ],
   "source": [
    "matriz = [1, 2, 3, 4, 5]\n",
    "del matriz[1:3] # Eliminación del segundo y tercer elemento\n",
    "print(matriz)"
   ]
  },
  {
   "cell_type": "code",
   "execution_count": 1,
   "metadata": {},
   "outputs": [
    {
     "ename": "NameError",
     "evalue": "name 'matriz' is not defined",
     "output_type": "error",
     "traceback": [
      "\u001b[1;31m---------------------------------------------------------------------------\u001b[0m",
      "\u001b[1;31mNameError\u001b[0m                                 Traceback (most recent call last)",
      "Cell \u001b[1;32mIn[1], line 3\u001b[0m\n\u001b[0;32m      1\u001b[0m matriz \u001b[38;5;241m=\u001b[39m [\u001b[38;5;241m1\u001b[39m, \u001b[38;5;241m2\u001b[39m, \u001b[38;5;241m3\u001b[39m, \u001b[38;5;241m4\u001b[39m, \u001b[38;5;241m5\u001b[39m]\n\u001b[0;32m      2\u001b[0m \u001b[38;5;28;01mdel\u001b[39;00m matriz \u001b[38;5;66;03m# Eliminación de la lista completa, deja de existir la variable\u001b[39;00m\n\u001b[1;32m----> 3\u001b[0m \u001b[38;5;28mprint\u001b[39m(\u001b[43mmatriz\u001b[49m)\n",
      "\u001b[1;31mNameError\u001b[0m: name 'matriz' is not defined"
     ]
    }
   ],
   "source": [
    "matriz = [1, 2, 3, 4, 5]\n",
    "del matriz # Eliminación de la lista completa, deja de existir la variable\n",
    "print(matriz)"
   ]
  },
  {
   "cell_type": "code",
   "execution_count": 2,
   "metadata": {},
   "outputs": [
    {
     "name": "stdout",
     "output_type": "stream",
     "text": [
      "[]\n"
     ]
    }
   ],
   "source": [
    "matriz = [1, 2, 3, 4, 5]\n",
    "del matriz[:] # Eliminación de todos los elementos de la lista\n",
    "print(matriz)"
   ]
  },
  {
   "cell_type": "markdown",
   "metadata": {},
   "source": [
    "La instrucción `del` eliminará la lista, no su contenido."
   ]
  },
  {
   "cell_type": "code",
   "execution_count": 3,
   "metadata": {},
   "outputs": [
    {
     "name": "stdout",
     "output_type": "stream",
     "text": [
      "[1, 2, 3, 4, 5]\n"
     ]
    },
    {
     "ename": "NameError",
     "evalue": "name 'matriz' is not defined",
     "output_type": "error",
     "traceback": [
      "\u001b[1;31m---------------------------------------------------------------------------\u001b[0m",
      "\u001b[1;31mNameError\u001b[0m                                 Traceback (most recent call last)",
      "Cell \u001b[1;32mIn[3], line 5\u001b[0m\n\u001b[0;32m      3\u001b[0m \u001b[38;5;28;01mdel\u001b[39;00m matriz\n\u001b[0;32m      4\u001b[0m \u001b[38;5;28mprint\u001b[39m(lista2)\n\u001b[1;32m----> 5\u001b[0m \u001b[38;5;28mprint\u001b[39m(\u001b[43mmatriz\u001b[49m)\n",
      "\u001b[1;31mNameError\u001b[0m: name 'matriz' is not defined"
     ]
    }
   ],
   "source": [
    "matriz = [1, 2, 3, 4, 5]\n",
    "lista2 = matriz # Asignación de lista a lista2\n",
    "del matriz\n",
    "print(lista2)\n",
    "print(matriz)"
   ]
  },
  {
   "cell_type": "markdown",
   "metadata": {},
   "source": [
    "## Agregado de elementos\n",
    "\n",
    "Para añadir elementos al final de una lista se utiliza el método `append()`.\n"
   ]
  },
  {
   "cell_type": "code",
   "execution_count": 4,
   "metadata": {},
   "outputs": [
    {
     "name": "stdout",
     "output_type": "stream",
     "text": [
      "[1, 2, 3, 4, 5, 6]\n"
     ]
    }
   ],
   "source": [
    "\n",
    "matriz = [1, 2, 3, 4, 5]\n",
    "matriz.append(6) # Se agrega al final el número 6\n",
    "print(matriz)\n"
   ]
  },
  {
   "cell_type": "markdown",
   "metadata": {},
   "source": [
    "El método `insert()` puede agregar un nuevo elemento en cualquier lugar de la lista, no solo al final.\n",
    "\n",
    "```python\n",
    "insert(lugar, valor)\n",
    "```"
   ]
  },
  {
   "cell_type": "code",
   "execution_count": 5,
   "metadata": {},
   "outputs": [
    {
     "name": "stdout",
     "output_type": "stream",
     "text": [
      "[6, 1, 2, 3, 4, 5]\n"
     ]
    }
   ],
   "source": [
    "\n",
    "matriz = [1, 2, 3, 4, 5]\n",
    "matriz.insert(0, 6) # Inserción del número 6 en la posición 0\n",
    "print(matriz)"
   ]
  },
  {
   "cell_type": "markdown",
   "metadata": {},
   "source": [
    "## Agregado de elementos a partir de una lista vacía\n",
    "\n",
    "Para crear una lista vacía:\n",
    "\n",
    "```\n",
    "lista = []\n",
    "```"
   ]
  },
  {
   "cell_type": "code",
   "execution_count": 18,
   "metadata": {},
   "outputs": [
    {
     "name": "stdout",
     "output_type": "stream",
     "text": [
      "[1, 7, 9]\n"
     ]
    }
   ],
   "source": [
    "matriz = []\n",
    "matriz.append(1)\n",
    "matriz.append(7)\n",
    "matriz.append(9)\n",
    "print(matriz)"
   ]
  },
  {
   "cell_type": "code",
   "execution_count": 6,
   "metadata": {},
   "outputs": [
    {
     "name": "stdout",
     "output_type": "stream",
     "text": [
      "[0, 1, 2, 3, 4, 5, 6, 7, 8, 9]\n"
     ]
    }
   ],
   "source": [
    "matriz = []  # Creando una lista vacía.\n",
    "\n",
    "for i in range(10):\n",
    "    matriz.append(i)\n",
    "\n",
    "print(matriz)"
   ]
  },
  {
   "cell_type": "markdown",
   "metadata": {},
   "source": [
    "## Recorrido de las listas\n",
    "\n",
    "### Recorrido por los valores"
   ]
  },
  {
   "cell_type": "code",
   "execution_count": 7,
   "metadata": {},
   "outputs": [
    {
     "name": "stdout",
     "output_type": "stream",
     "text": [
      "Vigo\n",
      "Madrid\n",
      "Barcelona\n",
      "Valencia\n",
      "Sevilla\n"
     ]
    }
   ],
   "source": [
    "ciudades = ['Vigo', 'Madrid', 'Barcelona', 'Valencia', 'Sevilla']\n",
    "\n",
    "for ciudad in ciudades:\n",
    "    print(ciudad)"
   ]
  },
  {
   "cell_type": "markdown",
   "metadata": {},
   "source": [
    "Este método **copia** en `ciudad` cada uno de los valores de ciudades. No sirve para modificar valores."
   ]
  },
  {
   "cell_type": "code",
   "execution_count": 8,
   "metadata": {},
   "outputs": [
    {
     "name": "stdout",
     "output_type": "stream",
     "text": [
      "['Vigo', 'Madrid', 'Barcelona', 'Valencia', 'Sevilla']\n"
     ]
    }
   ],
   "source": [
    "ciudades = ['Vigo', 'Madrid', 'Barcelona', 'Valencia', 'Sevilla']\n",
    "\n",
    "for ciudad in ciudades:\n",
    "    ciudad = \"\"\n",
    "\n",
    "print(ciudades)"
   ]
  },
  {
   "cell_type": "markdown",
   "metadata": {},
   "source": [
    "Vemos que no se modifica, lo que se está modificando es la copia."
   ]
  },
  {
   "cell_type": "markdown",
   "metadata": {},
   "source": [
    "### Recorrido por índices"
   ]
  },
  {
   "cell_type": "code",
   "execution_count": 3,
   "metadata": {},
   "outputs": [
    {
     "name": "stdout",
     "output_type": "stream",
     "text": [
      "Vigo\n",
      "Madrid\n",
      "Barcelona\n",
      "Valencia\n",
      "Sevilla\n"
     ]
    }
   ],
   "source": [
    "ciudades = ['Vigo', 'Madrid', 'Barcelona', 'Valencia', 'Sevilla']\n",
    "\n",
    "for i in range(len(ciudades)):\n",
    "    print(ciudades[i])"
   ]
  },
  {
   "cell_type": "markdown",
   "metadata": {},
   "source": [
    "De este modo sí se pueden modificar los elementos."
   ]
  },
  {
   "cell_type": "code",
   "execution_count": 22,
   "metadata": {},
   "outputs": [
    {
     "name": "stdout",
     "output_type": "stream",
     "text": [
      "['', '', '', '', '']\n"
     ]
    }
   ],
   "source": [
    "ciudades = ['Vigo', 'Madrid', 'Barcelona', 'Valencia', 'Sevilla']\n",
    "\n",
    "for i in range(len(ciudades)):\n",
    "    ciudades[i] = \"\"\n",
    "\n",
    "print(ciudades)"
   ]
  },
  {
   "cell_type": "code",
   "execution_count": 1,
   "metadata": {},
   "outputs": [
    {
     "ename": "IndexError",
     "evalue": "list index out of range",
     "output_type": "error",
     "traceback": [
      "\u001b[1;31m---------------------------------------------------------------------------\u001b[0m",
      "\u001b[1;31mIndexError\u001b[0m                                Traceback (most recent call last)",
      "Cell \u001b[1;32mIn[1], line 4\u001b[0m\n\u001b[0;32m      1\u001b[0m matriz \u001b[38;5;241m=\u001b[39m [\u001b[38;5;241m1\u001b[39m, \u001b[38;5;241m2\u001b[39m, \u001b[38;5;241m3\u001b[39m, \u001b[38;5;241m4\u001b[39m, \u001b[38;5;241m5\u001b[39m]\n\u001b[0;32m      3\u001b[0m \u001b[38;5;28;01mfor\u001b[39;00m i \u001b[38;5;129;01min\u001b[39;00m \u001b[38;5;28mrange\u001b[39m(\u001b[38;5;28mlen\u001b[39m(matriz)):\n\u001b[1;32m----> 4\u001b[0m     \u001b[38;5;28;01mif\u001b[39;00m \u001b[43mmatriz\u001b[49m\u001b[43m[\u001b[49m\u001b[43mi\u001b[49m\u001b[43m]\u001b[49m \u001b[38;5;241m%\u001b[39m \u001b[38;5;241m2\u001b[39m \u001b[38;5;241m==\u001b[39m \u001b[38;5;241m0\u001b[39m:\n\u001b[0;32m      5\u001b[0m         \u001b[38;5;28;01mdel\u001b[39;00m matriz[i]\n",
      "\u001b[1;31mIndexError\u001b[0m: list index out of range"
     ]
    }
   ],
   "source": [
    "matriz = [1, 2, 3, 4, 5]\n",
    "\n",
    "for i in range(len(matriz)):\n",
    "    if matriz[i] % 2 == 0:\n",
    "        del matriz[i]"
   ]
  },
  {
   "cell_type": "markdown",
   "metadata": {},
   "source": [
    "### Recorrido de una lista para eliminar valores\n",
    "\n",
    "Este caso es complejo porque la longitud de la lista va variando cuando eliminamos algún elemento. No puede hacerse de forma sencilla con un for, puesto que los índices se generan todos al principio.\n",
    "\n",
    "Podemos gestionarlo con un bucle `while`, controlando los índices a mano:"
   ]
  },
  {
   "cell_type": "code",
   "execution_count": 3,
   "metadata": {},
   "outputs": [
    {
     "name": "stdout",
     "output_type": "stream",
     "text": [
      "[1, 2, 16, 34]\n"
     ]
    }
   ],
   "source": [
    "# Eliminar todos los elementos de una lista que son múltiplos de 5\n",
    "\n",
    "lista = [1, 2, 16, 15, 34, 25, 10]\n",
    "\n",
    "i = 0\n",
    "\n",
    "while i < len(lista):\n",
    "    if lista[i] % 5 == 0:\n",
    "        del lista[i] # Cuando borro un elemento no incremento el índice porque el siguiente elemento pasa a ocupar la posición del borrado\n",
    "    else:\n",
    "        i += 1 \n",
    "\n",
    "print(lista)"
   ]
  },
  {
   "cell_type": "markdown",
   "metadata": {},
   "source": [
    "## Operadores de pertenencia: `in` y `not in`\n",
    "\n",
    "`in` verifica si un elemento dado (el argumento izquierdo) está actualmente almacenado en algún lugar dentro de la lista (el argumento derecho), devuelve `True` en este caso."
   ]
  },
  {
   "cell_type": "code",
   "execution_count": 42,
   "metadata": {},
   "outputs": [
    {
     "name": "stdout",
     "output_type": "stream",
     "text": [
      "False\n",
      "True\n",
      "El número 2 está en la lista\n"
     ]
    }
   ],
   "source": [
    "matriz = [0, 3, 12, 8, 2]\n",
    "\n",
    "print(5 in matriz)\n",
    "print(12 in matriz)\n",
    "\n",
    "if 2 in matriz:\n",
    "    print(\"El número 2 está en la lista\")\n",
    "else:\n",
    "    print(\"El número 2 no está en la lista\")"
   ]
  },
  {
   "cell_type": "markdown",
   "metadata": {},
   "source": [
    "\n",
    "`not in` comprueba si un elemento dado (el argumento izquierdo) está ausente en una lista, devuelve `True` en este caso.\n",
    "\n"
   ]
  },
  {
   "cell_type": "code",
   "execution_count": 43,
   "metadata": {},
   "outputs": [
    {
     "name": "stdout",
     "output_type": "stream",
     "text": [
      "True\n",
      "False\n"
     ]
    }
   ],
   "source": [
    "matriz = [0, 3, 12, 8, 2]\n",
    "\n",
    "print(5 not in matriz)\n",
    "print(12 not in matriz)"
   ]
  },
  {
   "cell_type": "markdown",
   "metadata": {},
   "source": [
    "## Operador `*` en las listas\n",
    "\n",
    "Este operador, como sucedía con las cadenas, nos permite repetir un valor en la lista:\n"
   ]
  },
  {
   "cell_type": "code",
   "execution_count": 44,
   "metadata": {},
   "outputs": [
    {
     "name": "stdout",
     "output_type": "stream",
     "text": [
      "[0, 0, 0, 0, 0]\n"
     ]
    }
   ],
   "source": [
    "matriz = [0] * 5\n",
    "print(matriz)"
   ]
  },
  {
   "cell_type": "code",
   "execution_count": 46,
   "metadata": {},
   "outputs": [
    {
     "name": "stdout",
     "output_type": "stream",
     "text": [
      "[True, True, True, True, True, True]\n"
     ]
    }
   ],
   "source": [
    "matriz = [True] * 6\n",
    "print(matriz)"
   ]
  },
  {
   "cell_type": "markdown",
   "metadata": {},
   "source": [
    "\n",
    "## Comprensión de listas (avanzado)\n",
    "\n",
    "Sistema que utiliza Python para el llenado masivo de listas.\n",
    "\n",
    "```python\n",
    "<nueva_lista> = [<expresión> for <elemento> in <iterable>]\n",
    "```\n",
    "\n",
    "Que se traduce en:\n",
    "\n",
    "```python\n",
    "<nueva_lista> = [<hacer_esto> para <cada_uno_de_los_elementos> de <esta_lista>]\n",
    "```\n",
    "\n",
    "Llenado de una lista con ceros:\n"
   ]
  },
  {
   "cell_type": "code",
   "execution_count": 47,
   "metadata": {},
   "outputs": [
    {
     "name": "stdout",
     "output_type": "stream",
     "text": [
      "[0, 0, 0, 0, 0]\n"
     ]
    }
   ],
   "source": [
    "\n",
    "matriz = [0 for i in range(5)]\n",
    "print(matriz)\n"
   ]
  },
  {
   "cell_type": "markdown",
   "metadata": {},
   "source": [
    "Equivalente a:"
   ]
  },
  {
   "cell_type": "code",
   "execution_count": 2,
   "metadata": {},
   "outputs": [
    {
     "name": "stdout",
     "output_type": "stream",
     "text": [
      "[0, 0, 0, 0, 0]\n"
     ]
    }
   ],
   "source": [
    "matriz = []\n",
    "\n",
    "for i in range(5):\n",
    "    matriz.append(0)\n",
    "\n",
    "print(matriz)"
   ]
  },
  {
   "cell_type": "markdown",
   "metadata": {},
   "source": [
    "Lista con los 10 primeros números"
   ]
  },
  {
   "cell_type": "code",
   "execution_count": 49,
   "metadata": {},
   "outputs": [
    {
     "name": "stdout",
     "output_type": "stream",
     "text": [
      "[1, 2, 3, 4, 5, 6, 7, 8, 9, 10]\n"
     ]
    }
   ],
   "source": [
    "matriz = [i for i in range(1,11)]\n",
    "print(matriz)"
   ]
  },
  {
   "cell_type": "markdown",
   "metadata": {},
   "source": [
    "Equivale a:"
   ]
  },
  {
   "cell_type": "code",
   "execution_count": 3,
   "metadata": {},
   "outputs": [
    {
     "name": "stdout",
     "output_type": "stream",
     "text": [
      "[1, 2, 3, 4, 5, 6, 7, 8, 9, 10]\n"
     ]
    }
   ],
   "source": [
    "matriz = []\n",
    "\n",
    "for i in range(1,11):\n",
    "    matriz.append(i)\n",
    "\n",
    "print(matriz)"
   ]
  },
  {
   "cell_type": "markdown",
   "metadata": {},
   "source": [
    "Lista con los números pares menores que 20"
   ]
  },
  {
   "cell_type": "code",
   "execution_count": 4,
   "metadata": {},
   "outputs": [
    {
     "name": "stdout",
     "output_type": "stream",
     "text": [
      "[2, 4, 6, 8, 10, 12, 14, 16, 18]\n"
     ]
    }
   ],
   "source": [
    "matriz = [i for i in range(2,20,2)]\n",
    "print(matriz)"
   ]
  },
  {
   "cell_type": "markdown",
   "metadata": {},
   "source": [
    "Equivale a:"
   ]
  },
  {
   "cell_type": "code",
   "execution_count": 4,
   "metadata": {},
   "outputs": [
    {
     "name": "stdout",
     "output_type": "stream",
     "text": [
      "[2, 4, 6, 8, 10, 12, 14, 16, 18]\n"
     ]
    }
   ],
   "source": [
    "matriz = []\n",
    "\n",
    "for i in range(2, 20, 2):\n",
    "    matriz.append(i)\n",
    "\n",
    "print(matriz)"
   ]
  },
  {
   "cell_type": "markdown",
   "metadata": {},
   "source": [
    "Lista con los 10 primeros números pares:"
   ]
  },
  {
   "cell_type": "code",
   "execution_count": 51,
   "metadata": {},
   "outputs": [
    {
     "name": "stdout",
     "output_type": "stream",
     "text": [
      "[2, 4, 6, 8, 10, 12, 14, 16, 18, 20]\n"
     ]
    }
   ],
   "source": [
    "matriz = [2 * i for i in range(1,11)]\n",
    "print(matriz)"
   ]
  },
  {
   "cell_type": "markdown",
   "metadata": {},
   "source": [
    "Equivalente a:"
   ]
  },
  {
   "cell_type": "code",
   "execution_count": 7,
   "metadata": {},
   "outputs": [
    {
     "name": "stdout",
     "output_type": "stream",
     "text": [
      "[2, 4, 6, 8, 10, 12, 14, 16, 18, 20]\n"
     ]
    }
   ],
   "source": [
    "matriz = []\n",
    "\n",
    "for i in range(1, 11):\n",
    "    matriz.append(2 * i)\n",
    "\n",
    "print(matriz)"
   ]
  },
  {
   "cell_type": "markdown",
   "metadata": {},
   "source": [
    "Lista con las 10 primeras potencias de 2:"
   ]
  },
  {
   "cell_type": "code",
   "execution_count": 53,
   "metadata": {},
   "outputs": [
    {
     "name": "stdout",
     "output_type": "stream",
     "text": [
      "[2, 4, 8, 16, 32, 64, 128, 256, 512, 1024]\n"
     ]
    }
   ],
   "source": [
    "matriz = [2 ** i for i in range(1,11)]\n",
    "print(matriz)"
   ]
  },
  {
   "cell_type": "markdown",
   "metadata": {},
   "source": [
    "Equivalente a:"
   ]
  },
  {
   "cell_type": "code",
   "execution_count": 5,
   "metadata": {},
   "outputs": [
    {
     "name": "stdout",
     "output_type": "stream",
     "text": [
      "[2, 4, 8, 16, 32, 64, 128, 256, 512, 1024]\n"
     ]
    }
   ],
   "source": [
    "matriz = []\n",
    "\n",
    "for i in range(1, 11):\n",
    "    matriz.append(2 ** i)\n",
    "\n",
    "print(matriz)"
   ]
  },
  {
   "cell_type": "markdown",
   "metadata": {},
   "source": [
    "El doble de todos los elementos de una lista:"
   ]
  },
  {
   "cell_type": "code",
   "execution_count": 1,
   "metadata": {},
   "outputs": [
    {
     "name": "stdout",
     "output_type": "stream",
     "text": [
      "[10, 16, 18, 12, 24, 22]\n"
     ]
    }
   ],
   "source": [
    "lista = [5, 8, 9, 6, 12, 11]\n",
    "\n",
    "dobles = [2 * i for i in lista]\n",
    "\n",
    "print(dobles)"
   ]
  },
  {
   "cell_type": "markdown",
   "metadata": {},
   "source": [
    "Equivale a:"
   ]
  },
  {
   "cell_type": "code",
   "execution_count": 2,
   "metadata": {},
   "outputs": [
    {
     "name": "stdout",
     "output_type": "stream",
     "text": [
      "[10, 16, 18, 12, 24, 22]\n"
     ]
    }
   ],
   "source": [
    "lista = [5, 8, 9, 6, 12, 11]\n",
    "\n",
    "dobles = []\n",
    "\n",
    "for i in lista:\n",
    "    dobles.append(2 * i)\n",
    "\n",
    "print(dobles)"
   ]
  },
  {
   "cell_type": "markdown",
   "metadata": {},
   "source": [
    "### Con condición\n",
    "Se puede incluir una condición:\n",
    "\n",
    "```python\n",
    "<nueva_lista> = [<expresión> for <elemento> in <iterable> if <condición>]\n",
    "```\n",
    "\n",
    "Solo se va a insertar si se cumple la condición:"
   ]
  },
  {
   "cell_type": "code",
   "execution_count": 5,
   "metadata": {},
   "outputs": [
    {
     "name": "stdout",
     "output_type": "stream",
     "text": [
      "[2, 6, 8, 14]\n"
     ]
    }
   ],
   "source": [
    "lista = [1, 2, 3, 5, 6, 8, 11, 14]\n",
    "\n",
    "pares = [x for x in lista if x % 2 == 0]\n",
    "\n",
    "print(pares)"
   ]
  },
  {
   "cell_type": "markdown",
   "metadata": {},
   "source": [
    "Equivalente a:"
   ]
  },
  {
   "cell_type": "code",
   "execution_count": 9,
   "metadata": {},
   "outputs": [
    {
     "name": "stdout",
     "output_type": "stream",
     "text": [
      "[2, 6, 8, 14]\n"
     ]
    }
   ],
   "source": [
    "pares = []\n",
    "lista = [1, 2, 3, 5, 6, 8, 11, 14]\n",
    "\n",
    "for x in lista:\n",
    "    if x % 2 == 0:\n",
    "        pares.append(x)\n",
    "\n",
    "print(pares)"
   ]
  },
  {
   "cell_type": "markdown",
   "metadata": {},
   "source": [
    "## Listas dentro de listas (matrices bidimensionales)\n",
    "\n",
    "Las listas pueden contener listas, lo que permite crear matrices bidimensionales."
   ]
  },
  {
   "cell_type": "code",
   "execution_count": 1,
   "metadata": {},
   "outputs": [
    {
     "name": "stdout",
     "output_type": "stream",
     "text": [
      "[[1, 2, 3], [4, 5, 6], [7, 8, 9]]\n",
      "[1, 2, 3]\n",
      "[4, 5, 6]\n",
      "[7, 8, 9]\n",
      "1\t2\t3\t\n",
      "4\t5\t6\t\n",
      "7\t8\t9\t\n",
      "1\t2\t3\t\n",
      "4\t5\t6\t\n",
      "7\t8\t9\t\n",
      "1\n",
      "2\n",
      "6\n"
     ]
    }
   ],
   "source": [
    "matriz = [[1,2,3],[4,5,6],[7,8,9]]\n",
    "print(matriz)\n",
    "\n",
    "for fila in matriz:\n",
    "    print(fila)\n",
    "\n",
    "# Recorrido foreach (copia)\n",
    "for fila in matriz:\n",
    "    for elemento in fila:\n",
    "        print(elemento, end=\"\\t\")\n",
    "    print()\n",
    "\n",
    "# Recorrido por índices\n",
    "for f in range(len(matriz)):\n",
    "    for c in range(len(matriz[f])):\n",
    "        print(matriz[f][c], end=\"\\t\")\n",
    "    print()\n",
    "\n",
    "print(matriz[0][0])\n",
    "print(matriz[0][1])\n",
    "print(matriz[1][2])"
   ]
  },
  {
   "cell_type": "code",
   "execution_count": 62,
   "metadata": {},
   "outputs": [
    {
     "name": "stdout",
     "output_type": "stream",
     "text": [
      "[[1, 2, 3, 4, 5, 6, 7, 8, 9, 10], [2, 4, 6, 8, 10, 12, 14, 16, 18, 20], [3, 6, 9, 12, 15, 18, 21, 24, 27, 30], [4, 8, 12, 16, 20, 24, 28, 32, 36, 40], [5, 10, 15, 20, 25, 30, 35, 40, 45, 50], [6, 12, 18, 24, 30, 36, 42, 48, 54, 60], [7, 14, 21, 28, 35, 42, 49, 56, 63, 70], [8, 16, 24, 32, 40, 48, 56, 64, 72, 80], [9, 18, 27, 36, 45, 54, 63, 72, 81, 90], [10, 20, 30, 40, 50, 60, 70, 80, 90, 100]]\n",
      "[1, 2, 3, 4, 5, 6, 7, 8, 9, 10]\n",
      "[2, 4, 6, 8, 10, 12, 14, 16, 18, 20]\n",
      "[3, 6, 9, 12, 15, 18, 21, 24, 27, 30]\n",
      "[4, 8, 12, 16, 20, 24, 28, 32, 36, 40]\n",
      "[5, 10, 15, 20, 25, 30, 35, 40, 45, 50]\n",
      "[6, 12, 18, 24, 30, 36, 42, 48, 54, 60]\n",
      "[7, 14, 21, 28, 35, 42, 49, 56, 63, 70]\n",
      "[8, 16, 24, 32, 40, 48, 56, 64, 72, 80]\n",
      "[9, 18, 27, 36, 45, 54, 63, 72, 81, 90]\n",
      "[10, 20, 30, 40, 50, 60, 70, 80, 90, 100]\n",
      "1\t2\t3\t4\t5\t6\t7\t8\t9\t10\t\n",
      "2\t4\t6\t8\t10\t12\t14\t16\t18\t20\t\n",
      "3\t6\t9\t12\t15\t18\t21\t24\t27\t30\t\n",
      "4\t8\t12\t16\t20\t24\t28\t32\t36\t40\t\n",
      "5\t10\t15\t20\t25\t30\t35\t40\t45\t50\t\n",
      "6\t12\t18\t24\t30\t36\t42\t48\t54\t60\t\n",
      "7\t14\t21\t28\t35\t42\t49\t56\t63\t70\t\n",
      "8\t16\t24\t32\t40\t48\t56\t64\t72\t80\t\n",
      "9\t18\t27\t36\t45\t54\t63\t72\t81\t90\t\n",
      "10\t20\t30\t40\t50\t60\t70\t80\t90\t100\t\n"
     ]
    }
   ],
   "source": [
    "tabla_multiplicar = []\n",
    "\n",
    "for i in range(1,11):\n",
    "    fila = []\n",
    "    for j in range(1,11):\n",
    "        fila.append(i * j)\n",
    "    tabla_multiplicar.append(fila)\n",
    "\n",
    "print(tabla_multiplicar)\n",
    "\n",
    "for fila in tabla_multiplicar:\n",
    "    print(fila)\n",
    "\n",
    "for fila in tabla_multiplicar:\n",
    "    for elemento in fila:\n",
    "        print(elemento, end=\"\\t\")\n",
    "    print()"
   ]
  },
  {
   "cell_type": "markdown",
   "metadata": {},
   "source": [
    "**¡OJO!** Pueden ser irregulares, no todas las filas tienen por qué tener el mismo tamaño."
   ]
  },
  {
   "cell_type": "code",
   "execution_count": 64,
   "metadata": {},
   "outputs": [
    {
     "name": "stdout",
     "output_type": "stream",
     "text": [
      "1\t2\t\n",
      "3\t4\t5\t\n",
      "6\t7\t8\t9\t\n"
     ]
    }
   ],
   "source": [
    "matriz = [[1,2], [3,4,5], [6,7,8,9]]\n",
    "\n",
    "for fila in matriz:\n",
    "    for elemento in fila:\n",
    "        print(elemento, end=\"\\t\")\n",
    "    print()\n"
   ]
  },
  {
   "cell_type": "markdown",
   "metadata": {},
   "source": [
    "## Ejemplo\n",
    "\n",
    "Utilizando listas bidimensionales, crea una matriz que almacene el número de incidencias que se producen en cada día de la semana (cada semana será una fila y cada columna, las incidencias de ese día de la semana).\n",
    "\n",
    "Imprime la suma de las incidencias producidas los lunes.\n",
    "\n",
    "Crea otra lista con la suma de incidencias por días."
   ]
  },
  {
   "cell_type": "code",
   "execution_count": 6,
   "metadata": {},
   "outputs": [
    {
     "name": "stdout",
     "output_type": "stream",
     "text": [
      "La suma de las incidencias de los lunes es  8\n",
      "[8, 10, 12, 6, 14]\n",
      "[15, 26, 9]\n"
     ]
    }
   ],
   "source": [
    "incidencias = [[3, 2, 1, 4, 5], [1, 5, 10, 2, 8], [4, 3, 1, 0, 1]]\n",
    "\n",
    "suma = 0\n",
    "for f in range(len(incidencias)):\n",
    "    suma += incidencias[f][0]\n",
    "\n",
    "print(\"La suma de las incidencias de los lunes es \", suma)\n",
    "\n",
    "sumas_incidencias_dia = [0, 0, 0, 0, 0]\n",
    "\n",
    "# Suma incidencias por día\n",
    "for dia in range(5):\n",
    "    for f in range(len(incidencias)):\n",
    "        sumas_incidencias_dia[dia] += incidencias[f][dia]\n",
    "\n",
    "print(sumas_incidencias_dia)\n",
    "\n",
    "# Suma incidencias por semana\n",
    "sumas_incidencias_semana = []\n",
    "\n",
    "for f in range(len(incidencias)):\n",
    "    suma = 0\n",
    "    for c in range(len(incidencias[f])):\n",
    "        suma += incidencias[f][c]\n",
    "    sumas_incidencias_semana.append(suma)\n",
    "\n",
    "print(sumas_incidencias_semana)"
   ]
  },
  {
   "cell_type": "markdown",
   "metadata": {},
   "source": [
    "## Métodos de la clase list\n",
    "\n",
    "|Método|Significado|\n",
    "|-|-|\n",
    "|`list.append(x)`| Añade el elemento `x` al final de la lista|\n",
    "|`list.insert(i, x)`| Añade el elemento `x` en el índice `i`|\n",
    "|`list.remove(x)`|Elimina el primer elemento cuyo valor sea `x`|\n",
    "|`list.index(x)`|Devuelve el índice de la primera aparición de `x`|\n",
    "|`list.index(x, inicio)`|Devuelve el índice de la primera aparición de `x`, a partir del índice inicio|\n",
    "|`list.index(x, inicio, fin)`|Devuelve el índice de la primera aparición de `x` entre los índices inicio (incluido) y fin (no incluido)|\n",
    "|`list.count(x)`|Devuelve el número de veces que x aparece en  la lista|\n",
    "|`list.reverse()`|Da la vuelta a la lista|\n",
    "|`list.sort()`|Ordena la lista|\n",
    "|`list.pop()`|Devuelve un elemento de la lista y lo elimina, por defecto, el último|\n"
   ]
  },
  {
   "cell_type": "code",
   "execution_count": 70,
   "metadata": {},
   "outputs": [
    {
     "name": "stdout",
     "output_type": "stream",
     "text": [
      "[1, 2, 3, 4, 5, 6, 7, 8, 9, 10, 11, 12, 13, 14, 15, 16, 17, 18, 19, 20]\n",
      "[20, 19, 18, 17, 16, 15, 14, 13, 12, 11, 10, 9, 8, 7, 6, 5, 4, 3, 2, 1]\n"
     ]
    }
   ],
   "source": [
    "lista = [x for x in range(1,21)]\n",
    "print(lista)\n",
    "\n",
    "lista.reverse()\n",
    "print(lista)"
   ]
  },
  {
   "cell_type": "code",
   "execution_count": 71,
   "metadata": {},
   "outputs": [
    {
     "name": "stdout",
     "output_type": "stream",
     "text": [
      "[1, 2, 3, 4, 4, 5, 5, 6, 6, 7, 10]\n"
     ]
    }
   ],
   "source": [
    "lista = [6, 7, 4, 3, 2, 1, 5, 10, 4, 6, 5]\n",
    "lista.sort()\n",
    "print(lista)"
   ]
  },
  {
   "cell_type": "code",
   "execution_count": 74,
   "metadata": {},
   "outputs": [
    {
     "name": "stdout",
     "output_type": "stream",
     "text": [
      "2\n",
      "1\n",
      "[6, 7, 3, 2, 1, 5, 10, 4, 6, 5]\n"
     ]
    }
   ],
   "source": [
    "lista = [6, 7, 4, 3, 2, 1, 5, 10, 4, 6, 5]\n",
    "print(lista.count(6))\n",
    "print(lista.index(7))\n",
    "lista.remove(4)\n",
    "print(lista)"
   ]
  },
  {
   "cell_type": "code",
   "execution_count": 4,
   "metadata": {},
   "outputs": [
    {
     "name": "stdout",
     "output_type": "stream",
     "text": [
      "5\n",
      "[6, 7, 4, 3, 2, 1, 5, 10, 4, 6]\n"
     ]
    }
   ],
   "source": [
    "lista = [6, 7, 4, 3, 2, 1, 5, 10, 4, 6, 5]\n",
    "\n",
    "elemento = lista.pop()\n",
    "print(elemento)\n",
    "print(lista)"
   ]
  },
  {
   "cell_type": "markdown",
   "metadata": {},
   "source": [
    "## La función `sorted()`\n",
    "\n",
    "Esta función **devuelve** una copia de la lista ordenada de menor a mayor.\n",
    "\n",
    "La diferencia con el método `sort()` es que éste modifica la lista y `sorted()`, no."
   ]
  },
  {
   "cell_type": "code",
   "execution_count": 3,
   "metadata": {},
   "outputs": [
    {
     "name": "stdout",
     "output_type": "stream",
     "text": [
      "['Barcelona', 'Madrid', 'Sevilla', 'Valencia', 'Vigo']\n"
     ]
    }
   ],
   "source": [
    "ciudades = ['Vigo', 'Madrid', 'Barcelona', 'Valencia', 'Sevilla']\n",
    "\n",
    "print(sorted(ciudades))"
   ]
  }
 ],
 "metadata": {
  "kernelspec": {
   "display_name": "Python 3",
   "language": "python",
   "name": "python3"
  },
  "language_info": {
   "codemirror_mode": {
    "name": "ipython",
    "version": 3
   },
   "file_extension": ".py",
   "mimetype": "text/x-python",
   "name": "python",
   "nbconvert_exporter": "python",
   "pygments_lexer": "ipython3",
   "version": "3.12.6"
  }
 },
 "nbformat": 4,
 "nbformat_minor": 2
}
