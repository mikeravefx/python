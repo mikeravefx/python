{
 "cells": [
  {
   "cell_type": "markdown",
   "metadata": {},
   "source": [
    "# Ejercicios\n",
    "\n",
    "## Ejercicio 1\n",
    "\n",
    "Utilizando una tupla, escribe una función a la que se le pase el número del mes y devuelva su nombre.\n",
    "\n",
    "Crea un programa principal para probarla.\n"
   ]
  },
  {
   "cell_type": "code",
   "execution_count": 1,
   "metadata": {},
   "outputs": [
    {
     "name": "stdout",
     "output_type": "stream",
     "text": [
      "El nombre del mes es: Diciembre\n"
     ]
    }
   ],
   "source": [
    "def obtener_nombre_mes(numero_mes):\n",
    "    # Definir una tupla con los nombres de los meses\n",
    "    meses = (\"Enero\", \"Febrero\", \"Marzo\", \"Abril\", \"Mayo\", \"Junio\",\n",
    "             \"Julio\", \"Agosto\", \"Septiembre\", \"Octubre\", \"Noviembre\", \"Diciembre\")\n",
    "    \n",
    "    # Devolver el nombre del mes correspondiente al número\n",
    "    if 1 <= numero_mes <= 12:\n",
    "        return meses[numero_mes - 1]\n",
    "    else:\n",
    "        return \"Número de mes no válido\"\n",
    "\n",
    "# Programa principal para probar la función\n",
    "def main():\n",
    "    # Solicitar al usuario que ingrese un número de mes\n",
    "    numero_mes = int(input(\"Introduce el número del mes (1-12): \"))\n",
    "    \n",
    "    # Obtener y mostrar el nombre del mes correspondiente\n",
    "    nombre_mes = obtener_nombre_mes(numero_mes)\n",
    "    print(f\"El nombre del mes es: {nombre_mes}\")\n",
    "\n",
    "# Llamar al programa principal\n",
    "if __name__ == \"__main__\":\n",
    "    main()\n"
   ]
  },
  {
   "cell_type": "markdown",
   "metadata": {},
   "source": [
    "## Ejercicio 2\n",
    "\n",
    "Busca el algoritmo para calcular la letra del DNI y crea una función que use listas para devolver la letra del mismo."
   ]
  },
  {
   "cell_type": "code",
   "execution_count": 2,
   "metadata": {},
   "outputs": [
    {
     "name": "stdout",
     "output_type": "stream",
     "text": [
      "La letra de tu DNI es: D\n"
     ]
    }
   ],
   "source": [
    "def calcular_letra_dni(numero_dni):\n",
    "    # Lista de letras del DNI en orden\n",
    "    letras_dni = [\"T\", \"R\", \"W\", \"A\", \"G\", \"M\", \"Y\", \"F\", \"P\", \"D\", \"X\", \"B\", \"N\", \"J\", \"Z\", \"S\", \"Q\", \"V\", \"H\", \"L\", \"C\", \"K\", \"E\"]\n",
    "    \n",
    "    # Calcular el índice de la letra correspondiente\n",
    "    indice_letra = numero_dni % 23\n",
    "    \n",
    "    # Devolver la letra correspondiente\n",
    "    return letras_dni[indice_letra]\n",
    "\n",
    "# Programa principal para probar la función\n",
    "def main():\n",
    "    # Solicitar al usuario que introduzca el número de DNI\n",
    "    numero_dni = int(input(\"Introduce tu número de DNI sin la letra: \"))\n",
    "    \n",
    "    # Calcular y mostrar la letra correspondiente\n",
    "    letra_dni = calcular_letra_dni(numero_dni)\n",
    "    print(f\"La letra de tu DNI es: {letra_dni}\")\n",
    "\n",
    "# Llamar al programa principal\n",
    "if __name__ == \"__main__\":\n",
    "    main()\n"
   ]
  },
  {
   "cell_type": "markdown",
   "metadata": {},
   "source": [
    "# Ejercicio 3\n",
    "\n",
    "Crea una función a la que se le pase un día de la semana y devuelva el siguiente, por ejemplo, si le pasamos \"lunes\" nos devolverá \"martes\"."
   ]
  },
  {
   "cell_type": "code",
   "execution_count": 3,
   "metadata": {},
   "outputs": [
    {
     "name": "stdout",
     "output_type": "stream",
     "text": [
      "El día siguiente a martes es miércoles.\n"
     ]
    }
   ],
   "source": [
    "def siguiente_dia(dia_actual):\n",
    "    # Lista de los días de la semana en orden\n",
    "    dias_semana = [\"lunes\", \"martes\", \"miércoles\", \"jueves\", \"viernes\", \"sábado\", \"domingo\"]\n",
    "    \n",
    "    # Encontrar el índice del día actual y calcular el índice del siguiente día\n",
    "    indice_actual = dias_semana.index(dia_actual.lower())\n",
    "    indice_siguiente = (indice_actual + 1) % len(dias_semana)\n",
    "    \n",
    "    # Devolver el siguiente día\n",
    "    return dias_semana[indice_siguiente]\n",
    "\n",
    "# Programa principal para probar la función\n",
    "def main():\n",
    "    # Solicitar al usuario que introduzca un día de la semana\n",
    "    dia_actual = input(\"Introduce un día de la semana: \")\n",
    "    \n",
    "    # Obtener y mostrar el siguiente día\n",
    "    dia_siguiente = siguiente_dia(dia_actual)\n",
    "    print(f\"El día siguiente a {dia_actual} es {dia_siguiente}.\")\n",
    "\n",
    "# Llamar al programa principal\n",
    "if __name__ == \"__main__\":\n",
    "    main()\n"
   ]
  },
  {
   "cell_type": "markdown",
   "metadata": {},
   "source": [
    "## Ejercicio 4: AVANZADO\n",
    "\n",
    "En matemáticas, el número imaginario $i$ es $\\sqrt{-1}$. Así sus potencias serán:\n",
    "\n",
    "$i^0 = 1$\n",
    "\n",
    "$i^1 = i$\n",
    "\n",
    "$i^2 = -1$\n",
    "\n",
    "$i^3 = -i$\n",
    "\n",
    "$i^4 = 1 $\n",
    "\n",
    "$i^5 = i $\n",
    "\n",
    "$...$\n",
    "\n",
    "Escribe una función a la que se le pase el exponente para una potencia de $i$ y devuelva, como cadena, el resultado.\n",
    "\n",
    "[Ejercicio en codewars] (https://www.codewars.com/kata/5a97387e5ee396e70a00016d/train/python)"
   ]
  },
  {
   "cell_type": "code",
   "execution_count": 5,
   "metadata": {},
   "outputs": [
    {
     "name": "stdout",
     "output_type": "stream",
     "text": [
      "El resultado de i^5 es: i\n"
     ]
    }
   ],
   "source": [
    "def potencia_de_i(exponente):\n",
    "    # Lista de resultados de las potencias de i\n",
    "    resultados = [\"1\", \"i\", \"-1\", \"-i\"]\n",
    "    \n",
    "    # Determinar el índice del resultado correspondiente\n",
    "    indice = exponente % 4\n",
    "    \n",
    "    # Devolver el resultado como cadena\n",
    "    return resultados[indice]\n",
    "\n",
    "# Programa principal para probar la función\n",
    "def main():\n",
    "    # Solicitar al usuario que introduzca un exponente\n",
    "    exponente = int(input(\"Introduce el exponente para una potencia de i: \"))\n",
    "    \n",
    "    # Obtener y mostrar el resultado\n",
    "    resultado = potencia_de_i(exponente)\n",
    "    print(f\"El resultado de i^{exponente} es: {resultado}\")\n",
    "\n",
    "# Llamar al programa principal\n",
    "if __name__ == \"__main__\":\n",
    "    main()\n",
    "\n",
    "    "
   ]
  }
 ],
 "metadata": {
  "kernelspec": {
   "display_name": "Python 3",
   "language": "python",
   "name": "python3"
  },
  "language_info": {
   "codemirror_mode": {
    "name": "ipython",
    "version": 3
   },
   "file_extension": ".py",
   "mimetype": "text/x-python",
   "name": "python",
   "nbconvert_exporter": "python",
   "pygments_lexer": "ipython3",
   "version": "3.12.6"
  }
 },
 "nbformat": 4,
 "nbformat_minor": 2
}
