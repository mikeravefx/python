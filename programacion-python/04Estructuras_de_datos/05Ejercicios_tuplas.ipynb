{
 "cells": [
  {
   "cell_type": "markdown",
   "metadata": {},
   "source": [
    "# Ejercicios\n",
    "\n",
    "## Ejercicio 1\n",
    "\n",
    "Utilizando una tupla, escribe una función a la que se le pase el número del mes y devuelva su nombre.\n",
    "\n",
    "Crea un programa principal para probarla.\n"
   ]
  },
  {
   "cell_type": "code",
   "execution_count": null,
   "metadata": {},
   "outputs": [
    {
     "name": "stdout",
     "output_type": "stream",
     "text": [
      "El nombre del mes es: Diciembre\n"
     ]
    }
   ],
   "source": [
    "def obtener_nombre_mes(numero_mes):\n",
    "    # Definir una tupla con los nombres de los meses\n",
    "    meses = (\"Enero\", \"Febrero\", \"Marzo\", \"Abril\", \"Mayo\", \"Junio\",\n",
    "             \"Julio\", \"Agosto\", \"Septiembre\", \"Octubre\", \"Noviembre\", \"Diciembre\")\n",
    "    \n",
    "    indice=(1,2,3,4,5,6,7,8,9,10,11)\n",
    "    \n",
    "    # Devolver el nombre del mes correspondiente al número\n",
    "    if 1 <= numero_mes <= 12:\n",
    "        return meses[numero_mes - 1]\n",
    "    else:\n",
    "        return \"Número de mes no válido\"\n",
    "\n",
    "# Programa principal para probar la función\n",
    "def main():\n",
    "    # Solicitar al usuario que ingrese un número de mes\n",
    "    numero_mes = int(input(\"Introduce el número del mes (1-12): \"))\n",
    "    \n",
    "    # Obtener y mostrar el nombre del mes correspondiente\n",
    "    nombre_mes = obtener_nombre_mes(numero_mes)\n",
    "    print(f\"El nombre del mes es: {nombre_mes}\")\n",
    "\n",
    "# Llamar al programa principal\n",
    "if __name__ == \"__main__\":\n",
    "    main()\n"
   ]
  },
  {
   "cell_type": "code",
   "execution_count": null,
   "metadata": {},
   "outputs": [
    {
     "name": "stdout",
     "output_type": "stream",
     "text": [
      "Enero\n",
      "Febrero\n",
      "Marzo\n",
      "Diciembre\n"
     ]
    }
   ],
   "source": [
    "meses = (\"Enero\", \"Febrero\", \"Marzo\", \"Abril\", \"Mayo\", \"Junio\",\n",
    "         \"Julio\", \"Agosto\", \"Septiembre\", \"Octubre\", \"Noviembre\", \"Diciembre\")\n",
    "nombre_mes=(1,2,3,4,5,6,7,8,9,10,11,12)\n",
    "\n",
    "def obtenermes(nombre_mes: int) -> str:\n",
    "    if 1 <= nombre_mes <= 12:\n",
    "        return meses[nombre_mes - 1]\n",
    "    else:\n",
    "        return \"Número de mes no válido\"\n",
    "\n",
    "\n",
    "\n",
    "    print(obtenermes(1))\n",
    "    print(obtenermes(2))\n",
    "    print(obtenermes(3))\n",
    "    print(obtenermes(12))\n",
    "\n",
    "\n",
    "\n"
   ]
  },
  {
   "cell_type": "code",
   "execution_count": null,
   "metadata": {},
   "outputs": [],
   "source": [
    "meses = (\"Enero\", \"Febrero\", \"Marzo\", \"Abril\", \"Mayo\", \"Junio\",\n",
    "         \"Julio\", \"Agosto\", \"Septiembre\", \"Octubre\", \"Noviembre\", \"Diciembre\")\n",
    "\n",
    "def obtenermes_try():\n",
    "    try:\n",
    "        # Pedir el número del mes\n",
    "        nombre_mes = int(input(\"Introduce el número del mes (1-12): \"))\n",
    "        \n",
    "        # Validar si el número está dentro del rango de 1 a 12\n",
    "        if 1 <= nombre_mes <= 12:\n",
    "            print(f\"El mes es: {meses[nombre_mes - 1]}\")\n",
    "        else:\n",
    "            print(\"Número de mes no válido. Debe estar entre 1 y 12.\")\n",
    "    \n",
    "    except ValueError:\n",
    "        print(\"Entrada no válida. Debes introducir un número entero.\")\n",
    "\n",
    "# Llamar a la función\n",
    "obtenermes_try()"
   ]
  },
  {
   "cell_type": "code",
   "execution_count": 11,
   "metadata": {},
   "outputs": [
    {
     "name": "stdout",
     "output_type": "stream",
     "text": [
      "Número de mes no válido. Debe estar entre 1 y 12.\n",
      "Número de mes no válido. Debe estar entre 1 y 12.\n",
      "Entrada no válida. Debes introducir un número entero.\n",
      "El mes es: Diciembre\n"
     ]
    }
   ],
   "source": [
    "meses = (\"Enero\", \"Febrero\", \"Marzo\", \"Abril\", \"Mayo\", \"Junio\",\n",
    "         \"Julio\", \"Agosto\", \"Septiembre\", \"Octubre\", \"Noviembre\", \"Diciembre\")\n",
    "\n",
    "def obtenermes_while():\n",
    "    while True:\n",
    "        try:\n",
    "            # Pedir el número del mes\n",
    "            nombre_mes = int(input(\"Introduce el número del mes (1-12): \"))\n",
    "            \n",
    "            # Validar si el número está dentro del rango de 1 a 12\n",
    "            if 1 <= nombre_mes <= 12:\n",
    "                print(f\"El mes es: {meses[nombre_mes - 1]}\")\n",
    "                break  # Salir del bucle si la entrada es válida\n",
    "            else:\n",
    "                print(\"Número de mes no válido. Debe estar entre 1 y 12.\")\n",
    "        \n",
    "        except ValueError:\n",
    "            print(\"Entrada no válida. Debes introducir un número entero.\")\n",
    "\n",
    "# Llamar a la función\n",
    "obtenermes_while()\n"
   ]
  },
  {
   "cell_type": "markdown",
   "metadata": {},
   "source": [
    "## Ejercicio 2\n",
    "\n",
    "Busca el algoritmo para calcular la letra del DNI y crea una función que use listas para devolver la letra del mismo."
   ]
  },
  {
   "cell_type": "code",
   "execution_count": 14,
   "metadata": {},
   "outputs": [
    {
     "name": "stdout",
     "output_type": "stream",
     "text": [
      "La letra de tu DNI es: C\n"
     ]
    }
   ],
   "source": [
    "def calcular_letra_dni(numero_dni: int)-> str:\n",
    "    # Lista de letras del DNI en orden\n",
    "    letras_dni = [\"T\", \"R\", \"W\", \"A\", \"G\", \"M\", \"Y\", \"F\", \"P\", \"D\", \"X\", \"B\", \"N\", \"J\", \"Z\", \"S\", \"Q\", \"V\", \"H\", \"L\", \"C\", \"K\", \"E\"]\n",
    "    \n",
    "    # Calcular el índice de la letra correspondiente\n",
    "    indice_letra = numero_dni % 23\n",
    "    \n",
    "    # Devolver la letra correspondiente\n",
    "    return letras_dni[indice_letra]\n",
    "numero_dni = int(input(\"Introduce tu número de DNI sin la letra: \"))\n",
    "# Calcular y mostrar la letra correspondiente\n",
    "letra_dni = calcular_letra_dni(numero_dni)\n",
    "print(f\"La letra de tu DNI es: {letra_dni}\")\n",
    "\n",
    "\n"
   ]
  },
  {
   "cell_type": "markdown",
   "metadata": {},
   "source": [
    "# Ejercicio 3\n",
    "\n",
    "Crea una función a la que se le pase un día de la semana y devuelva el siguiente, por ejemplo, si le pasamos \"lunes\" nos devolverá \"martes\"."
   ]
  },
  {
   "cell_type": "code",
   "execution_count": 26,
   "metadata": {},
   "outputs": [
    {
     "name": "stdout",
     "output_type": "stream",
     "text": [
      "El día siguiente al día 1 es martes.\n"
     ]
    }
   ],
   "source": [
    "# Lista de los días de la semana en orden\n",
    "dias_semana = (\"lunes\", \"martes\", \"miércoles\", \"jueves\", \"viernes\", \"sábado\", \"domingo\")\n",
    "\n",
    "def siguiente_dia(dia_actual):\n",
    "    # Verificar si el número ingresado está en el rango de 1 a 7\n",
    "    if dia_actual < 1 or dia_actual > 7:\n",
    "        return \"Número no válido. Debes introducir un número entre 1 y 7.\"\n",
    "    \n",
    "    # Si el día es domingo (7), el siguiente día es lunes (1)\n",
    "    if dia_actual == 7:\n",
    "        return dias_semana[0]  # lunes\n",
    "    \n",
    "    # Para otros días, calculamos el siguiente día\n",
    "    indice_siguiente = dia_actual % 7  # El siguiente día se obtiene con % 7 para que vuelva a 1 después del 7\n",
    "    \n",
    "    # Devolver el siguiente día en formato texto\n",
    "    return dias_semana[indice_siguiente]  # La tupla es 0-indexada, no necesitamos restar 1.\n",
    "\n",
    "# Solicitar el número del día de la semana al usuario\n",
    "try:\n",
    "    dia_actual = int(input(\"Introduce el número del día de la semana (1 a 7): \"))\n",
    "    \n",
    "    # Llamar a la función y mostrar el siguiente día\n",
    "    dia_siguiente = siguiente_dia(dia_actual)\n",
    "    print(f\"El día siguiente al día {dia_actual} es {dia_siguiente}.\")\n",
    "\n",
    "except ValueError:\n",
    "    print(\"Por favor, introduce un número válido entre 1 y 7.\")\n"
   ]
  },
  {
   "cell_type": "markdown",
   "metadata": {},
   "source": [
    "## Ejercicio 4: AVANZADO\n",
    "\n",
    "En matemáticas, el número imaginario $i$ es $\\sqrt{-1}$. Así sus potencias serán:\n",
    "\n",
    "$i^0 = 1$\n",
    "\n",
    "$i^1 = i$\n",
    "\n",
    "$i^2 = -1$\n",
    "\n",
    "$i^3 = -i$\n",
    "\n",
    "$i^4 = 1 $\n",
    "\n",
    "$i^5 = i $\n",
    "\n",
    "$...$\n",
    "\n",
    "Escribe una función a la que se le pase el exponente para una potencia de $i$ y devuelva, como cadena, el resultado.\n",
    "\n",
    "[Ejercicio en codewars] (https://www.codewars.com/kata/5a97387e5ee396e70a00016d/train/python)"
   ]
  },
  {
   "cell_type": "code",
   "execution_count": 29,
   "metadata": {},
   "outputs": [
    {
     "name": "stdout",
     "output_type": "stream",
     "text": [
      "El resultado de i^8 es: 1\n"
     ]
    }
   ],
   "source": [
    "def potencia_de_i(exponente):\n",
    "    # Lista de resultados de las potencias de i\n",
    "    resultados = [\"1\", \"i\", \"-1\", \"-i\"]\n",
    "    \n",
    "    # Determinar el índice del resultado correspondiente\n",
    "    indice = exponente % 4\n",
    "    \n",
    "    # Devolver el resultado como cadena\n",
    "    return resultados[indice]\n",
    "\n",
    "# Programa principal para probar la función\n",
    "def proramaprincipal():\n",
    "    try:\n",
    "    # Solicitar al usuario que introduzca un exponente\n",
    "        exponente = int(input(\"Introduce el exponente para una potencia de i: \"))\n",
    "    \n",
    "    # Obtener y mostrar el resultado\n",
    "        resultado = potencia_de_i(exponente)\n",
    "        print(f\"El resultado de i^{exponente} es: {resultado}\")\n",
    "\n",
    "    except ValueError:\n",
    "        print(\"Error\")\n",
    "\n",
    "proramaprincipal()"
   ]
  }
 ],
 "metadata": {
  "kernelspec": {
   "display_name": "Python 3",
   "language": "python",
   "name": "python3"
  },
  "language_info": {
   "codemirror_mode": {
    "name": "ipython",
    "version": 3
   },
   "file_extension": ".py",
   "mimetype": "text/x-python",
   "name": "python",
   "nbconvert_exporter": "python",
   "pygments_lexer": "ipython3",
   "version": "3.12.6"
  }
 },
 "nbformat": 4,
 "nbformat_minor": 2
}
