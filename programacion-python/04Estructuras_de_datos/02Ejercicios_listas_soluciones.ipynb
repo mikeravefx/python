{
 "cells": [
  {
   "cell_type": "markdown",
   "metadata": {},
   "source": [
    "# Ejercicios\n",
    "\n",
    "## Ejercicio 1\n",
    "\n",
    "Crea una función que pida al usuario 5 números y los guarde en una lista y devuelva esa lista.\n",
    "\n",
    "A continuación, muéstrala en orden inverso a como se introdujeron.\n"
   ]
  },
  {
   "cell_type": "code",
   "execution_count": null,
   "metadata": {},
   "outputs": [
    {
     "name": "stdout",
     "output_type": "stream",
     "text": [
      "[3, 4, 5, 6, 7]\n",
      "[7, 6, 5, 4, 3]\n"
     ]
    }
   ],
   "source": [
    "def crea_lista(posiciones: int) -> list:\n",
    "    lista = []\n",
    "    for i in range(posiciones):\n",
    "        valor = int(input(\"Introduce un entero: \"))\n",
    "        lista.append(valor)\n",
    "    return lista\n",
    "\n",
    "# Crea una función que reciba una lista y la devuelva invertida\n",
    "def invierte_lista(lista: list) -> list:\n",
    "    \"\"\"Invierte una lista\n",
    "\n",
    "    Args:\n",
    "        lista (list): La lista a invertir\n",
    "\n",
    "    Returns:\n",
    "        list: La lista invertida\n",
    "\n",
    "    >>> invierte_lista([1, 2, 3, 4, 5])\n",
    "    [5, 4, 3, 2, 1]\n",
    "    >>> invierte_lista([])\n",
    "    []\n",
    "    >>> invierte_lista([1])\n",
    "    [1]\n",
    "    >>> invierte_lista(['a', 'b', 'c'])\n",
    "    ['c', 'b', 'a']\n",
    "    \"\"\"\n",
    "    return lista[::-1]\n",
    "\n",
    "lista = crea_lista(5)\n",
    "print(lista)\n",
    "print(invierte_lista(lista))"
   ]
  },
  {
   "cell_type": "markdown",
   "metadata": {},
   "source": [
    "\n",
    "## Ejercicio 2\n",
    "\n",
    "Usando la función del ejercicio anterior, úsala y después busca el mayor de los números introducidos.\n"
   ]
  },
  {
   "cell_type": "code",
   "execution_count": 1,
   "metadata": {},
   "outputs": [
    {
     "name": "stdout",
     "output_type": "stream",
     "text": [
      "6\n"
     ]
    }
   ],
   "source": [
    "def crea_lista(posiciones: int) -> list:\n",
    "    lista = []\n",
    "    for i in range(posiciones):\n",
    "        valor = int(input(\"Introduce un entero: \"))\n",
    "        lista.append(valor)\n",
    "    return lista\n",
    "\n",
    "\n",
    "def buscar_mayor(lista: list[int]) -> int | None:\n",
    "    \"\"\"Busca el mayor valor de una lista\n",
    "\n",
    "    Args:\n",
    "        lista (list[int]): La lista\n",
    "\n",
    "    Returns:\n",
    "        int: El mayor valor\n",
    "    >>> buscar_mayor([2, 5, 1, 4, 9, 0])\n",
    "    9\n",
    "    >>> buscar_mayor([2, 5, 1, 4, 9, 10])\n",
    "    10\n",
    "    >>> buscar_mayor([1])\n",
    "    1\n",
    "    >>> buscar_mayor([20, 5, 1, 4, 9, 10])\n",
    "    20\n",
    "    >>> buscar_mayor([]) is None\n",
    "    True\n",
    "    \"\"\"\n",
    "    if len(lista) == 0:\n",
    "        return None\n",
    "    mayor = lista[0]\n",
    "    for valor in lista:\n",
    "        if valor > mayor:\n",
    "            mayor = valor\n",
    "    return mayor\n",
    "\n",
    "\n",
    "lista = crea_lista(5)\n",
    "print(buscar_mayor(lista))"
   ]
  },
  {
   "cell_type": "markdown",
   "metadata": {},
   "source": [
    "\n",
    "## Ejercicio 3\n",
    "\n",
    "A partir de una lista, escribe un programa que cree una lista nueva con los elementos de la primera lista que sean impares.\n"
   ]
  },
  {
   "cell_type": "code",
   "execution_count": null,
   "metadata": {},
   "outputs": [],
   "source": [
    "def devuelve_impares(lista: list[int]) -> list[int]:\n",
    "    \"\"\"Devolve outra lista con só os números impares.\n",
    "\n",
    "    Args:\n",
    "        lista (list[int]): A lista inicial\n",
    "\n",
    "    Returns:\n",
    "        list[int]: A lista con só os impares\n",
    "    >>> devuelve_impares([1, 2, 3, 8, 10])\n",
    "    [1, 3]\n",
    "    >>> devuelve_impares([2, 8, 10])\n",
    "    []\n",
    "    >>> devuelve_impares([1, 5, 7, 9])\n",
    "    [1, 5, 7, 9]\n",
    "    >>> devuelve_impares([])\n",
    "    []\n",
    "    \"\"\"\n",
    "    lista_impares = []\n",
    "    for valor in lista:\n",
    "        if valor % 2 != 0:  # impar\n",
    "            lista_impares.append(valor)\n",
    "    return lista_impares"
   ]
  },
  {
   "cell_type": "markdown",
   "metadata": {},
   "source": [
    "## Ejercicio 4\n",
    "\n",
    "Escribe una función que reciba una lista de enteros y devuelva otra lista con los dobles de sus elementos.\n"
   ]
  },
  {
   "cell_type": "code",
   "execution_count": null,
   "metadata": {},
   "outputs": [],
   "source": [
    "def devuelve_dobres(lista: list[int]) -> list[int]:\n",
    "    \"\"\"Devolve outra lista cos dobres dos valores da lista inicial\n",
    "    Args:\n",
    "        lista (list[int]): A lista inicial\n",
    "\n",
    "    Returns:\n",
    "        list[int]: A lista cos dobres\n",
    "    >>> devuelve_dobres([1, 2, 3, 8, 10])\n",
    "    [2, 4, 6, 16, 20]\n",
    "    >>> devuelve_dobres([])\n",
    "    []\n",
    "    >>> devuelve_dobres([1])\n",
    "    [2]\n",
    "    >>> devuelve_dobres([-1, -3, -2])\n",
    "    [-2, -6, -4]\n",
    "    \"\"\"\n",
    "    lista_dobres = []\n",
    "    for valor in lista:\n",
    "        lista_dobres.append(valor*2)\n",
    "    return lista_dobres"
   ]
  },
  {
   "cell_type": "code",
   "execution_count": null,
   "metadata": {},
   "outputs": [],
   "source": [
    "def devuelve_dobres(lista: list[int]) -> list[int]:\n",
    "    \"\"\"Devolve outra lista cos dobres dos valores da lista inicial\n",
    "    Args:\n",
    "        lista (list[int]): A lista inicial\n",
    "\n",
    "    Returns:\n",
    "        list[int]: A lista cos dobres\n",
    "    >>> devuelve_dobres([1, 2, 3, 8, 10])\n",
    "    [2, 4, 6, 16, 20]\n",
    "    >>> devuelve_dobres([])\n",
    "    []\n",
    "    >>> devuelve_dobres([1])\n",
    "    [2]\n",
    "    >>> devuelve_dobres([-1, -3, -2])\n",
    "    [-2, -6, -4]\n",
    "    \"\"\"\n",
    "    for i in range(len(lista)):\n",
    "        lista[i] *= 2\n",
    "    return lista\n"
   ]
  },
  {
   "cell_type": "markdown",
   "metadata": {},
   "source": [
    "## Ejercicio 5\n",
    "\n",
    "Usa la función del ejercicio 1 para crear una lista. A continuación, reemplaza todos los números negativos de esa lista por 0."
   ]
  },
  {
   "cell_type": "code",
   "execution_count": 1,
   "metadata": {},
   "outputs": [],
   "source": [
    "def reemplazar_negativos0(lista: list[int]) -> list[int]:\n",
    "    \"\"\"Devuelve una lista en la que los negativos están reemplazados por 0\n",
    "    Args:\n",
    "        lista (list[int]): La lista inicial\n",
    "\n",
    "    Returns:\n",
    "        list[int]: La lista con los negativos reemplazados por 0\n",
    "    >>> reemplazar_negativos0([2, -1, 6, -2, -1])\n",
    "    [2, 0, 6, 0, 0]\n",
    "    >>> reemplazar_negativos0([-2, -1, -6, -2, -1])\n",
    "    [0, 0, 0, 0, 0]\n",
    "    >>> reemplazar_negativos0([2, 1, 6, 2, 1])\n",
    "    [2, 1, 6, 2, 1]\n",
    "    >>> reemplazar_negativos0([])\n",
    "    []\n",
    "    \"\"\"\n",
    "    for i in range(len(lista)):\n",
    "        if lista[i] < 0:\n",
    "            lista[i] = 0\n",
    "    return lista\n"
   ]
  },
  {
   "cell_type": "markdown",
   "metadata": {},
   "source": [
    "## Ejercicio 6\n",
    "\n",
    "Dada una lista de palabras, crea una nueva lista que contenga solo las palabras que tienen más de 5 letras."
   ]
  },
  {
   "cell_type": "code",
   "execution_count": null,
   "metadata": {},
   "outputs": [],
   "source": [
    "def eliminar_palabras_cortas(lista: list[str], longitud: int) -> list[str]:\n",
    "    \"\"\"Devuelve una lista en la que se eliminan las palabras \n",
    "    Args:\n",
    "        lista (list[int]): La lista inicial\n",
    "\n",
    "    Returns:\n",
    "        list[int]: La lista con las palabras cortas\n",
    "    >>> eliminar_palabras_cortas(['casa', 'trigo', 'verano', 'sol'], 5)\n",
    "    ['trigo', 'verano']\n",
    "    >>> eliminar_palabras_cortas(['casa'], 5)\n",
    "    []\n",
    "    >>> eliminar_palabras_cortas(['verano'], 5)\n",
    "    ['verano']\n",
    "    >>> eliminar_palabras_cortas(['trigo'], 5)\n",
    "    ['trigo']\n",
    "    \"\"\"\n",
    "    lista_largas = []\n",
    "    for palabra in lista:\n",
    "        if len(palabra) >= longitud:\n",
    "            lista_largas.append(palabra)\n",
    "    return lista_largas\n"
   ]
  },
  {
   "cell_type": "code",
   "execution_count": null,
   "metadata": {},
   "outputs": [],
   "source": [
    "def eliminar_palabras_cortas(lista: list[str], limite: int) -> list[str]:\n",
    "    \"\"\"Devuelve una lista en la que se eliminan las palabras \n",
    "    Args:\n",
    "        lista (list[int]): La lista inicial\n",
    "        limite (int): El número de caracteres bajo el cual se eliminan\n",
    "\n",
    "    Returns:\n",
    "        list[int]: La lista con las palabras cortas\n",
    "    >>> eliminar_palabras_cortas(['casa', 'trigo', 'verano', 'sol'], 5)\n",
    "    ['trigo', 'verano']\n",
    "    >>> eliminar_palabras_cortas(['casa'], 5)\n",
    "    []\n",
    "    >>> eliminar_palabras_cortas(['verano'], 5)\n",
    "    ['verano']\n",
    "    >>> eliminar_palabras_cortas(['trigo'], 5)\n",
    "    ['trigo']\n",
    "    \"\"\"\n",
    "    lista_largas = []\n",
    "    for palabra in lista:\n",
    "        longitud = 0\n",
    "        for letra in palabra:\n",
    "            longitud += 1\n",
    "        if longitud >= limite:\n",
    "            lista_largas.append(palabra)\n",
    "    return lista_largas\n"
   ]
  },
  {
   "cell_type": "markdown",
   "metadata": {},
   "source": [
    "\n",
    "## Ejercicio 7\n",
    "\n",
    "A partir de una lista, escribe un programa que cree una lista nueva eliminando aquellos que están repetidos."
   ]
  },
  {
   "cell_type": "code",
   "execution_count": null,
   "metadata": {},
   "outputs": [],
   "source": [
    "def eliminar_repetidos(lista: list) -> list:\n",
    "    \"\"\"\n",
    "    >>> eliminar_repetidos([1, 2, 1, 3, 1])\n",
    "    [1, 2, 3]\n",
    "    >>> eliminar_repetidos([1, 2, 1, 3, 1, 2])\n",
    "    [1, 2, 3]\n",
    "    >>> eliminar_repetidos([1, 2, 3, 4, 9])\n",
    "    [1, 2, 3, 4, 9]\n",
    "    >>> eliminar_repetidos([])\n",
    "    []\n",
    "    >>> eliminar_repetidos([1, 1, 2, 2, 1, 3, 1, 2])\n",
    "    [1, 2, 3]\n",
    "    \"\"\"\n",
    "    resultado = []\n",
    "    for valor in lista:\n",
    "        if valor not in resultado:\n",
    "            resultado.append(valor)\n",
    "    return resultado"
   ]
  },
  {
   "cell_type": "markdown",
   "metadata": {},
   "source": [
    "## Ejercicio 8\n",
    "\n",
    "Escribe una función que reciba dos listas y devuelva una tercera con los elementos comunes a ambas."
   ]
  },
  {
   "cell_type": "code",
   "execution_count": null,
   "metadata": {},
   "outputs": [],
   "source": [
    "def elementos_comunes(lista1: list, lista2: list) -> list:\n",
    "    \"\"\"\n",
    "    >>> elementos_comunes([1, 2, 3, 4], [1, 4])\n",
    "    [1, 4]\n",
    "    >>> elementos_comunes([1, 2, 3, 4], [1, 4, 5])\n",
    "    [1, 4]\n",
    "    >>> elementos_comunes([1, 2, 3, 4], [5, 6])\n",
    "    []\n",
    "    >>> elementos_comunes([1, 2, 3, 4], [])\n",
    "    []\n",
    "    >>> elementos_comunes([], [5, 6])\n",
    "    []\n",
    "    \"\"\"\n",
    "    resultado = []\n",
    "    for valor in lista1:\n",
    "        if valor in lista2:\n",
    "            resultado.append(valor)\n",
    "    return resultado"
   ]
  },
  {
   "cell_type": "markdown",
   "metadata": {},
   "source": [
    "## Ejercicio 9\n",
    "\n",
    "Utilizando una lista, escribe una función a la que se le pase el número del mes y devuelva su nombre.\n",
    "\n",
    "Crea un programa principal para probarla.\n"
   ]
  },
  {
   "cell_type": "code",
   "execution_count": null,
   "metadata": {},
   "outputs": [],
   "source": [
    "def nombre_mes(num_mes: int) -> str:\n",
    "    \"\"\"\n",
    "    Devuelve el nombre del mes correspondiente dado un número de mes.\n",
    "\n",
    "    Parámetros:\n",
    "    num_mes (int): Un número entero que representa el mes del año.\n",
    "                   El número debe estar entre 1 (Enero) y 12 (Diciembre).\n",
    "\n",
    "    Retorna:\n",
    "    str: El nombre del mes correspondiente.\n",
    "\n",
    "    Ejemplos:\n",
    "    >>> nombre_mes(1)\n",
    "    'Enero'\n",
    "    >>> nombre_mes(5)\n",
    "    'Mayo'\n",
    "    >>> nombre_mes(12)\n",
    "    'Diciembre'\n",
    "    >>> nombre_mes(0)\n",
    "    'Mes no válido'\n",
    "    >>> nombre_mes(13)\n",
    "    'Mes no válido'\n",
    "    \"\"\"\n",
    "    meses = [\n",
    "    \"Enero\", \"Febrero\", \"Marzo\", \"Abril\", \"Mayo\", \"Junio\",\n",
    "    \"Julio\", \"Agosto\", \"Septiembre\", \"Octubre\", \"Noviembre\", \"Diciembre\"\n",
    "    ]\n",
    "    if num_mes < 1 or num_mes > 12:\n",
    "        return 'Mes no válido'\n",
    "    return meses[num_mes - 1]"
   ]
  },
  {
   "cell_type": "markdown",
   "metadata": {},
   "source": [
    "\n",
    "## Ejercicio 10\n",
    "\n",
    "Busca el algoritmo para calcular la letra del DNI y crea una función que use listas para devolver la letra del mismo."
   ]
  },
  {
   "cell_type": "code",
   "execution_count": null,
   "metadata": {},
   "outputs": [],
   "source": [
    "def letra_dni(numero_dni: int) -> str:\n",
    "    \"\"\"\n",
    "    Calcula la letra correspondiente a un número de DNI español.\n",
    "\n",
    "    Parámetros:\n",
    "    numero_dni (int): El número de DNI (sin la letra) para el que se desea obtener la letra correspondiente.\n",
    "\n",
    "    Retorna:\n",
    "    str: La letra correspondiente al número de DNI.\n",
    "         Si el número es negativo o mayor a 8 dígitos, devuelve 'Número no válido'.\n",
    "\n",
    "    Ejemplos:\n",
    "    >>> letra_dni(12345678)\n",
    "    'Z'\n",
    "    >>> letra_dni(12345679)\n",
    "    'S'\n",
    "    >>> letra_dni(0)\n",
    "    'T'\n",
    "    >>> letra_dni(-12345678)\n",
    "    'Número no válido'\n",
    "    >>> letra_dni(123456789)\n",
    "    'Número no válido'\n",
    "    \"\"\"\n",
    "    if numero_dni < 0 or numero_dni > 99999999:\n",
    "        return 'Número no válido'\n",
    "    # Lista de letras asociadas a los restos de la división entre 23\n",
    "    letras = ['T', 'R', 'W', 'A', 'G', 'M', 'Y', 'F', 'P', 'D', 'X', 'B', 'N', 'J', 'Z', 'S', 'Q', 'V', 'H', 'L', 'C', 'K', 'E']\n",
    "    return letras[numero_dni % 23]"
   ]
  },
  {
   "cell_type": "markdown",
   "metadata": {},
   "source": [
    "# Listas anidadas\n",
    "\n"
   ]
  },
  {
   "cell_type": "markdown",
   "metadata": {},
   "source": [
    "## Ejercicio 11\n",
    "\n",
    "Utiliza una lista bidimensional para almacenar las temperaturas máximas de cada día de cada mes. Cada mes será una fila y las temperaturas estarán en columnas.\n",
    "\n",
    "Muestra las medias de cada mes."
   ]
  },
  {
   "cell_type": "code",
   "execution_count": null,
   "metadata": {},
   "outputs": [],
   "source": [
    "def calcular_media_lista(lista: list) -> float:\n",
    "    suma = 0\n",
    "    for valor in lista:\n",
    "        suma += valor\n",
    "    media = suma / len(lista)\n",
    "    return media\n",
    "\n",
    "temperaturas_maximas_galicia = [\n",
    "    # Enero (31 días)\n",
    "    [12, 11, 12, 13, 12, 11, 12, 13, 13, 14, 13, 14, 12, 12, 13, 12, 11, 12, 13, 14, 13, 13, 14, 15, 14, 13, 12, 13, 12, 11, 12],\n",
    "    # Febrero (28 días)\n",
    "    [11, 12, 11, 12, 11, 12, 12, 13, 14, 13, 12, 12, 11, 12, 12, 13, 13, 14, 14, 13, 13, 12, 11, 12, 13, 12, 12, 11],\n",
    "    # Marzo (31 días)\n",
    "    [14, 15, 15, 16, 14, 13, 14, 15, 16, 17, 16, 15, 14, 15, 16, 17, 16, 15, 14, 14, 15, 16, 16, 17, 16, 15, 14, 13, 14, 15, 14],\n",
    "    # Abril (30 días)\n",
    "    [15, 16, 16, 15, 16, 17, 16, 15, 14, 15, 16, 16, 15, 14, 14, 15, 16, 15, 14, 15, 16, 17, 18, 18, 17, 16, 16, 15, 14, 13],\n",
    "    # Mayo (31 días)\n",
    "    [18, 19, 19, 18, 19, 20, 21, 21, 20, 19, 18, 19, 20, 21, 22, 21, 20, 19, 18, 17, 18, 19, 20, 21, 22, 22, 21, 20, 19, 18, 19],\n",
    "    # Junio (30 días)\n",
    "    [20, 21, 22, 22, 21, 22, 23, 23, 24, 24, 23, 22, 21, 20, 21, 22, 23, 23, 24, 25, 25, 24, 23, 22, 21, 22, 23, 24, 23, 22],\n",
    "    # Julio (31 días)\n",
    "    [23, 24, 25, 25, 24, 25, 26, 27, 27, 28, 27, 26, 25, 24, 23, 24, 25, 26, 27, 28, 29, 28, 27, 26, 25, 24, 23, 24, 25, 26, 27],\n",
    "    # Agosto (31 días)\n",
    "    [24, 25, 26, 25, 24, 23, 24, 25, 26, 27, 28, 27, 26, 25, 24, 23, 22, 23, 24, 25, 26, 27, 28, 28, 27, 26, 25, 24, 23, 24, 25],\n",
    "    # Septiembre (30 días)\n",
    "    [22, 23, 24, 23, 22, 21, 22, 23, 24, 25, 26, 25, 24, 23, 22, 21, 22, 23, 24, 23, 22, 21, 20, 21, 22, 23, 24, 25, 24, 23],\n",
    "    # Octubre (31 días)\n",
    "    [17, 17, 18, 19, 18, 17, 17, 18, 19, 18, 17, 17, 16, 15, 16, 17, 18, 17, 16, 15, 16, 17, 18, 19, 19, 18, 17, 16, 15, 14, 13],\n",
    "    # Noviembre (30 días)\n",
    "    [13, 13, 14, 14, 13, 12, 13, 14, 15, 14, 13, 13, 12, 13, 14, 13, 12, 13, 14, 15, 16, 15, 14, 13, 14, 15, 16, 15, 14, 13],\n",
    "    # Diciembre (31 días)\n",
    "    [11, 12, 11, 12, 11, 10, 11, 12, 13, 13, 12, 11, 10, 11, 12, 13, 13, 14, 13, 12, 11, 10, 11, 12, 13, 13, 12, 11, 10, 11, 12]\n",
    "]\n",
    "\n",
    "# Temperaturas de marzo\n",
    "print(temperaturas_maximas_galicia[2])\n",
    "# Temperatura do 2 de marzo\n",
    "print(temperaturas_maximas_galicia[2][1])\n",
    "\n",
    "for mes in temperaturas_maximas_galicia:\n",
    "    print(calcular_media_lista(mes))"
   ]
  },
  {
   "cell_type": "code",
   "execution_count": null,
   "metadata": {},
   "outputs": [],
   "source": [
    "temperaturas_maximas_galicia = [\n",
    "    # Enero (31 días)\n",
    "    [12, 11, 12, 13, 12, 11, 12, 13, 13, 14, 13, 14, 12, 12, 13, 12, 11, 12, 13, 14, 13, 13, 14, 15, 14, 13, 12, 13, 12, 11, 12],\n",
    "    # Febrero (28 días)\n",
    "    [11, 12, 11, 12, 11, 12, 12, 13, 14, 13, 12, 12, 11, 12, 12, 13, 13, 14, 14, 13, 13, 12, 11, 12, 13, 12, 12, 11],\n",
    "    # Marzo (31 días)\n",
    "    [14, 15, 15, 16, 14, 13, 14, 15, 16, 17, 16, 15, 14, 15, 16, 17, 16, 15, 14, 14, 15, 16, 16, 17, 16, 15, 14, 13, 14, 15, 14],\n",
    "    # Abril (30 días)\n",
    "    [15, 16, 16, 15, 16, 17, 16, 15, 14, 15, 16, 16, 15, 14, 14, 15, 16, 15, 14, 15, 16, 17, 18, 18, 17, 16, 16, 15, 14, 13],\n",
    "    # Mayo (31 días)\n",
    "    [18, 19, 19, 18, 19, 20, 21, 21, 20, 19, 18, 19, 20, 21, 22, 21, 20, 19, 18, 17, 18, 19, 20, 21, 22, 22, 21, 20, 19, 18, 19],\n",
    "    # Junio (30 días)\n",
    "    [20, 21, 22, 22, 21, 22, 23, 23, 24, 24, 23, 22, 21, 20, 21, 22, 23, 23, 24, 25, 25, 24, 23, 22, 21, 22, 23, 24, 23, 22],\n",
    "    # Julio (31 días)\n",
    "    [23, 24, 25, 25, 24, 25, 26, 27, 27, 28, 27, 26, 25, 24, 23, 24, 25, 26, 27, 28, 29, 28, 27, 26, 25, 24, 23, 24, 25, 26, 27],\n",
    "    # Agosto (31 días)\n",
    "    [24, 25, 26, 25, 24, 23, 24, 25, 26, 27, 28, 27, 26, 25, 24, 23, 22, 23, 24, 25, 26, 27, 28, 28, 27, 26, 25, 24, 23, 24, 25],\n",
    "    # Septiembre (30 días)\n",
    "    [22, 23, 24, 23, 22, 21, 22, 23, 24, 25, 26, 25, 24, 23, 22, 21, 22, 23, 24, 23, 22, 21, 20, 21, 22, 23, 24, 25, 24, 23],\n",
    "    # Octubre (31 días)\n",
    "    [17, 17, 18, 19, 18, 17, 17, 18, 19, 18, 17, 17, 16, 15, 16, 17, 18, 17, 16, 15, 16, 17, 18, 19, 19, 18, 17, 16, 15, 14, 13],\n",
    "    # Noviembre (30 días)\n",
    "    [13, 13, 14, 14, 13, 12, 13, 14, 15, 14, 13, 13, 12, 13, 14, 13, 12, 13, 14, 15, 16, 15, 14, 13, 14, 15, 16, 15, 14, 13],\n",
    "    # Diciembre (31 días)\n",
    "    [11, 12, 11, 12, 11, 10, 11, 12, 13, 13, 12, 11, 10, 11, 12, 13, 13, 14, 13, 12, 11, 10, 11, 12, 13, 13, 12, 11, 10, 11, 12]\n",
    "]\n",
    "\n",
    "for mes in temperaturas_maximas_galicia:\n",
    "    suma = 0\n",
    "    for dia in mes:\n",
    "        suma += dia\n",
    "    media = suma / len(mes)\n",
    "    print(media)"
   ]
  },
  {
   "cell_type": "markdown",
   "metadata": {},
   "source": [
    "## Ejercicio 12\n",
    "\n",
    "Crea una lista bidimensional con las notas de lxs alumnxs de una clase en los diferentes módulos. Cada fila será un alumnx y cada columna, las notas de un módulo.\n",
    "\n",
    "Calcula la media de notas de un alumno.\n",
    "Repite este apartado utilizando bucles que accedan por índices a la lista.\n",
    "\n",
    "AVANZADO: Calcula la media de notas de un módulo.\n",
    "\n",
    "Crea una nueva lista con las medias de cada uno de los módulos. (Este ejercicio es más complicado, puesto que debe recorrerse primero por columnas y luego por filas, usa los bucles que acceden por índices a la lista)."
   ]
  },
  {
   "cell_type": "code",
   "execution_count": 1,
   "metadata": {},
   "outputs": [
    {
     "name": "stdout",
     "output_type": "stream",
     "text": [
      "6.333333333333333\n",
      "6.666666666666667\n",
      "5.666666666666667\n",
      "4.333333333333333\n"
     ]
    }
   ],
   "source": [
    "notas = [[8, 6, 5], [4, 7, 9], [1, 7, 9], [2, 5, 6]]\n",
    "\n",
    "for notas_alumnx in notas:\n",
    "    suma = 0\n",
    "    for nota in notas_alumnx:\n",
    "        suma += nota\n",
    "    media = suma / len(notas_alumnx)\n",
    "    print(media)\n"
   ]
  },
  {
   "cell_type": "code",
   "execution_count": 3,
   "metadata": {},
   "outputs": [
    {
     "name": "stdout",
     "output_type": "stream",
     "text": [
      "6.333333333333333\n",
      "6.666666666666667\n",
      "5.666666666666667\n",
      "4.333333333333333\n"
     ]
    }
   ],
   "source": [
    "def media(lista: list[float]) -> float:\n",
    "    suma = 0\n",
    "    for nota in lista:\n",
    "        suma += nota\n",
    "    return suma / len(lista)\n",
    "\n",
    "notas = [[8, 6, 5], [4, 7, 9], [1, 7, 9], [2, 5, 6]]\n",
    "\n",
    "for notas_alumnx in notas:\n",
    "    print(media(notas_alumnx))"
   ]
  },
  {
   "cell_type": "code",
   "execution_count": 4,
   "metadata": {},
   "outputs": [
    {
     "name": "stdout",
     "output_type": "stream",
     "text": [
      "6.333333333333333\n",
      "6.666666666666667\n",
      "6.75\n",
      "3.5\n"
     ]
    }
   ],
   "source": [
    "notas = [[8, 6, 5], [4, 7, 9], [1, 7, 9, 10], [2, 5]]\n",
    "\n",
    "for fila in range(len(notas)):\n",
    "    suma = 0\n",
    "    for columna in range(len(notas[fila])):\n",
    "        suma += notas[fila][columna]\n",
    "    media = suma / len(notas[fila])\n",
    "    print(media)"
   ]
  },
  {
   "cell_type": "code",
   "execution_count": 7,
   "metadata": {},
   "outputs": [
    {
     "name": "stdout",
     "output_type": "stream",
     "text": [
      "3.75\n",
      "6.25\n",
      "6.75\n"
     ]
    }
   ],
   "source": [
    "notas = [[8, 6, 5], \n",
    "         [4, 7, 9], \n",
    "         [1, 7, 7], \n",
    "         [2, 5, 6]]\n",
    "\n",
    "num_alumnos = len(notas)\n",
    "num_modulos = len(notas[0])\n",
    "\n",
    "for columna in range(num_modulos):  # Suponemos todas iguales\n",
    "    suma = 0\n",
    "    for fila in range(num_alumnos):  \n",
    "        suma += notas[fila][columna]\n",
    "    media = suma / num_alumnos\n",
    "    print(media)"
   ]
  },
  {
   "cell_type": "code",
   "execution_count": 8,
   "metadata": {},
   "outputs": [
    {
     "name": "stdout",
     "output_type": "stream",
     "text": [
      "[6.333333333333333, 6.666666666666667, 5.666666666666667, 4.333333333333333]\n"
     ]
    }
   ],
   "source": [
    "notas = [[8, 6, 5], [4, 7, 9], [1, 7, 9], [2, 5, 6]]\n",
    "\n",
    "medias = []\n",
    "\n",
    "for notas_alumnx in notas:\n",
    "    suma = 0\n",
    "    for nota in notas_alumnx:\n",
    "        suma += nota\n",
    "    media = suma / len(notas_alumnx)\n",
    "    medias.append(media)\n",
    "\n",
    "print(medias)"
   ]
  },
  {
   "cell_type": "markdown",
   "metadata": {},
   "source": [
    "## Ejercicio 13\n",
    "\n",
    "Crea una lista bidimensional de 6 filas y 7 columnas con valores aleatorios entre 0 y 9.\n",
    "\n",
    "Muéstrala por pantalla.\n",
    "\n",
    "Recórrela y almacena en una variable cuántos números pares hay en ella y almacena en otra cuántos impares.\n",
    "\n",
    "Muestra los resultados por pantalla.\n",
    "\n",
    "Vuelve a recorrerla para crear una lista unidimensional nueva con los números pares que aparecen en ella y otra con los impares."
   ]
  },
  {
   "cell_type": "code",
   "execution_count": 9,
   "metadata": {},
   "outputs": [
    {
     "name": "stdout",
     "output_type": "stream",
     "text": [
      "[[9, 3, 2, 2, 9, 1, 0], [6, 3, 3, 8, 4, 6, 6], [9, 2, 7, 9, 7, 5, 1], [4, 7, 2, 1, 1, 5, 8], [7, 3, 0, 3, 6, 1, 2], [2, 8, 8, 2, 7, 5, 0]]\n"
     ]
    }
   ],
   "source": [
    "import random\n",
    "\n",
    "matriz = []\n",
    "\n",
    "for num_fila in range(6):\n",
    "    lista_fila = []\n",
    "    for num_columna in range(7):\n",
    "        valor = random.randint(0, 9)\n",
    "        lista_fila.append(valor)\n",
    "    matriz.append(lista_fila)  \n",
    "\n",
    "print(matriz)  "
   ]
  },
  {
   "cell_type": "code",
   "execution_count": 12,
   "metadata": {},
   "outputs": [
    {
     "name": "stdout",
     "output_type": "stream",
     "text": [
      "[[8, 9, 1, 3], [6, 5, 3, 3], [0, 3, 6, 3], [6, 3, 9, 0], [3, 1, 7, 0], [0, 2, 4, 5], [6, 5, 1, 5], [0, 5, 9, 1], [3, 7, 0, 3]]\n"
     ]
    }
   ],
   "source": [
    "import random\n",
    "\n",
    "def crea_matriz_aleatoria(num_filas: int, num_columnas: int) -> list[list[int]]:\n",
    "    matriz = []\n",
    "    for num_fila in range(num_filas):\n",
    "        lista_fila = []\n",
    "        for num_columna in range(num_columnas):\n",
    "            valor = random.randint(0, 9)\n",
    "            lista_fila.append(valor)\n",
    "        matriz.append(lista_fila)\n",
    "    return matriz\n",
    "\n",
    "print(crea_matriz_aleatoria(9, 4))"
   ]
  },
  {
   "cell_type": "code",
   "execution_count": 15,
   "metadata": {},
   "outputs": [
    {
     "name": "stdout",
     "output_type": "stream",
     "text": [
      "[[1, 6, 3, 3], [5, 1, 3, 1], [0, 7, 2, 3], [5, 1, 5, 6], [6, 8, 1, 2], [5, 7, 0, 8], [5, 7, 8, 1], [4, 4, 8, 9], [7, 5, 3, 8]]\n"
     ]
    }
   ],
   "source": [
    "import random\n",
    "\n",
    "def crea_matriz_aleatoria(num_filas: int, num_columnas: int) -> list[list[int]]:\n",
    "    matriz = []\n",
    "    for num_fila in range(num_filas):\n",
    "        lista_fila = [random.randint(0,9) for i in range(num_columnas)]\n",
    "        matriz.append(lista_fila)\n",
    "    return matriz\n",
    "\n",
    "print(crea_matriz_aleatoria(9, 4))"
   ]
  },
  {
   "cell_type": "code",
   "execution_count": null,
   "metadata": {},
   "outputs": [
    {
     "name": "stdout",
     "output_type": "stream",
     "text": [
      "[[7, 3, 7, 5], [1, 5, 4, 2], [1, 3, 7, 1], [6, 3, 7, 9], [9, 7, 8, 3], [6, 7, 5, 0], [4, 5, 4, 7], [0, 0, 5, 0], [7, 5, 9, 6]]\n"
     ]
    }
   ],
   "source": [
    "import random\n",
    "\n",
    "def crea_matriz_aleatoria(num_filas: int, num_columnas: int) -> list[list[int]]:\n",
    "    return [[random.randint(0,9) for c in range(num_columnas)] for f in range(num_filas)]\n",
    "\n",
    "print(crea_matriz_aleatoria(9, 4))"
   ]
  },
  {
   "cell_type": "code",
   "execution_count": 18,
   "metadata": {},
   "outputs": [
    {
     "name": "stdout",
     "output_type": "stream",
     "text": [
      "[[3, 3], [5, 9], [3, 6]]\n",
      "(1, 5)\n",
      "([6], [3, 3, 5, 9, 3])\n"
     ]
    }
   ],
   "source": [
    "import random\n",
    "from typing import Tuple\n",
    "\n",
    "def crea_matriz_aleatoria(num_filas: int, num_columnas: int) -> list[list[int]]:\n",
    "    return [[random.randint(0,9) for c in range(num_columnas)] for f in range(num_filas)]\n",
    "\n",
    "\n",
    "def contar_pares_impares(matriz: list[list[int]]) -> Tuple[int, int]:\n",
    "    pares = 0\n",
    "    impares = 0\n",
    "\n",
    "    for fila in matriz:\n",
    "        for valor in fila:\n",
    "            if valor % 2 == 0:\n",
    "                pares += 1\n",
    "            else:\n",
    "                impares += 1\n",
    "    \n",
    "    return pares, impares\n",
    "\n",
    "\n",
    "def lista_pares_impares(matriz: list[list[int]]) -> Tuple[list[int], list[int]]:\n",
    "    pares = []\n",
    "    impares = []\n",
    "    for fila in matriz:\n",
    "        for valor in fila:\n",
    "            if valor % 2 == 0:\n",
    "                pares.append(valor)\n",
    "            else:\n",
    "                impares.append(valor)\n",
    "    \n",
    "    return pares, impares\n",
    "\n",
    "matriz = crea_matriz_aleatoria(3, 2)\n",
    "print(matriz)\n",
    "print(contar_pares_impares(matriz))\n",
    "print(lista_pares_impares(matriz))\n"
   ]
  },
  {
   "cell_type": "markdown",
   "metadata": {},
   "source": [
    "## Ejercicio 14\n",
    "\n",
    "Crea una lista bidimensional que contenga los agrupamientos del alumnado de una clase para un determinado proyecto. La lista contendrá otras listas con los componentes de cada grupo.\n",
    "\n",
    "Muestra la lista por pantalla, con los componentes de cada grupo en una misma línea. Haz que no aparezcan los []. Por ejemplo:\n",
    "\n",
    "```python\n",
    "Luis, Juan\n",
    "María, Elba, Mario\n",
    "Carola\n",
    "Pablo, Manuel, Raquel, Uxía\n",
    "```"
   ]
  },
  {
   "cell_type": "code",
   "execution_count": 1,
   "metadata": {},
   "outputs": [
    {
     "name": "stdout",
     "output_type": "stream",
     "text": [
      "Luis\tJuan\t\n",
      "María\tElba\tMario\t\n",
      "Carola\t\n",
      "Pablo\tManuel\tRaquel\tUxía\t\n"
     ]
    }
   ],
   "source": [
    "alumnado = [[\"Luis\", \"Juan\"],\n",
    "            [\"María\", \"Elba\", \"Mario\"],\n",
    "            [\"Carola\"],\n",
    "            [\"Pablo\", \"Manuel\", \"Raquel\", \"Uxía\"]]\n",
    "\n",
    "for grupo in alumnado:\n",
    "    for persoa in grupo:\n",
    "        print(persoa, end=\"\\t\")\n",
    "    print()"
   ]
  },
  {
   "cell_type": "code",
   "execution_count": 2,
   "metadata": {},
   "outputs": [
    {
     "name": "stdout",
     "output_type": "stream",
     "text": [
      "Luis, Juan, \n",
      "María, Elba, Mario, \n",
      "Carola, \n",
      "Pablo, Manuel, Raquel, Uxía, \n"
     ]
    }
   ],
   "source": [
    "alumnado = [[\"Luis\", \"Juan\"],\n",
    "            [\"María\", \"Elba\", \"Mario\"],\n",
    "            [\"Carola\"],\n",
    "            [\"Pablo\", \"Manuel\", \"Raquel\", \"Uxía\"]]\n",
    "\n",
    "for grupo in alumnado:\n",
    "    for persoa in grupo:\n",
    "        print(persoa, end=\", \")\n",
    "    print()"
   ]
  },
  {
   "cell_type": "code",
   "execution_count": 6,
   "metadata": {},
   "outputs": [
    {
     "name": "stdout",
     "output_type": "stream",
     "text": [
      "Luis, Juan\n",
      "María, Elba, Mario\n",
      "Carola\n",
      "Pablo, Manuel, Raquel, Uxía\n"
     ]
    }
   ],
   "source": [
    "alumnado = [[\"Luis\", \"Juan\"],\n",
    "            [\"María\", \"Elba\", \"Mario\"],\n",
    "            [\"Carola\"],\n",
    "            [\"Pablo\", \"Manuel\", \"Raquel\", \"Uxía\"]]\n",
    "\n",
    "for i in range(len(alumnado)):\n",
    "    for j in range(len(alumnado[i])):\n",
    "        print(alumnado[i][j], end=\"\")\n",
    "        if j != len(alumnado[i]) - 1: # Último elemento\n",
    "            print(\", \", end=\"\")\n",
    "    print()"
   ]
  },
  {
   "cell_type": "code",
   "execution_count": null,
   "metadata": {},
   "outputs": [
    {
     "name": "stdout",
     "output_type": "stream",
     "text": [
      ", Luis, Juan\n",
      ", María, Elba, Mario\n",
      ", Carola\n",
      ", Pablo, Manuel, Raquel, Uxía\n"
     ]
    }
   ],
   "source": [
    "alumnado = [[\"Luis\", \"Juan\"],\n",
    "            [\"María\", \"Elba\", \"Mario\"],\n",
    "            [\"Carola\"],\n",
    "            [\"Pablo\", \"Manuel\", \"Raquel\", \"Uxía\"]]\n",
    "\n",
    "for grupo in alumnado:\n",
    "    primero = True\n",
    "    for persoa in grupo:\n",
    "        if not primero:\n",
    "            print(\", \", end=\"\")\n",
    "        print(persoa, end=\"\")\n",
    "        primero = False\n",
    "    print()"
   ]
  },
  {
   "cell_type": "code",
   "execution_count": 8,
   "metadata": {},
   "outputs": [
    {
     "name": "stdout",
     "output_type": "stream",
     "text": [
      "Luis, Juan\n",
      "María, Elba, Mario\n",
      "Carola\n",
      "Pablo, Manuel, Raquel, Uxía\n"
     ]
    }
   ],
   "source": [
    "alumnado = [[\"Luis\", \"Juan\"],\n",
    "            [\"María\", \"Elba\", \"Mario\"],\n",
    "            [\"Carola\"],\n",
    "            [\"Pablo\", \"Manuel\", \"Raquel\", \"Uxía\"]]\n",
    "\n",
    "for grupo in alumnado:\n",
    "    print(\", \".join(grupo))"
   ]
  },
  {
   "cell_type": "markdown",
   "metadata": {},
   "source": [
    "## Ejercicio 15\n",
    "\n",
    "Crea una lista bidimensional 3x3 que sirva para jugar al tres en raya, almacenará 3 posibles cadenas, una cadena vacía para indicar que no se ha puesto una ficha en esa posición, una 'o' para indicar que ha jugado el jugador 1 y una 'x' para el jugador 2.\n",
    "\n",
    "Crea una función que la recorra y que busque si se ha producido 3 en raya para el jugador 1 en alguna de las filas.\n",
    "\n",
    "Crea una función que la recorra y que busque si se ha producido 3 en raya para el jugador 1 en alguna de las columnas.\n",
    "\n",
    "**AVANZADO**: Crea una función que la recorra y que busque si se ha producido 3 en raya para el jugador 1 en alguna de las diagonales.\n",
    "\n",
    "**AVANZADO**: Crea una función que la recorra y que busque si se ha producido 3 en raya para algún jugador.\n",
    "\n",
    "**AVANZADO**: Completa el ejercicio para que dos jugadores puedan jugar al 3 en raya.\n"
   ]
  },
  {
   "cell_type": "markdown",
   "metadata": {},
   "source": [
    "# Comprensión de listas (AVANZADO)\n"
   ]
  },
  {
   "cell_type": "markdown",
   "metadata": {},
   "source": [
    "## Ejercicio 16\n",
    "\n",
    "Crea una lista con las 10 primeras potencias de 3."
   ]
  },
  {
   "cell_type": "code",
   "execution_count": 10,
   "metadata": {},
   "outputs": [
    {
     "name": "stdout",
     "output_type": "stream",
     "text": [
      "[3, 9, 27, 81, 243, 729, 2187, 6561, 19683, 59049]\n"
     ]
    }
   ],
   "source": [
    "lista = [3**i for i in range(1,11)]\n",
    "print(lista)"
   ]
  },
  {
   "cell_type": "markdown",
   "metadata": {},
   "source": [
    "## Ejercicio 17\n",
    "\n",
    "Crea una lista con los 100 primeros múltiplos de 7."
   ]
  },
  {
   "cell_type": "code",
   "execution_count": 12,
   "metadata": {},
   "outputs": [
    {
     "name": "stdout",
     "output_type": "stream",
     "text": [
      "[7, 14, 21, 28, 35, 42, 49, 56, 63, 70, 77, 84, 91, 98, 105, 112, 119, 126, 133, 140, 147, 154, 161, 168, 175, 182, 189, 196, 203, 210, 217, 224, 231, 238, 245, 252, 259, 266, 273, 280, 287, 294, 301, 308, 315, 322, 329, 336, 343, 350, 357, 364, 371, 378, 385, 392, 399, 406, 413, 420, 427, 434, 441, 448, 455, 462, 469, 476, 483, 490, 497, 504, 511, 518, 525, 532, 539, 546, 553, 560, 567, 574, 581, 588, 595, 602, 609, 616, 623, 630, 637, 644, 651, 658, 665, 672, 679, 686, 693, 700]\n"
     ]
    }
   ],
   "source": [
    "lista = [7*i for i in range(1, 101)]\n",
    "print(lista)"
   ]
  },
  {
   "cell_type": "markdown",
   "metadata": {},
   "source": [
    "## Ejercicio 18\n",
    "\n",
    "Utilizando comprensión de listas, vuelve a resolver el ejercicio 3."
   ]
  },
  {
   "cell_type": "code",
   "execution_count": 13,
   "metadata": {},
   "outputs": [
    {
     "name": "stdout",
     "output_type": "stream",
     "text": [
      "[1, 5, 7, 9]\n"
     ]
    }
   ],
   "source": [
    "numeros = [1, 2, 4, 5, 7, 9, 6, 10]\n",
    "impares = [i for i in numeros if i % 2 != 0]\n",
    "print(impares)"
   ]
  },
  {
   "cell_type": "markdown",
   "metadata": {},
   "source": [
    "## Ejercicio 19\n",
    "\n",
    "Utilizando comprensión de listas, vuelve a resolver el ejercicio 4."
   ]
  },
  {
   "cell_type": "code",
   "execution_count": 14,
   "metadata": {},
   "outputs": [
    {
     "name": "stdout",
     "output_type": "stream",
     "text": [
      "[2, 4, 8, 10, 14, 18, 12, 20]\n"
     ]
    }
   ],
   "source": [
    "numeros = [1, 2, 4, 5, 7, 9, 6, 10]\n",
    "dobres = [2*valor for valor in numeros]\n",
    "print(dobres)"
   ]
  },
  {
   "cell_type": "code",
   "execution_count": 16,
   "metadata": {},
   "outputs": [
    {
     "name": "stdout",
     "output_type": "stream",
     "text": [
      "[2, 4, 8, 10, 14, 18, 12, 20]\n"
     ]
    }
   ],
   "source": [
    "numeros = [1, 2, 4, 5, 7, 9, 6, 10]\n",
    "dobres = [2*numeros[i] for i in range(len(numeros))]\n",
    "print(dobres)"
   ]
  },
  {
   "cell_type": "markdown",
   "metadata": {},
   "source": [
    "## Ejercicio 20\n",
    "\n",
    "Utilizando comprensión de listas, vuelve a resolver el ejercicio 6."
   ]
  },
  {
   "cell_type": "code",
   "execution_count": 18,
   "metadata": {},
   "outputs": [
    {
     "name": "stdout",
     "output_type": "stream",
     "text": [
      "['verano']\n"
     ]
    }
   ],
   "source": [
    "palabras = ['casa', 'trigo', 'verano', 'sol']\n",
    "palabras_longas = [palabra for palabra in palabras if len(palabra) > 5]\n",
    "print(palabras_longas)"
   ]
  },
  {
   "cell_type": "markdown",
   "metadata": {},
   "source": [
    "## Ejercicio 21\n",
    "\n",
    "Crea una lista con los números que sean múltiplos de 3 o de 5 hasta el 100."
   ]
  },
  {
   "cell_type": "code",
   "execution_count": 19,
   "metadata": {},
   "outputs": [
    {
     "name": "stdout",
     "output_type": "stream",
     "text": [
      "[3, 5, 6, 9, 10, 12, 15, 18, 20, 21, 24, 25, 27, 30, 33, 35, 36, 39, 40, 42, 45, 48, 50, 51, 54, 55, 57, 60, 63, 65, 66, 69, 70, 72, 75, 78, 80, 81, 84, 85, 87, 90, 93, 95, 96, 99, 100]\n"
     ]
    }
   ],
   "source": [
    "lista = [x for x in range(1, 101) if x%3 == 0 or x%5 == 0]\n",
    "print(lista)"
   ]
  },
  {
   "cell_type": "markdown",
   "metadata": {},
   "source": [
    "## Ejercicio 22\n",
    "\n",
    "Crea una lista con los divisores de un número que se pasa por teclado."
   ]
  },
  {
   "cell_type": "code",
   "execution_count": 21,
   "metadata": {},
   "outputs": [
    {
     "name": "stdout",
     "output_type": "stream",
     "text": [
      "[1, 2, 5, 10]\n"
     ]
    }
   ],
   "source": [
    "numero = int(input(\"Dime un número: \"))\n",
    "divisores = [x for x in range(1, numero+1) if numero%x == 0]\n",
    "print(divisores)"
   ]
  },
  {
   "cell_type": "markdown",
   "metadata": {},
   "source": [
    "## Ejercicio 23\n",
    "\n",
    "Crea una lista con los años que son bisiestos a partir de una lista de años.\n",
    "\n",
    "Por ejemplo, a partir de [1995, 2004, 2003, 1900, 2008] debe devolver [2004, 2008].\n",
    "\n",
    "Debes utilizar la función `es_bisiesto(anho)` creada en el tema anterior y comprensión de listas."
   ]
  },
  {
   "cell_type": "code",
   "execution_count": null,
   "metadata": {},
   "outputs": [
    {
     "name": "stdout",
     "output_type": "stream",
     "text": [
      "[1900, 1901, 1902, 1903, 1904, 1905, 1906, 1907, 1908, 1909, 1910, 1911, 1912, 1913, 1914, 1915, 1916, 1917, 1918, 1919, 1920, 1921, 1922, 1923, 1924, 1925, 1926, 1927, 1928, 1929, 1930, 1931, 1932, 1933, 1934, 1935, 1936, 1937, 1938, 1939, 1940, 1941, 1942, 1943, 1944, 1945, 1946, 1947, 1948, 1949, 1950, 1951, 1952, 1953, 1954, 1955, 1956, 1957, 1958, 1959, 1960, 1961, 1962, 1963, 1964, 1965, 1966, 1967, 1968, 1969, 1970, 1971, 1972, 1973, 1974, 1975, 1976, 1977, 1978, 1979, 1980, 1981, 1982, 1983, 1984, 1985, 1986, 1987, 1988, 1989, 1990, 1991, 1992, 1993, 1994, 1995, 1996, 1997, 1998, 1999, 2000]\n"
     ]
    }
   ],
   "source": [
    "def es_bisiesto(año: int) -> bool:\n",
    "    return not (año % 4 != 0 or (año % 100 == 0 and año % 400 != 0))\n",
    "\n",
    "años = [x for x in range(1900, 2001)]\n",
    "print(años)\n",
    "\n",
    "bisiestos = [año for año in años if es_bisiesto(año)]"
   ]
  }
 ],
 "metadata": {
  "kernelspec": {
   "display_name": "Python 3",
   "language": "python",
   "name": "python3"
  },
  "language_info": {
   "codemirror_mode": {
    "name": "ipython",
    "version": 3
   },
   "file_extension": ".py",
   "mimetype": "text/x-python",
   "name": "python",
   "nbconvert_exporter": "python",
   "pygments_lexer": "ipython3",
   "version": "3.12.6"
  }
 },
 "nbformat": 4,
 "nbformat_minor": 2
}
