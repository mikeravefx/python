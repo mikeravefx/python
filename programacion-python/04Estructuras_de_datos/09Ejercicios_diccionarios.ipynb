{
 "cells": [
  {
   "cell_type": "markdown",
   "metadata": {},
   "source": [
    "# Ejercicios"
   ]
  },
  {
   "cell_type": "markdown",
   "metadata": {},
   "source": [
    "## Ejercicio 1\n",
    "\n",
    "Escribir un programa que pregunte al usuario su nombre, edad, dirección y teléfono y lo guarde en un diccionario. Después debe mostrar por pantalla el mensaje \n",
    "\n",
    "`<nombre> tiene <edad> años, vive en <dirección> y su número de teléfono es <teléfono>.`"
   ]
  },
  {
   "cell_type": "code",
   "execution_count": 1,
   "metadata": {},
   "outputs": [
    {
     "name": "stdout",
     "output_type": "stream",
     "text": [
      "miguel tiene 48 años, vive en Camiño de chouzo 55 bajo 0 puerta marron y su número de teléfono es 623735275.\n"
     ]
    }
   ],
   "source": [
    "# Solicitar al usuario su nombre, edad, dirección y teléfono\n",
    "nombre = input(\"Introduce tu nombre: \")\n",
    "edad = input(\"Introduce tu edad: \")\n",
    "direccion = input(\"Introduce tu dirección: \")\n",
    "telefono = input(\"Introduce tu número de teléfono: \")\n",
    "\n",
    "# Guardar los datos en un diccionario\n",
    "datos_usuario = {\n",
    "    \"nombre\": nombre,\n",
    "    \"edad\": edad,\n",
    "    \"dirección\": direccion,\n",
    "    \"teléfono\": telefono\n",
    "}\n",
    "\n",
    "# Mostrar el mensaje con la información del usuario\n",
    "print(f\"{datos_usuario['nombre']} tiene {datos_usuario['edad']} años, vive en {datos_usuario['dirección']} y su número de teléfono es {datos_usuario['teléfono']}.\")\n"
   ]
  },
  {
   "cell_type": "markdown",
   "metadata": {},
   "source": [
    "## Ejercicio 2\n",
    "\n",
    "Escribe un programa que lea una cadena y devuelva un diccionario con la cantidad de apariciones de cada vocal en la cadena."
   ]
  },
  {
   "cell_type": "code",
   "execution_count": 2,
   "metadata": {},
   "outputs": [
    {
     "name": "stdout",
     "output_type": "stream",
     "text": [
      "Apariciones de vocales: {'a': 1, 'e': 1, 'i': 1, 'o': 1, 'u': 1}\n"
     ]
    }
   ],
   "source": [
    "def contar_vocales(cadena):\n",
    "    # Inicializar un diccionario para las vocales\n",
    "    vocales = {\"a\": 0, \"e\": 0, \"i\": 0, \"o\": 0, \"u\": 0}\n",
    "    \n",
    "    # Recorrer cada carácter de la cadena\n",
    "    for char in cadena.lower():\n",
    "        if char in vocales:\n",
    "            vocales[char] += 1\n",
    "    \n",
    "    return vocales\n",
    "\n",
    "# Programa principal para probar la función\n",
    "def main():\n",
    "    # Solicitar al usuario que introduzca una cadena\n",
    "    cadena = input(\"Introduce una cadena: \")\n",
    "    \n",
    "    # Contar y mostrar las apariciones de cada vocal\n",
    "    resultado = contar_vocales(cadena)\n",
    "    print(f\"Apariciones de vocales: {resultado}\")\n",
    "\n",
    "# Llamar al programa principal\n",
    "if __name__ == \"__main__\":\n",
    "    main()\n"
   ]
  },
  {
   "cell_type": "markdown",
   "metadata": {},
   "source": [
    "## Ejercicio 3\n",
    "\n",
    "Escribe un programa que cuente la frecuencia de las palabras en una cadena de texto dada. El programa debe devolver un diccionario donde las claves sean las palabras y los valores sean la frecuencia de cada palabra.\n",
    "\n",
    "Puedes realizar este ejercicio de Codewars que es muy similar: https://www.codewars.com/kata/578de3801499359921000130\n"
   ]
  },
  {
   "cell_type": "code",
   "execution_count": 4,
   "metadata": {},
   "outputs": [
    {
     "name": "stdout",
     "output_type": "stream",
     "text": [
      "Frecuencia de palabras: {'miguel': 1}\n"
     ]
    }
   ],
   "source": [
    "def contar_frecuencia_palabras(texto):\n",
    "    # Convertir el texto a minúsculas y dividirlo en palabras\n",
    "    palabras = texto.lower().split()\n",
    "    \n",
    "    # Inicializar un diccionario para contar las palabras\n",
    "    frecuencia = {}\n",
    "    \n",
    "    # Contar la frecuencia de cada palabra\n",
    "    for palabra in palabras:\n",
    "        if palabra in frecuencia:\n",
    "            frecuencia[palabra] += 1\n",
    "        else:\n",
    "            frecuencia[palabra] = 1\n",
    "    \n",
    "    return frecuencia\n",
    "\n",
    "# Programa principal para probar la función\n",
    "def main():\n",
    "    # Solicitar al usuario que introduzca un texto\n",
    "    texto = input(\"Introduce un texto: \")\n",
    "    \n",
    "    # Contar y mostrar la frecuencia de las palabras\n",
    "    resultado = contar_frecuencia_palabras(texto)\n",
    "    print(\"Frecuencia de palabras:\", resultado)\n",
    "\n",
    "# Llamar al programa principal\n",
    "if __name__ == \"__main__\":\n",
    "    main()\n"
   ]
  },
  {
   "cell_type": "markdown",
   "metadata": {},
   "source": [
    "## Ejericio 4\n",
    "\n",
    "Escribe un programa que a partir de dos tuplas, una con nombres y otra con edades las convierta en un diccionario donde las claves sean los nombres y los valores sean las edades."
   ]
  },
  {
   "cell_type": "code",
   "execution_count": 6,
   "metadata": {},
   "outputs": [
    {
     "name": "stdout",
     "output_type": "stream",
     "text": [
      "Diccionario de nombres y edades: {'Xiana': 25, 'Fernández': 32, 'Rodríguez': 28}\n"
     ]
    }
   ],
   "source": [
    "def tuplas_a_diccionario(nombres, edades):\n",
    "    # Convertir las tuplas en un diccionario\n",
    "    diccionario = dict(zip(nombres, edades))\n",
    "    return diccionario\n",
    "\n",
    "# Programa principal para probar la función\n",
    "def main():\n",
    "    # Definir las tuplas de nombres y edades\n",
    "    nombres = (\"Xiana\", \"Fernández\", \"Rodríguez\")\n",
    "    edades = (25, 32, 28)\n",
    "    \n",
    "    # Convertir a diccionario y mostrar el resultado\n",
    "    diccionario = tuplas_a_diccionario(nombres, edades)\n",
    "    print(\"Diccionario de nombres y edades:\", diccionario)\n",
    "\n",
    "# Llamar al programa principal\n",
    "if __name__ == \"__main__\":\n",
    "    main()\n"
   ]
  },
  {
   "cell_type": "markdown",
   "metadata": {},
   "source": [
    "## Ejercicio 5\n",
    "\n",
    "Escribe un programa que utilice un diccionario como lista de la compra. La clave será el nombre del producto y el valor será la cantidad. El programa irá pidiendo los productos y la cantidad que se ha comprado, y los irá añadiendo al diccionario. \n",
    "\n",
    "El programa mostrará la lista de la compra.\n",
    "\n",
    "```python\n",
    "Producto    Cantidad\n",
    "Manzanas    2\n",
    "Peras       3\n",
    "Naranjas    1\n",
    "```\n",
    "\n",
    "Añade un nuevo diccionario que relacione el producto con su precio unitario. \n",
    "\n",
    "Tu programa debe usar ambos diccionarios para mostrar el ticket de compra con el precio total de la compra de cada producto y el precio total de la compra.\n",
    "\n",
    "```python\n",
    "Producto    Cantidad    Precio unitario    Precio total\n",
    "Manzanas    2           0.35 €             0.7 €\n",
    "Peras       3           0.40 €             1.2 €\n",
    "Naranjas    1           0.50 €             0.5 €\n",
    "\n",
    "TOTAL                                      2.4 € \n",
    "```"
   ]
  },
  {
   "cell_type": "code",
   "execution_count": 9,
   "metadata": {},
   "outputs": [
    {
     "name": "stdout",
     "output_type": "stream",
     "text": [
      "Producto    Cantidad  Precio unitario   Precio total\n",
      "TOTAL                                   0.00 €\n"
     ]
    }
   ],
   "source": [
    "def mostrar_ticket(lista_compra, precios_unitarios):\n",
    "    print(f\"{'Producto':<12}{'Cantidad':<10}{'Precio unitario':<18}{'Precio total':<12}\")\n",
    "    total = 0\n",
    "    for producto, cantidad in lista_compra.items():\n",
    "        precio_unitario = precios_unitarios.get(producto, 0)\n",
    "        precio_total = cantidad * precio_unitario\n",
    "        total += precio_total\n",
    "        print(f\"{producto:<12}{cantidad:<10}{precio_unitario:<18}{precio_total:<12.2f}\")\n",
    "    print(f\"{'TOTAL':<40}{total:.2f} €\")\n",
    "\n",
    "def main():\n",
    "    lista_compra = {}\n",
    "    precios_unitarios = {\n",
    "        \"Manzanas\": 0.35,\n",
    "        \"Peras\": 0.40,\n",
    "        \"Naranjas\": 0.50\n",
    "    }\n",
    "\n",
    "    while True:\n",
    "        producto = input(\"Introduce el nombre del producto (o 'salir' para terminar): \")\n",
    "        if producto.lower() == 'salir':\n",
    "            break\n",
    "        cantidad = int(input(f\"Introduce la cantidad de {producto}: \"))\n",
    "        lista_compra[producto] = cantidad\n",
    "\n",
    "    mostrar_ticket(lista_compra, precios_unitarios)\n",
    "\n",
    "# Llamar al programa principal\n",
    "if __name__ == \"__main__\":\n",
    "    main()\n"
   ]
  }
 ],
 "metadata": {
  "kernelspec": {
   "display_name": "Python 3",
   "language": "python",
   "name": "python3"
  },
  "language_info": {
   "codemirror_mode": {
    "name": "ipython",
    "version": 3
   },
   "file_extension": ".py",
   "mimetype": "text/x-python",
   "name": "python",
   "nbconvert_exporter": "python",
   "pygments_lexer": "ipython3",
   "version": "3.12.6"
  }
 },
 "nbformat": 4,
 "nbformat_minor": 2
}
