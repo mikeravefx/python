{
 "cells": [
  {
   "cell_type": "markdown",
   "metadata": {},
   "source": [
    "# Ejercicios"
   ]
  },
  {
   "cell_type": "markdown",
   "metadata": {},
   "source": [
    "## Ejercicio 1\n",
    "\n",
    "A partir de dos cadenas, devuelve un conjunto con las letras que estén en ambas."
   ]
  },
  {
   "cell_type": "code",
   "execution_count": null,
   "metadata": {},
   "outputs": [],
   "source": [
    "def letras_comunes(cadena1, cadena2):\n",
    "    # Convertir ambas cadenas en conjuntos de letras\n",
    "    conjunto1 = set(cadena1)\n",
    "    conjunto2 = set(cadena2)\n",
    "    \n",
    "    # Encontrar las letras comunes entre ambos conjuntos\n",
    "    letras_comunes = conjunto1.intersection(conjunto2)\n",
    "    \n",
    "    return letras_comunes\n",
    "\n",
    "# Programa principal para probar la función\n",
    "def main():\n",
    "    # Solicitar al usuario que introduzca dos cadenas\n",
    "    cadena1 = input(\"Introduce la primera cadena: \")\n",
    "    cadena2 = input(\"Introduce la segunda cadena: \")\n",
    "    \n",
    "    # Obtener y mostrar las letras comunes\n",
    "    resultado = letras_comunes(cadena1, cadena2)\n",
    "    print(f\"Letras comunes en ambas cadenas: {resultado}\")\n",
    "\n",
    "# Llamar al programa principal\n",
    "if __name__ == \"__main__\":\n",
    "    main()\n"
   ]
  },
  {
   "cell_type": "markdown",
   "metadata": {},
   "source": [
    "## Ejercicio 2\n",
    "\n",
    "Con la intención de organizar mejor la FCT, crea varios conjuntos, uno por cada lenguaje de programación que conozcas, y añade a cada uno los alumnos que sepan ese lenguaje.\n",
    "\n",
    "Acaba de llegar una oferta de empleo que requiere que los candidatos sepan Java, C# y Python. ¿Qué alumnxs podrían optar a ella?"
   ]
  },
  {
   "cell_type": "code",
   "execution_count": 1,
   "metadata": {},
   "outputs": [
    {
     "name": "stdout",
     "output_type": "stream",
     "text": [
      "Alumnos que pueden optar a la oferta de empleo: {'Carlos'}\n"
     ]
    }
   ],
   "source": [
    "# Crear conjuntos para cada lenguaje de programación\n",
    "java = {\"Ana\", \"Luis\", \"Maria\", \"Carlos\"}\n",
    "csharp = {\"Luis\", \"Carlos\", \"Elena\", \"Sofia\"}\n",
    "python = {\"Maria\", \"Carlos\", \"Sofia\", \"Ana\"}\n",
    "\n",
    "# Encontrar los alumnos que saben Java, C# y Python\n",
    "candidatos = java.intersection(csharp).intersection(python)\n",
    "\n",
    "# Mostrar los candidatos\n",
    "print(\"Alumnos que pueden optar a la oferta de empleo:\", candidatos)\n"
   ]
  }
 ],
 "metadata": {
  "kernelspec": {
   "display_name": "Python 3",
   "language": "python",
   "name": "python3"
  },
  "language_info": {
   "codemirror_mode": {
    "name": "ipython",
    "version": 3
   },
   "file_extension": ".py",
   "mimetype": "text/x-python",
   "name": "python",
   "nbconvert_exporter": "python",
   "pygments_lexer": "ipython3",
   "version": "3.12.6"
  }
 },
 "nbformat": 4,
 "nbformat_minor": 2
}
