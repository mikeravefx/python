{
 "cells": [
  {
   "cell_type": "markdown",
   "metadata": {},
   "source": [
    "# Módulos\n",
    "\n",
    "Un módulo en Python es un fichero `.py` que alberga un conjunto de funciones, variables o clases y que puede ser usado por otros módulos. \n",
    "\n",
    "Los módulos se importan con la palabra reservada `import` (se importa el nombre del fichero sin la extensión `.py`)"
   ]
  },
  {
   "cell_type": "code",
   "execution_count": null,
   "metadata": {},
   "outputs": [],
   "source": [
    "# mimodulo.py\n",
    "def suma(a, b):\n",
    "    return a + b\n",
    "\n",
    "def resta(a, b):\n",
    "    return a - b"
   ]
  },
  {
   "cell_type": "code",
   "execution_count": null,
   "metadata": {},
   "outputs": [],
   "source": [
    "# otromodulo.py\n",
    "import mimodulo\n",
    "\n",
    "print(mimodulo.suma(4, 3))   # 7\n",
    "print(mimodulo.resta(10, 9)) # 1"
   ]
  },
  {
   "cell_type": "markdown",
   "metadata": {},
   "source": [
    "Podemos importar un módulo completo o solo una parte de él.\n",
    "\n",
    "Para importar solo una parte de un módulo usamos la palabra reservada `from` seguida del nombre del módulo y la palabra reservada `import` seguida del nombre de la parte del módulo que queremos importar."
   ]
  },
  {
   "cell_type": "code",
   "execution_count": null,
   "metadata": {},
   "outputs": [],
   "source": [
    "from mimodulo import suma, resta"
   ]
  },
  {
   "cell_type": "markdown",
   "metadata": {},
   "source": [
    "De este modo, no sería necesario usar el nombre del módulo para acceder a la parte que hemos importado.\n",
    "\n",
    "Con la misma sintaxis podemos importar todo el módulo y no tener que usar el nombre del módulo para acceder a sus partes (NO RECOMENDADO, pueden producirse solapamientos entre los nombres de nuestro módulo y el que importamos)."
   ]
  },
  {
   "cell_type": "code",
   "execution_count": null,
   "metadata": {},
   "outputs": [],
   "source": [
    "form mimodulo import * # importa todo"
   ]
  },
  {
   "cell_type": "markdown",
   "metadata": {},
   "source": [
    "## Módulos y función main\n",
    "\n",
    "Cuando ejecutamos un módulo, Python le asigna el nombre `__main__` y lo ejecuta. Si el módulo es importado por otro módulo, Python le asigna el nombre del fichero.\n",
    "\n",
    "Esto nos permite saber si un módulo ha sido importado o ejecutado directamente.\n",
    "\n",
    "Podemos crear un programa principal en un módulo que solo se ejecutará si el módulo es ejecutado directamente."
   ]
  },
  {
   "cell_type": "code",
   "execution_count": null,
   "metadata": {},
   "outputs": [],
   "source": [
    "if __name__ == \"__main__\":\n",
    "    print(\"Soy el modulo principal\")"
   ]
  },
  {
   "cell_type": "markdown",
   "metadata": {},
   "source": [
    " # Paquetes\n",
    "\n",
    "Un paquete es un conjunto de módulos que se agrupan en un directorio.\n",
    "\n",
    "Para que un directorio sea considerado un paquete, debe contener un fichero `__init__.py` (puede estar vacío o contener configuraciones necesarias o importaciones necesarias para nuestra librería).\n",
    "\n",
    "Para importar un módulo de un paquete usamos la sintaxis `from paquete import modulo` o `import paquete.modulo`.\n",
    "\n",
    "Para importar un paquete usamos la sintaxis `import paquete`.\n"
   ]
  },
  {
   "cell_type": "markdown",
   "metadata": {},
   "source": [
    "\n",
    "Los módulos se buscarán en el directorio del módulo principal y en los directorios que se encuentren en el `sys.path`. Puedes ver los directorios que se encuentran en el `sys.path` con el siguiente código:"
   ]
  },
  {
   "cell_type": "code",
   "execution_count": null,
   "metadata": {},
   "outputs": [],
   "source": [
    "import sys\n",
    "print(sys.path)"
   ]
  },
  {
   "cell_type": "markdown",
   "metadata": {},
   "source": [
    "Y añadir un directorio al `sys.path` con el siguiente código:"
   ]
  },
  {
   "cell_type": "code",
   "execution_count": null,
   "metadata": {},
   "outputs": [],
   "source": [
    "import sys\n",
    "sys.path.append(\"directorio\")"
   ]
  },
  {
   "cell_type": "markdown",
   "metadata": {},
   "source": [
    "## Cambiando los nombres con `as`\n",
    "\n",
    "Podemos cambiar el nombre de un módulo o de una parte de un módulo con la palabra reservada `as`.\n",
    "\n",
    "No es una práctica recomendada, puesto que dificulta la lectura del código, pero puede ser útil para evitar solapamientos de nombres."
   ]
  },
  {
   "cell_type": "code",
   "execution_count": 1,
   "metadata": {},
   "outputs": [
    {
     "name": "stdout",
     "output_type": "stream",
     "text": [
      "3.141592653589793\n"
     ]
    }
   ],
   "source": [
    "import math as m\n",
    "print(m.pi)"
   ]
  }
 ],
 "metadata": {
  "kernelspec": {
   "display_name": "Python 3",
   "language": "python",
   "name": "python3"
  },
  "language_info": {
   "codemirror_mode": {
    "name": "ipython",
    "version": 3
   },
   "file_extension": ".py",
   "mimetype": "text/x-python",
   "name": "python",
   "nbconvert_exporter": "python",
   "pygments_lexer": "ipython3",
   "version": "3.11.0"
  }
 },
 "nbformat": 4,
 "nbformat_minor": 2
}
