{
 "cells": [
  {
   "cell_type": "markdown",
   "metadata": {},
   "source": [
    "# Ejercicios `for`"
   ]
  },
  {
   "cell_type": "markdown",
   "metadata": {},
   "source": [
    "## Ejercicio 1\n",
    "\n",
    "Crea un programa en Python que muestre los números del 100 al 1.\n",
    "\n",
    "Salida: Primero muestra cada número en una línea y a continuación muéstralos en la misma línea separados por un espacio en blanco.\n"
   ]
  },
  {
   "cell_type": "code",
   "execution_count": 1,
   "metadata": {},
   "outputs": [
    {
     "name": "stdout",
     "output_type": "stream",
     "text": [
      "100\n",
      "99\n",
      "98\n",
      "97\n",
      "96\n",
      "95\n",
      "94\n",
      "93\n",
      "92\n",
      "91\n",
      "90\n",
      "89\n",
      "88\n",
      "87\n",
      "86\n",
      "85\n",
      "84\n",
      "83\n",
      "82\n",
      "81\n",
      "80\n",
      "79\n",
      "78\n",
      "77\n",
      "76\n",
      "75\n",
      "74\n",
      "73\n",
      "72\n",
      "71\n",
      "70\n",
      "69\n",
      "68\n",
      "67\n",
      "66\n",
      "65\n",
      "64\n",
      "63\n",
      "62\n",
      "61\n",
      "60\n",
      "59\n",
      "58\n",
      "57\n",
      "56\n",
      "55\n",
      "54\n",
      "53\n",
      "52\n",
      "51\n",
      "50\n",
      "49\n",
      "48\n",
      "47\n",
      "46\n",
      "45\n",
      "44\n",
      "43\n",
      "42\n",
      "41\n",
      "40\n",
      "39\n",
      "38\n",
      "37\n",
      "36\n",
      "35\n",
      "34\n",
      "33\n",
      "32\n",
      "31\n",
      "30\n",
      "29\n",
      "28\n",
      "27\n",
      "26\n",
      "25\n",
      "24\n",
      "23\n",
      "22\n",
      "21\n",
      "20\n",
      "19\n",
      "18\n",
      "17\n",
      "16\n",
      "15\n",
      "14\n",
      "13\n",
      "12\n",
      "11\n",
      "10\n",
      "9\n",
      "8\n",
      "7\n",
      "6\n",
      "5\n",
      "4\n",
      "3\n",
      "2\n",
      "1\n",
      "100 99 98 97 96 95 94 93 92 91 90 89 88 87 86 85 84 83 82 81 80 79 78 77 76 75 74 73 72 71 70 69 68 67 66 65 64 63 62 61 60 59 58 57 56 55 54 53 52 51 50 49 48 47 46 45 44 43 42 41 40 39 38 37 36 35 34 33 32 31 30 29 28 27 26 25 24 23 22 21 20 19 18 17 16 15 14 13 12 11 10 9 8 7 6 5 4 3 2 1 \n"
     ]
    }
   ],
   "source": [
    "def mostrar_numeros():\n",
    "    # Mostrar cada número en una línea\n",
    "    for i in range(100, 0, -1):\n",
    "        print(i)\n",
    "    \n",
    "    # Mostrar todos los números en la misma línea separados por un espacio\n",
    "    for i in range(100, 0, -1):\n",
    "        print(i, end=' ')\n",
    "    print()  # Para agregar una nueva línea al final\n",
    "\n",
    "# Llamar a la función para ejecutar el programa\n",
    "mostrar_numeros()\n",
    "\n"
   ]
  },
  {
   "cell_type": "code",
   "execution_count": 1,
   "metadata": {},
   "outputs": [
    {
     "name": "stdout",
     "output_type": "stream",
     "text": [
      "100\n",
      "99\n",
      "98\n",
      "97\n",
      "96\n",
      "95\n",
      "94\n",
      "93\n",
      "92\n",
      "91\n",
      "90\n",
      "89\n",
      "88\n",
      "87\n",
      "86\n",
      "85\n",
      "84\n",
      "83\n",
      "82\n",
      "81\n",
      "80\n",
      "79\n",
      "78\n",
      "77\n",
      "76\n",
      "75\n",
      "74\n",
      "73\n",
      "72\n",
      "71\n",
      "70\n",
      "69\n",
      "68\n",
      "67\n",
      "66\n",
      "65\n",
      "64\n",
      "63\n",
      "62\n",
      "61\n",
      "60\n",
      "59\n",
      "58\n",
      "57\n",
      "56\n",
      "55\n",
      "54\n",
      "53\n",
      "52\n",
      "51\n",
      "50\n",
      "49\n",
      "48\n",
      "47\n",
      "46\n",
      "45\n",
      "44\n",
      "43\n",
      "42\n",
      "41\n",
      "40\n",
      "39\n",
      "38\n",
      "37\n",
      "36\n",
      "35\n",
      "34\n",
      "33\n",
      "32\n",
      "31\n",
      "30\n",
      "29\n",
      "28\n",
      "27\n",
      "26\n",
      "25\n",
      "24\n",
      "23\n",
      "22\n",
      "21\n",
      "20\n",
      "19\n",
      "18\n",
      "17\n",
      "16\n",
      "15\n",
      "14\n",
      "13\n",
      "12\n",
      "11\n",
      "10\n",
      "9\n",
      "8\n",
      "7\n",
      "6\n",
      "5\n",
      "4\n",
      "3\n",
      "2\n",
      "1\n"
     ]
    }
   ],
   "source": [
    "for i in range(100, 0, -1):\n",
    "    print(i)"
   ]
  },
  {
   "cell_type": "markdown",
   "metadata": {},
   "source": [
    "## Ejercicio 2\n",
    "\n",
    "Crea un programa en Python que muestre los números del 1 a un número mayor introducido por teclado."
   ]
  },
  {
   "cell_type": "code",
   "execution_count": 2,
   "metadata": {},
   "outputs": [
    {
     "name": "stdout",
     "output_type": "stream",
     "text": [
      "1\n",
      "2\n",
      "3\n",
      "4\n",
      "5\n",
      "6\n",
      "7\n",
      "8\n",
      "9\n",
      "10\n"
     ]
    }
   ],
   "source": [
    "#Solicitar un nuemro al usuario\n",
    "numero = int(input(\"introduce Numero\"))\n",
    "\n",
    "#Verificar que el numero sea mayor a 0\n",
    "if numero > 0:\n",
    "    # Imprimir los numero del 1 al numero introducido\n",
    "        for i in range(1,numero + 1):\n",
    "                print(i)"
   ]
  },
  {
   "cell_type": "code",
   "execution_count": 6,
   "metadata": {},
   "outputs": [
    {
     "name": "stdout",
     "output_type": "stream",
     "text": [
      "1\n",
      "2\n",
      "3\n",
      "4\n",
      "5\n",
      "6\n",
      "7\n",
      "8\n",
      "9\n",
      "10\n"
     ]
    }
   ],
   "source": [
    "numero = input(\"introduce Numero\")\n",
    "numero=int(numero)\n",
    "for i in range(1,numero+1):\n",
    "    print(i)"
   ]
  },
  {
   "cell_type": "markdown",
   "metadata": {},
   "source": [
    "\n",
    "## Ejercicio 3\n",
    "\n",
    "Crea un programa en Python que muestre los números desde un número introducido por teclado hasta el 1, descendiendo de 1 en 1.\n"
   ]
  },
  {
   "cell_type": "code",
   "execution_count": 3,
   "metadata": {},
   "outputs": [
    {
     "name": "stdout",
     "output_type": "stream",
     "text": [
      "15\n",
      "14\n",
      "13\n",
      "12\n",
      "11\n",
      "10\n",
      "9\n",
      "8\n",
      "7\n",
      "6\n",
      "5\n",
      "4\n",
      "3\n",
      "2\n",
      "1\n"
     ]
    }
   ],
   "source": [
    "# Solicitar un Numero\n",
    "numero= int(input(\"Introduce Numero\"))\n",
    "# Verificar que el numero sea mayor que 0\n",
    "if numero > 0:\n",
    "    # imprimir los numero dese el numero int\n",
    "    for i in range(numero,0,-1):\n",
    "        print(i)"
   ]
  },
  {
   "cell_type": "markdown",
   "metadata": {},
   "source": [
    "## Ejercicio 4\n",
    "\n",
    "Crea un programa en Python que muestre los números desde un número mayor hasta otro menor introducidos por teclado. Comprueba que el primer número es mayor que el segundo, y si no lo es, muestra un mensaje y finaliza el programa."
   ]
  },
  {
   "cell_type": "code",
   "execution_count": 14,
   "metadata": {},
   "outputs": [
    {
     "name": "stdout",
     "output_type": "stream",
     "text": [
      "50\n",
      "49\n",
      "48\n",
      "47\n",
      "46\n",
      "45\n",
      "44\n",
      "43\n",
      "42\n",
      "41\n",
      "40\n",
      "39\n",
      "38\n",
      "37\n",
      "36\n",
      "35\n",
      "34\n",
      "33\n",
      "32\n",
      "31\n",
      "30\n",
      "29\n",
      "28\n",
      "27\n",
      "26\n",
      "25\n",
      "24\n",
      "23\n",
      "22\n",
      "21\n",
      "20\n",
      "19\n",
      "18\n",
      "17\n",
      "16\n",
      "15\n",
      "14\n",
      "13\n",
      "12\n",
      "11\n",
      "10\n"
     ]
    }
   ],
   "source": [
    "# Solicitar dos numeros al usuario\n",
    "numero1 = int(input(\"Introduzca Numero 1: \"))\n",
    "numero2 = int(input(\"Introduzca Numero 2: \"))\n",
    "# Verificar que el primer numero sea mayor que el segundo\n",
    "if numero1 > numero2:\n",
    "# Imprimir los numeros desde el primero hasta el segundo\n",
    "    for i in range(numero1,numero2-1, -1):\n",
    "        print(i)\n",
    "else:\n",
    "    print(\"Error el primero numero debe ser mayor que el segundo\")"
   ]
  },
  {
   "cell_type": "markdown",
   "metadata": {},
   "source": [
    "## Ejercicio 5\n",
    "\n",
    "Crea un programa en Python que muestre el producto de los 10 primeros números impares.\n",
    "\n",
    "El resultado es **654729075**."
   ]
  },
  {
   "cell_type": "code",
   "execution_count": 3,
   "metadata": {},
   "outputs": [
    {
     "name": "stdout",
     "output_type": "stream",
     "text": [
      "El producto de los 10 primeros números impares es: 654729075\n"
     ]
    }
   ],
   "source": [
    "# Inicializamos el producto en 1\n",
    "producto = 1\n",
    "\n",
    "# Iteramos sobre los primeros 10 números impares\n",
    "for i in range(1, 20, 2):\n",
    "    producto *= i\n",
    "\n",
    "# Mostramos el resultado\n",
    "print(\"El producto de los 10 primeros números impares es:\", producto)"
   ]
  },
  {
   "cell_type": "markdown",
   "metadata": {},
   "source": [
    "## Ejercicio 6\n",
    "\n",
    "En algunos países anglosajones se emplea la palabra Mississippi para contar segundos, por ejemplo, para jugar al escondite. Crea un programa que cuente hasta 5 en segundos y, cuando acabe, muestre el mensaje “Voy!”. El resultado será el siguiente:\n",
    "\n",
    "```python\n",
    "1 Mississippi\n",
    "2 Mississippi\n",
    "3 Mississippi\n",
    "4 Mississippi\n",
    "5 Mississippi\n",
    "Voy!\n",
    "```\n",
    "\n",
    "Usa la función time.sleep() para esperar un segundo. Busca información de su uso.\n"
   ]
  },
  {
   "cell_type": "code",
   "execution_count": 25,
   "metadata": {},
   "outputs": [
    {
     "name": "stdout",
     "output_type": "stream",
     "text": [
      "1 Missisipi\n",
      "2 Missisipi\n",
      "3 Missisipi\n",
      "4 Missisipi\n",
      "5 Missisipi\n",
      "Voy\n"
     ]
    }
   ],
   "source": [
    "import time # importar modulo time\n",
    "# Contar hasta 5\n",
    "for i in range(1,6):\n",
    "     print(f\"{i} Missisipi\") #  Mostrar el conteo\n",
    "     time.sleep(1)  # Esperar un segundo\n",
    "# Mstrar el mensaje final\n",
    "print(\"Voy\") "
   ]
  },
  {
   "cell_type": "markdown",
   "metadata": {},
   "source": [
    "## Ejercicio 7: Devorador de vocales\n",
    "\n",
    "Crea un programa que pida al usuario una frase y le muestre esa frase en mayúsculas y sin las vocales."
   ]
  },
  {
   "cell_type": "code",
   "execution_count": null,
   "metadata": {},
   "outputs": [],
   "source": []
  },
  {
   "cell_type": "code",
   "execution_count": 22,
   "metadata": {},
   "outputs": [
    {
     "name": "stdout",
     "output_type": "stream",
     "text": [
      "La frase en mayusculas y sin vocales es: hl\n"
     ]
    }
   ],
   "source": [
    "# Solicitar al usuario que ingrese una frase\n",
    "frase = input(\"Por favor, introduce una frase:\")\n",
    "\n",
    "# Convertir la frase a mayúsculas:\n",
    "frase_mayusculas = frase.upper() \n",
    "\n",
    "# Eliminar Vocales\n",
    "\n",
    "vocales = \"AEIOU\"\n",
    "# Considerando las vocales en mayusculas\n",
    "frase_sin_vocales= ''.join([letra for letra in frase_mayusculas if letra not in vocales])\n",
    "# Define una cadena vocales que contiene todas las vocales en mayúsculas. Luego, crea una nueva \n",
    "# cadena frase_sin_vocales que contiene solo las letras de frase_mayusculas que no están en vocales.\n",
    "\n",
    "# Convertir la frase a Minusculas\n",
    "frase_sin_vocales = frase_sin_vocales.lower()\n",
    "\n",
    "print (\"La frase en mayusculas y sin vocales es:\", frase_sin_vocales)\n",
    "\n",
    "\n",
    "\n",
    "\n"
   ]
  },
  {
   "cell_type": "markdown",
   "metadata": {},
   "source": [
    "## Ejercicio 8: Contador de vocales\n",
    "\n",
    "Crea un programa que pida al usuario una frase y le diga cuántas vocales tiene esa frase."
   ]
  },
  {
   "cell_type": "code",
   "execution_count": 24,
   "metadata": {},
   "outputs": [
    {
     "name": "stdout",
     "output_type": "stream",
     "text": [
      "la frase tiene 6 vocales...\n"
     ]
    }
   ],
   "source": [
    "# Solicitar al usuario que ingrese una frase\n",
    " \n",
    "frase = input(\"Por favor introduzca una frase\")\n",
    "\n",
    "vocales = \"aeiouAEIOU\"\n",
    "\n",
    "#Contar Vocales\n",
    "\n",
    "contador_vocales = sum(1 for letra in frase if letra in vocales)\n",
    "\n",
    "#Mostrar Resultado\n",
    "\n",
    "print(\"la frase tiene\", contador_vocales, \"vocales...\")"
   ]
  },
  {
   "cell_type": "markdown",
   "metadata": {},
   "source": [
    "## Ejercicio 9\n",
    "\n",
    "El alumnado del IES de Teis tiene un correo electrónico en el dominio `iesteis.es`. Este correo consiste en el nombre de usuario con el que acceden en las aulas seguido de `@iesteis.es`. Por ejemplo `a23mariarm@iesteis.es`. \n",
    "\n",
    "Escribe un programa en Python que pida al usuario un correo electrónico y devuelva el nombre de usuario. En este ejemplo: `a23mariarm`."
   ]
  },
  {
   "cell_type": "code",
   "execution_count": 16,
   "metadata": {},
   "outputs": [
    {
     "name": "stdout",
     "output_type": "stream",
     "text": [
      "Error El correo electronico debe terminar en '@iesteis.es'.\n"
     ]
    }
   ],
   "source": [
    "# Solicitar ek correo electronico\n",
    "\n",
    "correo_electronico =input(\"Introduce Correo Electronico (Con Dominio iesteis.es): \")\n",
    "# Comprobar corrreo elecrtornico tinen el formato correcto\n",
    "if correo_electronico.endswith('@iesteis.es'):\n",
    "    # Extraer nombre del usuario\n",
    "    nombre_de_usuario = correo_electronico.split('@')[0]\n",
    "    # Esta línea verifica si el correo electrónico \n",
    "    # termina con el dominio @iesteis.es utilizando el método endswith().\n",
    "    print (\"El Nombre de usuario es:\", nombre_de_usuario)\n",
    "else:\n",
    "    print(\"Error El correo electronico debe terminar en '@iesteis.es'.\")"
   ]
  }
 ],
 "metadata": {
  "kernelspec": {
   "display_name": "Python 3",
   "language": "python",
   "name": "python3"
  },
  "language_info": {
   "codemirror_mode": {
    "name": "ipython",
    "version": 3
   },
   "file_extension": ".py",
   "mimetype": "text/x-python",
   "name": "python",
   "nbconvert_exporter": "python",
   "pygments_lexer": "ipython3",
   "version": "3.12.6"
  },
  "orig_nbformat": 4
 },
 "nbformat": 4,
 "nbformat_minor": 2
}
