{
 "cells": [
  {
   "cell_type": "markdown",
   "metadata": {},
   "source": [
    "# Estructuras repetitivas\n",
    "\n",
    "Un bucle, o ciclo, es un conjunto de instrucciones que se repiten un número de veces o mientras se sigue cumpliendo una condición.\n"
   ]
  },
  {
   "cell_type": "markdown",
   "metadata": {},
   "source": [
    "\n",
    "## Bucle `while`\n",
    "\n",
    "Un bucle `while` repite las instrucciones **MIENTRAS** se siga cumpliendo la condición.\n",
    "\n",
    "```\n",
    "    while condicion:\n",
    "        # Sentencias a ejecutar mientras se cumpla la condición\n",
    "```\n",
    "\n",
    "La estructura es igual a la de `if` pero la diferencia semántica es más importante: cuando se cumple la condición, `if` realiza sus sentencias sólo una vez; `while` repite la ejecución mientras la condición se evalúe como `True``."
   ]
  },
  {
   "cell_type": "code",
   "execution_count": 1,
   "metadata": {},
   "outputs": [
    {
     "name": "stdout",
     "output_type": "stream",
     "text": [
      "La suma es:  12\n"
     ]
    }
   ],
   "source": [
    "numero = 0\n",
    "suma = 0\n",
    "while numero >= 0:\n",
    "    numero = int(input(\"Escribe un número para calcular la suma, escribe un número negativo para terminar: \"))\n",
    "    suma += numero\n",
    "print(\"La suma es: \", suma)"
   ]
  },
  {
   "cell_type": "markdown",
   "metadata": {},
   "source": [
    "- Si deseas ejecutar más de una sentencia dentro de un `while`, debes (como con `if`) poner sangría a todas las instrucciones de la misma manera.\n",
    "- Una instrucción o conjunto de instrucciones ejecutadas dentro del `while` se llama el **cuerpo del bucle**.\n",
    "- Si la condición es `False` (igual a cero) la primera vez que se comprueba, el cuerpo no se ejecuta ni una sola vez.\n"
   ]
  },
  {
   "cell_type": "code",
   "execution_count": null,
   "metadata": {},
   "outputs": [],
   "source": [
    "numero = -1\n",
    "suma = 0\n",
    "while numero >= 0:\n",
    "    numero = int(input(\"Escribe un número para calcular la suma, escribe un número negativo para terminar: \"))\n",
    "    suma += numero\n",
    "print(\"La suma es: \", suma)"
   ]
  },
  {
   "cell_type": "markdown",
   "metadata": {},
   "source": [
    "- El cuerpo **debe cambiar el valor de la condición**, si no fuese así, solo tendríamos dos tipos de bucles: aquellos que no se ejecutan ni una sola vez porque su condición es `False` al principio y aquellos que se ejecutan de forma infinita porque su condición es `True` al principio."
   ]
  },
  {
   "cell_type": "code",
   "execution_count": null,
   "metadata": {},
   "outputs": [],
   "source": [
    "numero = 0\n",
    "while numero == 0:\n",
    "    print(numero) # Esto es un bucle infinito"
   ]
  },
  {
   "cell_type": "markdown",
   "metadata": {},
   "source": [
    "## Ejemplo\n",
    "\n",
    "Pedir números al usuario hasta que este introduzca un 0. Contar el número de pares e impares que ha introducido."
   ]
  },
  {
   "cell_type": "code",
   "execution_count": 3,
   "metadata": {},
   "outputs": [
    {
     "name": "stdout",
     "output_type": "stream",
     "text": [
      "Pares: 1\n",
      "Impares: 0\n"
     ]
    }
   ],
   "source": [
    "numero = 1\n",
    "num_pares = 0\n",
    "num_impares = 0\n",
    "\n",
    "while numero != 0:\n",
    "    numero = int(input(\"Dame un número presiona 0 para salir: \"))\n",
    "    if numero % 2 == 1: # Impar\n",
    "        num_impares += 1\n",
    "    else:\n",
    "        num_pares += 1\n",
    "\n",
    "print(\"Pares:\", num_pares)\n",
    "print(\"Impares:\", num_impares)"
   ]
  },
  {
   "cell_type": "markdown",
   "metadata": {},
   "source": [
    "Si no quiero que cuente el 0:"
   ]
  },
  {
   "cell_type": "code",
   "execution_count": 1,
   "metadata": {},
   "outputs": [
    {
     "name": "stdout",
     "output_type": "stream",
     "text": [
      "Pares: 1\n",
      "Impares: 0\n"
     ]
    },
    {
     "ename": "ValueError",
     "evalue": "invalid literal for int() with base 10: ''",
     "output_type": "error",
     "traceback": [
      "\u001b[1;31m---------------------------------------------------------------------------\u001b[0m",
      "\u001b[1;31mValueError\u001b[0m                                Traceback (most recent call last)",
      "Cell \u001b[1;32mIn[1], line 6\u001b[0m\n\u001b[0;32m      3\u001b[0m num_impares \u001b[38;5;241m=\u001b[39m \u001b[38;5;241m0\u001b[39m\n\u001b[0;32m      5\u001b[0m \u001b[38;5;28;01mwhile\u001b[39;00m numero \u001b[38;5;241m!=\u001b[39m \u001b[38;5;241m0\u001b[39m:\n\u001b[1;32m----> 6\u001b[0m     numero \u001b[38;5;241m=\u001b[39m \u001b[38;5;28;43mint\u001b[39;49m\u001b[43m(\u001b[49m\u001b[38;5;28;43minput\u001b[39;49m\u001b[43m(\u001b[49m\u001b[38;5;124;43m\"\u001b[39;49m\u001b[38;5;124;43mDame un número: \u001b[39;49m\u001b[38;5;124;43m\"\u001b[39;49m\u001b[43m)\u001b[49m\u001b[43m)\u001b[49m\n\u001b[0;32m      7\u001b[0m     \u001b[38;5;28;01mif\u001b[39;00m numero \u001b[38;5;241m%\u001b[39m \u001b[38;5;241m2\u001b[39m \u001b[38;5;241m==\u001b[39m \u001b[38;5;241m1\u001b[39m: \u001b[38;5;66;03m# Impar\u001b[39;00m\n\u001b[0;32m      8\u001b[0m         num_impares \u001b[38;5;241m+\u001b[39m\u001b[38;5;241m=\u001b[39m \u001b[38;5;241m1\u001b[39m\n",
      "\u001b[1;31mValueError\u001b[0m: invalid literal for int() with base 10: ''"
     ]
    }
   ],
   "source": [
    "numero = 1\n",
    "num_pares = 0\n",
    "num_impares = 0\n",
    "\n",
    "while numero != 0:\n",
    "    numero = int(input(\"Dame un número: \"))\n",
    "    if numero % 2 == 1: # Impar\n",
    "        num_impares += 1\n",
    "    elif numero != 0:\n",
    "        num_pares += 1\n",
    "    print(\"Pares:\", num_pares)\n",
    "    print(\"Impares:\", num_impares)"
   ]
  },
  {
   "cell_type": "markdown",
   "metadata": {},
   "source": [
    "## Bucle `for`\n",
    "\n",
    "El bucle `for` sirve para:\n",
    "- Ejecutar un conjunto de sentencias un número concreto de veces. Normalmente conocido antes de iniciar la ejecución.\n",
    "- Recorrer estructuras de datos, por ejemplo, una cadena."
   ]
  },
  {
   "cell_type": "code",
   "execution_count": 1,
   "metadata": {},
   "outputs": [
    {
     "name": "stdout",
     "output_type": "stream",
     "text": [
      "´    100\n",
      "´     99\n",
      "´     98\n",
      "´     97\n",
      "´     96\n",
      "´     95\n",
      "´     94\n",
      "´     93\n",
      "´     92\n",
      "´     91\n",
      "´     90\n",
      "´     89\n",
      "´     88\n",
      "´     87\n",
      "´     86\n",
      "´     85\n",
      "´     84\n",
      "´     83\n",
      "´     82\n",
      "´     81\n",
      "´     80\n",
      "´     79\n",
      "´     78\n",
      "´     77\n",
      "´     76\n",
      "´     75\n",
      "´     74\n",
      "´     73\n",
      "´     72\n",
      "´     71\n",
      "´     70\n",
      "´     69\n",
      "´     68\n",
      "´     67\n",
      "´     66\n",
      "´     65\n",
      "´     64\n",
      "´     63\n",
      "´     62\n",
      "´     61\n",
      "´     60\n",
      "´     59\n",
      "´     58\n",
      "´     57\n",
      "´     56\n",
      "´     55\n",
      "´     54\n",
      "´     53\n",
      "´     52\n",
      "´     51\n",
      "´     50\n",
      "´     49\n",
      "´     48\n",
      "´     47\n",
      "´     46\n",
      "´     45\n",
      "´     44\n",
      "´     43\n",
      "´     42\n",
      "´     41\n",
      "´     40\n",
      "´     39\n",
      "´     38\n",
      "´     37\n",
      "´     36\n",
      "´     35\n",
      "´     34\n",
      "´     33\n",
      "´     32\n",
      "´     31\n",
      "´     30\n",
      "´     29\n",
      "´     28\n",
      "´     27\n",
      "´     26\n",
      "´     25\n",
      "´     24\n",
      "´     23\n",
      "´     22\n",
      "´     21\n",
      "´     20\n",
      "´     19\n",
      "´     18\n",
      "´     17\n",
      "´     16\n",
      "´     15\n",
      "´     14\n",
      "´     13\n",
      "´     12\n",
      "´     11\n",
      "´     10\n",
      "´      9\n",
      "´      8\n",
      "´      7\n",
      "´      6\n",
      "´      5\n",
      "´      4\n",
      "´      3\n",
      "´      2\n",
      "´      1\n",
      "´    100\n",
      "´     99\n",
      "´     98\n",
      "´     97\n",
      "´     96\n",
      "´     95\n",
      "´     94\n",
      "´     93\n",
      "´     92\n",
      "´     91\n",
      "´     90\n",
      "´     89\n",
      "´     88\n",
      "´     87\n",
      "´     86\n",
      "´     85\n",
      "´     84\n",
      "´     83\n",
      "´     82\n",
      "´     81\n",
      "´     80\n",
      "´     79\n",
      "´     78\n",
      "´     77\n",
      "´     76\n",
      "´     75\n",
      "´     74\n",
      "´     73\n",
      "´     72\n",
      "´     71\n",
      "´     70\n",
      "´     69\n",
      "´     68\n",
      "´     67\n",
      "´     66\n",
      "´     65\n",
      "´     64\n",
      "´     63\n",
      "´     62\n",
      "´     61\n",
      "´     60\n",
      "´     59\n",
      "´     58\n",
      "´     57\n",
      "´     56\n",
      "´     55\n",
      "´     54\n",
      "´     53\n",
      "´     52\n",
      "´     51\n",
      "´     50\n",
      "´     49\n",
      "´     48\n",
      "´     47\n",
      "´     46\n",
      "´     45\n",
      "´     44\n",
      "´     43\n",
      "´     42\n",
      "´     41\n",
      "´     40\n",
      "´     39\n",
      "´     38\n",
      "´     37\n",
      "´     36\n",
      "´     35\n",
      "´     34\n",
      "´     33\n",
      "´     32\n",
      "´     31\n",
      "´     30\n",
      "´     29\n",
      "´     28\n",
      "´     27\n",
      "´     26\n",
      "´     25\n",
      "´     24\n",
      "´     23\n",
      "´     22\n",
      "´     21\n",
      "´     20\n",
      "´     19\n",
      "´     18\n",
      "´     17\n",
      "´     16\n",
      "´     15\n",
      "´     14\n",
      "´     13\n",
      "´     12\n",
      "´     11\n",
      "´     10\n",
      "´      9\n",
      "´      8\n",
      "´      7\n",
      "´      6\n",
      "´      5\n",
      "´      4\n",
      "´      3\n",
      "´      2\n",
      "´      1\n"
     ]
    }
   ],
   "source": [
    "i =100\n",
    "while i>0:\n",
    "    print(f'´{i:7}')\n",
    "    i-=1\n",
    "\n",
    "for i in range(100,0,-1):\n",
    "    print(f'´{i:7}')\n",
    "    i-=1\n"
   ]
  },
  {
   "cell_type": "markdown",
   "metadata": {},
   "source": [
    "- La palabra reservada `for` abre el bucle\n",
    "- No hay condición después de eso; las condiciones se verifican internamente, sin ninguna intervención.\n",
    "- La variable después de la palabra reservada `for` es la variable de control del bucle; cuenta automáticamente las iteraciones del bucle.\n",
    "- La palabra reservada `in` introduce el rango de valores posibles que se asignan a la variable de control.\n",
    "- La función `range()` es responsable de generar todos los valores deseados de la variable de control.\n",
    "- En cada iteración, la variable tomará uno de los valores del rango."
   ]
  },
  {
   "cell_type": "code",
   "execution_count": 3,
   "metadata": {},
   "outputs": [
    {
     "name": "stdout",
     "output_type": "stream",
     "text": [
      "El valor de i es 1\n",
      "El valor de i es 2\n",
      "El valor de i es 3\n",
      "El valor de i es 4\n",
      "El valor de i es 5\n",
      "El valor de i es 6\n",
      "El valor de i es 7\n",
      "El valor de i es 8\n",
      "El valor de i es 9\n",
      "El valor de i es 10\n"
     ]
    }
   ],
   "source": [
    "for i in range(1,11):\n",
    "    print(\"El valor de i es\", i)"
   ]
  },
  {
   "cell_type": "markdown",
   "metadata": {},
   "source": [
    "### La función `range()`\n",
    "\n",
    "- Cuando solo tiene un argumento, genera números enteros desde 0 al valor de ese argumento (no incluído).\n",
    "\n",
    "`range(fin)`\n",
    "- Cuando tiene dos argumentos, genera números enteros desde el valor del primer argumento (incluído) al valor de ese argumento (no incluído).\n",
    "\n",
    "`range(inicio, fin)`\n",
    "- Cuando tiene 3 argumentos, el tercero indica el incremento que se produce cada vez.\n",
    "\n",
    "`range(inicio, fin, incremento)`"
   ]
  },
  {
   "cell_type": "code",
   "execution_count": 4,
   "metadata": {},
   "outputs": [
    {
     "name": "stdout",
     "output_type": "stream",
     "text": [
      "1 2 3 4 5 6 7 8 9 10 "
     ]
    }
   ],
   "source": [
    "for i in range(1,11):\n",
    "    print(i, end =\" \")"
   ]
  },
  {
   "cell_type": "code",
   "execution_count": 4,
   "metadata": {},
   "outputs": [
    {
     "name": "stdout",
     "output_type": "stream",
     "text": [
      "2 3 4 5 6 7 8 9 "
     ]
    }
   ],
   "source": [
    "for i in range(2, 10):\n",
    "    print(i, end =\" \")"
   ]
  },
  {
   "cell_type": "code",
   "execution_count": 11,
   "metadata": {},
   "outputs": [
    {
     "name": "stdout",
     "output_type": "stream",
     "text": [
      "2 5 8 "
     ]
    }
   ],
   "source": [
    "for i in range(2, 11, 3):\n",
    "    print(i, end =\" \")"
   ]
  },
  {
   "cell_type": "markdown",
   "metadata": {},
   "source": [
    "Si quiero usar números decimales:"
   ]
  },
  {
   "cell_type": "code",
   "execution_count": 1,
   "metadata": {},
   "outputs": [
    {
     "name": "stdout",
     "output_type": "stream",
     "text": [
      "0.1\n",
      "0.2\n",
      "0.30000000000000004\n",
      "0.4\n",
      "0.5\n",
      "0.6\n",
      "0.7\n",
      "0.7999999999999999\n",
      "0.8999999999999999\n",
      "0.9999999999999999\n"
     ]
    }
   ],
   "source": [
    "numero_real = 0.1\n",
    "\n",
    "while numero_real < 1:\n",
    "    print(numero_real)\n",
    "    numero_real += 0.1"
   ]
  },
  {
   "cell_type": "markdown",
   "metadata": {},
   "source": [
    "### `for` para recorrer secuencias\n",
    "\n",
    "El bucle for también se usa para recorrer secuencias de datos, por ejemplo, cadenas."
   ]
  },
  {
   "cell_type": "code",
   "execution_count": 5,
   "metadata": {},
   "outputs": [
    {
     "name": "stdout",
     "output_type": "stream",
     "text": [
      "H-o-l-a-"
     ]
    }
   ],
   "source": [
    "palabra =  \"Hola\"\n",
    "for letra in palabra:\n",
    "    print(letra, end=\"-\")"
   ]
  },
  {
   "cell_type": "markdown",
   "metadata": {},
   "source": [
    "También existen bucles for que no se ejecutan nunca:"
   ]
  },
  {
   "cell_type": "code",
   "execution_count": 6,
   "metadata": {},
   "outputs": [
    {
     "name": "stdout",
     "output_type": "stream",
     "text": [
      "0\n",
      " ***1\n",
      " ***2\n",
      " ***3\n",
      " ***4\n",
      " ***5\n",
      " ***6\n",
      " ***7\n",
      " ***8\n",
      " ***9\n",
      " ***"
     ]
    }
   ],
   "source": [
    "for i in range(10):\n",
    "    print(i, end =\"\\n ***\")"
   ]
  },
  {
   "cell_type": "markdown",
   "metadata": {},
   "source": [
    "Así no le vemos mucho sentido, pero si lo cambiamos preguntando al usuario."
   ]
  },
  {
   "cell_type": "code",
   "execution_count": 19,
   "metadata": {},
   "outputs": [
    {
     "name": "stdout",
     "output_type": "stream",
     "text": [
      "Voy a escribir los números pares desde el 0 hasta el que tú me digas\n"
     ]
    }
   ],
   "source": [
    "print(\"Voy a escribir los números pares desde el 0 hasta el que tú me digas\")\n",
    "limite  = int(input(\"Cuál es el límite superior? \"))\n",
    "for i in range(0, limite, 2):\n",
    "    print(i, end =\" \")"
   ]
  },
  {
   "cell_type": "markdown",
   "metadata": {},
   "source": [
    "## Las sentencias `break` y `continue`\n",
    "\n",
    "Se utilizan tanto para los bucles `while` como `for`.\n",
    "\n",
    "### `break`\n",
    "\n",
    "La instrucción `break` se utiliza para terminar un bucle antes de que termine de forma natural (si deja de cumplirse la condición, en el caso del break, no termila la iteración, en el caso del for)."
   ]
  },
  {
   "cell_type": "code",
   "execution_count": 7,
   "metadata": {},
   "outputs": [
    {
     "name": "stdout",
     "output_type": "stream",
     "text": [
      "La media es:  13.0\n"
     ]
    }
   ],
   "source": [
    "# Calcula la media de 10 notas introducidas por el usuario, en el caso de que la nota sea negativa, se considera que ya no hay más notas que introducir\n",
    "suma = 0\n",
    "contador = 0\n",
    "for i in range(3):\n",
    "    nota = float(input(\"Introduce una nota: \"))\n",
    "    if nota < 0:\n",
    "        break # Salimos del bucle\n",
    "    suma += nota\n",
    "    contador += 1\n",
    "media = suma / contador\n",
    "print(\"La media es: \", media)"
   ]
  },
  {
   "cell_type": "markdown",
   "metadata": {},
   "source": [
    "La alternativa sin utilizar `break`, es usando una bandera y cambiando a `while` (en otros lenguajes, se puede hacer con for)."
   ]
  },
  {
   "cell_type": "code",
   "execution_count": 7,
   "metadata": {},
   "outputs": [
    {
     "name": "stdout",
     "output_type": "stream",
     "text": [
      "La media es:  14.87\n"
     ]
    }
   ],
   "source": [
    "# Calcula la media de 10 notas introducidas por el usuario, en el caso de que la nota sea negativa, se considera que ya no hay más notas que introducir\n",
    "suma = 0\n",
    "contador = 0\n",
    "finalizado = False\n",
    "while contador < 3 and not finalizado:\n",
    "    nota = float(input(\"Introduce una nota: \"))\n",
    "    if nota < 0:\n",
    "        finalizado = True # En la siguiente iteración se sale del bucle porque no se cumple la condición\n",
    "    else:\n",
    "        suma += nota\n",
    "        contador += 1\n",
    "media = suma / contador\n",
    "print(\"La media es: \",round (media,2))"
   ]
  },
  {
   "cell_type": "markdown",
   "metadata": {},
   "source": [
    "**¡OJO!** El uso de `break` no va en contra de los principios del código limpio, pero, hay que tener más cuidado al usarla para que no nos quede un código menos legible."
   ]
  },
  {
   "cell_type": "markdown",
   "metadata": {},
   "source": [
    "### `continue`\n",
    "\n",
    "La instrucción `continue` termina la ejecución de esa iteración del bucle inmediatamente.\n",
    "\n",
    "#### Ejemplo"
   ]
  },
  {
   "cell_type": "code",
   "execution_count": null,
   "metadata": {},
   "outputs": [],
   "source": [
    "# Calcula la media de 10 notas introducidas por el usuario, en el caso de que la nota sea negativa, se ignorará\n",
    "suma = 0\n",
    "contador = 0\n",
    "for i in range(10):\n",
    "    nota = float(input(\"Introduce una nota: \"))\n",
    "    if nota < 0:\n",
    "        continue # Salta a la siguiente iteración\n",
    "    suma += nota\n",
    "    contador += 1\n",
    "media = suma / contador\n",
    "print(\"La media es: \", media)"
   ]
  },
  {
   "cell_type": "markdown",
   "metadata": {},
   "source": [
    "**¡OJO!** Puede dar lugar a código difícil de leer, habitualmente es mejor refactorizarlo para que, en vez de que si se cumple una condición salte a la siguiente iteración, modificarla para que solo ejecute el código restante si no se cumple."
   ]
  },
  {
   "cell_type": "code",
   "execution_count": null,
   "metadata": {},
   "outputs": [],
   "source": [
    "# Sería mejor refactorizarlo para no usar continue\n",
    "suma = 0\n",
    "contador = 0\n",
    "for i in range(10):\n",
    "    nota = float(input(\"Introduce una nota: \"))\n",
    "    if nota >= 0:\n",
    "        suma += nota\n",
    "        contador += 1\n",
    "media = suma / contador\n",
    "print(\"La media es: \", media)"
   ]
  },
  {
   "cell_type": "markdown",
   "metadata": {},
   "source": [
    "El uso de `break` y `continue` genera código más eficiente (ya que evita una comprobación de la condición), por lo que su uso será deseable cuando la valocidad es primordial."
   ]
  },
  {
   "cell_type": "markdown",
   "metadata": {},
   "source": [
    "## La rama `else` de los bucles\n",
    "\n",
    "La rama `else` del bucle siempre se ejecuta una vez, independientemente de si el bucle ha entrado o no (porque no se ha cumplido la condición al principio) en su cuerpo.\n",
    "\n",
    "La rama `else` solo se ejecuta si se ha salido del bucle de forma ordenada (no con una sentencia `break`)."
   ]
  },
  {
   "cell_type": "code",
   "execution_count": 2,
   "metadata": {},
   "outputs": [],
   "source": [
    "# Calcula la media de 10 notas introducidas por el usuario, en el caso de que la nota sea negativa, se considera que ya no hay más notas que introducir\n",
    "suma = 0\n",
    "contador = 0\n",
    "for i in range(5):\n",
    "    nota = float(input(\"Introduce una nota (si introduces un número negativo se aborta la ejecución): \"))\n",
    "    if nota < 0:\n",
    "        break # Salimos del bucle\n",
    "    suma += nota\n",
    "    contador += 1\n",
    "else: # Se ejecuta si no se ha ejecutado el break\n",
    "    media = suma / contador\n",
    "    print(\"La media es: \", media)"
   ]
  },
  {
   "cell_type": "markdown",
   "metadata": {},
   "source": [
    "Si no existe un `break`, no hay diferencia ente escribir o no escribir `else`:"
   ]
  },
  {
   "cell_type": "code",
   "execution_count": 9,
   "metadata": {},
   "outputs": [
    {
     "name": "stdout",
     "output_type": "stream",
     "text": [
      "La media es:  15.5\n"
     ]
    }
   ],
   "source": [
    "suma = 0\n",
    "contador = 0\n",
    "for i in range(2):\n",
    "    nota = float(input(\"Introduce una nota: \"))\n",
    "    if nota >= 0:\n",
    "        suma += nota\n",
    "        contador += 1\n",
    "else:\n",
    "    media = suma / contador\n",
    "    print(\"La media es: \", media)"
   ]
  },
  {
   "cell_type": "code",
   "execution_count": 2,
   "metadata": {},
   "outputs": [],
   "source": [
    "# Misma ejecución que el anterior pero sin usar el else\n",
    "\n",
    "suma = 0\n",
    "contador = 0\n",
    "for i in range(5):\n",
    "    nota = float(input(\"Introduce una nota: \"))\n",
    "    if nota >= 0:\n",
    "        suma += nota\n",
    "        contador += 1\n",
    "media = suma / contador\n",
    "print(\"La media es: \", media)"
   ]
  },
  {
   "cell_type": "markdown",
   "metadata": {},
   "source": [
    "# Bucles anidados\n",
    "\n",
    "Dentro de un bucle puede encontrarse otro bucle, de esta manera, para cada ejecución del bucle externo, se ejecutará por completo el bucle interno."
   ]
  },
  {
   "cell_type": "code",
   "execution_count": 8,
   "metadata": {},
   "outputs": [
    {
     "name": "stdout",
     "output_type": "stream",
     "text": [
      "1\n",
      "00 2\n",
      "01 3\n",
      "02 4\n",
      "03 5\n",
      "04 6\n",
      "10 7\n",
      "11 8\n",
      "12 9\n",
      "13 10\n",
      "14 11\n",
      "20 12\n",
      "21 13\n",
      "22 14\n",
      "23 15\n",
      "24 \n"
     ]
    }
   ],
   "source": [
    "numero=0\n",
    "for i in range(3):\n",
    "    for j in range(5):\n",
    "        numero=numero+1\n",
    "        print(numero)\n",
    "        print(i, j, sep = \"\", end=\" \")\n",
    "print()"
   ]
  },
  {
   "cell_type": "code",
   "execution_count": 30,
   "metadata": {},
   "outputs": [
    {
     "name": "stdout",
     "output_type": "stream",
     "text": [
      "Current Language R\n",
      "Current Language Phyton\n",
      "Current Language Scala\n",
      "Current Language J\n"
     ]
    }
   ],
   "source": [
    "languajes = ['R','Phyton','Scala','J']\n",
    "for index in range(len(languajes)):\n",
    "    print('Current Language',languajes [index])"
   ]
  },
  {
   "cell_type": "code",
   "execution_count": 9,
   "metadata": {},
   "outputs": [
    {
     "name": "stdout",
     "output_type": "stream",
     "text": [
      "1ºA 1ºB 1ºC 1ºD 1ºE 1ºF \n",
      "2ºA 2ºB 2ºC 2ºD 2ºE 2ºF \n",
      "3ºA 3ºB 3ºC 3ºD 3ºE 3ºF \n",
      "4ºA 4ºB 4ºC 4ºD 4ºE 4ºF \n",
      "5ºA 5ºB 5ºC 5ºD 5ºE 5ºF \n",
      "6ºA 6ºB 6ºC 6ºD 6ºE 6ºF \n"
     ]
    }
   ],
   "source": [
    "for piso in range(1,7):\n",
    "    for letra in \"ABCDEF\":\n",
    "        print(piso, letra, sep = \"º\", end=\" \")\n",
    "    print()"
   ]
  },
  {
   "cell_type": "code",
   "execution_count": null,
   "metadata": {},
   "outputs": [],
   "source": []
  }
 ],
 "metadata": {
  "kernelspec": {
   "display_name": "Python 3",
   "language": "python",
   "name": "python3"
  },
  "language_info": {
   "codemirror_mode": {
    "name": "ipython",
    "version": 3
   },
   "file_extension": ".py",
   "mimetype": "text/x-python",
   "name": "python",
   "nbconvert_exporter": "python",
   "pygments_lexer": "ipython3",
   "version": "3.12.6"
  },
  "orig_nbformat": 4
 },
 "nbformat": 4,
 "nbformat_minor": 2
}
