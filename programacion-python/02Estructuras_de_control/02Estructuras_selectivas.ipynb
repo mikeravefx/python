{
 "cells": [
  {
   "cell_type": "markdown",
   "metadata": {},
   "source": [
    "# Estructuras selectivas\n",
    "\n",
    "Mecanismo que le permita hacer algo si se cumple una condición, y no hacerlo si no se cumple.\n",
    "\n",
    "## Sentecia condicional `if`\n",
    "\n",
    "```python\n",
    "if condicion:\n",
    "    # Código a ejecutar si se cumple la condición\n",
    "```\n",
    "\n",
    "**¡ATENCIÓN!** El código a ejecutar si se cumple debe aparecer indentado con 4 espacios cada línea. En los IDE, al pulsar el tabulador ya inserta los espacios correctos. Si el código a ejecutar consta de varias sentencias, **todas ellas deben estar indentadas**.\n",
    "\n",
    "La condición debe ser una expresión cuyo valor se interpretará únicamente en términos de True y False.\n",
    "\n",
    "**`if`** es una palabra clave reservada.\n",
    "\n"
   ]
  },
  {
   "cell_type": "code",
   "execution_count": null,
   "metadata": {},
   "outputs": [],
   "source": [
    "mes = input(\"Indica en qué mes estamos: \")\n",
    "if mes == \"septiembre\":\n",
    "    print(\"Acabamos de empezar el curso\")"
   ]
  },
  {
   "cell_type": "code",
   "execution_count": null,
   "metadata": {},
   "outputs": [],
   "source": [
    "mes = input(\"Indica en qué mes estamos: \")\n",
    "if mes == \"septiembre\":\n",
    "    print(\"Acabamos de empezar el curso\")\n",
    "    print(\"Bienvenidos al IES de Teis\")"
   ]
  },
  {
   "cell_type": "code",
   "execution_count": 6,
   "metadata": {},
   "outputs": [
    {
     "name": "stdout",
     "output_type": "stream",
     "text": [
      "Acabamos de empezar el curso\n",
      "Bienvenidos al IES de Teis\n"
     ]
    }
   ],
   "source": [
    "mes = input(\"Indica en qué mes estamos: \")\n",
    "if mes == \"septiembre\":\n",
    "    print(\"Acabamos de empezar el curso\")\n",
    "print(\"Bienvenidos al IES de Teis\")"
   ]
  },
  {
   "cell_type": "markdown",
   "metadata": {},
   "source": [
    "## Sentencia condicional `if-else`\n",
    "\n",
    "La cláusula `else` nos permite indicar qué sentencias se ejecutarán cuando **NO** se cumpla la condición.\n",
    "\n",
    "```python\n",
    "if condicion:\n",
    "    # Código a ejecutar si se cumple la condición\n",
    "else:\n",
    "    # Código a ejecutar si NO se cumple la condición\n",
    "```\n",
    "\n",
    "**`else`** es una palabra clave reservada."
   ]
  },
  {
   "cell_type": "code",
   "execution_count": 1,
   "metadata": {},
   "outputs": [
    {
     "name": "stdout",
     "output_type": "stream",
     "text": [
      "Eres mayor de edad\n",
      "La edad solo es un número\n"
     ]
    }
   ],
   "source": [
    "edad = int(input(\"Indica tu edad: \"))\n",
    "if (edad >= 18):\n",
    "    print(\"Eres mayor de edad\")\n",
    "else:\n",
    "    print(\"Eres menor de edad\")\n",
    "print(\"La edad solo es un número\")"
   ]
  },
  {
   "cell_type": "code",
   "execution_count": 2,
   "metadata": {},
   "outputs": [
    {
     "name": "stdout",
     "output_type": "stream",
     "text": [
      "Eres menor de edad\n",
      "La edad solo es un número\n"
     ]
    }
   ],
   "source": [
    "edad = int(input(\"Indica tu edad: \"))\n",
    "if (edad >= 18):\n",
    "    print(\"Eres mayor de edad\")\n",
    "    print(\"¡Genial!\") # No se pueden poner sentencias no indentadas entre if y else\n",
    "else:\n",
    "    print(\"Eres menor de edad\")\n",
    "print(\"La edad solo es un número\")"
   ]
  },
  {
   "cell_type": "code",
   "execution_count": 10,
   "metadata": {},
   "outputs": [
    {
     "name": "stdout",
     "output_type": "stream",
     "text": [
      "Eres menor de edad\n",
      "No puedes votar\n",
      "La edad solo es un número\n"
     ]
    }
   ],
   "source": [
    "edad = int(input(\"Indica tu edad: \"))\n",
    "if (edad >= 18):\n",
    "    print(\"Eres mayor de edad\")\n",
    "    print(\"Puedes votar\")\n",
    "else:\n",
    "    print(\"Eres menor de edad\")\n",
    "    print(\"No puedes votar\")\n",
    "print(\"La edad solo es un número\")"
   ]
  },
  {
   "cell_type": "markdown",
   "metadata": {},
   "source": [
    "## Sentencia condicional `elif`\n",
    "\n",
    "Sirve para indicar alternativas. Es la forma abreviada de *else if*. Permite indicar una nueva condición si no se cumplieron las anteriores.\n",
    "\n",
    "```python\n",
    "if el_tiempo_es_bueno:\n",
    "    dar_un_paseo()\n",
    "elif quedan_entradas:\n",
    "    ir_al_teatro()\n",
    "elif hay_mesa_disponible:\n",
    "    ir_a_comer()\n",
    "else:\n",
    "    jugar_al_ajedrez_en_casa()\n",
    "```"
   ]
  },
  {
   "cell_type": "code",
   "execution_count": null,
   "metadata": {},
   "outputs": [],
   "source": [
    "edad = int(input(\"Indica tu edad: \"))\n",
    "if (edad < 18):\n",
    "    print(\"Eres menor de edad\")\n",
    "elif (edad < 65): # No hay que volver a comprobar que edad >= 18 porque ya lo hemos hecho antes, si no lo fuera, no llegaría aquí\n",
    "    print(\"Eres adulto\")\n",
    "else:\n",
    "    print(\"Estás jubilado\")"
   ]
  },
  {
   "cell_type": "markdown",
   "metadata": {},
   "source": [
    "## Aclaraciones de las sentencias condicionales\n",
    "\n",
    "- En una estructura de tipo condicional **COMO MUCHO** se ejecuta una de las ramas.\n",
    "- No debes usar `else` sin un `if` precedente.\n",
    "- `else` siempre es la última rama de la cascada, independientemente de si has usado `elif` o no.\n",
    "- `else` es una parte opcional de la cascada, y puede omitirse.\n",
    "- Si hay una rama `else` en la cascada, siempre se ejecuta una (y solo una) de todas las ramas.\n",
    "- Si no hay una rama `else`, es posible que no se ejecute ninguna de las opciones disponibles."
   ]
  },
  {
   "cell_type": "markdown",
   "metadata": {},
   "source": [
    "## Sentencias `if-elif-else` anidadas\n",
    "\n",
    "Pueden escribirse otras sentencias `if-elif-else` dentro de cualquiera de las cláusulas de otra sentencia `if-elif-else` anterior."
   ]
  },
  {
   "cell_type": "code",
   "execution_count": 1,
   "metadata": {},
   "outputs": [
    {
     "name": "stdout",
     "output_type": "stream",
     "text": [
      "Trabajando\n"
     ]
    }
   ],
   "source": [
    "edad = int(input(\"Indica tu edad: \"))\n",
    "if (edad < 16):\n",
    "    print(\"No puedes trabajar\")\n",
    "else:\n",
    "    trabajando = input(\"¿Estás trabajando? (s/n): \")\n",
    "    if (trabajando == \"s\"):\n",
    "        print(\"Trabajando\")\n",
    "    else:\n",
    "        print(\"No trabajando\")"
   ]
  },
  {
   "cell_type": "code",
   "execution_count": null,
   "metadata": {},
   "outputs": [],
   "source": [
    "mes= input(\"indica el mes del año\")\n",
    "match mes:\n",
    "    case \"Diciembre\" | \"Octubre \" | \"Noviembre\":\n",
    "        print(\"Tercer trimestre\")\n",
    "    case \"Enero\" | \"Febrero\" | \"Marzo\":\n",
    "        print(\"Primer trimestre\")\n",
    "    case \"Abril\" | \"Mayo\" | \"Junio\":\n",
    "        print(\"Segundo trimestre\")\n",
    "    case _:\n",
    "        print(\"No e encuentra trimestre\")"
   ]
  }
 ],
 "metadata": {
  "kernelspec": {
   "display_name": "Python 3",
   "language": "python",
   "name": "python3"
  },
  "language_info": {
   "codemirror_mode": {
    "name": "ipython",
    "version": 3
   },
   "file_extension": ".py",
   "mimetype": "text/x-python",
   "name": "python",
   "nbconvert_exporter": "python",
   "pygments_lexer": "ipython3",
   "version": "3.12.6"
  },
  "orig_nbformat": 4
 },
 "nbformat": 4,
 "nbformat_minor": 2
}
