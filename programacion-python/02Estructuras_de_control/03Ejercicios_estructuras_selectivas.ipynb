{
 "cells": [
  {
   "cell_type": "markdown",
   "metadata": {},
   "source": [
    "# Ejercicios estructuras selectivas\n",
    "\n",
    "## Ruta\n",
    "Si acabas de empezar a programar, intenta hacer, como mínimo, los ejercicios del 1 al 8. Después intenta el 9 y el 11.\n",
    "\n",
    "Si ya tienes algo de experiencia programando, puedes empezar en el ejercicio 10.\n",
    "\n",
    "## Ejercicio 1\n",
    "\n",
    "Implementa un programa en Python que pida por teclado un número entero y que indique si es par (si es impar, no muestra nada).\n"
   ]
  },
  {
   "cell_type": "code",
   "execution_count": 5,
   "metadata": {},
   "outputs": [
    {
     "name": "stdout",
     "output_type": "stream",
     "text": [
      "Es un numero inpar\n"
     ]
    }
   ],
   "source": [
    "numero = int(input(\"Indica un numero: \"))\n",
    "resultado = int (numero/2)\n",
    "if (resultado == 0):\n",
    "    print(\"Es un numero par\")\n",
    "else:\n",
    "    print(\"                \")"
   ]
  },
  {
   "cell_type": "markdown",
   "metadata": {},
   "source": [
    "## Ejercicio 2\n",
    "\n",
    "Modifica el programa para que indique si es par o impar."
   ]
  },
  {
   "cell_type": "code",
   "execution_count": 9,
   "metadata": {},
   "outputs": [
    {
     "name": "stdout",
     "output_type": "stream",
     "text": [
      "Es un numero impar\n"
     ]
    }
   ],
   "source": [
    "numero = int(input(\"Indica un numero: \"))\n",
    "resultado = int (numero/2)\n",
    "if (resultado == 0):\n",
    "    print(\"Es un numero par\")\n",
    "else:\n",
    "    print(\"Es un numero impar\")"
   ]
  },
  {
   "cell_type": "markdown",
   "metadata": {},
   "source": [
    "## Ejercicio 3\n",
    "\n",
    "Implementa un programa en Python que pida dos números por teclado y que muestre por pantalla al menor de los dos (suponemos que no pueden ser iguales).\n"
   ]
  },
  {
   "cell_type": "markdown",
   "metadata": {},
   "source": [
    "## Ejercicio 4\n",
    "\n",
    "Implementa un programa en Python que pida un número por teclado y que muestre por pantalla un mensaje indicando si es o no negativo. El 0 no es negativo."
   ]
  },
  {
   "cell_type": "markdown",
   "metadata": {},
   "source": [
    "## Ejercicio 5\n",
    "\n",
    "Implementa un programa en Python que pida tres números por teclado y muestre por pantalla el mayor de los tres.\n",
    "\n",
    "**VERSIÓN AVANZADA**: Busca información sobre la función `max()` e intenta resolverlo con ella (no necesitarás estructuras selectivas). Busca también la función `min()` y muestra el mayor y el menor de ellos."
   ]
  },
  {
   "cell_type": "markdown",
   "metadata": {},
   "source": [
    "\n",
    "## Ejercicio 6\n",
    "\n",
    "Modifica el ejercicio 4 para que indique si el número es positivo, negativo o cero."
   ]
  },
  {
   "cell_type": "code",
   "execution_count": 10,
   "metadata": {},
   "outputs": [
    {
     "name": "stdout",
     "output_type": "stream",
     "text": [
      "-5 es negativo\n"
     ]
    }
   ],
   "source": [
    "numero = int(input(\"Escribe un número: \"))\n",
    "if numero < 0:\n",
    "    print(numero, \"es negativo\")\n",
    "elif numero == 0:\n",
    "    print(numero, \"es cero\")\n",
    "else:\n",
    "    print(numero, \"es positivo\")"
   ]
  },
  {
   "cell_type": "markdown",
   "metadata": {},
   "source": [
    "## Ejercicio 7\n",
    "\n",
    "Implementa un programa en Python que pida un número del 1 al 12 por teclado y que muestre por pantalla el nombre del mes correspondiente.\n"
   ]
  },
  {
   "cell_type": "code",
   "execution_count": 16,
   "metadata": {},
   "outputs": [
    {
     "name": "stdout",
     "output_type": "stream",
     "text": [
      "Mes incorrecto\n"
     ]
    }
   ],
   "source": [
    "mes = input(\"Escribe un mes: \")\n",
    "if mes == \"1\": # Se pone como cadena porque no lo convierto\n",
    "    print(\"Enero\")\n",
    "elif mes == \"2\":\n",
    "    print(\"Febrero\")\n",
    "else:\n",
    "    print(\"Mes incorrecto\")"
   ]
  },
  {
   "cell_type": "markdown",
   "metadata": {},
   "source": [
    "## Ejercicio 8\n",
    "\n",
    "Implementa un programa en Python para mostrar por pantalla la calificación de una nota a partir de la puntuación introducida por teclado:\n",
    "\n",
    "- [0,5) Suspenso\n",
    "- [5,6) Aprobado\n",
    "- [6,7) Bien\n",
    "- [7,9) Notable\n",
    "- [9,10] Sobresaliente\n"
   ]
  },
  {
   "cell_type": "code",
   "execution_count": 2,
   "metadata": {},
   "outputs": [
    {
     "ename": "SyntaxError",
     "evalue": "incomplete input (3317571196.py, line 15)",
     "output_type": "error",
     "traceback": [
      "\u001b[1;36m  Cell \u001b[1;32mIn[2], line 15\u001b[1;36m\u001b[0m\n\u001b[1;33m    # De 7,9 = Sobre saliente\u001b[0m\n\u001b[1;37m                             ^\u001b[0m\n\u001b[1;31mSyntaxError\u001b[0m\u001b[1;31m:\u001b[0m incomplete input\n"
     ]
    }
   ],
   "source": [
    "calificacion = input(int())\n",
    "# De 0 5 = Suspenso\n",
    "if (calificacion >=0)  and ( calificacion <= 5):\n",
    "    print(\"Suspenso:\")\n",
    "# De 5 6 = AProbado\n",
    "elif (calificacion >5) and ( calificacion <= 6):\n",
    "    print(\"Aprobado:\")\n",
    "# De 6 7  = Bien\n",
    "elif (calificacion >=6) and ( calificacion <= 7):\n",
    "    print(\"Bien:\")\n",
    "# De 7,9 = Notable\n",
    "elif (calificacion >=7) and ( calificacion <= 9):\n",
    " print(\"Bien:\")\n",
    "    \n",
    "# De 7,9 = Sobre saliente"
   ]
  },
  {
   "cell_type": "markdown",
   "metadata": {},
   "source": [
    "## Ejercicio 9\n",
    "\n",
    "Tu ordenador es *fan* de la serie *Game of Thrones* y no admite discusión al respeto, además, es muy purista y solo admite el título original.\n",
    "\n",
    "Crea un programa que pregunte al usuario cuál es su serie favorita y responda lo siguiente, según la contestación del usuario:\n",
    "\n",
    "- Si el usuario contesta “Game of Thrones” el ordenador responderá: `“Por supuesto, Game of Thrones es la mejor serie de la historia!”`\n",
    "- Si el usuario responde “Juego de Tronos” el ordenador responderá: `“No se dice \\<entrada\\>, se dice Game of Thrones”`\n",
    "- En caso contrario, responderá: `“No, la mejor es Game of Thrones!”`\n",
    "\n",
    "**VERSIÓN AVANZADA**: Busca información sobre los métodos `lower()` y `upper()` para poder contestar lo mismo independientemente de cómo el usuario combine mayúsculas y minúsculas."
   ]
  },
  {
   "cell_type": "code",
   "execution_count": 3,
   "metadata": {},
   "outputs": [
    {
     "name": "stdout",
     "output_type": "stream",
     "text": [
      "No, la mejor es Game of Thrones!\n"
     ]
    }
   ],
   "source": [
    "def preguntar_serie_favorita():\n",
    "    # Pregunta al usuario por su serie favorita\n",
    "    serie_favorita = input(\"¿Cuál es tu serie favorita? \").strip()\n",
    "\n",
    "    # Convierte la entrada a minúsculas para comparaciones\n",
    "    serie_favorita_lower = serie_favorita.lower()\n",
    "\n",
    "    # Respuestas según la entrada del usuario\n",
    "    if serie_favorita_lower == \"game of thrones\":\n",
    "        print(\"Por supuesto, Game of Thrones es la mejor serie de la historia!\")\n",
    "    elif serie_favorita_lower == \"juego de tronos\":\n",
    "        print(f\"No se dice {serie_favorita}, se dice Game of Thrones\")\n",
    "    else:\n",
    "        print(\"No, la mejor es Game of Thrones!\")\n",
    "\n",
    "# Llamar a la función para ejecutar el programa\n",
    "preguntar_serie_favorita()"
   ]
  },
  {
   "cell_type": "markdown",
   "metadata": {},
   "source": [
    "## Ejercicio 10\n",
    "\n",
    "Implementa un programa en Python que pida un año por teclado y que indique si es bisiesto o no.\n",
    "\n",
    "Si el año no es divisible entre cuatro, no es bisiesto.\n",
    "- En caso contrario, si el año no es divisible entre 100, es bisiesto.\n",
    "- En caso contrario, si el año no es divisible entre 400, no es bisiesto.\n",
    "- En caso contrario, es bisesto.\n",
    "Emplea la construcción `if-elif-else`.\n",
    "\n",
    "**VERSIÓN AVANZADA**: ¿Serías capaz de hacerlo solamente con un `if-else` y una única condición?\n",
    "\n",
    "|Ano|\tResultado|\n",
    "|-|-|\n",
    "|2000|\tBisiesto|\n",
    "|2015|\tNo bisiesto|\n",
    "|1999|\tNo bisiesto|\n",
    "|1996|\tBisiesto|\n",
    "|1900|\tNo bisiesto|\n"
   ]
  },
  {
   "cell_type": "code",
   "execution_count": 4,
   "metadata": {},
   "outputs": [
    {
     "name": "stdout",
     "output_type": "stream",
     "text": [
      "El año 2024 es bisiesto.\n"
     ]
    }
   ],
   "source": [
    "def es_bisiesto(ano):\n",
    "    return (ano % 4 == 0 and (ano % 100 != 0 or ano % 400 == 0))\n",
    "\n",
    "# Solicitar al usuario que ingrese un año\n",
    "ano = int(input(\"Introduce un año: \"))\n",
    "\n",
    "# Determinar si el año es bisiesto y mostrar el resultado\n",
    "if es_bisiesto(ano):\n",
    "    print(f\"El año {ano} es bisiesto.\")\n",
    "else:\n",
    "    print(f\"El año {ano} no es bisiesto.\")"
   ]
  },
  {
   "cell_type": "code",
   "execution_count": null,
   "metadata": {},
   "outputs": [],
   "source": []
  },
  {
   "cell_type": "markdown",
   "metadata": {},
   "source": [
    "# Ejercicios de estructuras selectivas y operadores"
   ]
  },
  {
   "cell_type": "markdown",
   "metadata": {},
   "source": [
    "## Ejercicio 11\n",
    "\n",
    "Había una vez una tierra próspera y feliz. La gente pagaba impuestos, por supuesto, la felicidad tenía límites. Estos impuestos se pagaban una vez al año segundo los siguientes criterios:\n",
    "- Si la persona no cobraba más de 85528 thalers, el impuesto era el 18% de las ganancias menos 556,02 thalers.\n",
    "- Si las ganancias eran mayores, el impuesto era 14839,02 thalers sumados a un 32% del exceso de las ganancias por encima de los 85528 thalers.\n",
    "\n",
    "Debe aceptar un valor real y mostrar el cálculo del impuesto sin decimales. El gobierno de este país nunca devuelve dinero a sus habitantes, por lo que se el valor del impuesto es negativo, deberá indicar 0.\n",
    "\n",
    "|Ganancias|\tImpuesto|\n",
    "|-|-|\n",
    "|10000 thalers|\t1244 thalers|\n",
    "|100000 thalers|\t19470 thalers|\n",
    "|1000 thalers|\t0 thalers|\n",
    "|100 thalers|\t0 thalers|\n"
   ]
  },
  {
   "cell_type": "code",
   "execution_count": 6,
   "metadata": {},
   "outputs": [
    {
     "name": "stdout",
     "output_type": "stream",
     "text": [
      "Este año no te toca pagar\n"
     ]
    }
   ],
   "source": [
    "ingresos = int(input(\"Escribe cuanto cobras\"))\n",
    "if ((ingresos * 0.18 - 556.02) < 0):\n",
    "    print(\"Este año no te toca pagar\")\n",
    "elif (ingresos <= 85528):\n",
    "    print(round(ingresos * 0.18 - 556.02))\n",
    "else:\n",
    "    print(round((ingresos - 85528) * 0.32 +14839.02))"
   ]
  },
  {
   "cell_type": "markdown",
   "metadata": {},
   "source": [
    "## Ejercicio 12\n",
    "\n",
    "Crea una calculadora del mundo mágico de Harry Potter, que convirta galeones, sickels y knuts. Debe ofrecer inicialmente un menú en el que se indiquen las siguientes opciones:\n",
    "- Conversión de galeones a sickels.\n",
    "- Conversión de galeones a knuts.\n",
    "- Conversión de sickles a knuts.\n",
    "- Conversión de knuts a galeones, sickles y knuts (mínimo número de monedas posibles).\n",
    "\n",
    "Recuerda que:\n",
    "- 1 galeón = 17 sickles\n",
    "- 1 sickle = 29 knuts\n",
    "\n",
    "**DATOS DE PRUEBA**\n",
    "|Galeones|Sickles|Knuts|\n",
    "|-|-|-|\n",
    "|10 galeones|170 sickles|4930knuts|\n",
    "|45 galeones|765 sickles|22185knuts|\n",
    "\n",
    "Opción 4\n",
    "\n",
    "|knuts|galeones, sicles, knuts|\n",
    "|-|-|\n",
    "|1000 knuts|2 galeones, 0 sickles y 14 knuts|\n",
    "|36786 knuts|74 galeones,  10 sickles y 14 knuts|\n"
   ]
  },
  {
   "cell_type": "code",
   "execution_count": 19,
   "metadata": {},
   "outputs": [
    {
     "name": "stdout",
     "output_type": "stream",
     "text": [
      "¿Qué unidades quieres convertir?\n",
      "Puedes elegir entre\n",
      " a) Galeones a sickles\n",
      " b) Galeones a knuts\n",
      " c) Sickles a knuts\n",
      " d) Knuts a galeones, sickles y knuts\n",
      "Eso viene siendo 2 galeones 0 sickles y 14 knuts\n"
     ]
    }
   ],
   "source": [
    "conversion = input(print(\"¿Qué unidades quieres convertir?\\nPuedes elegir entre\\n a) Galeones a sickles\\n b) Galeones a knuts\\n c) Sickles a knuts\\n d) Knuts a galeones, sickles y knuts\"))\n",
    "\n",
    "if (conversion == \"a\"):\n",
    "     galeones = int(input(\"¿cuántos galeones dices que tienes? \\n\"))\n",
    "     print (\"Eso son\", galeones * 17, \"sickles\")\n",
    "elif (conversion == \"b\"):\n",
    "     galeones = int (input (\"¿de cuántos galeones estamos hablando?\\n\"))\n",
    "     print (\"Eso son\", galeones * 493, \"knuts\")\n",
    "elif (conversion == \"с\"):\n",
    "    sickles = int(input(\"¿cuántos sickles dices que tienes\\n\"))\n",
    "    print (\"Bah, eso solo son\", sickles * 29, \"knuts\")\n",
    "elif (conversion == \"d\"):\n",
    "    knuts = int(input(\"a ver, dime cuántos knuts quieres convertir\\n\"))\n",
    "    print (\"Eso viene siendo\", round (knuts / 29 // 17),\"galeones\", (knuts // 29) % 17, \"sickles y\", knuts % 29, \"knuts\")\n",
    "else:\n",
    "    print(\"No me hagas perder el tiempo sangre sucia, solo soy un conversor de divisas\")\n",
    "\n"
   ]
  },
  {
   "cell_type": "markdown",
   "metadata": {},
   "source": [
    "## Ejercicio 13\n",
    "\n",
    "Implementa un programa en Python que pida el día, mes y año de una fecha correcta y muestre la fecha del día siguiente. Supón que todos los meses tienen 30 días.\n",
    "\n",
    "**VERSIÓN AVANZADA**: Intenta utilizar la operación módulo."
   ]
  },
  {
   "cell_type": "code",
   "execution_count": 11,
   "metadata": {},
   "outputs": [
    {
     "name": "stdout",
     "output_type": "stream",
     "text": [
      "fecha: 1  / 1 / 25\n"
     ]
    }
   ],
   "source": [
    " # Incrementar el día\n",
    "\n",
    "dia = int(input(\"Introduce el día: \"))\n",
    "mes = int(input(\"Introduce el mes: \"))\n",
    "ano = int(input(\"Introduce el año: \"))\n",
    "\n",
    "if dia >= 1 and dia <= 30  and mes >=1 and mes <=12 and ano >0:   # Verificar si el día supera los 30\n",
    "      if dia == 30: \n",
    "        dia = 1\n",
    "        mes += 1\n",
    "        \n",
    "        # Verificar si el mes supera los 12\n",
    "        if mes > 12:\n",
    "            mes = 1\n",
    "            ano += 1\n",
    "        print(\"fecha:\", dia,\" /\", mes,\"/\",ano)\n",
    "else:\n",
    "    print(\"FECHA INCORRECTA\")\n",
    "\n",
    "\n"
   ]
  },
  {
   "cell_type": "code",
   "execution_count": 14,
   "metadata": {},
   "outputs": [
    {
     "name": "stdout",
     "output_type": "stream",
     "text": [
      "El dia siguiente2/2/24\n"
     ]
    }
   ],
   "source": [
    " # Incrementar el día\n",
    "# Partiendo del supuesto que tenga 30 dias\n",
    "\n",
    "dia = int(input(\"Introduce el día: \"))\n",
    "mes = int(input(\"Introduce el mes: \"))\n",
    "ano = int(input(\"Introduce el año: \"))\n",
    "\n",
    "dia_man= (dia%30) + 1\n",
    "mes_man = ((mes%12) + (dia+1) // 31)\n",
    "ano_man=ano+(dia*mes+1)//361\n",
    "\n",
    "print(\"El dia siguiente\", dia_man,\"/\", mes_man,\"/\",ano_man,sep=\"\" )"
   ]
  },
  {
   "cell_type": "code",
   "execution_count": null,
   "metadata": {},
   "outputs": [],
   "source": []
  },
  {
   "cell_type": "markdown",
   "metadata": {},
   "source": [
    ">Ejercicio 14 \n",
    "\n",
    "imprementa un programa en python que pida un dia de la semana y devuelva si es o no fin de semana\n"
   ]
  },
  {
   "cell_type": "code",
   "execution_count": 2,
   "metadata": {},
   "outputs": [
    {
     "name": "stdout",
     "output_type": "stream",
     "text": [
      "No e encuentra trimestre\n"
     ]
    }
   ],
   "source": [
    "dia=input(\"Dime un dia de la semana: \")\n",
    "\n",
    "\n",
    "match dia.lower():\n",
    "    case \"sabado\" | \"domingo\":\n",
    "        print(\"fin de semanada\")\n",
    "    case \"lunes\" | \"martes\"|\"miercoles\" | \"jueves\"|\"viernes\":\n",
    "        print(\"semanana\")\n",
    "    case _:\n",
    "        print(\"Dia Incorrecto\")\n"
   ]
  },
  {
   "cell_type": "code",
   "execution_count": null,
   "metadata": {},
   "outputs": [],
   "source": [
    "\n"
   ]
  },
  {
   "cell_type": "markdown",
   "metadata": {},
   "source": [
    "Convertir el siguiente caso a machcase"
   ]
  },
  {
   "cell_type": "code",
   "execution_count": null,
   "metadata": {},
   "outputs": [],
   "source": [
    "calificacion = input(int())\n",
    "# De 0 5 = Suspenso\n",
    "if (calificacion >=0)  and ( calificacion <= 5):\n",
    "    print(\"Suspenso:\")\n",
    "# De 5 6 = AProbado\n",
    "elif (calificacion >5) and ( calificacion <= 6):\n",
    "    print(\"Aprobado:\")\n",
    "# De 6 7  = Bien\n",
    "elif (calificacion >=6) and ( calificacion <= 7):\n",
    "    print(\"Bien:\")\n",
    "# De 7,9 = Notable\n",
    "elif (calificacion >=7) and ( calificacion <= 9):\n",
    " print(\"Bien:\")"
   ]
  }
 ],
 "metadata": {
  "kernelspec": {
   "display_name": "Python 3",
   "language": "python",
   "name": "python3"
  },
  "language_info": {
   "codemirror_mode": {
    "name": "ipython",
    "version": 3
   },
   "file_extension": ".py",
   "mimetype": "text/x-python",
   "name": "python",
   "nbconvert_exporter": "python",
   "pygments_lexer": "ipython3",
   "version": "3.12.6"
  },
  "orig_nbformat": 4
 },
 "nbformat": 4,
 "nbformat_minor": 2
}
