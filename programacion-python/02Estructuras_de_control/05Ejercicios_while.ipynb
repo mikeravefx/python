{
 "cells": [
  {
   "cell_type": "markdown",
   "metadata": {},
   "source": [
    "# Ejercicios `while`"
   ]
  },
  {
   "cell_type": "markdown",
   "metadata": {},
   "source": [
    "## Hoja de ruta\n",
    "Si acabas de empezar a programar, deberías ser capaz de resolver los ejercicios del 1 al 4."
   ]
  },
  {
   "cell_type": "markdown",
   "metadata": {},
   "source": [
    "## Ejercicio 1\n",
    "\n",
    "Pide al usuario que escriba una contraseña y utiliza un bucle while para seguir pidiendo la contraseña hasta que coincida aquella almacenada previamente en una variable."
   ]
  },
  {
   "cell_type": "code",
   "execution_count": 3,
   "metadata": {},
   "outputs": [
    {
     "name": "stdout",
     "output_type": "stream",
     "text": [
      "Acertastes\n"
     ]
    }
   ],
   "source": [
    "dpassword = 'miguel'\n",
    "intento= input(\"Introduce password\")\n",
    "\n",
    "while intento != password:\n",
    "    print(\"Password Erroneo\")\n",
    "    intento= input(\"Introduce password\")\n",
    "print(\"Acertastes\")"
   ]
  },
  {
   "cell_type": "code",
   "execution_count": 1,
   "metadata": {},
   "outputs": [
    {
     "name": "stdout",
     "output_type": "stream",
     "text": [
      "Acertaches!\n"
     ]
    }
   ],
   "source": [
    "contrasinal = \"renaido\"\n",
    "intento = input(\"Introduce o teu contrasinal\")\n",
    "\n",
    "while intento != contrasinal:\n",
    "    print(\"Contrasinal erróneo\")\n",
    "    intento = input(\"Introduce o teu contrasinal\")\n",
    "print(\"Acertaches!\")"
   ]
  },
  {
   "cell_type": "code",
   "execution_count": 3,
   "metadata": {},
   "outputs": [
    {
     "name": "stdout",
     "output_type": "stream",
     "text": [
      "Password Erroneo\n",
      "Password Erroneo\n",
      "Password Erroneo\n",
      "Password Erroneo\n",
      "Acertastes\n"
     ]
    }
   ],
   "source": [
    "password = 'miguel'\n",
    "intento= input(\"Introduce password\")\n",
    "\n",
    "while intento != password:\n",
    "    print(\"Password Erroneo\")\n",
    "    intento= input(\"Introduce password\")\n",
    "print(\"Acertastes\")"
   ]
  },
  {
   "cell_type": "code",
   "execution_count": null,
   "metadata": {},
   "outputs": [],
   "source": []
  },
  {
   "cell_type": "markdown",
   "metadata": {},
   "source": [
    "## Ejercicio 2\n",
    "\n",
    "Implementa un programa que muestre continuamente este menú hasta que el usuario elija la opción de salir:\n",
    "```\n",
    "    1. Saludar\n",
    "    2. Despedir\n",
    "    3. Salir\n",
    "```\n",
    "\n",
    "Si el usuario elige \"Saludar\", el programa escribirá \"Hola\"; si elige \"Despedir\", escribirá \"Adiós\"; si elige \"Salir\", se detendrá la ejecución del programa."
   ]
  },
  {
   "cell_type": "code",
   "execution_count": 1,
   "metadata": {},
   "outputs": [
    {
     "name": "stdout",
     "output_type": "stream",
     "text": [
      "\n",
      "  1. Saludar\n",
      "    2. Despedir\n",
      "    3. Salir\n",
      "Opción no válida. Por favor, elige una opción del 1 al 3.\n",
      "\n",
      "  1. Saludar\n",
      "    2. Despedir\n",
      "    3. Salir\n",
      "Saliendo del programa...\n"
     ]
    }
   ],
   "source": [
    "def mostrar_menu():\n",
    "    while True:\n",
    "        print(\"\\n  1. Saludar\")\n",
    "        print(\"    2. Despedir\")\n",
    "        print(\"    3. Salir\")\n",
    "        \n",
    "        # Solicitar al usuario que elija una opción\n",
    "        opcion = input(\"Elige una opción: \")\n",
    "        \n",
    "        if   opcion == \"1\":\n",
    "            print(\"Hola\")\n",
    "        elif opcion == \"2\":\n",
    "            print(\"Adiós\")\n",
    "        elif opcion == \"3\":\n",
    "            print(\"Saliendo del programa...\")\n",
    "            break\n",
    "        else:\n",
    "            print(\"Opción no válida. Por favor, elige una opción del 1 al 3.\")\n",
    "\n",
    "# Llamar a la función para ejecutar el programa\n",
    "mostrar_menu()"
   ]
  },
  {
   "cell_type": "markdown",
   "metadata": {},
   "source": [
    "\n",
    "## Ejercicio 3\n",
    "\n",
    "Implementa un programa que muestre al usuario los múltiplos de un número:\n",
    "\n",
    "1. Inicialmente, pregunta al usuario el número del que mostrar los múltiplos.\n",
    "2. A continuación, muestra cada múltiplo y pregunta al usuario si quiere seguir mostrando múltiplos.\n",
    "3. El programa continúa hasta que el usuario dice que no quiere ver más múltiplos.\n",
    "\n",
    "Ejemplo de ejecución:\n",
    "\n",
    "```\n",
    "Escribe un número para ver sus múltiplos: 3\n",
    "3\n",
    "¿Quiere ver más múltiplos? (s/n): s\n",
    "6\n",
    "¿Quiere ver más múltiplos? (s/n): s\n",
    "9\n",
    "¿Quiere ver más múltiplos? (s/n): n\n",
    "¡Hasta luego!\n",
    "```"
   ]
  },
  {
   "cell_type": "code",
   "execution_count": 1,
   "metadata": {},
   "outputs": [
    {
     "name": "stdout",
     "output_type": "stream",
     "text": [
      "Múltiplo 1: 20\n",
      "Múltiplo 2: 40\n",
      "Múltiplo 3: 60\n",
      "Múltiplo 4: 80\n",
      "Múltiplo 5: 100\n",
      "Múltiplo 6: 120\n",
      "Múltiplo 7: 140\n",
      "Múltiplo 8: 160\n",
      "Múltiplo 9: 180\n",
      "Programa terminado.\n"
     ]
    }
   ],
   "source": [
    "def mostrar_multiplos():\n",
    "    # Solicitar al usuario que ingrese el número del que mostrar los múltiplos\n",
    "    numero = int(input(\"Introduce el número del que quieres ver los múltiplos: \"))\n",
    "    multiplo = 1\n",
    "    \n",
    "    while True:\n",
    "        # Mostrar el múltiplo actual\n",
    "        print(f\"Múltiplo {multiplo}: {numero * multiplo}\")\n",
    "        \n",
    "        # Preguntar al usuario si quiere seguir mostrando múltiplos\n",
    "        continuar = input(\"¿Quieres ver el siguiente múltiplo? (s/n): \").strip().lower()\n",
    "        \n",
    "        if continuar != 's':\n",
    "            print(\"Programa terminado.\")\n",
    "            break\n",
    "        \n",
    "        # Incrementar el contador de múltiplos\n",
    "        multiplo += 1\n",
    "\n",
    "# Llamar a la función para ejecutar el programa\n",
    "mostrar_multiplos()"
   ]
  },
  {
   "cell_type": "code",
   "execution_count": 12,
   "metadata": {},
   "outputs": [
    {
     "name": "stdout",
     "output_type": "stream",
     "text": [
      "5\n",
      "10\n",
      "15\n",
      "20\n",
      "25\n",
      "30\n",
      "35\n",
      "40\n",
      "45\n",
      "50\n"
     ]
    }
   ],
   "source": [
    "numero =int(input(\"Dime el numero para los que quieres saber os multiplos\"))\n",
    "num_multiplos =int(input(\"Dime el numero de multiplos\"))\n",
    "for multiplo in range(numero,numero * num_multiplos+1,numero):\n",
    " print(multiplo)"
   ]
  },
  {
   "cell_type": "code",
   "execution_count": 11,
   "metadata": {},
   "outputs": [
    {
     "name": "stdout",
     "output_type": "stream",
     "text": [
      "10\n",
      "20\n",
      "30\n",
      "40\n",
      "50\n",
      "60\n",
      "70\n",
      "80\n",
      "90\n",
      "100\n",
      "110\n",
      "120\n",
      "130\n",
      "140\n",
      "150\n",
      "160\n",
      "170\n",
      "180\n",
      "190\n"
     ]
    }
   ],
   "source": [
    "numero =int(input(\"Dime el numero para los que quieres saber os multiplos\"))\n",
    "num_multiplos =int(input(\"Dime el numero de multiplos\"))\n",
    "\n",
    "for i in range (1,num_multiplos, +1):\n",
    "    print(numero*i)\n"
   ]
  },
  {
   "cell_type": "code",
   "execution_count": 9,
   "metadata": {},
   "outputs": [
    {
     "name": "stdout",
     "output_type": "stream",
     "text": [
      "5\n",
      "10\n",
      "15\n",
      "20\n",
      "25\n",
      "30\n",
      "35\n",
      "40\n",
      "45\n",
      "50\n",
      "55\n",
      "60\n",
      "65\n",
      "70\n",
      "75\n",
      "80\n",
      "85\n",
      "90\n"
     ]
    }
   ],
   "source": [
    "numero= int(input(\"Indroduzca numero\"))\n",
    "respuesta='s'\n",
    "multiplo=0\n",
    "while respuesta != \"n\":\n",
    "    multiplo= multiplo+numero\n",
    "    print(multiplo)\n",
    "    respuesta =input(\"quiere ver optro numero (s/n)\")"
   ]
  },
  {
   "cell_type": "markdown",
   "metadata": {},
   "source": [
    "## Ejercicio 4\n",
    "\n",
    "Una de las pruebas del torneo de los tres magos consiste en salir de una habitación adivinando un número secreto, para eso Dumbledore decidió aprovechar las nuevas tecnologías y quiere que crees un programa en Python que almacene en una variable el número secreto y sea capaz de comprobar tantas veces como sea preciso si los números indicados por los campeones son los correctos, para eso:\n",
    "- Debe preguntar un número hasta que se acierte el correcto.\n",
    "- Si el campeón no acierta, el programa devuelve `“Hahaha, estás atrapado en mi bucle”`\n",
    "- Si el campeón acierta, el programa devuelve `“Bien hecho. Eres libre!”`"
   ]
  },
  {
   "cell_type": "code",
   "execution_count": 2,
   "metadata": {},
   "outputs": [
    {
     "name": "stdout",
     "output_type": "stream",
     "text": [
      "Bien hecho. Eres libre!\n"
     ]
    }
   ],
   "source": [
    "def adivinar_numero_secreto():\n",
    "    # Número secreto almacenado en una variable\n",
    "    numero_secreto = 42\n",
    "    \n",
    "    while True:\n",
    "        # Solicitar al usuario que ingrese un número\n",
    "        numero_usuario = int(input(\"Introduce un número: \"))\n",
    "        \n",
    "        # Comprobar si el número es correcto\n",
    "        if numero_usuario == numero_secreto:\n",
    "            print(\"Bien hecho. Eres libre!\")\n",
    "            break\n",
    "        else:\n",
    "            print(\"Hahaha, estás atrapado en mi bucle\")\n",
    "\n",
    "# Llamar a la función para ejecutar el programa\n",
    "adivinar_numero_secreto()"
   ]
  },
  {
   "cell_type": "code",
   "execution_count": 14,
   "metadata": {},
   "outputs": [
    {
     "name": "stdout",
     "output_type": "stream",
     "text": [
      "Estas atrapado en mi buble\n",
      "Estas atrapado en mi buble\n",
      "Estas atrapado en mi buble\n",
      "Estas atrapado en mi buble\n",
      "Bien hecho, Erer libre\n"
     ]
    }
   ],
   "source": [
    "numero_secreto =1234\n",
    "numero_usuario=0\n",
    "while numero_usuario != numero_secreto:\n",
    "    print(\"Estas atrapado en mi buble\")\n",
    "    numero_usuario = int(input(\"Escribe un numero\"))\n",
    "print(\"Bien hecho, Erer libre\")"
   ]
  },
  {
   "cell_type": "code",
   "execution_count": 10,
   "metadata": {},
   "outputs": [
    {
     "name": "stdout",
     "output_type": "stream",
     "text": [
      "2 x 1 = 2\n",
      "2 x 2 = 4\n",
      "2 x 3 = 6\n",
      "2 x 4 = 8\n",
      "2 x 5 = 10\n",
      "2 x 6 = 12\n",
      "2 x 7 = 14\n",
      "2 x 8 = 16\n",
      "2 x 9 = 18\n",
      "2 x 10 = 20\n"
     ]
    }
   ],
   "source": [
    "# Repetir a mostarar los multiplos de numero que me indiques conciclo for \n",
    "# Solicitar al usuario que ingrese un número\n",
    "numero = int(input(\"Ingrese un número: \"))\n",
    "\n",
    "# Solicitar al usuario que ingrese la cantidad de múltiplos que desea ver\n",
    "cantidad = int(input(\"¿Cuántos múltiplos quieres ver? \"))\n",
    "\n",
    "# Bucle for para mostrar los múltiplos del número indicado\n",
    "for i in range(1, cantidad + 1):\n",
    "    print(f\"{numero} x {i} = {numero * i}\")"
   ]
  },
  {
   "cell_type": "code",
   "execution_count": null,
   "metadata": {},
   "outputs": [],
   "source": []
  },
  {
   "cell_type": "markdown",
   "metadata": {},
   "source": [
    "\n",
    "## Ejercicio 5\n",
    "\n",
    "\n",
    "Implementa un programa que calcule cuantos números naturales (1, 2, 3, 4...) debemos sumar en secuencia para obtener por lo menos un valor de 200000, es decir: hasta qué valor llegará el sumatorio `1 + 2 + 3 + 4 + 5 + ...` para que la suma alcance el valor 200000? Debes devolver el último número que se suma.\n",
    "\n",
    "El resultado es 632."
   ]
  },
  {
   "cell_type": "code",
   "execution_count": 3,
   "metadata": {},
   "outputs": [
    {
     "name": "stdout",
     "output_type": "stream",
     "text": [
      "El último número que se suma para alcanzar al menos 200000 es: 632\n"
     ]
    }
   ],
   "source": [
    "def encontrar_numero():\n",
    "    suma = 0\n",
    "    n = 0\n",
    "    \n",
    "    while suma < 200000:\n",
    "        n += 1\n",
    "        suma += n\n",
    "    \n",
    "    return n\n",
    "\n",
    "# Llamar a la función y mostrar el resultado\n",
    "ultimo_numero = encontrar_numero()\n",
    "print(f\"El último número que se suma para alcanzar al menos 200000 es: {ultimo_numero}\")"
   ]
  },
  {
   "cell_type": "code",
   "execution_count": 21,
   "metadata": {},
   "outputs": [
    {
     "name": "stdout",
     "output_type": "stream",
     "text": [
      "632\n"
     ]
    }
   ],
   "source": [
    "suma = 0\n",
    "numero = 0\n",
    "while suma <= 200000:\n",
    "     numero += 1\n",
    "     suma= suma + numero \n",
    "   \n",
    "print(numero)"
   ]
  },
  {
   "cell_type": "markdown",
   "metadata": {},
   "source": [
    "## Ejercicio 6\n",
    "\n",
    "Implementa un programa que pida por teclado la fecha de nacimiento de una persona (día, mes, año) y calcule su número de la suerte.\n",
    "\n",
    "El número de la suerte se calcula sumando el día, mes y año de la fecha de nacimiento y, a continuación, sumando las cifras obtenidas en la suma.\n",
    "\n",
    "Por ejemplo, si la fecha de nacimiento es 12/07/1980, calculamos el número de la suerte así: 12 + 7 + 1980 = 1999  -> 1+9+9+9 = 28\n",
    "\n",
    "Número de la suerte: 28\n"
   ]
  },
  {
   "cell_type": "code",
   "execution_count": 3,
   "metadata": {},
   "outputs": [
    {
     "name": "stdout",
     "output_type": "stream",
     "text": [
      "Tu número de la suerte es: 22\n"
     ]
    }
   ],
   "source": [
    "def calcular_numero_de_la_suerte(dia, mes, ano):\n",
    "    # Sumar día, mes y año\n",
    "    suma_total = dia + mes + ano\n",
    "    \n",
    "    # Convertir la suma a una cadena para poder sumar sus dígitos\n",
    "    suma_str = str(suma_total)\n",
    "    \n",
    "    # Sumar los dígitos de la suma total\n",
    "    suma_digitos = sum(int(digito) for digito in suma_str)\n",
    "    \n",
    "    return suma_digitos\n",
    "\n",
    "# Solicitar al usuario que ingrese su fecha de nacimiento\n",
    "dia = int(input(\"Introduce el día de nacimiento: \"))\n",
    "mes = int(input(\"Introduce el mes de nacimiento: \"))\n",
    "ano = int(input(\"Introduce el año de nacimiento: \"))\n",
    "\n",
    "# Calcular el número de la suerte\n",
    "numero_de_la_suerte = calcular_numero_de_la_suerte(dia, mes, ano)\n",
    "\n",
    "# Mostrar el número de la suerte\n",
    "print(f\"Tu número de la suerte es: {numero_de_la_suerte}\")"
   ]
  },
  {
   "cell_type": "code",
   "execution_count": 14,
   "metadata": {},
   "outputs": [
    {
     "name": "stdout",
     "output_type": "stream",
     "text": [
      "19\n"
     ]
    }
   ],
   "source": [
    "num_suerte = 0\n",
    "dia = int(input(\"Introduce el día de nacimiento: \"))\n",
    "mes = int(input(\"Introduce el mes de nacimiento: \"))\n",
    "ano = int(input(\"Introduce el año de nacimiento: \"))\n",
    "suma = dia+mes+ano\n",
    "while suma != 0:\n",
    "    cifra= suma % 10\n",
    "    suma = suma// 10\n",
    "    num_suerte += cifra \n",
    "    # num_suerte = num suerte + cifra\n",
    "print(num_suerte)    "
   ]
  },
  {
   "cell_type": "code",
   "execution_count": 1,
   "metadata": {},
   "outputs": [
    {
     "name": "stdout",
     "output_type": "stream",
     "text": [
      "Introduce tu fecha de nacimiento:\n",
      "10\n"
     ]
    }
   ],
   "source": [
    "\n",
    "print(\"Introduce tu fecha de nacimiento:\")\n",
    "dia = int(input(\"Día: \"))\n",
    "mes = int(input(\"Mes: \"))\n",
    "anho = int(input(\"Año: \"))\n",
    "\n",
    "suma = dia + mes + anho\n",
    "num_suerte = 0\n",
    "\n",
    "while suma != 0:\n",
    "    num_suerte += suma % 10\n",
    "    suma = suma // 10\n",
    "\n",
    "print(num_suerte)"
   ]
  }
 ],
 "metadata": {
  "kernelspec": {
   "display_name": "Python 3",
   "language": "python",
   "name": "python3"
  },
  "language_info": {
   "codemirror_mode": {
    "name": "ipython",
    "version": 3
   },
   "file_extension": ".py",
   "mimetype": "text/x-python",
   "name": "python",
   "nbconvert_exporter": "python",
   "pygments_lexer": "ipython3",
   "version": "3.12.6"
  },
  "orig_nbformat": 4
 },
 "nbformat": 4,
 "nbformat_minor": 2
}
