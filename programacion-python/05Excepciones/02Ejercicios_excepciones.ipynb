{
 "cells": [
  {
   "cell_type": "markdown",
   "metadata": {},
   "source": [
    "# Ejercicios\n",
    "\n",
    "## Ejercicio 1\n",
    "\n",
    "Crea un programa en Python que tenga definido una lista de 7 posiciones que representan la temperatura máxima de cada día de la semana en una ciudad.\n",
    "\n",
    "Solicita al usuario que introduzca dos posiciones, y calculará la temperatura media entre esos días. Si los valores introducidos no son válidos, por estar fuera de los límites de la lista se capturará la excepción y la media será cero."
   ]
  },
  {
   "cell_type": "markdown",
   "metadata": {},
   "source": [
    "## Ejercicio 2\n",
    "Usando control de excepciones, crea un programa que solicite al usuario un número y muestre por pantalla el valor de la raíz cuadrada de ese número. Si el número es negativo se mostrará un mensaje indicando que no es posible calcular la raíz cuadrada de un número negativo."
   ]
  },
  {
   "cell_type": "markdown",
   "metadata": {},
   "source": [
    "## Ejercicio 3\n",
    "Modifica el programa anterior para que el programa siga pidiendo un valor hasta que el usuario introduzca un número positivo."
   ]
  },
  {
   "cell_type": "markdown",
   "metadata": {},
   "source": [
    "## Ejercicio 4\n",
    "\n",
    "Investiga el funcionamiento del método `index()` de las listas. ¿Qué ocurre si el elemento no se encuentra en la lista?\n",
    "\n",
    "Crea una lista con los nombres de los meses del año. Solicita al usuario que introduzca un nombre de mes. Si el nombre se encuentra en la lista, se mostrará el número de mes. Si el nombre no se encuentra en la lista, se mostrará un mensaje indicando que no existe ese mes, y se volverá a solicitar al usuario que introduzca un nombre de mes, hasta que introduzca el nombre de un mes válido."
   ]
  },
  {
   "cell_type": "markdown",
   "metadata": {},
   "source": [
    "## Ejercicio 5\n",
    "\n",
    "Volviendo a utilizar el método `index()` de las listas, a partir de una lista con los nombres de las personas que forman un grupo, solicita al usuario que introduzca un nombre y cuenta cuántas veces aparece dicho nombre en la lista."
   ]
  }
 ],
 "metadata": {
  "kernelspec": {
   "display_name": "Python 3",
   "language": "python",
   "name": "python3"
  },
  "language_info": {
   "codemirror_mode": {
    "name": "ipython",
    "version": 3
   },
   "file_extension": ".py",
   "mimetype": "text/x-python",
   "name": "python",
   "nbconvert_exporter": "python",
   "pygments_lexer": "ipython3",
   "version": "3.11.5"
  }
 },
 "nbformat": 4,
 "nbformat_minor": 2
}
