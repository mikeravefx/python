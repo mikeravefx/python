{
 "cells": [
  {
   "cell_type": "markdown",
   "metadata": {},
   "source": [
    "# Programación Orientada a Objetos\n",
    "\n",
    "## Definición de clase\n",
    "\n",
    "Para definir una clase se utiliza la palabra reservada `class` seguida del nombre de la clase y dos puntos.\n",
    "\n",
    "Por convención, los nombres de las clases deben comenzar con mayúscula.\n"
   ]
  },
  {
   "cell_type": "code",
   "execution_count": null,
   "metadata": {},
   "outputs": [],
   "source": [
    "class Circulo:\n",
    "    pass # No está implementado aún"
   ]
  },
  {
   "cell_type": "markdown",
   "metadata": {},
   "source": [
    "## Atributos\n",
    "\n",
    "Los atributos son variables que pertenecen a un objeto y almacenan sus propiedades. En Python, no es necesario declararlos previamente, simplemente se crean al asignarles un valor. Habitualmente, se inicializan en el constructor.\n",
    "\n",
    "Es una buena práctica de programación (se genera un código más limpio) asignar valores a los atributos en el constructor, aunque no es obligatorio.\n",
    "\n",
    "Para generar un código más limpio, declararemos los atributos al principio de la clase, e indicaremos su tipo utilizando *type hints*.\n"
   ]
  },
  {
   "cell_type": "code",
   "execution_count": null,
   "metadata": {},
   "outputs": [],
   "source": [
    "class Circulo:\n",
    "    radio: float\n",
    "    centro: tuple[float, float]"
   ]
  },
  {
   "cell_type": "markdown",
   "metadata": {},
   "source": [
    "## `self`\n",
    "\n",
    "Por convención, se utiliza `self` para referirse al propio objeto con el que se está trabajando. Se utiliza para acceder a los atributos y métodos del objeto."
   ]
  },
  {
   "cell_type": "markdown",
   "metadata": {},
   "source": [
    "\n",
    "## Constructor\n",
    "\n",
    "El constructor es un método especial que se ejecuta al crear un objeto de la clase. Habitualmente se utiliza para inicializar los atributos del objeto.\n",
    "\n",
    "Se define con el nombre `__init__` y recibe como primer parámetro el objeto que se está creando.\n",
    "\n",
    "A continuación, es habitual pasarle los valores de los atributos que se quieren inicializar.\n"
   ]
  },
  {
   "cell_type": "code",
   "execution_count": null,
   "metadata": {},
   "outputs": [],
   "source": [
    "class Circulo:\n",
    "    radio: float\n",
    "    centro: tuple[float, float]\n",
    "    \n",
    "    def __init__(self, radio, centro):\n",
    "        self.radio = radio\n",
    "        self.centro = centro"
   ]
  },
  {
   "cell_type": "markdown",
   "metadata": {},
   "source": [
    "Como en cualquier otro método, se pueden definir parámetros opcionales, que se inicializarán con un valor por defecto."
   ]
  },
  {
   "cell_type": "code",
   "execution_count": 2,
   "metadata": {},
   "outputs": [],
   "source": [
    "class Circulo:\n",
    "    radio: float\n",
    "    centro: tuple[float, float]\n",
    "    \n",
    "    def __init__(self, radio, centro = (0, 0)):\n",
    "        self.radio = radio\n",
    "        self.centro = centro"
   ]
  },
  {
   "cell_type": "markdown",
   "metadata": {},
   "source": [
    "## Creación de objetos: instanciación\n",
    "\n",
    "Para crear un objeto de una clase se utiliza el nombre de la clase seguido de paréntesis. Si la clase tiene un constructor, se deben pasar los parámetros que recibe.\n",
    "\n",
    "Si queremos continuar utilizando el objeto debemos asignarlo a una variable."
   ]
  },
  {
   "cell_type": "code",
   "execution_count": 3,
   "metadata": {},
   "outputs": [
    {
     "name": "stdout",
     "output_type": "stream",
     "text": [
      "<__main__.Circulo object at 0x00000234134360D0>\n"
     ]
    }
   ],
   "source": [
    "c = Circulo(5, (2, 3)) # c es un objeto de tipo Circulo\n",
    "print(c)"
   ]
  },
  {
   "cell_type": "markdown",
   "metadata": {},
   "source": [
    "## Operador `.` de acceso a atributos\n",
    "\n",
    "Para acceder a los atributos y métodos de un objeto se utiliza el operador `.` seguido del nombre del atributo o método."
   ]
  },
  {
   "cell_type": "code",
   "execution_count": 4,
   "metadata": {},
   "outputs": [
    {
     "name": "stdout",
     "output_type": "stream",
     "text": [
      "5\n"
     ]
    }
   ],
   "source": [
    "print(c.radio)"
   ]
  },
  {
   "cell_type": "markdown",
   "metadata": {},
   "source": [
    "También se pueden utilizar para modificar el valor de un atributo."
   ]
  },
  {
   "cell_type": "code",
   "execution_count": 8,
   "metadata": {},
   "outputs": [
    {
     "name": "stdout",
     "output_type": "stream",
     "text": [
      "7\n"
     ]
    }
   ],
   "source": [
    "c.radio = 7\n",
    "print(c.radio)"
   ]
  },
  {
   "cell_type": "markdown",
   "metadata": {},
   "source": [
    "\n",
    "## Métodos\n",
    "\n",
    "Los métodos de un objeto son funciones que pertenecen a la clase y se utilizan para realizar acciones sobre el objeto. Se definen de la misma forma que las funciones, pero dentro de la clase.\n",
    "\n",
    "En Python, el primer parámetro de los métodos de una clase debe ser el objeto sobre el que se está llamando. Podría utilizarse cualquier nombre de variable pero, por convención, se utiliza el nombre `self` para referirse a este parámetro.\n"
   ]
  },
  {
   "cell_type": "code",
   "execution_count": 6,
   "metadata": {},
   "outputs": [],
   "source": [
    "import math\n",
    "\n",
    "class Circulo:\n",
    "    radio: float\n",
    "    centro: tuple[float, float]\n",
    "    \n",
    "    def __init__(self, radio, centro = (0, 0)):\n",
    "        self.radio = radio\n",
    "        self.centro = centro\n",
    "        \n",
    "    def area(self):\n",
    "        return math.pi * self.radio ** 2"
   ]
  },
  {
   "cell_type": "markdown",
   "metadata": {},
   "source": [
    "Para hacer uso de los métodos de un objeto, se utiliza el operador `.` seguido del nombre del método y los paréntesis."
   ]
  },
  {
   "cell_type": "code",
   "execution_count": 7,
   "metadata": {},
   "outputs": [
    {
     "name": "stdout",
     "output_type": "stream",
     "text": [
      "78.53981633974483\n"
     ]
    }
   ],
   "source": [
    "c = Circulo(5, (2, 3))\n",
    "print(c.area())"
   ]
  },
  {
   "cell_type": "markdown",
   "metadata": {},
   "source": [
    "## Métodos mágicos\n",
    "\n",
    "Los métodos especiales son métodos que se utilizan para realizar acciones especiales sobre los objetos. Se definen con el nombre entre dos guiones bajos al principio y al final.\n",
    "\n",
    "### `__str__`\n",
    "\n",
    "El método `__str__` se utiliza para obtener una representación en forma de cadena de texto del objeto. Será el que se llamará automáticamente cuando:\n",
    "- Se imprima el objeto con la función `print`\n",
    "- Se utilice la función `str` para convertir el objeto a cadena de texto\n",
    "\n",
    "Si no se define, se utilizará la representación por defecto, que es el nombre de la clase y la dirección de memoria del objeto."
   ]
  },
  {
   "cell_type": "code",
   "execution_count": 10,
   "metadata": {},
   "outputs": [
    {
     "name": "stdout",
     "output_type": "stream",
     "text": [
      "<__main__.Circulo object at 0x0000021C9675DBD0>\n"
     ]
    }
   ],
   "source": [
    "import math\n",
    "\n",
    "class Circulo:\n",
    "    radio: float\n",
    "    centro: tuple[float, float]\n",
    "    \n",
    "    def __init__(self, radio, centro = (0, 0)):\n",
    "        self.radio = radio\n",
    "        self.centro = centro\n",
    "        \n",
    "    def area(self):\n",
    "        return math.pi * self.radio ** 2\n",
    "    \n",
    "c = Circulo(5, (2, 3))\n",
    "print(c)"
   ]
  },
  {
   "cell_type": "code",
   "execution_count": 1,
   "metadata": {},
   "outputs": [
    {
     "name": "stdout",
     "output_type": "stream",
     "text": [
      "Círculo de radio 5 y centro (2, 3)\n"
     ]
    }
   ],
   "source": [
    "import math\n",
    "\n",
    "class Circulo:\n",
    "    radio: float\n",
    "    centro: tuple[float, float]\n",
    "    \n",
    "    def __init__(self, radio, centro = (0, 0)):\n",
    "        self.radio = radio\n",
    "        self.centro = centro\n",
    "        \n",
    "    def area(self):\n",
    "        return math.pi * self.radio ** 2\n",
    "    \n",
    "    def __str__(self):\n",
    "        return f\"Círculo de radio {self.radio} y centro {self.centro}\"\n",
    "    \n",
    "c = Circulo(5, (2, 3))\n",
    "print(c)"
   ]
  },
  {
   "cell_type": "markdown",
   "metadata": {},
   "source": [
    "Otros métodos especiales son:\n",
    "- Los utilizados para indicar qué sucede cuando se aplican operaciones aritméticas sobre el objeto: `__add__`, `__sub__`, `__mul__`, `__truediv__`, `__floordiv__`, `__mod__`, `__pow__`.\n",
    "- Los utilizados para indicar qué sucede cuando se aplican operaciones de comparación sobre el objeto: `__eq__`, `__ne__`, `__lt__`, `__le__`, `__gt__`, `__ge__`.\n",
    "- `__len__`: utilizado para indicar la longitud del objeto. Se llama cuando se utiliza la función `len()` sobre el objeto."
   ]
  },
  {
   "cell_type": "code",
   "execution_count": 13,
   "metadata": {},
   "outputs": [
    {
     "name": "stdout",
     "output_type": "stream",
     "text": [
      "Círculo de radio 10 y centro (2, 3)\n"
     ]
    }
   ],
   "source": [
    "# Supongamos que al multiplicar un círculo por un número, se multiplica su radio\n",
    "# y se deja el centro igual\n",
    "\n",
    "import math\n",
    "\n",
    "class Circulo:\n",
    "    radio: float\n",
    "    centro: tuple[float, float]\n",
    "    \n",
    "    def __init__(self, radio, centro = (0, 0)):\n",
    "        self.radio = radio\n",
    "        self.centro = centro\n",
    "        \n",
    "    def area(self):\n",
    "        return math.pi * self.radio ** 2\n",
    "    \n",
    "    def __str__(self):\n",
    "        return f\"Círculo de radio {self.radio} y centro {self.centro}\"\n",
    "    \n",
    "    def __mul__(self, n):\n",
    "        return Circulo(self.radio * n, self.centro) # Devolvemos un nuevo círculo con el radio multiplicado y el mismo centro\n",
    "    \n",
    "c = Circulo(5, (2, 3))\n",
    "c2 = c * 2\n",
    "print(c2)\n"
   ]
  },
  {
   "cell_type": "markdown",
   "metadata": {},
   "source": [
    "## Encapsulación\n",
    "\n",
    "La encapsulación es un mecanismo que permite ocultar los atributos y métodos de una clase para que no puedan ser accedidos desde fuera de la clase. Es un mecanismo de protección de los datos.\n",
    "\n",
    "Evita que los atributos y métodos puedan ser modificados desde fuera de la clase, lo que podría provocar que el objeto quedara en un estado inconsistente. Por ejemplo:\n",
    "\n",
    "- Valores negativos en un atributo `edad`.\n",
    "- Que el atributo `nombre` se quede vacío.\n",
    "- Que el atributo `dni` tenga la letra incorrecta.\n",
    "\n",
    "Java permitirá controlar la visibilidad de cada miembro de la clase, pero en Python no existe la visibilidad privada. Por lo tanto, no se puede impedir que los atributos y métodos sean accedidos desde fuera de la clase.\n",
    "\n",
    "Sin embargo, se puede indicar que un atributo o método es privado, utilizando un guión bajo al principio del nombre. Por convención, se utiliza un doble guión bajo para indicar que es muy privado.\n",
    "\n",
    "Los programadores que utilizan la clase sabrán que no deben acceder a los atributos y métodos privados, pero no se les impedirá hacerlo.\n"
   ]
  },
  {
   "cell_type": "code",
   "execution_count": 17,
   "metadata": {},
   "outputs": [
    {
     "name": "stdout",
     "output_type": "stream",
     "text": [
      "Persona Juan con dni 12345678Z\n",
      "Persona Juan con dni 12345678A\n"
     ]
    }
   ],
   "source": [
    "class Persona:\n",
    "    nombre: str\n",
    "    _dni: str\n",
    "    \n",
    "    def __init__(self, nombre, dni):\n",
    "        self.nombre = nombre\n",
    "        if (Persona.dni_correcto(dni)):\n",
    "            self._dni = dni\n",
    "        else:\n",
    "            self._dni = \"\"\n",
    "    \n",
    "    @staticmethod\n",
    "    def dni_correcto(dni: str) -> bool:\n",
    "        letras = \"TRWAGMYFPDXBNJZSQVHLCKE\"\n",
    "        if len(dni) != 9:\n",
    "            return False\n",
    "        if dni[8].upper() != letras[int(dni[:8]) % 23]:\n",
    "            return False\n",
    "        return True\n",
    "    \n",
    "    def __str__(self) -> str:\n",
    "        return f\"Persona {self.nombre} con dni {self._dni}\"\n",
    "    \n",
    "p1 = Persona(\"Juan\", \"12345678Z\")\n",
    "print(p1)\n",
    "p1._dni = \"12345678A\" # No se impide que se cambie el dni\n",
    "print(p1)"
   ]
  },
  {
   "cell_type": "markdown",
   "metadata": {},
   "source": [
    "Mismo ejemplo con doble guión bajo:"
   ]
  },
  {
   "cell_type": "code",
   "execution_count": 20,
   "metadata": {},
   "outputs": [
    {
     "name": "stdout",
     "output_type": "stream",
     "text": [
      "Persona Juan con dni 12345678Z\n",
      "Persona Juan con dni 12345678Z\n",
      "Persona Juan con dni 12345678A\n"
     ]
    }
   ],
   "source": [
    "class Persona:\n",
    "    nombre: str\n",
    "    __dni: str\n",
    "    \n",
    "    def __init__(self, nombre, dni):\n",
    "        self.nombre = nombre\n",
    "        if (Persona.dni_correcto(dni)):\n",
    "            self.__dni = dni\n",
    "        else:\n",
    "            self.__dni = \"\"\n",
    "    \n",
    "    @staticmethod\n",
    "    def dni_correcto(dni: str) -> bool:\n",
    "        letras = \"TRWAGMYFPDXBNJZSQVHLCKE\"\n",
    "        if len(dni) != 9:\n",
    "            return False\n",
    "        if dni[8].upper() != letras[int(dni[:8]) % 23]:\n",
    "            return False\n",
    "        return True\n",
    "    \n",
    "    def __str__(self) -> str:\n",
    "        return f\"Persona {self.nombre} con dni {self.__dni}\"\n",
    "    \n",
    "p1 = Persona(\"Juan\", \"12345678Z\")\n",
    "print(p1)\n",
    "p1.__dni = \"12345678A\" # No se modifica el dni\n",
    "print(p1)\n",
    "# Pero se puede acceder al atributo __dni con otra sintaxis\n",
    "p1._Persona__dni = \"12345678A\"\n",
    "print(p1)"
   ]
  },
  {
   "cell_type": "markdown",
   "metadata": {},
   "source": [
    "Para resolver este problema, otros lenguajes de programación permiten indicar la visibilidad de los atributos y métodos de una clase. Por ejemplo, en Java se puede indicar que un atributo o método es privado, de forma que no se pueda acceder a él desde fuera de la clase. Y se crean métodos públicos para acceder a los atributos privados, estos métodos se conocen como *getters* y *setters*."
   ]
  },
  {
   "cell_type": "code",
   "execution_count": 2,
   "metadata": {},
   "outputs": [
    {
     "name": "stdout",
     "output_type": "stream",
     "text": [
      "Persona Juan con dni 12345678A\n",
      "12345678A\n",
      "Persona Juan con dni 12345678A\n",
      "41013889J\n",
      "Persona Juan con dni 41013889J\n"
     ]
    }
   ],
   "source": [
    "class Persona:\n",
    "    nombre: str\n",
    "    _dni: str\n",
    "    \n",
    "    def __init__(self, nombre, dni):\n",
    "        self.nombre = nombre\n",
    "        if (Persona.dni_correcto(dni)):\n",
    "            self._dni = dni\n",
    "        else:\n",
    "            self._dni = \"\"\n",
    "    \n",
    "    def get_dni(self):\n",
    "        return self._dni\n",
    "    \n",
    "    def set_dni(self, dni):\n",
    "        if (Persona.dni_correcto(dni)): # Solo lo modificamos si es correcto\n",
    "            self._dni = dni\n",
    "    \n",
    "    @staticmethod\n",
    "    def dni_correcto(dni: str) -> bool:\n",
    "        letras = \"TRWAGMYFPDXBNJZSQVHLCKE\"\n",
    "        if len(dni) != 9:\n",
    "            return False\n",
    "        if dni[8].upper() != letras[int(dni[:8]) % 23]:\n",
    "            return False\n",
    "        return True\n",
    "    \n",
    "    def __str__(self) -> str:\n",
    "        return f\"Persona {self.nombre} con dni {self._dni}\"\n",
    "    \n",
    "p1 = Persona(\"Juan\", \"88888888Y\")\n",
    "p1._dni = \"12345678A\" # Se modifica el dni aunque no sea correcto\n",
    "print(p1)\n",
    "p1.set_dni(\"12345678B\") # No se modifica el dni porque no es correcto\n",
    "print(p1.get_dni())\n",
    "print(p1)\n",
    "p1.set_dni(\"41013889J\") # Se modifica el dni porque es correcto\n",
    "print(p1.get_dni())\n",
    "print(p1)"
   ]
  },
  {
   "cell_type": "markdown",
   "metadata": {},
   "source": [
    "\n",
    "En Python, no existe la visibilidad privada. Por lo tanto, no se puede impedir que los atributos y métodos sean accedidos desde fuera de la clase. Además, no se suele utilizar esta notación para los *getters* y *setters*.\n",
    "\n",
    "Pero se combina la notación con guiones bajos con el uso de *properties* para controlar el acceso a los atributos."
   ]
  },
  {
   "cell_type": "markdown",
   "metadata": {},
   "source": [
    "### Decorador `@property`\n",
    "\n",
    "Este decorador se utiliza sobre un método para indicar que este método se comporta como un atributo. Es decir, que se puede acceder a él sin utilizar paréntesis.\n",
    "\n",
    "Será el método que se llamará cuando se acceda al atributo.\n",
    "\n",
    "Sustutiye a los *getters*.\n",
    "\n",
    "Utilidad: Devolver el atributo en un formato diferente o un valor calculado a partir de otros atributos.\n"
   ]
  },
  {
   "cell_type": "code",
   "execution_count": 3,
   "metadata": {},
   "outputs": [
    {
     "name": "stdout",
     "output_type": "stream",
     "text": [
      "Persona Juan con dni 12345678Z\n",
      "12345678Z\n"
     ]
    },
    {
     "ename": "AttributeError",
     "evalue": "property 'dni' of 'Persona' object has no setter",
     "output_type": "error",
     "traceback": [
      "\u001b[1;31m---------------------------------------------------------------------------\u001b[0m",
      "\u001b[1;31mAttributeError\u001b[0m                            Traceback (most recent call last)",
      "Cell \u001b[1;32mIn[3], line 31\u001b[0m\n\u001b[0;32m     29\u001b[0m \u001b[38;5;28mprint\u001b[39m(p1)\n\u001b[0;32m     30\u001b[0m \u001b[38;5;28mprint\u001b[39m(p1\u001b[38;5;241m.\u001b[39mdni)\n\u001b[1;32m---> 31\u001b[0m \u001b[43mp1\u001b[49m\u001b[38;5;241;43m.\u001b[39;49m\u001b[43mdni\u001b[49m \u001b[38;5;241m=\u001b[39m \u001b[38;5;124m\"\u001b[39m\u001b[38;5;124m12345678A\u001b[39m\u001b[38;5;124m\"\u001b[39m\n",
      "\u001b[1;31mAttributeError\u001b[0m: property 'dni' of 'Persona' object has no setter"
     ]
    }
   ],
   "source": [
    "class Persona:\n",
    "    nombre: str\n",
    "    __dni: str # Pongo el ejemplo con doble guión bajo para que no se pueda acceder desde fuera fácilmente, pero no es necesario\n",
    "    \n",
    "    def __init__(self, nombre, dni):\n",
    "        self.nombre = nombre\n",
    "        if (Persona.dni_correcto(dni)):\n",
    "            self.__dni = dni\n",
    "        else:\n",
    "            self.__dni = \"\"\n",
    "    \n",
    "    @property\n",
    "    def dni(self): # Getter, se le pone el mismo nombre que el atributo pero sin __\n",
    "        return self.__dni\n",
    "    \n",
    "    @staticmethod\n",
    "    def dni_correcto(dni: str) -> bool:\n",
    "        letras = \"TRWAGMYFPDXBNJZSQVHLCKE\"\n",
    "        if len(dni) != 9:\n",
    "            return False\n",
    "        if dni[8].upper() != letras[int(dni[:8]) % 23]:\n",
    "            return False\n",
    "        return True\n",
    "    \n",
    "    def __str__(self) -> str:\n",
    "        return f\"Persona {self.nombre} con dni {self.__dni}\"\n",
    "    \n",
    "p1 = Persona(\"Juan\", \"12345678Z\")\n",
    "print(p1)\n",
    "print(p1.dni)\n",
    "p1.dni = \"12345678A\""
   ]
  },
  {
   "cell_type": "markdown",
   "metadata": {},
   "source": [
    "### Decorador `@setter`\n",
    "\n",
    "Es un añadido al decorador `@property`, así que no funciona si no se utiliza `@property`.\n",
    "\n",
    "Se utiliza para indicar que el método se comporta como un *setter*. Es decir, que se llamará cuando se intente modificar el atributo. Esto nos permite controlar que el valor que se le asigna es correcto."
   ]
  },
  {
   "cell_type": "code",
   "execution_count": 28,
   "metadata": {},
   "outputs": [
    {
     "name": "stdout",
     "output_type": "stream",
     "text": [
      "Persona Juan con dni 12345678Z\n",
      "12345678Z\n",
      "Persona Juan con dni 41013889J\n",
      "41013889J\n",
      "Persona Juan con dni 41013889J\n",
      "41013889J\n"
     ]
    }
   ],
   "source": [
    "class Persona:\n",
    "    nombre: str\n",
    "    __dni: str # Pongo el ejemplo con doble guión bajo para que no se pueda acceder desde fuera fácilmente, pero no es necesario\n",
    "    \n",
    "    def __init__(self, nombre, dni):\n",
    "        self.nombre = nombre\n",
    "        if (Persona.dni_correcto(dni)):\n",
    "            self.__dni = dni\n",
    "        else:\n",
    "            self.__dni = \"\"\n",
    "    \n",
    "    @property\n",
    "    def dni(self): # Getter, se le pone el mismo nombre que el atributo pero sin __\n",
    "        return self.__dni\n",
    "    \n",
    "    @dni.setter\n",
    "    def dni(self, dni): # Setter, se le pone el mismo nombre que el atributo pero sin __\n",
    "        if (Persona.dni_correcto(dni)): # Solo lo modificamos si es correcto\n",
    "            self.__dni = dni\n",
    "        else:\n",
    "            raise Exception(\"DNI incorrecto\")\n",
    "    \n",
    "    @staticmethod\n",
    "    def dni_correcto(dni: str) -> bool:\n",
    "        letras = \"TRWAGMYFPDXBNJZSQVHLCKE\"\n",
    "        if len(dni) != 9:\n",
    "            return False\n",
    "        if dni[8].upper() != letras[int(dni[:8]) % 23]:\n",
    "            return False\n",
    "        return True\n",
    "    \n",
    "    def __str__(self) -> str:\n",
    "        return f\"Persona {self.nombre} con dni {self.__dni}\"\n",
    "    \n",
    "p1 = Persona(\"Juan\", \"12345678Z\")\n",
    "print(p1)\n",
    "print(p1.dni)\n",
    "p1.dni = \"41013889J\"\n",
    "print(p1)\n",
    "print(p1.dni)\n",
    "p1.dni = \"41013889F\" # No se modifica el dni porque no es correcto\n",
    "print(p1)\n",
    "print(p1.dni)\n"
   ]
  },
  {
   "cell_type": "markdown",
   "metadata": {},
   "source": [
    "### Dataclasses\n",
    "\n",
    "Las *dataclasses* son una forma muy rápida de crear clases que se utilizan para almacenar datos. Serían aquellas clases que solo tienen atributos y los *getters* y *setters* correspondientes.\n",
    "\n",
    "Se definen utilizando el decorador `@dataclass` y declarando los atributos con *type hints* al principio de la clase.\n",
    "\n",
    "Implementa automáticamente, entre otros, el método `__init__`, el método `__str__` y el método `__eq__`.\n",
    "\n"
   ]
  },
  {
   "cell_type": "code",
   "execution_count": 1,
   "metadata": {},
   "outputs": [
    {
     "name": "stdout",
     "output_type": "stream",
     "text": [
      "Alumnx(nombre='Juan', curso='1º', edad=18)\n",
      "False\n",
      "False\n"
     ]
    }
   ],
   "source": [
    "from dataclasses import dataclass\n",
    "\n",
    "@dataclass\n",
    "class Alumnx:\n",
    "    nombre: str\n",
    "    curso: str\n",
    "    edad: int\n",
    "    \n",
    "a1 = Alumnx(\"Juan\", \"1º\", 18)\n",
    "print(a1)\n",
    "\n",
    "a2 = Alumnx(\"Mara\", \"2º\", 19)\n",
    "print(a1 == a2)\n",
    "\n",
    "a3 = Alumnx(\"Mara\", \"2º\", 19)\n",
    "print(a2 == a3)"
   ]
  },
  {
   "cell_type": "markdown",
   "metadata": {},
   "source": [
    "\n",
    "## Atributos de clase\n",
    "\n",
    "Los atributos de clase son variables que pertenecen a la clase y no a los objetos. Se les asigna valor fuera de los métodos. Por convención, se declaran al principio de la clase.\n",
    "\n",
    "Su valor no es propio de cada objeto sino que es común a todos los objetos de la clase.\n",
    "\n",
    "Para acceder a ellos se utiliza el nombre de la clase seguido de un punto y el nombre del atributo.\n",
    "\n",
    "En otros lenguajes de programación, se les conoce como atributos **estáticos**.\n",
    "\n",
    "Pueden servir, por ejemplo, para contar el número de instancias de una clase o para ir almacenando el identificador de los objetos."
   ]
  },
  {
   "cell_type": "code",
   "execution_count": null,
   "metadata": {},
   "outputs": [],
   "source": [
    "class Alumnx:\n",
    "    nombre: str\n",
    "    id: int\n",
    "    ultimo_id: int = 0\n",
    "    \n",
    "    def __init__(self, nombre):\n",
    "        self.nombre = nombre\n",
    "        Alumnx.ultimo_id += 1\n",
    "        self.id = Alumnx.ultimo_id\n",
    "\n",
    "    def __str__(self) -> str:\n",
    "        return f\"Alumnx {self.nombre} con id {self.id}\"\n",
    "    \n",
    "a1 = Alumnx(\"Juan\")\n",
    "a2 = Alumnx(\"Mara\")\n",
    "print(a1)\n",
    "print(a2)"
   ]
  },
  {
   "cell_type": "markdown",
   "metadata": {},
   "source": [
    "\n",
    "## Métodos de clase\n",
    "\n",
    "Los métodos de clase reciben como argumento `cls`, que hace referencia a la clase. Por lo tanto, pueden acceder a la clase pero no a la instancia.\n",
    "\n",
    "Por lo tanto, los métodos de clase:\n",
    "\n",
    "- No pueden acceder a los atributos de la instancia.\n",
    "- Pero si pueden modificar los atributos de la clase."
   ]
  },
  {
   "cell_type": "code",
   "execution_count": 3,
   "metadata": {},
   "outputs": [
    {
     "name": "stdout",
     "output_type": "stream",
     "text": [
      "Alumnx Juan con id 1\n",
      "Alumnx Mara con id 2\n",
      "Alumnx Mara con id 0\n",
      "Alumnx Mara con id 1\n"
     ]
    }
   ],
   "source": [
    "class Alumnx:\n",
    "    nombre: str\n",
    "    id: int\n",
    "    ultimo_id: int = 0 # atributo de clase\n",
    "    \n",
    "    def __init__(self, nombre):\n",
    "        self.nombre = nombre\n",
    "        if (Alumnx.ultimo_id < 2):\n",
    "            Alumnx.ultimo_id += 1\n",
    "        else:\n",
    "            Alumnx.reiniciar_id()\n",
    "        self.id = Alumnx.ultimo_id\n",
    "\n",
    "    def __str__(self) -> str:\n",
    "        return f\"Alumnx {self.nombre} con id {self.id}\"\n",
    "    \n",
    "    @classmethod\n",
    "    def reiniciar_id(cls):\n",
    "        Alumnx.ultimo_id = 0\n",
    "    \n",
    "a1 = Alumnx(\"Juan\")\n",
    "a2 = Alumnx(\"Mara\")\n",
    "a3 = Alumnx(\"Mara\")\n",
    "a4 = Alumnx(\"Mara\")\n",
    "print(a1)\n",
    "print(a2)\n",
    "print(a3)\n",
    "print(a4)\n",
    "Alumnx.reiniciar_id()"
   ]
  },
  {
   "cell_type": "markdown",
   "metadata": {},
   "source": [
    "## Métodos estáticos\n",
    "\n",
    "Los métodos estáticos no reciben ningún argumento especial. Por lo tanto, no pueden acceder a la instancia ni a la clase, pero sí aceptan argumentos.\n",
    "\n",
    "Se declaran e implementan como las funciones, pero están ligados a una clase. Se suelen utilizar para programar utilidades relacionadas con la clase, pero que no dependen de ella directamente.\n",
    "\n",
    "Para acceder a ellos se utiliza el nombre de la clase seguido de un punto y el nombre del método."
   ]
  },
  {
   "cell_type": "code",
   "execution_count": null,
   "metadata": {},
   "outputs": [],
   "source": [
    "class Persona:\n",
    "    nombre: str\n",
    "    dni: str\n",
    "    \n",
    "    def __init__(self, nombre, dni):\n",
    "        self.nombre = nombre\n",
    "        if (Persona.dni_correcto(dni)):\n",
    "            self.dni = dni\n",
    "        else:\n",
    "            self.dni = \"\"\n",
    "        \n",
    "    @staticmethod\n",
    "    def dni_correcto(dni: str) -> bool:\n",
    "        letras = \"TRWAGMYFPDXBNJZSQVHLCKE\"\n",
    "        if len(dni) != 9:\n",
    "            return False\n",
    "        if not dni[8].isalpha():\n",
    "            return False\n",
    "        if not dni[:8].isdigit():\n",
    "            return False\n",
    "        if dni[8].upper() != letras[int(dni[:8]) % 23]:\n",
    "            return False\n",
    "        return True\n",
    "    \n",
    "    def __str__(self) -> str:\n",
    "        return f\"Persona {self.nombre} con dni {self.dni}\"\n",
    "    \n",
    "p1 = Persona(\"Juan\", \"12345678Z\")\n",
    "print(p1)\n",
    "p2 = Persona(\"Mara\", \"12345678A\")\n",
    "print(p2)"
   ]
  }
 ],
 "metadata": {
  "kernelspec": {
   "display_name": "Python 3",
   "language": "python",
   "name": "python3"
  },
  "language_info": {
   "codemirror_mode": {
    "name": "ipython",
    "version": 3
   },
   "file_extension": ".py",
   "mimetype": "text/x-python",
   "name": "python",
   "nbconvert_exporter": "python",
   "pygments_lexer": "ipython3",
   "version": "3.11.0"
  }
 },
 "nbformat": 4,
 "nbformat_minor": 2
}
