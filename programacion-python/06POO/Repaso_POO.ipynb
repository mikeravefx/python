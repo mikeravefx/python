{
 "cells": [
  {
   "cell_type": "markdown",
   "metadata": {},
   "source": [
    "# Ejercicio 1\n",
    "\n",
    "Crea la clase Vendedor con los siguientes atributos: \n",
    "\n",
    "- nombre: es el nombre del vendedor o vendedora. \n",
    "\n",
    "- anoNacemento: es el año en el que nació. No puede ser posterior a 2004. Debe ser positivo. \n",
    "\n",
    "- mesNacemento: es el mes en el que nació. Debe ser un mes válido. \n",
    "\n",
    "- diaNacemento: es el día en el que nació. No puede ser posterior al día 16 si el año es 2004. Debe ser un día válido segundo el mes. \n",
    "\n",
    "- ventas: es el valor total en € de las ventas del vendedor o vendedora. El valor por defecto será 0. \n",
    "\n",
    "- comision: es la comisión total que se lleva el vendedor o vendedora por sus ventas. El valor dependerá de las ventas, siendo siempre un 10% de las mismas pero nunca sobrepasando los 10 000€. \n",
    "\n",
    "La clase dispondrá de un constructor: \n",
    "\n",
    "- Constructor con todos los parámetros, los que no se faciliten tomarán sus valores por defecto.\n",
    " \n",
    "La clase dispondrá de los siguientes métodos: \n",
    "\n",
    "- Setters para los atributos que tengan restricciones. \n",
    "\n",
    "- setter de ventas: establecerá los nuevos valores, cumpliendo los requisitos de los atributos, es decir, modificando la comisión. \n",
    "\n",
    "- metodo property de fecha de nacimiento: devolverá un String con este formato “dd/mm/aaaa”. Toda vez que se ejecutará el 16/12/2022. "
   ]
  }
 ],
 "metadata": {
  "language_info": {
   "name": "python"
  }
 },
 "nbformat": 4,
 "nbformat_minor": 2
}
