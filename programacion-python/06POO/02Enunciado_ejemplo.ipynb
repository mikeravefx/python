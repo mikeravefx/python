{
 "cells": [
  {
   "cell_type": "markdown",
   "metadata": {},
   "source": [
    "# Creación de una aplicación para el manejo de las cuentas bancarias de un banco\n",
    "\n",
    "- Crea una clase `CuentaBancaria` que tenga como atributos: nombre_titular, numero_cuenta y saldo.\n",
    "\n",
    "- Crea un constructor que reciba como argumentos el nombre del titular, el número de cuenta y el saldo. El saldo por defecto será 0.\n",
    "\n",
    "- Programa el método mágico `__str__` para que al imprimir por pantalla una instancia de la clase `CuentaBancaria` se muestre un mensaje como el siguiente: \"Titular: Juanito. Número de cuenta: 234234234. Saldo: 234234234€.\"\n",
    "\n",
    "- Crea un método llamado `movimiento` que reciba una cantidad de dinero y un booleano que indica si el movimiento es de ingreso o de gasto. Si el booleano es `True`, se ingresa dinero en la cuenta y si es `False`, se resta. El valor por defecto del booleano será `True`.\n",
    "\n",
    "- Modifica el método `movimiento` para que devuelva `False` si la cuenta queda en números rojos, `True` en caso contrario.\n",
    "\n",
    "- Crea un programa principal en el que crees una instancia de la clase `CuentaBancaria` y pruebes los métodos implementados.\n",
    "\n",
    "- Crea una clase `Persona` que tenga como atributos el nombre, la edad y el dni de esa persona.\n",
    "\n",
    "- Crea el constructor de la clase `Persona` con sus tres atributos.\n",
    "\n",
    "- Crea un método mágico `__str__` para que al imprimir por pantalla una instancia de la clase `Persona` se muestre un mensaje como el siguiente: \"Nombre: Juanito. Edad: 23. DNI: 23234234M.\"\n",
    "\n",
    "- Crea un método estático de la clase `Persona` que permita comprobar si el DNI es correcto.\n",
    "\n",
    "- Utiliza el método estático anterior para comprobar que el DNI introducido por el usuario es correcto en el constructor de la clase. Si no lo es lanza una excepción.\n",
    "\n",
    "- Crea un programa principal en el que crees una instancia de la clase `Persona` y pruebes los métodos implementados.\n",
    "\n",
    "- Modifica la clase `CuentaBancaria` para que el titular sea una instancia de la clase `Persona`.\n",
    "\n",
    "- Modifica el método `__str__` de la clase `CuentaBancaria` para que muestre el nombre del titular en lugar de la persona completa.\n",
    "\n",
    "- Crea una clase `Banco` que tenga como atributos: nombre, dirección, teléfono y una lista de cuentas bancarias.\n",
    "\n",
    "- Crea un constructor para la clase `Banco` que reciba como argumentos el nombre, la dirección y el teléfono.\n",
    "\n",
    "- Crea un método llamado `agregar_cuenta` que reciba una instancia de la clase `CuentaBancaria` y la añada a la lista de cuentas bancarias.\n",
    "\n",
    "- Crea un método llamado `mostrar_cuentas` que muestre por pantalla todas las cuentas bancarias de la lista de cuentas bancarias.\n",
    "\n",
    "- Crea un programa principal en el que crees una instancia de la clase `Banco` y crees un menú que pudiese utilizar un/a empleado/a de banca con las siguientes opciones:\n",
    "    \n",
    "        1. Agregar una cuenta bancaria.\n",
    "        2. Mostrar las cuentas bancarias.\n",
    "        3. Ingresar dinero en una cuenta bancaria.\n",
    "        4. Retirar dinero de una cuenta bancaria.\n",
    "        5. Salir.\n",
    "\n"
   ]
  }
 ],
 "metadata": {
  "language_info": {
   "name": "python"
  }
 },
 "nbformat": 4,
 "nbformat_minor": 2
}
