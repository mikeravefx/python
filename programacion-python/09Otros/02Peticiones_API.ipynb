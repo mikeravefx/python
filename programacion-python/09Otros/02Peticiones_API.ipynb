{
 "cells": [
  {
   "cell_type": "markdown",
   "metadata": {},
   "source": [
    "# Realizar peticiones a una API\n",
    "\n",
    "Una API (Interfaz de Programación de Aplicaciones, por sus siglas en inglés: *Application Programming Interface*) es como un puente o un mensajero que permite que diferentes programas se comuniquen entre sí. \n",
    "\n",
    "Podría considerarse como unas llamadas a funciones que se relizan a otra aplicación a través de Internet.\n",
    "\n",
    "Para realizar peticiones a una API, se necesita un módulo que permita realizar peticiones HTTP. En Python, el módulo más común para realizar peticiones HTTP es `requests`."
   ]
  },
  {
   "cell_type": "code",
   "execution_count": null,
   "metadata": {
    "vscode": {
     "languageId": "shellscript"
    }
   },
   "outputs": [],
   "source": [
    "pip install requests"
   ]
  }
 ],
 "metadata": {
  "language_info": {
   "name": "python"
  }
 },
 "nbformat": 4,
 "nbformat_minor": 2
}
