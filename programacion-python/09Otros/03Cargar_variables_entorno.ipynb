{
 "cells": [
  {
   "cell_type": "markdown",
   "metadata": {},
   "source": [
    "# Variables de entorno\n",
    "\n",
    "En un proyecto pueden existir variables de configuración, como la contraseña de la base de datos, que no queremos que estén en el código fuente. Para ello, se pueden utilizar variables de entorno, que son variables que se definen en el sistema operativo y que se pueden leer desde el código.\n",
    "\n",
    "Lo habitual es que estas variables se definan en un archivo `.env` que no se sube al repositorio. En este archivo se definen las variables de entorno en el formato `NOMBRE=VALOR`. Por ejemplo:\n",
    "\n",
    "```\n",
    "DB_USER=usuario\n",
    "DB_PASSWORD=contraseña\n",
    "```\n",
    "\n",
    "Para evitar que se suba al repositorio, se puede añadir al archivo `.gitignore` la línea `.env`."
   ]
  },
  {
   "cell_type": "markdown",
   "metadata": {},
   "source": [
    "Para cargar y leer estas variables de entorno en Python, se puede utilizar la librería `python-dotenv`. Para instalarla, se puede hacer con `pip`:"
   ]
  },
  {
   "cell_type": "code",
   "execution_count": null,
   "metadata": {
    "vscode": {
     "languageId": "shellscript"
    }
   },
   "outputs": [],
   "source": [
    "pip install dotenv"
   ]
  },
  {
   "cell_type": "markdown",
   "metadata": {},
   "source": [
    "A continuación, cargaremos las variables de entorno definidas en el archivo `.env` y las mostraremos en pantalla."
   ]
  },
  {
   "cell_type": "code",
   "execution_count": null,
   "metadata": {
    "vscode": {
     "languageId": "shellscript"
    }
   },
   "outputs": [],
   "source": [
    "from dotenv import load_dotenv\n",
    "\n",
    "load_dotenv()"
   ]
  },
  {
   "cell_type": "markdown",
   "metadata": {},
   "source": [
    "A partir de este momento, podemos acceder a dichas variables de entorno en nuestro código Python con `os.getenv('NOMBRE')`."
   ]
  },
  {
   "cell_type": "code",
   "execution_count": null,
   "metadata": {
    "vscode": {
     "languageId": "shellscript"
    }
   },
   "outputs": [],
   "source": [
    "\n",
    "import os\n",
    "\n",
    "conexion = mysql.connector.connect(\n",
    "    user = os.getenv(\"USUARIO\"),\n",
    "    password = os.getenv(\"PASSWORD\"),\n",
    "    host = os.getenv(\"HOST\"),\n",
    "    database = os.getenv(\"DATABASE\")\n",
    ")"
   ]
  }
 ],
 "metadata": {
  "language_info": {
   "name": "python"
  }
 },
 "nbformat": 4,
 "nbformat_minor": 2
}
