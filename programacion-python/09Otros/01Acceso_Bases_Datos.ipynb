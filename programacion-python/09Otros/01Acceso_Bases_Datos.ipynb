{
 "cells": [
  {
   "cell_type": "markdown",
   "metadata": {
    "vscode": {
     "languageId": "plaintext"
    }
   },
   "source": [
    "# Acceso a bases de datos desde Python\n",
    "\n"
   ]
  },
  {
   "cell_type": "markdown",
   "metadata": {},
   "source": [
    "Para acceder a bases de datos MySQL desde Python debemos instalar el paquete `mysql-connector-python`. Para ello, ejecutamos el siguiente comando (preferiblemente dentro de un entorno virtual):\n",
    "\n",
    "```bash\n",
    "pip install mysql-connector-python\n",
    "```"
   ]
  },
  {
   "cell_type": "markdown",
   "metadata": {},
   "source": [
    "## Conexión a la base de datos\n",
    "\n",
    "Para conectarnos a una base de datos MySQL, necesitamos los siguientes datos:\n",
    "\n",
    "- Host\n",
    "- Usuario\n",
    "- Contraseña\n",
    "- Base de datos\n",
    "- Puerto (opcional)\n",
    "\n",
    "Para establecer la conexión, utilizamos la función `connect`."
   ]
  },
  {
   "cell_type": "code",
   "execution_count": null,
   "metadata": {},
   "outputs": [],
   "source": [
    "conexion = mysql.connector.connect(\n",
    "    host=\"localhost\",\n",
    "    user=\"root\",\n",
    "    password=\"abc123.\",\n",
    "    database=\"instituto\"\n",
    ")"
   ]
  },
  {
   "cell_type": "markdown",
   "metadata": {},
   "source": [
    "## Ejecución de sentencias\n",
    "\n",
    "Tendremos dos tipod de sentencias que podemos ejecutar:\n",
    "- Aquellas que no devuelven resultados (como `INSERT`, `UPDATE`, `DELETE`, etc.), pero sí modifican la base de datos.\n",
    "- Aquellas que devuelven resultados (como `SELECT`) y no modifican la base de datos.\n",
    "\n",
    "Para ejecutar ambos tipos de sentencias debemos obtener el cursor de la base de datos, que es el objeto que nos permite interactuar con la base de datos, como un camarero que toma nuestro pedido y nos trae la comida."
   ]
  },
  {
   "cell_type": "code",
   "execution_count": null,
   "metadata": {},
   "outputs": [],
   "source": [
    "cursor = conexion.cursor()"
   ]
  },
  {
   "cell_type": "markdown",
   "metadata": {},
   "source": [
    " Ambas sentencias se ejecutarán mediante el método `execute` del cursor.\n"
   ]
  },
  {
   "cell_type": "code",
   "execution_count": null,
   "metadata": {},
   "outputs": [],
   "source": [
    "sentencia = \"SELECT * FROM alumnos\"\n",
    "cursor.execute(sentencia)"
   ]
  },
  {
   "cell_type": "markdown",
   "metadata": {},
   "source": [
    "### Sentencias que modifican la base de datos\n",
    "\n",
    "Tras la ejecución de este tipo de sentecias se devuelve el número de filas afectadas, que podemos obtener mediante el método `rowcount` del cursor.\n",
    "\n",
    "Si la transacción se ha realizado correctamente, debemos confirmar los cambios mediante el método `commit` del objeto conexión.\n",
    "\n",
    "En caso contrario, podemos deshacer los cambios mediante el método `rollback` del objeto conexión.\n",
    "\n",
    "Esto es importante cuando se realizan varias operaciones en una misma transacción, y queremos asegurarnos de que todas se han realizado correctamente antes de confirmar los cambios en la base de datos."
   ]
  },
  {
   "cell_type": "code",
   "execution_count": null,
   "metadata": {},
   "outputs": [],
   "source": [
    "sentencia = \"INSERT INTO alumnos (nombre, edad, curso) VALUES (%s, %s, %s)\""
   ]
  },
  {
   "cell_type": "markdown",
   "metadata": {},
   "source": [
    "Cuando las sentencias reciben parámetros, no debemos escribirlos directamente ni concatenarlos a la sentencia, ya que esto puede provocar inyecciones SQL. En su lugar, usaremos el comodín `%s` para indicar que se trata de un parámetro, y pasaremos una tupla con los valores a sustituir como segundo argumento del método `execute`. A este tipo de sentencias se les conoce como consultas preparadas (*prepared statements*)."
   ]
  },
  {
   "cell_type": "code",
   "execution_count": null,
   "metadata": {},
   "outputs": [],
   "source": [
    "valores = (\"Juan\", 30, \"2º ESO\")\n",
    "cursor.execute(sentencia, valores)\n",
    "conexion.commit()\n",
    "print(cursor.rowcount, \"filas insertadas.\")"
   ]
  },
  {
   "cell_type": "markdown",
   "metadata": {},
   "source": [
    "Podemos aprovechar las sentencias preparadas para reutilizar una misma sentencia con distintos valores, mediante el método `executemany`."
   ]
  },
  {
   "cell_type": "code",
   "execution_count": null,
   "metadata": {},
   "outputs": [],
   "source": [
    "valores = [\n",
    "    (\"Sonia\", 28, \"1º ESO\"),\n",
    "    (\"Mario\", 25, \"2º ESO\"),\n",
    "    (\"Laura\", 27, \"3º ESO\")\n",
    "]\n",
    "cursor.executemany(sentencia, valores)"
   ]
  },
  {
   "cell_type": "markdown",
   "metadata": {},
   "source": [
    "### Sentencias que consultan la base de datos\n",
    "\n",
    "Una vez ejecutada la consulta, podemos obtener los resultados mediante el método `fetchall` del cursor. Existen dos formas de obtener los resultados:\n",
    "- Como una lista de tuplas, donde cada tupla representa una fila de la tabla.\n",
    "- Como una lista de diccionarios, donde cada diccionario representa una fila de la tabla, con los nombres de las columnas como claves.\n",
    "\n",
    "Por defecto, el cursor devuelve los resultados como una lista de tuplas. Para obtener los resultados como una lista de diccionarios, debemos establecer el atributo `dictionary` del cursor a `True`.\n"
   ]
  },
  {
   "cell_type": "code",
   "execution_count": null,
   "metadata": {},
   "outputs": [],
   "source": [
    "cursor = conexion.cursor(dictionary=True)"
   ]
  },
  {
   "cell_type": "code",
   "execution_count": null,
   "metadata": {},
   "outputs": [],
   "source": [
    "sentencia = \"SELECT * FROM alumnos WHERE curso = %s\"\n",
    "cursor.execute(sentencia, (\"2º ESO\",))\n",
    "alumnos = cursor.fetchall()\n",
    "for alumno in alumnos:\n",
    "    print(alumno)"
   ]
  },
  {
   "cell_type": "code",
   "execution_count": null,
   "metadata": {},
   "outputs": [],
   "source": [
    "# Como lista de tuplas\n",
    "\n",
    "alumnos = cursor.fetchall()\n",
    "for alumno in alumnos:\n",
    "    print(\"Nombre:\", alumno[0], \"Edad:\", alumno[1], \"Curso:\", alumno[2])"
   ]
  },
  {
   "cell_type": "code",
   "execution_count": null,
   "metadata": {},
   "outputs": [],
   "source": [
    "# Como lista de diccionarios\n",
    "\n",
    "alumnos = cursor.fetchall()\n",
    "for alumno in alumnos:\n",
    "    print(\"Nombre:\", alumno[\"nombre\"], \"Edad:\", alumno[\"edad\"], \"Curso:\", alumno[\"curso\"])"
   ]
  },
  {
   "cell_type": "markdown",
   "metadata": {},
   "source": [
    "Si sabemos que la consulta devolverá un único resultado, podemos obtenerlo mediante el método `fetchone`."
   ]
  },
  {
   "cell_type": "code",
   "execution_count": null,
   "metadata": {},
   "outputs": [],
   "source": [
    "sentencia = \"SELECT * FROM alumnos WHERE id = %s\"\n",
    "cursor.execute(sentencia, (1,))\n",
    "alumno = cursor.fetchone()\n",
    "print(alumno)"
   ]
  },
  {
   "cell_type": "markdown",
   "metadata": {},
   "source": [
    "## Cierre de la la conexión\n",
    "\n",
    "Es importante cerrar la conexión una vez hayamos terminado de trabajar con la base de datos, para liberar los recursos que se estén utilizando. Para ello, utilizamos el método `close` del objeto conexión."
   ]
  },
  {
   "cell_type": "code",
   "execution_count": null,
   "metadata": {},
   "outputs": [],
   "source": [
    "conexion.close()"
   ]
  },
  {
   "cell_type": "markdown",
   "metadata": {},
   "source": [
    "## Excepciones\n",
    "\n",
    "Cualquier operación que realicemos contra una base de datos puede producir un error en tiempo de ejecución (excepción), por eje, si la base de datos no está disponible, si la consulta es incorrecta, si no tenemos permisos para realizar la operación, etc.\n",
    "\n",
    "Para manejar estas excepciones, podemos utilizar bloques `try` y `except`, y capturar la excepción `mysql.connector.Error`."
   ]
  },
  {
   "cell_type": "code",
   "execution_count": null,
   "metadata": {},
   "outputs": [],
   "source": [
    "try:\n",
    "    conexion = mysql.connector.connect(\n",
    "        host=\"localhost\",\n",
    "        user=\"root\",\n",
    "        password=\"abc123.\",\n",
    "        database=\"instituto\"\n",
    "    )\n",
    "\n",
    "    cursor = conexion.cursor(dictionary=True)\n",
    "    sentencia = \"SELECT * FROM alumnos\"\n",
    "    cursor.execute(sentencia)\n",
    "\n",
    "    resultados = cursor.fetchall()\n",
    "\n",
    "    for alumno in resultados:\n",
    "        print(\"Nombre:\", alumno[\"nombre\"])\n",
    "        print(\"Apellidos:\", alumno[\"apellidos\"])\n",
    "        print(\"Correo-e:\", alumno[\"correo_e\"])\n",
    "        \n",
    "    conexion.close()\n",
    "except mysql.connector.Error as error:\n",
    "    print(\"Error de MySQL:\", error)"
   ]
  }
 ],
 "metadata": {
  "language_info": {
   "name": "python"
  }
 },
 "nbformat": 4,
 "nbformat_minor": 2
}
