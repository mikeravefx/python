{
 "cells": [
  {
   "cell_type": "markdown",
   "metadata": {},
   "source": [
    "# Ejercicios UD1\n",
    "\n",
    "## Ejercicio 1\n",
    "\n",
    "Crea un programa que pida un número al usuario y muestre su doble.\n"
   ]
  },
  {
   "cell_type": "code",
   "execution_count": 1,
   "metadata": {},
   "outputs": [
    {
     "name": "stdout",
     "output_type": "stream",
     "text": [
      "introduzca un numero para calcular su doble\n",
      "El numero doble es: 4\n"
     ]
    }
   ],
   "source": [
    "# Crear un rograma que pida un numero al usuario y muestre el doble\n",
    "print(\"introduzca un numero para calcular su doble\")\n",
    "numero= int (input())\n",
    "numero_int= int(numero)\n",
    "numero_int = numero_int ** 2\n",
    "print(\"El numero doble es:\", numero_int)"
   ]
  },
  {
   "cell_type": "markdown",
   "metadata": {},
   "source": [
    "\n",
    "## Ejercicio 2\n",
    "\n",
    "Crea un programa que pida el usuario la base y exponente de una potencia y calcule su resultado.\n"
   ]
  },
  {
   "cell_type": "code",
   "execution_count": null,
   "metadata": {},
   "outputs": [],
   "source": [
    "# ## Ejercicio 2\n",
    "# Crea un programa que pida el usuario la base y exponente de una potencia y calcule su resultado.\n",
    "print(\"Introduzca la base de un numero para determinar la base N\")\n",
    "base = input()\n",
    "base_int = int(base)\n",
    "print(\"Introduzca la base de un numero para el Exponente\")\n",
    "exponente=input()\n",
    "exponente_int=int(exponente)\n",
    "Resultado= base_int ** exponente_int\n",
    "print(\"El resultado de la base\", base_int, \"Cuyo exponente es \", exponente_int, \" Es = A:\", Resultado)"
   ]
  },
  {
   "cell_type": "markdown",
   "metadata": {},
   "source": [
    "\n",
    "## Ejercicio 3\n",
    "\n",
    "Busca en la documentación oficial de Python qué realiza y cómo se utiliza la función `round()` (https://docs.python.org/3/library/functions.html). Prueba algunos ejemplos con diferentes números. Utilízala para redondear los resultados de los siguientes ejercicios.\n"
   ]
  },
  {
   "cell_type": "code",
   "execution_count": null,
   "metadata": {},
   "outputs": [],
   "source": [
    "## Ejercicio 3\n",
    "\n",
    "# Busca en la documentación oficial de Python qué realiza y \n",
    "# cómo se utiliza la función `round()` (https://docs.python.org/3/library/functions.html). \n",
    "# Prueba algunos ejemplos con diferentes números. Utilízala para redondear los resultados de los siguientes ejercicios.\n",
    "# x = round(5.76543, 2)\n",
    "# print(x)\n",
    "#\n",
    "#\n",
    "import math \n",
    "X= math.pi \n",
    "Y= round(X,2) \n",
    "# Toma solo dos decimales\n",
    "print(Y)"
   ]
  },
  {
   "cell_type": "markdown",
   "metadata": {},
   "source": [
    "\n",
    "## Ejercicio 4\n",
    "\n",
    "Crea un programa que dado el nombre de una persona y su peso y altura en kg y cm, imprime su peso en libras, su altura en pies y su IMC (Índice de Masa Corporal). "
   ]
  },
  {
   "cell_type": "code",
   "execution_count": null,
   "metadata": {},
   "outputs": [],
   "source": [
    "# Crea un programa en Python que:\n",
    "\n",
    "# Pida al usuario su nombre y lo guarde en una variable\n",
    "\n",
    "# pida al usuario su peso y lo guarde en una variable\n",
    "\n",
    "# pida al usuario su altura (en m) y lo guarde en una variable\n",
    "\n",
    "# Calcule el IMC (peso / altura^2) (Índice de masa corporal)\n",
    "\n",
    "# Muestre por pantalla el nombre y el IMC\n",
    "print(\"Introduzca su nombre\")\n",
    "nombre = input()\n",
    "print(\"Introduzca su Peso\")\n",
    "peso= input()\n",
    "peso_f= float(peso)\n",
    "print(\"Introduzca su Altura\")\n",
    "altura= input()\n",
    "altura_f= float(altura)\n",
    "IMC= (peso_f / altura_f ** 2)\n",
    "round(IMC,2)\n",
    "print(\"Su nombrees:\", nombre, \"Su peso es:\", peso_f, \"Su Altua es:\", altura_f, \"El resultado de Su IMC es\", round(IMC,2))"
   ]
  },
  {
   "cell_type": "markdown",
   "metadata": {},
   "source": [
    "\n",
    "## Ejercicio 5\n",
    "\n",
    "Crea un programa que dada una cantidad en euros, devuelve su valor en dólares.\n"
   ]
  },
  {
   "cell_type": "code",
   "execution_count": null,
   "metadata": {},
   "outputs": [],
   "source": [
    "print(\"Cuantos dolares desea transformar: \")\n",
    "EURO = 0.890000\n",
    "EURO_f = float(EURO)\n",
    "# print(\"Introduzca el Valor del Dolar\")\n",
    "dolar= input()\n",
    "dolar_f=float(dolar)\n",
    "total= dolar_f * EURO_f\n",
    "print(\"Resultado\",total)\n"
   ]
  },
  {
   "cell_type": "code",
   "execution_count": null,
   "metadata": {},
   "outputs": [],
   "source": []
  },
  {
   "cell_type": "markdown",
   "metadata": {},
   "source": [
    "## Ejercicio 6\n",
    "\n",
    "Crea un programa que dada una cantidad en dólares, devuelve su valor en euros.\n"
   ]
  },
  {
   "cell_type": "code",
   "execution_count": null,
   "metadata": {},
   "outputs": [],
   "source": [
    "print(\"Cuantos dolares desea transformar: \")\n",
    "EURO = 0.890000\n",
    "EURO_f = float(EURO)\n",
    "# print(\"Introduzca el Valor del Dolar\")\n",
    "dolar= input()\n",
    "dolar_f=float(dolar)\n",
    "total= dolar_f * EURO_f\n",
    "print(\"Resultado\",total)"
   ]
  },
  {
   "cell_type": "markdown",
   "metadata": {},
   "source": [
    "## Ejercicio 7\n",
    "\n",
    "Crea un programa que permita calcular la hipotenusa (`h`) de un triángulo rectángulo a partir de sus catetos (`a` y `b`)\n"
   ]
  },
  {
   "attachments": {
    "area-esfera.png": {
     "image/png": "[encoded data removed]"
    },
    "volumen-esfera.png": {
     "image/png": "[encoded data removed]"
    }
   },
   "cell_type": "markdown",
   "metadata": {},
   "source": [
    " \n",
    "## Ejercicio 8\n",
    "\n",
    "Crea un programa que permita calcular el área y volumen de una esfera a partir de su radio (r).\n",
    "\n",
    "![area-esfera.png](attachment:area-esfera.png)\n",
    "\n",
    "![volumen-esfera.png](attachment:volumen-esfera.png)\n",
    "\n",
    "Para utilizar la constante PI, debes seguir estos pasos:\n"
   ]
  },
  {
   "cell_type": "code",
   "execution_count": 1,
   "metadata": {},
   "outputs": [
    {
     "name": "stdout",
     "output_type": "stream",
     "text": [
      "3.141592653589793\n"
     ]
    }
   ],
   "source": [
    "import math\n",
    "\n",
    "print(math.pi)"
   ]
  },
  {
   "attachments": {
    "area-cilindro.png": {
     "image/png": "[encoded data removed]"
    },
    "volumen-cilindro.png": {
     "image/png": "[encoded data removed]"
    }
   },
   "cell_type": "markdown",
   "metadata": {},
   "source": [
    "\n",
    "## Ejercicio 9\n",
    "\n",
    "Crea un programa que dado el radio (r) y la altura (h) del cilindro, calcula su área y volumen.\n",
    "\n",
    "![area-cilindro.png](attachment:area-cilindro.png)\n",
    "\n",
    "![volumen-cilindro.png](attachment:volumen-cilindro.png)\n"
   ]
  },
  {
   "attachments": {
    "formula-x-y.png": {
     "image/png": "[encoded data removed]"
    }
   },
   "cell_type": "markdown",
   "metadata": {},
   "source": [
    "\n",
    "## Ejercicio 10\n",
    "\n",
    "Crea un programa que pida un valor por pantalla (x) y haga el siguiente cálculo:\n",
    "\n",
    "![formula-x-y.png](attachment:formula-x-y.png)\n",
    "\n",
    " \n",
    "Puedes hacer pruebas con los siguientes datos:\n",
    "\n",
    "|x|y|\n",
    "|-|-|\n",
    "|1|0.6000000000000001|\n",
    "|10|0.09901951266867294|\n",
    "|100|0.009999000199950014|\n",
    "|-5|-0.19258202567760344|\n"
   ]
  },
  {
   "cell_type": "markdown",
   "metadata": {},
   "source": [
    "## Ejercicio 11\n",
    "\n",
    "Crea un programa que a partir de la hora de comienzo de un evento y su duración (3 valores: hora, minutos, duración en minutos) calcula la hora de finalización del evento. No te preocupes de los errores que pueda introducir el usuario (hora inválida).\n",
    "\n",
    "PISTA: Emplea el operador módulo (`%`)\n",
    "\n",
    "\n"
   ]
  },
  {
   "cell_type": "code",
   "execution_count": 1,
   "metadata": {},
   "outputs": [],
   "source": [
    "horas_comienzo = int(input(\"Indica la hora de inicio:\"))\n",
    "minutos_comienzo = int(input(\"Indica los minutos de comienzo:\"))\n",
    "duracion = int(input(\"Indica la duracion en minutos:\"))\n",
    "\n",
    "minutos_totais = minutos_comienzo +duracion\n",
    "minutos_resultado = minutos_totais % 60\n",
    "horas_resultado = horas_comienzo + minutos_totais // 60\n",
    "\n"
   ]
  },
  {
   "cell_type": "code",
   "execution_count": null,
   "metadata": {},
   "outputs": [],
   "source": []
  }
 ],
 "metadata": {
  "kernelspec": {
   "display_name": "Python 3",
   "language": "python",
   "name": "python3"
  },
  "language_info": {
   "codemirror_mode": {
    "name": "ipython",
    "version": 3
   },
   "file_extension": ".py",
   "mimetype": "text/x-python",
   "name": "python",
   "nbconvert_exporter": "python",
   "pygments_lexer": "ipython3",
   "version": "3.12.6"
  },
  "orig_nbformat": 4
 },
 "nbformat": 4,
 "nbformat_minor": 2
}
