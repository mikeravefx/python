{
 "cells": [
  {
   "cell_type": "markdown",
   "metadata": {},
   "source": [
    "# Primera sentencia en Python: `print`"
   ]
  },
  {
   "cell_type": "code",
   "execution_count": 6,
   "metadata": {},
   "outputs": [
    {
     "name": "stdout",
     "output_type": "stream",
     "text": [
      "Hola mundo\n"
     ]
    }
   ],
   "source": [
    "print(\"Hola mundo\")"
   ]
  },
  {
   "cell_type": "code",
   "execution_count": 1,
   "metadata": {},
   "outputs": [
    {
     "name": "stdout",
     "output_type": "stream",
     "text": [
      "Bienvenidxs a DAW\n"
     ]
    }
   ],
   "source": [
    "print(\"Bienvenidxs a DAW\")"
   ]
  },
  {
   "cell_type": "code",
   "execution_count": 2,
   "metadata": {},
   "outputs": [
    {
     "name": "stdout",
     "output_type": "stream",
     "text": [
      "25\n"
     ]
    }
   ],
   "source": [
    "print(25)"
   ]
  },
  {
   "cell_type": "markdown",
   "metadata": {},
   "source": [
    "**print** es el nombre de una **función**. \n",
    "Las funciones son capaces de:\n",
    "- Ejecutar una acción y causar un efecto\n",
    "- Devolver algún valor\n",
    "- Ambas cosas\n",
    "\n",
    "Las funciones pueden:\n",
    "\n",
    "- Estar integradas en Python\n",
    "- Provenir de los complementos de Python\n",
    "- Escritas por el programador\n",
    "\n",
    "Las funciones pueden recibir argumentos, que se indican entre paréntesis. Aunque no reciban parámetros, deben indicarse igualmente los paréntesis. El argumento de print es \"Hola mundo\".\n",
    "\n",
    "Cuando el intérprete llega a una función:\n",
    "\n",
    "- Deja el código por un momento y salta dentro de la función que se desea invocar; por lo tanto, también toma los argumentos y los pasa a la función.\n",
    "- La función ejecuta el código, provoca el efecto deseado (si lo hubiera), calcula el (los) resultado(s) deseado(s) y termina la tarea.\n",
    "- Finalmente, Python regresa al código (al lugar inmediatamente después de la invocación) y reanuda su ejecución."
   ]
  },
  {
   "cell_type": "markdown",
   "metadata": {},
   "source": [
    "## Bloque de ejercicios 1"
   ]
  },
  {
   "cell_type": "markdown",
   "metadata": {},
   "source": [
    "1. Utiliza la función `print()` para imprimir la linea \"¡Hola, Mundo!\" en la pantalla."
   ]
  },
  {
   "cell_type": "markdown",
   "metadata": {},
   "source": [
    "2. Una vez hecho esto, utiliza la función `print()` nuevamente, pero esta vez imprime tu nombre."
   ]
  },
  {
   "cell_type": "markdown",
   "metadata": {},
   "source": [
    "3. Elimina las comillas dobles y ejecuta el código. Observa la reacción de Python. ¿Qué tipo de error se produce?"
   ]
  },
  {
   "cell_type": "markdown",
   "metadata": {},
   "source": [
    "4. Luego, elimina los paréntesis, vuelve a poner las comillas dobles y vuelve a ejecutar el código. ¿Qué tipo de error se produce esta vez?"
   ]
  },
  {
   "cell_type": "markdown",
   "metadata": {},
   "source": [
    "5. Experimenta tanto como puedas. Cambia las comillas dobles a comillas simples."
   ]
  },
  {
   "cell_type": "markdown",
   "metadata": {},
   "source": [
    "6. Utiliza múltiples funciones `print()` en la misma línea:"
   ]
  },
  {
   "cell_type": "markdown",
   "metadata": {},
   "source": [
    "7. Utiliza múltiples funciones `print()` en líneas diferentes."
   ]
  },
  {
   "cell_type": "markdown",
   "metadata": {},
   "source": [
    "## Efectos\n",
    "- Toma los argumentos\n",
    "- los convierte (si es necesario) en un formato legible para el ser humano\n",
    "- envía los resultados al dispositivo de salida."
   ]
  },
  {
   "cell_type": "code",
   "execution_count": 15,
   "metadata": {},
   "outputs": [
    {
     "name": "stdout",
     "output_type": "stream",
     "text": [
      "2\n",
      "2\n"
     ]
    }
   ],
   "source": [
    "print(2)\n",
    "print(\"2\")"
   ]
  },
  {
   "cell_type": "code",
   "execution_count": 16,
   "metadata": {},
   "outputs": [
    {
     "name": "stdout",
     "output_type": "stream",
     "text": [
      "Hola 2 DAW\n"
     ]
    }
   ],
   "source": [
    "print(\"Hola\", 2, \"DAW\")"
   ]
  },
  {
   "cell_type": "code",
   "execution_count": 18,
   "metadata": {},
   "outputs": [
    {
     "name": "stdout",
     "output_type": "stream",
     "text": [
      "2+3\n",
      "5\n"
     ]
    }
   ],
   "source": [
    "print(\"2+3\")\n",
    "print(2+3)"
   ]
  },
  {
   "cell_type": "markdown",
   "metadata": {},
   "source": [
    "## Argumentos\n",
    "- Prácticamente todos los tipos de datos ofrecidos por Python."
   ]
  },
  {
   "cell_type": "markdown",
   "metadata": {},
   "source": [
    "## Resultado devuelto\n",
    "No devuelve resultados"
   ]
  },
  {
   "cell_type": "markdown",
   "metadata": {},
   "source": [
    "## Sintaxis básica de Python\n",
    "- Es *caseSensitive*: diferencia mayúsculas de minúsculas"
   ]
  },
  {
   "cell_type": "code",
   "execution_count": 19,
   "metadata": {},
   "outputs": [
    {
     "ename": "NameError",
     "evalue": "name 'Print' is not defined",
     "output_type": "error",
     "traceback": [
      "\u001b[1;31m---------------------------------------------------------------------------\u001b[0m",
      "\u001b[1;31mNameError\u001b[0m                                 Traceback (most recent call last)",
      "Cell \u001b[1;32mIn[19], line 1\u001b[0m\n\u001b[1;32m----> 1\u001b[0m Print(\u001b[39m\"\u001b[39m\u001b[39mHola mundo\u001b[39m\u001b[39m\"\u001b[39m)\n",
      "\u001b[1;31mNameError\u001b[0m: name 'Print' is not defined"
     ]
    }
   ],
   "source": [
    "Print(\"Hola mundo\")"
   ]
  },
  {
   "cell_type": "markdown",
   "metadata": {},
   "source": [
    "- Cada sentencia en una línea\n",
    "- Las sentencias se ejecutan en orden\n",
    "- No se pone ; al final de cada sentencia (excepto que dos sentencias se encuentren en la misma línea)"
   ]
  },
  {
   "cell_type": "markdown",
   "metadata": {},
   "source": [
    "### ¿Qué pasa si ejecutamos una sentencia `print()` sin parámetros?"
   ]
  },
  {
   "cell_type": "code",
   "execution_count": 20,
   "metadata": {},
   "outputs": [
    {
     "name": "stdout",
     "output_type": "stream",
     "text": [
      "Adiós ríos, adiós fontes,\n",
      "\n",
      "adiós regatos pequenos;\n"
     ]
    }
   ],
   "source": [
    "print(\"Adiós ríos, adiós fontes,\")\n",
    "print()    \n",
    "print(\"adiós regatos pequenos;\")"
   ]
  },
  {
   "cell_type": "markdown",
   "metadata": {},
   "source": [
    "## Secuencias de escape\n",
    "|Secuencia | Significado|\n",
    "|-|-|\n",
    "|\\n|Fin de línea|\n",
    "|\\\\\"|\"|\n",
    "|\\\\'|'|\n",
    "| \\\\\\\\ | \\\\ |\n"
   ]
  },
  {
   "cell_type": "code",
   "execution_count": 21,
   "metadata": {},
   "outputs": [
    {
     "name": "stdout",
     "output_type": "stream",
     "text": [
      "Adiós vista dos meus ollos,\n",
      "non sei cando nos veremos.\n"
     ]
    }
   ],
   "source": [
    "print(\"Adiós vista dos meus ollos,\\nnon sei cando nos veremos.\")"
   ]
  },
  {
   "cell_type": "markdown",
   "metadata": {},
   "source": [
    "**PREGUNTA** ¿Cómo hacemos para representar las \"? ¿Y las barras invertidas \\?"
   ]
  },
  {
   "cell_type": "code",
   "execution_count": 22,
   "metadata": {},
   "outputs": [
    {
     "ename": "SyntaxError",
     "evalue": "invalid syntax. Perhaps you forgot a comma? (3936286471.py, line 1)",
     "output_type": "error",
     "traceback": [
      "\u001b[1;36m  Cell \u001b[1;32mIn[22], line 1\u001b[1;36m\u001b[0m\n\u001b[1;33m    print(\"Marta dijo \"programad en Python\"\")\u001b[0m\n\u001b[1;37m          ^\u001b[0m\n\u001b[1;31mSyntaxError\u001b[0m\u001b[1;31m:\u001b[0m invalid syntax. Perhaps you forgot a comma?\n"
     ]
    }
   ],
   "source": [
    "print(\"Marta dijo \"programad en Python\"\")"
   ]
  },
  {
   "cell_type": "code",
   "execution_count": 25,
   "metadata": {},
   "outputs": [
    {
     "name": "stdout",
     "output_type": "stream",
     "text": [
      "Marta dijo \"programad en Python\"\n",
      "Marta dijo 'programad en Python\n"
     ]
    }
   ],
   "source": [
    "print('Marta dijo \"programad en Python\"')\n",
    "print(\"Marta dijo 'programad en Python'\")"
   ]
  },
  {
   "cell_type": "code",
   "execution_count": 27,
   "metadata": {},
   "outputs": [
    {
     "name": "stdout",
     "output_type": "stream",
     "text": [
      "Marta dijo \"programad en Python\"\n",
      "Marta dijo 'programad en Python'\n"
     ]
    }
   ],
   "source": [
    "print(\"Marta dijo \\\"programad en Python\\\"\")\n",
    "print(\"Marta dijo \\'programad en Python\\'\")"
   ]
  },
  {
   "cell_type": "code",
   "execution_count": 28,
   "metadata": {},
   "outputs": [
    {
     "ename": "SyntaxError",
     "evalue": "(unicode error) 'unicodeescape' codec can't decode bytes in position 2-3: truncated \\UXXXXXXXX escape (833888703.py, line 1)",
     "output_type": "error",
     "traceback": [
      "\u001b[1;36m  Cell \u001b[1;32mIn[28], line 1\u001b[1;36m\u001b[0m\n\u001b[1;33m    print(\"C:\\Users\")\u001b[0m\n\u001b[1;37m                    ^\u001b[0m\n\u001b[1;31mSyntaxError\u001b[0m\u001b[1;31m:\u001b[0m (unicode error) 'unicodeescape' codec can't decode bytes in position 2-3: truncated \\UXXXXXXXX escape\n"
     ]
    }
   ],
   "source": [
    "print(\"C:\\Users\")"
   ]
  },
  {
   "cell_type": "code",
   "execution_count": 29,
   "metadata": {},
   "outputs": [
    {
     "name": "stdout",
     "output_type": "stream",
     "text": [
      "C:\\Users\n"
     ]
    }
   ],
   "source": [
    "print(\"C:\\\\Users\")"
   ]
  },
  {
   "cell_type": "markdown",
   "metadata": {},
   "source": [
    "## Función `print()` con varios argumentos"
   ]
  },
  {
   "cell_type": "code",
   "execution_count": 30,
   "metadata": {},
   "outputs": [
    {
     "name": "stdout",
     "output_type": "stream",
     "text": [
      "Uno Dos Tres\n"
     ]
    }
   ],
   "source": [
    "print(\"Uno\", \"Dos\", \"Tres\")"
   ]
  },
  {
   "cell_type": "markdown",
   "metadata": {},
   "source": [
    "## Argumentos de palabra clave\n",
    "\n",
    "- Los **argumentos posicionales** son aquellos cuyo significado viene dictado por su posición, por ejemplo, el segundo argumento se emite después del primero, el tercero se emite después del segundo, etc.\n",
    "\n",
    "- Los **argumentos de palabra clave** son aquellos cuyo significado no está dictado por su ubicación, sino por una palabra especial (palabra clave) que se utiliza para identificarlos.\n",
    "\n",
    "Los **argumentos de palabra clave** de print son:\n",
    "- `end` Indica el carácter que se escribe después de haber escrito todos (no cada uno) los argumentos.\n",
    "- `sep` Indica el carácter que se escribe entre cada par de argumentos."
   ]
  },
  {
   "cell_type": "code",
   "execution_count": 31,
   "metadata": {},
   "outputs": [
    {
     "name": "stdout",
     "output_type": "stream",
     "text": [
      "Adiós vista dos meus ollos\n",
      "non sei cando nos veremos.\n"
     ]
    }
   ],
   "source": [
    "print(\"Adiós vista dos meus ollos\",\"non sei cando nos veremos.\", sep=\"\\n\")"
   ]
  },
  {
   "cell_type": "code",
   "execution_count": 32,
   "metadata": {},
   "outputs": [
    {
     "name": "stdout",
     "output_type": "stream",
     "text": [
      "H-O-L-A\n"
     ]
    }
   ],
   "source": [
    "print(\"H\", \"O\", \"L\", \"A\", sep=\"-\")"
   ]
  },
  {
   "cell_type": "code",
   "execution_count": 33,
   "metadata": {},
   "outputs": [
    {
     "name": "stdout",
     "output_type": "stream",
     "text": [
      "UnoDosTres\n"
     ]
    }
   ],
   "source": [
    "print(\"Uno\", \"Dos\", \"Tres\", sep=\"\")"
   ]
  },
  {
   "cell_type": "markdown",
   "metadata": {},
   "source": [
    "`\"\"` es una cadena vacía."
   ]
  },
  {
   "cell_type": "code",
   "execution_count": 34,
   "metadata": {},
   "outputs": [
    {
     "name": "stdout",
     "output_type": "stream",
     "text": [
      "Bienvenidxs a todxs*a la clase de primero de DAW\n"
     ]
    }
   ],
   "source": [
    "print(\"Bienvenidxs a todxs\", end=\"*\")\n",
    "print(\"a la clase de primero de DAW\")"
   ]
  },
  {
   "cell_type": "markdown",
   "metadata": {},
   "source": [
    "## Bloque de ejercicios 2\n",
    "1. Escribe dos sentencias `print` para que la salida sea:\n",
    "```    \n",
    "    Fundamentos***Programación***en...Python\n",
    "```"
   ]
  },
  {
   "cell_type": "markdown",
   "metadata": {},
   "source": [
    "A partir de este código:"
   ]
  },
  {
   "cell_type": "code",
   "execution_count": 1,
   "metadata": {},
   "outputs": [
    {
     "name": "stdout",
     "output_type": "stream",
     "text": [
      "    *\n",
      "   * *\n",
      "  *   *\n",
      " *     *\n",
      "***   ***\n",
      "  *   *\n",
      "  *   *\n",
      "  *****\n"
     ]
    }
   ],
   "source": [
    "print(\"    *\")\n",
    "print(\"   * *\")\n",
    "print(\"  *   *\")\n",
    "print(\" *     *\")\n",
    "print(\"***   ***\")\n",
    "print(\"  *   *\")\n",
    "print(\"  *   *\")\n",
    "print(\"  *****\")"
   ]
  },
  {
   "cell_type": "markdown",
   "metadata": {},
   "source": [
    "Modifícalo para:\n",
    "\n",
    "2. Minimizar el número de invocaciones de la función print() insertando la secuencia \\n en las cadenas."
   ]
  },
  {
   "cell_type": "markdown",
   "metadata": {},
   "source": [
    "3. Duplicar la flecha, colocando ambas flechas lado a lado; nota: una cadena se puede multiplicar usando el siguiente truco: `\"cadena\" * 2` producirá `\"cadenacadena\"`"
   ]
  },
  {
   "cell_type": "code",
   "execution_count": 3,
   "metadata": {},
   "outputs": [
    {
     "name": "stdout",
     "output_type": "stream",
     "text": [
      "HolaHolaHola\n"
     ]
    }
   ],
   "source": [
    "print(\"Hola\" * 3)"
   ]
  },
  {
   "cell_type": "markdown",
   "metadata": {},
   "source": [
    "4. Elimina cualquiera de las comillas y observa detenidamente la respuesta de Python; presta atención a donde Python ve un error: ¿es el lugar en donde realmente existe el error?\n",
    "Haz lo mismo con algunos de los paréntesis."
   ]
  },
  {
   "cell_type": "markdown",
   "metadata": {},
   "source": [
    "5. Reemplaza algunas de las comillas por apóstrofes (comillas simples); observa lo que pasa detenidamente."
   ]
  }
 ],
 "metadata": {
  "kernelspec": {
   "display_name": "Python 3",
   "language": "python",
   "name": "python3"
  },
  "language_info": {
   "codemirror_mode": {
    "name": "ipython",
    "version": 3
   },
   "file_extension": ".py",
   "mimetype": "text/x-python",
   "name": "python",
   "nbconvert_exporter": "python",
   "pygments_lexer": "ipython3",
   "version": "3.11.5"
  },
  "orig_nbformat": 4
 },
 "nbformat": 4,
 "nbformat_minor": 2
}
