{
 "cells": [
  {
   "cell_type": "markdown",
   "metadata": {},
   "source": [
    "# Operadores\n",
    "\n",
    "Un **operador** es un símbolo del lenguaje de programación que es capaz de realizar operaciones con los valores.\n",
    "\n",
    "Cuando los datos y operadores se unen, forman juntos **expresiones**. La expresión más sencilla es el literal."
   ]
  },
  {
   "cell_type": "markdown",
   "metadata": {},
   "source": [
    "## Operadores Aritméticos\n",
    "### Unarios\n",
    "\n",
    "|Operador|Significado|\n",
    "|-|-|\n",
    "|`+`|Número postitivo|\n",
    "|`-`|Número negativo|\n",
    "\n",
    "### Binarios\n",
    "\n",
    "|Operador|Significado|\n",
    "|-|-|\n",
    "|`+`|Suma|\n",
    "|`-`|Resta|\n",
    "|`*`|Multiplicación|\n",
    "|`/`|División|\n",
    "|`//`|División entera|\n",
    "|`%`|Resto o módulo|\n",
    "|`**`|Potencia|"
   ]
  },
  {
   "cell_type": "markdown",
   "metadata": {},
   "source": [
    "- Cuando ambos operandos son enteros, el resultado es entero también.\n",
    "- Cuando al menos un operando es de coma flotante, el resultado también es flotante."
   ]
  },
  {
   "cell_type": "code",
   "execution_count": 1,
   "metadata": {},
   "outputs": [
    {
     "name": "stdout",
     "output_type": "stream",
     "text": [
      "6\n"
     ]
    }
   ],
   "source": [
    "print(2 * 3)"
   ]
  },
  {
   "cell_type": "code",
   "execution_count": 2,
   "metadata": {},
   "outputs": [
    {
     "name": "stdout",
     "output_type": "stream",
     "text": [
      "6.0\n"
     ]
    }
   ],
   "source": [
    "print(2 * 3.)"
   ]
  },
  {
   "cell_type": "code",
   "execution_count": 3,
   "metadata": {},
   "outputs": [
    {
     "name": "stdout",
     "output_type": "stream",
     "text": [
      "6.0\n"
     ]
    }
   ],
   "source": [
    "print(2. * 3)"
   ]
  },
  {
   "cell_type": "code",
   "execution_count": 4,
   "metadata": {},
   "outputs": [
    {
     "name": "stdout",
     "output_type": "stream",
     "text": [
      "6.0\n"
     ]
    }
   ],
   "source": [
    "print(2. * 3.)"
   ]
  },
  {
   "cell_type": "code",
   "execution_count": 6,
   "metadata": {},
   "outputs": [
    {
     "name": "stdout",
     "output_type": "stream",
     "text": [
      "2.5\n",
      "2\n"
     ]
    }
   ],
   "source": [
    "print(5/2)\n",
    "print(5//2) # División entera"
   ]
  },
  {
   "cell_type": "markdown",
   "metadata": {},
   "source": [
    "### Potencia\n",
    "\n",
    "Un signo de `**` (doble asterisco) es un operador de exponenciación (potencia). El argumento a la izquierda es la base, el de la derecha, el exponente.\n",
    "\n",
    "$2^3$ sería `2 ** 3`"
   ]
  },
  {
   "cell_type": "code",
   "execution_count": 2,
   "metadata": {},
   "outputs": [
    {
     "name": "stdout",
     "output_type": "stream",
     "text": [
      "8\n"
     ]
    }
   ],
   "source": [
    "print(2 ** 3)"
   ]
  },
  {
   "cell_type": "markdown",
   "metadata": {},
   "source": [
    "### Operador módulo o residuo\n",
    "\n",
    "El resultado de la operación es el residuo que queda de la división entera.\n",
    "\n",
    "El valor que sobra después de dividir un valor entre otro para producir un resultado entero.\n",
    "\n",
    "**USO**: Muy útil para determinar si un número es par/impar, múltiplo de otro y para generar series numéricas circulares (`01230123012301230123...`)"
   ]
  },
  {
   "cell_type": "code",
   "execution_count": 6,
   "metadata": {},
   "outputs": [
    {
     "name": "stdout",
     "output_type": "stream",
     "text": [
      "0\n",
      "1\n",
      "1\n",
      "2\n"
     ]
    }
   ],
   "source": [
    "print(4 % 2)\n",
    "print(5 % 2)\n",
    "print(7 % 3)\n",
    "print(2 % 3)"
   ]
  },
  {
   "cell_type": "markdown",
   "metadata": {},
   "source": [
    "El resultado siempre lleva el signo del divisor."
   ]
  },
  {
   "cell_type": "code",
   "execution_count": 5,
   "metadata": {},
   "outputs": [
    {
     "name": "stdout",
     "output_type": "stream",
     "text": [
      "-1\n",
      "1\n",
      "-2\n",
      "0\n"
     ]
    }
   ],
   "source": [
    "print(2 % -3)\n",
    "print(-2 % 3)\n",
    "print(-2 % -3)\n",
    "print(-2//-3)"
   ]
  },
  {
   "cell_type": "markdown",
   "metadata": {},
   "source": [
    "## Prioridad de operaciones\n",
    "\n",
    "La prioridad de los operadores, de la más alta a la más baja sería:\n",
    "\n",
    "1.\t`+, -`\tunario\n",
    "2.\t`**`\t\n",
    "3.\t`*, /, //, %`\n",
    "4.\t`+, -`\tbinario\n",
    "\n",
    "Se permite hacer uso de **paréntesis**, lo que cambiará el orden natural del cálculo de la operación.\n",
    "\n",
    "De acuerdo con las reglas aritméticas, las sub-expresiones dentro de los paréntesis siempre se calculan primero.\n",
    "\n",
    "Se pueden emplear tantos paréntesis como se necesiten, se utilizan para mejorar la legibilidad de una expresión, aun si no cambian el orden de las operaciones."
   ]
  },
  {
   "cell_type": "code",
   "execution_count": 1,
   "metadata": {},
   "outputs": [
    {
     "name": "stdout",
     "output_type": "stream",
     "text": [
      "10.0\n"
     ]
    }
   ],
   "source": [
    "print((5 * ((25 % 13) + 100) / (2 * 13)) // 2)"
   ]
  },
  {
   "cell_type": "markdown",
   "metadata": {},
   "source": [
    "## Operadores y sus enlaces\n",
    "\n",
    "El enlace de un operador determina el orden en que se computan las operaciones de los operadores con la misma prioridad, los cuales se encuentran dentro de una misma expresión.\n",
    "\n",
    "La mayoría de los operadores de Python tienen un enlazado hacia la izquierda, lo que significa que el cálculo de la expresión es realizado de izquierda a derecha."
   ]
  },
  {
   "cell_type": "code",
   "execution_count": 7,
   "metadata": {},
   "outputs": [
    {
     "name": "stdout",
     "output_type": "stream",
     "text": [
      "1\n",
      "1\n",
      "6.0\n"
     ]
    }
   ],
   "source": [
    "print(9 % 6 % 2)\n",
    "print((9 % 6) % 2)\n",
    "print(9 / (3/2)) # Así sería si estuviera enlazado a la derecha"
   ]
  },
  {
   "cell_type": "markdown",
   "metadata": {},
   "source": [
    "El operador de **potencia** es una excepción y utiliza enlazado del lado **derecho**."
   ]
  },
  {
   "cell_type": "code",
   "execution_count": 9,
   "metadata": {},
   "outputs": [
    {
     "name": "stdout",
     "output_type": "stream",
     "text": [
      "256\n",
      "256\n",
      "64\n",
      "32768\n"
     ]
    }
   ],
   "source": [
    "print(2 ** 2 ** 3)\n",
    "print(2 ** (2 ** 3))\n",
    "print((2 ** 2) ** 3) # Así sería si estuviera enlazado a la izquierda\n",
    "\n",
    "print((2 ** 5) ** 3)"
   ]
  }
 ],
 "metadata": {
  "kernelspec": {
   "display_name": "Python 3",
   "language": "python",
   "name": "python3"
  },
  "language_info": {
   "codemirror_mode": {
    "name": "ipython",
    "version": 3
   },
   "file_extension": ".py",
   "mimetype": "text/x-python",
   "name": "python",
   "nbconvert_exporter": "python",
   "pygments_lexer": "ipython3",
   "version": "3.12.6"
  },
  "orig_nbformat": 4
 },
 "nbformat": 4,
 "nbformat_minor": 2
}
