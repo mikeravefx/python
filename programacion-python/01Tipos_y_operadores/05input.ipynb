{
 "cells": [
  {
   "cell_type": "markdown",
   "metadata": {},
   "source": [
    "# La función `input()`\n",
    "\n",
    "La función `input()` permite al usuario introducir datos desde el teclado. \n",
    "\n",
    "El valor que devuelve debe ser asignado a una variable:\n"
   ]
  },
  {
   "cell_type": "code",
   "execution_count": 2,
   "metadata": {},
   "outputs": [
    {
     "name": "stdout",
     "output_type": "stream",
     "text": [
      "¿Cómo te llamas?\n",
      "Hola miguel\n"
     ]
    }
   ],
   "source": [
    "print(\"¿Cómo te llamas?\")\n",
    "nombre = input()\n",
    "print(\"Hola\", nombre)"
   ]
  },
  {
   "cell_type": "markdown",
   "metadata": {},
   "source": [
    "También puede utilizarse con un argumento, en el que se le pasa el mensaje a mostrar al usuario antes de dejarle escribir el valor."
   ]
  },
  {
   "cell_type": "code",
   "execution_count": 1,
   "metadata": {},
   "outputs": [
    {
     "name": "stdout",
     "output_type": "stream",
     "text": [
      "Hola miguel\n"
     ]
    }
   ],
   "source": [
    "nombre = input(\"¿Cómo te llamas?\")\n",
    "print(\"Hola\", nombre)"
   ]
  },
  {
   "cell_type": "markdown",
   "metadata": {},
   "source": [
    "## El resultado de la función `input()`\n",
    "\n",
    "El resultado de la función `input()` es una cadena.\n",
    "\n",
    "Una cadena que contiene todos los caracteres que el usuario introduce desde el teclado. No es un entero ni un número en coma flotante.\n"
   ]
  },
  {
   "cell_type": "code",
   "execution_count": 1,
   "metadata": {},
   "outputs": [
    {
     "name": "stdout",
     "output_type": "stream",
     "text": [
      "Vamos a calcular el cuadrado de un número\n",
      "Introduce un número: \n",
      "El cuadrado de 5 es 25\n"
     ]
    }
   ],
   "source": [
    "print(\"Vamos a calcular el cuadrado de un número\")\n",
    "print(\"Introduce un número: \")\n",
    "numero = input()\n",
    "numero_int = int(numero)\n",
    "print(\"El cuadrado de\", numero, \"es\", numero_int ** 2)"
   ]
  },
  {
   "cell_type": "markdown",
   "metadata": {},
   "source": [
    "\n",
    "Esto significa que no se debe utilizar como un argumento para operaciones matemáticas, antes debe convertirse a un valor numérico (*casting*). Para ello utilizamos las funciones:\n",
    "\n",
    " - `int()` toma un argumento (por ejemplo, una cadena: `int(string)`) e intenta convertirlo a un valor entero; si llegase a fallar, el programa entero fallará también.\n"
   ]
  },
  {
   "cell_type": "code",
   "execution_count": 2,
   "metadata": {},
   "outputs": [
    {
     "name": "stdout",
     "output_type": "stream",
     "text": [
      "Vamos a calcular el cuadrado de un número\n",
      "El cuadrado de 20 es 400\n"
     ]
    }
   ],
   "source": [
    "print(\"Vamos a calcular el cuadrado de un número\")\n",
    "numero = input(\"Introduce un número: \")\n",
    "print(\"El cuadrado de\", numero, \"es\", int(numero) ** 2)"
   ]
  },
  {
   "cell_type": "markdown",
   "metadata": {},
   "source": [
    "También fallará si le introduzco un valor en coma flotante, por ejemplo: `1.5` o `3E4`"
   ]
  },
  {
   "cell_type": "markdown",
   "metadata": {},
   "source": [
    " - `float()` toma un argumento (por ejemplo, una cadena: `float(string)`) e intenta convertirlo a flotante; si llegase a fallar, el programa entero fallará también."
   ]
  },
  {
   "cell_type": "code",
   "execution_count": null,
   "metadata": {},
   "outputs": [],
   "source": [
    "print(\"Vamos a calcular el cuadrado de un número\")\n",
    "numero = input(\"Introduce un número: \")\n",
    "print(\"El cuadrado de\", numero, \"es\", float(numero) ** 2)"
   ]
  },
  {
   "cell_type": "markdown",
   "metadata": {},
   "source": [
    "- `str()` toma un argumento y lo convierte a cadena."
   ]
  },
  {
   "cell_type": "code",
   "execution_count": null,
   "metadata": {},
   "outputs": [],
   "source": [
    "dia = 15\n",
    "cadena = \"El día es \" + dia"
   ]
  },
  {
   "cell_type": "code",
   "execution_count": null,
   "metadata": {},
   "outputs": [],
   "source": [
    "dia = 15\n",
    "cadena = \"El día es \" + str(dia)\n",
    "print(cadena)"
   ]
  },
  {
   "cell_type": "code",
   "execution_count": null,
   "metadata": {},
   "outputs": [],
   "source": [
    "dia = 15\n",
    "print(\"El día es \" + dia)"
   ]
  },
  {
   "cell_type": "code",
   "execution_count": null,
   "metadata": {},
   "outputs": [],
   "source": [
    "dia = 15\n",
    "print(\"El día es \" + str(dia))"
   ]
  }
 ],
 "metadata": {
  "kernelspec": {
   "display_name": "Python 3",
   "language": "python",
   "name": "python3"
  },
  "language_info": {
   "codemirror_mode": {
    "name": "ipython",
    "version": 3
   },
   "file_extension": ".py",
   "mimetype": "text/x-python",
   "name": "python",
   "nbconvert_exporter": "python",
   "pygments_lexer": "ipython3",
   "version": "3.12.6"
  },
  "orig_nbformat": 4
 },
 "nbformat": 4,
 "nbformat_minor": 2
}
